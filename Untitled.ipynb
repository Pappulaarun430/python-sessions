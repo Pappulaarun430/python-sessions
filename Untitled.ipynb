{
 "cells": [
  {
   "cell_type": "markdown",
   "id": "d29af492-461c-411c-b001-670f7fe4d48d",
   "metadata": {},
   "source": [
    "# Python"
   ]
  },
  {
   "cell_type": "markdown",
   "id": "b28c6093-0f83-4f75-9373-574601546204",
   "metadata": {},
   "source": [
    "- python is easy\n",
    "- python is my friend\n",
    "- python is used in DS and AI"
   ]
  },
  {
   "cell_type": "code",
   "execution_count": 9,
   "id": "5719c289-9a7e-42dc-9512-270f96e4cf98",
   "metadata": {},
   "outputs": [
    {
     "ename": "ModuleNotFoundError",
     "evalue": "No module named 'Random'",
     "output_type": "error",
     "traceback": [
      "\u001b[1;31m---------------------------------------------------------------------------\u001b[0m",
      "\u001b[1;31mModuleNotFoundError\u001b[0m                       Traceback (most recent call last)",
      "Cell \u001b[1;32mIn[9], line 1\u001b[0m\n\u001b[1;32m----> 1\u001b[0m \u001b[38;5;28;01mimport\u001b[39;00m \u001b[38;5;21;01mRandom\u001b[39;00m\n",
      "\u001b[1;31mModuleNotFoundError\u001b[0m: No module named 'Random'"
     ]
    }
   ],
   "source": [
    "import Random"
   ]
  },
  {
   "cell_type": "code",
   "execution_count": 11,
   "id": "cb1b6fdc-6a6d-4cfc-9227-5b4bb9aacf75",
   "metadata": {},
   "outputs": [
    {
     "ename": "ModuleNotFoundError",
     "evalue": "No module named 'Random'",
     "output_type": "error",
     "traceback": [
      "\u001b[1;31m---------------------------------------------------------------------------\u001b[0m",
      "\u001b[1;31mModuleNotFoundError\u001b[0m                       Traceback (most recent call last)",
      "Cell \u001b[1;32mIn[11], line 1\u001b[0m\n\u001b[1;32m----> 1\u001b[0m \u001b[38;5;28;01mimport\u001b[39;00m \u001b[38;5;21;01mRandom\u001b[39;00m\n",
      "\u001b[1;31mModuleNotFoundError\u001b[0m: No module named 'Random'"
     ]
    }
   ],
   "source": [
    "import Random"
   ]
  },
  {
   "cell_type": "code",
   "execution_count": 13,
   "id": "f657bbf8-d6bb-40b2-8659-c50aa58723f1",
   "metadata": {},
   "outputs": [],
   "source": [
    "a=50"
   ]
  },
  {
   "cell_type": "code",
   "execution_count": 15,
   "id": "912c0dab-64b2-49bd-a17f-995acad0a54a",
   "metadata": {},
   "outputs": [
    {
     "data": {
      "text/plain": [
       "50"
      ]
     },
     "execution_count": 15,
     "metadata": {},
     "output_type": "execute_result"
    }
   ],
   "source": [
    "a"
   ]
  },
  {
   "cell_type": "code",
   "execution_count": 17,
   "id": "69830ae7-309f-4069-91e5-e783bd4be1f5",
   "metadata": {},
   "outputs": [
    {
     "ename": "ModuleNotFoundError",
     "evalue": "No module named 'randon'",
     "output_type": "error",
     "traceback": [
      "\u001b[1;31m---------------------------------------------------------------------------\u001b[0m",
      "\u001b[1;31mModuleNotFoundError\u001b[0m                       Traceback (most recent call last)",
      "Cell \u001b[1;32mIn[17], line 1\u001b[0m\n\u001b[1;32m----> 1\u001b[0m \u001b[38;5;28;01mimport\u001b[39;00m \u001b[38;5;21;01mrandon\u001b[39;00m\n",
      "\u001b[1;31mModuleNotFoundError\u001b[0m: No module named 'randon'"
     ]
    }
   ],
   "source": [
    "import randon"
   ]
  },
  {
   "cell_type": "code",
   "execution_count": 19,
   "id": "9c152be4-7149-4ffe-ae8a-c318e08360ed",
   "metadata": {},
   "outputs": [],
   "source": [
    "import random"
   ]
  },
  {
   "cell_type": "code",
   "execution_count": 21,
   "id": "9ce6a185-1856-4173-baff-a90b31b40bc8",
   "metadata": {},
   "outputs": [
    {
     "data": {
      "text/plain": [
       "35"
      ]
     },
     "execution_count": 21,
     "metadata": {},
     "output_type": "execute_result"
    }
   ],
   "source": [
    "random.randint(1,100)"
   ]
  },
  {
   "cell_type": "code",
   "execution_count": null,
   "id": "ec4af02c-4698-4b3f-88ae-f6ef9a0a0dea",
   "metadata": {},
   "outputs": [],
   "source": []
  },
  {
   "cell_type": "code",
   "execution_count": 24,
   "id": "94eae24d-023c-4a40-9226-8d59d15af1ea",
   "metadata": {},
   "outputs": [],
   "source": [
    "import math"
   ]
  },
  {
   "cell_type": "code",
   "execution_count": 26,
   "id": "5fdb7448-9d7b-4882-8cf5-f640c9fba3d9",
   "metadata": {},
   "outputs": [
    {
     "data": {
      "text/plain": [
       "0.8939966636005579"
      ]
     },
     "execution_count": 26,
     "metadata": {},
     "output_type": "execute_result"
    }
   ],
   "source": [
    "math.sin(90)"
   ]
  },
  {
   "cell_type": "code",
   "execution_count": 28,
   "id": "df91ad26-ab36-40e8-a919-c3330a3372a8",
   "metadata": {},
   "outputs": [
    {
     "data": {
      "text/plain": [
       "['BPF',\n",
       " 'LOG4',\n",
       " 'NV_MAGICCONST',\n",
       " 'RECIP_BPF',\n",
       " 'Random',\n",
       " 'SG_MAGICCONST',\n",
       " 'SystemRandom',\n",
       " 'TWOPI',\n",
       " '_ONE',\n",
       " '_Sequence',\n",
       " '__all__',\n",
       " '__builtins__',\n",
       " '__cached__',\n",
       " '__doc__',\n",
       " '__file__',\n",
       " '__loader__',\n",
       " '__name__',\n",
       " '__package__',\n",
       " '__spec__',\n",
       " '_accumulate',\n",
       " '_acos',\n",
       " '_bisect',\n",
       " '_ceil',\n",
       " '_cos',\n",
       " '_e',\n",
       " '_exp',\n",
       " '_fabs',\n",
       " '_floor',\n",
       " '_index',\n",
       " '_inst',\n",
       " '_isfinite',\n",
       " '_lgamma',\n",
       " '_log',\n",
       " '_log2',\n",
       " '_os',\n",
       " '_pi',\n",
       " '_random',\n",
       " '_repeat',\n",
       " '_sha512',\n",
       " '_sin',\n",
       " '_sqrt',\n",
       " '_test',\n",
       " '_test_generator',\n",
       " '_urandom',\n",
       " '_warn',\n",
       " 'betavariate',\n",
       " 'binomialvariate',\n",
       " 'choice',\n",
       " 'choices',\n",
       " 'expovariate',\n",
       " 'gammavariate',\n",
       " 'gauss',\n",
       " 'getrandbits',\n",
       " 'getstate',\n",
       " 'lognormvariate',\n",
       " 'normalvariate',\n",
       " 'paretovariate',\n",
       " 'randbytes',\n",
       " 'randint',\n",
       " 'random',\n",
       " 'randrange',\n",
       " 'sample',\n",
       " 'seed',\n",
       " 'setstate',\n",
       " 'shuffle',\n",
       " 'triangular',\n",
       " 'uniform',\n",
       " 'vonmisesvariate',\n",
       " 'weibullvariate']"
      ]
     },
     "execution_count": 28,
     "metadata": {},
     "output_type": "execute_result"
    }
   ],
   "source": [
    "dir (random)"
   ]
  },
  {
   "cell_type": "code",
   "execution_count": 30,
   "id": "4c4eab68-cb02-464a-83e8-2476e94cd63b",
   "metadata": {},
   "outputs": [],
   "source": [
    "import keyword"
   ]
  },
  {
   "cell_type": "code",
   "execution_count": 32,
   "id": "3773a04d-c736-4608-93ae-443d040d7008",
   "metadata": {},
   "outputs": [
    {
     "data": {
      "text/plain": [
       "['__all__',\n",
       " '__builtins__',\n",
       " '__cached__',\n",
       " '__doc__',\n",
       " '__file__',\n",
       " '__loader__',\n",
       " '__name__',\n",
       " '__package__',\n",
       " '__spec__',\n",
       " 'iskeyword',\n",
       " 'issoftkeyword',\n",
       " 'kwlist',\n",
       " 'softkwlist']"
      ]
     },
     "execution_count": 32,
     "metadata": {},
     "output_type": "execute_result"
    }
   ],
   "source": [
    "dir(keyword)"
   ]
  },
  {
   "cell_type": "code",
   "execution_count": 34,
   "id": "508b7a98-a253-4af0-b153-1596261b0522",
   "metadata": {},
   "outputs": [
    {
     "data": {
      "text/plain": [
       "['False',\n",
       " 'None',\n",
       " 'True',\n",
       " 'and',\n",
       " 'as',\n",
       " 'assert',\n",
       " 'async',\n",
       " 'await',\n",
       " 'break',\n",
       " 'class',\n",
       " 'continue',\n",
       " 'def',\n",
       " 'del',\n",
       " 'elif',\n",
       " 'else',\n",
       " 'except',\n",
       " 'finally',\n",
       " 'for',\n",
       " 'from',\n",
       " 'global',\n",
       " 'if',\n",
       " 'import',\n",
       " 'in',\n",
       " 'is',\n",
       " 'lambda',\n",
       " 'nonlocal',\n",
       " 'not',\n",
       " 'or',\n",
       " 'pass',\n",
       " 'raise',\n",
       " 'return',\n",
       " 'try',\n",
       " 'while',\n",
       " 'with',\n",
       " 'yield']"
      ]
     },
     "execution_count": 34,
     "metadata": {},
     "output_type": "execute_result"
    }
   ],
   "source": [
    "keyword.kwlist"
   ]
  },
  {
   "cell_type": "code",
   "execution_count": 36,
   "id": "dedd1dfe-63cb-445f-a7c8-d80419c46c4b",
   "metadata": {},
   "outputs": [
    {
     "ename": "ModuleNotFoundError",
     "evalue": "No module named 'cv'",
     "output_type": "error",
     "traceback": [
      "\u001b[1;31m---------------------------------------------------------------------------\u001b[0m",
      "\u001b[1;31mModuleNotFoundError\u001b[0m                       Traceback (most recent call last)",
      "Cell \u001b[1;32mIn[36], line 1\u001b[0m\n\u001b[1;32m----> 1\u001b[0m \u001b[38;5;28;01mimport\u001b[39;00m \u001b[38;5;21;01mcv\u001b[39;00m\n",
      "\u001b[1;31mModuleNotFoundError\u001b[0m: No module named 'cv'"
     ]
    }
   ],
   "source": [
    "import cv"
   ]
  },
  {
   "cell_type": "code",
   "execution_count": 38,
   "id": "4cbac47c-1e54-4443-b77c-dfd46c974688",
   "metadata": {},
   "outputs": [
    {
     "ename": "ModuleNotFoundError",
     "evalue": "No module named 'cv2'",
     "output_type": "error",
     "traceback": [
      "\u001b[1;31m---------------------------------------------------------------------------\u001b[0m",
      "\u001b[1;31mModuleNotFoundError\u001b[0m                       Traceback (most recent call last)",
      "Cell \u001b[1;32mIn[38], line 1\u001b[0m\n\u001b[1;32m----> 1\u001b[0m \u001b[38;5;28;01mimport\u001b[39;00m \u001b[38;5;21;01mcv2\u001b[39;00m\n",
      "\u001b[1;31mModuleNotFoundError\u001b[0m: No module named 'cv2'"
     ]
    }
   ],
   "source": [
    "import cv2"
   ]
  },
  {
   "cell_type": "code",
   "execution_count": 40,
   "id": "c5678d9c-652e-4e0e-9503-30301f17a9fa",
   "metadata": {},
   "outputs": [
    {
     "name": "stdout",
     "output_type": "stream",
     "text": [
      "Collecting opencv-python\n",
      "  Downloading opencv_python-4.10.0.84-cp37-abi3-win_amd64.whl.metadata (20 kB)\n",
      "Requirement already satisfied: numpy>=1.21.2 in c:\\users\\dell\\anaconda3\\lib\\site-packages (from opencv-python) (1.26.4)\n",
      "Downloading opencv_python-4.10.0.84-cp37-abi3-win_amd64.whl (38.8 MB)\n",
      "   ---------------------------------------- 0.0/38.8 MB ? eta -:--:--\n",
      "   ---------------------------------------- 0.0/38.8 MB ? eta -:--:--\n",
      "   ---------------------------------------- 0.3/38.8 MB ? eta -:--:--\n",
      "    --------------------------------------- 0.5/38.8 MB 985.5 kB/s eta 0:00:39\n",
      "    --------------------------------------- 0.8/38.8 MB 958.5 kB/s eta 0:00:40\n",
      "    --------------------------------------- 0.8/38.8 MB 958.5 kB/s eta 0:00:40\n",
      "   - -------------------------------------- 1.0/38.8 MB 986.7 kB/s eta 0:00:39\n",
      "   - -------------------------------------- 1.3/38.8 MB 945.5 kB/s eta 0:00:40\n",
      "   - -------------------------------------- 1.6/38.8 MB 953.2 kB/s eta 0:00:40\n",
      "   - -------------------------------------- 1.6/38.8 MB 953.2 kB/s eta 0:00:40\n",
      "   - -------------------------------------- 1.8/38.8 MB 967.9 kB/s eta 0:00:39\n",
      "   -- ------------------------------------- 2.1/38.8 MB 970.4 kB/s eta 0:00:38\n",
      "   -- ------------------------------------- 2.4/38.8 MB 986.9 kB/s eta 0:00:37\n",
      "   -- ------------------------------------- 2.6/38.8 MB 980.6 kB/s eta 0:00:37\n",
      "   -- ------------------------------------- 2.9/38.8 MB 987.0 kB/s eta 0:00:37\n",
      "   -- ------------------------------------- 2.9/38.8 MB 987.0 kB/s eta 0:00:37\n",
      "   --- ------------------------------------ 3.1/38.8 MB 986.9 kB/s eta 0:00:37\n",
      "   --- ------------------------------------ 3.4/38.8 MB 996.7 kB/s eta 0:00:36\n",
      "   --- ------------------------------------ 3.7/38.8 MB 991.2 kB/s eta 0:00:36\n",
      "   --- ------------------------------------ 3.7/38.8 MB 991.2 kB/s eta 0:00:36\n",
      "   ---- ----------------------------------- 3.9/38.8 MB 986.8 kB/s eta 0:00:36\n",
      "   ---- ----------------------------------- 4.2/38.8 MB 987.0 kB/s eta 0:00:36\n",
      "   ---- ----------------------------------- 4.5/38.8 MB 986.9 kB/s eta 0:00:35\n",
      "   ---- ----------------------------------- 4.7/38.8 MB 986.8 kB/s eta 0:00:35\n",
      "   ----- ---------------------------------- 5.0/38.8 MB 990.1 kB/s eta 0:00:35\n",
      "   ----- ---------------------------------- 5.0/38.8 MB 990.1 kB/s eta 0:00:35\n",
      "   ----- ---------------------------------- 5.2/38.8 MB 993.0 kB/s eta 0:00:34\n",
      "   ----- ---------------------------------- 5.5/38.8 MB 989.8 kB/s eta 0:00:34\n",
      "   ----- ---------------------------------- 5.8/38.8 MB 992.4 kB/s eta 0:00:34\n",
      "   ------ --------------------------------- 6.0/38.8 MB 994.9 kB/s eta 0:00:33\n",
      "   ------ --------------------------------- 6.3/38.8 MB 999.7 kB/s eta 0:00:33\n",
      "   ------ --------------------------------- 6.6/38.8 MB 1.0 MB/s eta 0:00:33\n",
      "   ------ --------------------------------- 6.6/38.8 MB 1.0 MB/s eta 0:00:33\n",
      "   ------- -------------------------------- 6.8/38.8 MB 1.0 MB/s eta 0:00:32\n",
      "   ------- -------------------------------- 7.1/38.8 MB 1.0 MB/s eta 0:00:32\n",
      "   ------- -------------------------------- 7.3/38.8 MB 1.0 MB/s eta 0:00:32\n",
      "   ------- -------------------------------- 7.6/38.8 MB 1.0 MB/s eta 0:00:32\n",
      "   ------- -------------------------------- 7.6/38.8 MB 1.0 MB/s eta 0:00:32\n",
      "   -------- ------------------------------- 7.9/38.8 MB 1.0 MB/s eta 0:00:31\n",
      "   -------- ------------------------------- 8.1/38.8 MB 998.6 kB/s eta 0:00:31\n",
      "   -------- ------------------------------- 8.4/38.8 MB 994.4 kB/s eta 0:00:31\n",
      "   -------- ------------------------------- 8.4/38.8 MB 994.4 kB/s eta 0:00:31\n",
      "   -------- ------------------------------- 8.7/38.8 MB 992.4 kB/s eta 0:00:31\n",
      "   --------- ------------------------------ 8.9/38.8 MB 992.2 kB/s eta 0:00:31\n",
      "   --------- ------------------------------ 9.2/38.8 MB 990.3 kB/s eta 0:00:30\n",
      "   --------- ------------------------------ 9.4/38.8 MB 991.9 kB/s eta 0:00:30\n",
      "   --------- ------------------------------ 9.4/38.8 MB 991.9 kB/s eta 0:00:30\n",
      "   --------- ------------------------------ 9.7/38.8 MB 988.5 kB/s eta 0:00:30\n",
      "   ---------- ----------------------------- 10.0/38.8 MB 985.3 kB/s eta 0:00:30\n",
      "   ---------- ----------------------------- 10.2/38.8 MB 986.9 kB/s eta 0:00:29\n",
      "   ---------- ----------------------------- 10.2/38.8 MB 986.9 kB/s eta 0:00:29\n",
      "   ---------- ----------------------------- 10.5/38.8 MB 979.5 kB/s eta 0:00:29\n",
      "   ----------- ---------------------------- 10.7/38.8 MB 974.0 kB/s eta 0:00:29\n",
      "   ----------- ---------------------------- 10.7/38.8 MB 974.0 kB/s eta 0:00:29\n",
      "   ----------- ---------------------------- 11.0/38.8 MB 967.5 kB/s eta 0:00:29\n",
      "   ----------- ---------------------------- 11.3/38.8 MB 967.9 kB/s eta 0:00:29\n",
      "   ----------- ---------------------------- 11.3/38.8 MB 967.9 kB/s eta 0:00:29\n",
      "   ----------- ---------------------------- 11.5/38.8 MB 968.3 kB/s eta 0:00:29\n",
      "   ------------ --------------------------- 11.8/38.8 MB 965.0 kB/s eta 0:00:29\n",
      "   ------------ --------------------------- 11.8/38.8 MB 965.0 kB/s eta 0:00:29\n",
      "   ------------ --------------------------- 12.1/38.8 MB 961.7 kB/s eta 0:00:28\n",
      "   ------------ --------------------------- 12.3/38.8 MB 963.5 kB/s eta 0:00:28\n",
      "   ------------ --------------------------- 12.6/38.8 MB 964.0 kB/s eta 0:00:28\n",
      "   ------------- -------------------------- 12.8/38.8 MB 963.2 kB/s eta 0:00:27\n",
      "   ------------- -------------------------- 12.8/38.8 MB 963.2 kB/s eta 0:00:27\n",
      "   ------------- -------------------------- 13.1/38.8 MB 962.6 kB/s eta 0:00:27\n",
      "   ------------- -------------------------- 13.4/38.8 MB 958.7 kB/s eta 0:00:27\n",
      "   ------------- -------------------------- 13.4/38.8 MB 958.7 kB/s eta 0:00:27\n",
      "   -------------- ------------------------- 13.6/38.8 MB 960.3 kB/s eta 0:00:27\n",
      "   -------------- ------------------------- 13.9/38.8 MB 958.7 kB/s eta 0:00:27\n",
      "   -------------- ------------------------- 14.2/38.8 MB 956.1 kB/s eta 0:00:26\n",
      "   -------------- ------------------------- 14.2/38.8 MB 956.1 kB/s eta 0:00:26\n",
      "   -------------- ------------------------- 14.4/38.8 MB 953.6 kB/s eta 0:00:26\n",
      "   --------------- ------------------------ 14.7/38.8 MB 955.2 kB/s eta 0:00:26\n",
      "   --------------- ------------------------ 14.9/38.8 MB 954.8 kB/s eta 0:00:26\n",
      "   --------------- ------------------------ 14.9/38.8 MB 954.8 kB/s eta 0:00:26\n",
      "   --------------- ------------------------ 15.2/38.8 MB 954.4 kB/s eta 0:00:25\n",
      "   --------------- ------------------------ 15.5/38.8 MB 954.0 kB/s eta 0:00:25\n",
      "   ---------------- ----------------------- 15.7/38.8 MB 953.6 kB/s eta 0:00:25\n",
      "   ---------------- ----------------------- 15.7/38.8 MB 953.6 kB/s eta 0:00:25\n",
      "   ---------------- ----------------------- 16.0/38.8 MB 953.2 kB/s eta 0:00:24\n",
      "   ---------------- ----------------------- 16.3/38.8 MB 953.8 kB/s eta 0:00:24\n",
      "   ----------------- ---------------------- 16.5/38.8 MB 954.3 kB/s eta 0:00:24\n",
      "   ----------------- ---------------------- 16.5/38.8 MB 954.3 kB/s eta 0:00:24\n",
      "   ----------------- ---------------------- 16.8/38.8 MB 952.2 kB/s eta 0:00:24\n",
      "   ----------------- ---------------------- 17.0/38.8 MB 951.9 kB/s eta 0:00:23\n",
      "   ----------------- ---------------------- 17.0/38.8 MB 951.9 kB/s eta 0:00:23\n",
      "   ----------------- ---------------------- 17.3/38.8 MB 951.6 kB/s eta 0:00:23\n",
      "   ------------------ --------------------- 17.6/38.8 MB 952.9 kB/s eta 0:00:23\n",
      "   ------------------ --------------------- 17.8/38.8 MB 954.2 kB/s eta 0:00:23\n",
      "   ------------------ --------------------- 18.1/38.8 MB 953.9 kB/s eta 0:00:22\n",
      "   ------------------ --------------------- 18.1/38.8 MB 953.9 kB/s eta 0:00:22\n",
      "   ------------------ --------------------- 18.4/38.8 MB 951.2 kB/s eta 0:00:22\n",
      "   ------------------- -------------------- 18.6/38.8 MB 951.7 kB/s eta 0:00:22\n",
      "   ------------------- -------------------- 18.9/38.8 MB 952.2 kB/s eta 0:00:21\n",
      "   ------------------- -------------------- 18.9/38.8 MB 952.2 kB/s eta 0:00:21\n",
      "   ------------------- -------------------- 19.1/38.8 MB 951.1 kB/s eta 0:00:21\n",
      "   ------------------- -------------------- 19.4/38.8 MB 953.1 kB/s eta 0:00:21\n",
      "   -------------------- ------------------- 19.7/38.8 MB 953.5 kB/s eta 0:00:21\n",
      "   -------------------- ------------------- 19.7/38.8 MB 953.5 kB/s eta 0:00:21\n",
      "   -------------------- ------------------- 19.9/38.8 MB 951.8 kB/s eta 0:00:20\n",
      "   -------------------- ------------------- 20.2/38.8 MB 953.0 kB/s eta 0:00:20\n",
      "   --------------------- ------------------ 20.4/38.8 MB 954.1 kB/s eta 0:00:20\n",
      "   --------------------- ------------------ 20.7/38.8 MB 954.5 kB/s eta 0:00:19\n",
      "   --------------------- ------------------ 20.7/38.8 MB 954.5 kB/s eta 0:00:19\n",
      "   --------------------- ------------------ 21.0/38.8 MB 954.2 kB/s eta 0:00:19\n",
      "   --------------------- ------------------ 21.2/38.8 MB 955.9 kB/s eta 0:00:19\n",
      "   ---------------------- ----------------- 21.5/38.8 MB 955.0 kB/s eta 0:00:19\n",
      "   ---------------------- ----------------- 21.8/38.8 MB 956.7 kB/s eta 0:00:18\n",
      "   ---------------------- ----------------- 21.8/38.8 MB 956.7 kB/s eta 0:00:18\n",
      "   ---------------------- ----------------- 22.0/38.8 MB 955.7 kB/s eta 0:00:18\n",
      "   ---------------------- ----------------- 22.3/38.8 MB 955.4 kB/s eta 0:00:18\n",
      "   ----------------------- ---------------- 22.5/38.8 MB 955.8 kB/s eta 0:00:18\n",
      "   ----------------------- ---------------- 22.5/38.8 MB 955.8 kB/s eta 0:00:18\n",
      "   ----------------------- ---------------- 22.8/38.8 MB 955.5 kB/s eta 0:00:17\n",
      "   ----------------------- ---------------- 23.1/38.8 MB 957.1 kB/s eta 0:00:17\n",
      "   ------------------------ --------------- 23.3/38.8 MB 955.6 kB/s eta 0:00:17\n",
      "   ------------------------ --------------- 23.3/38.8 MB 955.6 kB/s eta 0:00:17\n",
      "   ------------------------ --------------- 23.6/38.8 MB 954.7 kB/s eta 0:00:16\n",
      "   ------------------------ --------------- 23.9/38.8 MB 956.3 kB/s eta 0:00:16\n",
      "   ------------------------ --------------- 24.1/38.8 MB 957.2 kB/s eta 0:00:16\n",
      "   ------------------------- -------------- 24.4/38.8 MB 957.5 kB/s eta 0:00:16\n",
      "   ------------------------- -------------- 24.4/38.8 MB 957.5 kB/s eta 0:00:16\n",
      "   ------------------------- -------------- 24.6/38.8 MB 957.8 kB/s eta 0:00:15\n",
      "   ------------------------- -------------- 24.9/38.8 MB 955.8 kB/s eta 0:00:15\n",
      "   ------------------------- -------------- 25.2/38.8 MB 955.0 kB/s eta 0:00:15\n",
      "   ------------------------- -------------- 25.2/38.8 MB 955.0 kB/s eta 0:00:15\n",
      "   -------------------------- ------------- 25.4/38.8 MB 953.0 kB/s eta 0:00:15\n",
      "   -------------------------- ------------- 25.7/38.8 MB 951.7 kB/s eta 0:00:14\n",
      "   -------------------------- ------------- 25.7/38.8 MB 951.7 kB/s eta 0:00:14\n",
      "   -------------------------- ------------- 26.0/38.8 MB 949.8 kB/s eta 0:00:14\n",
      "   -------------------------- ------------- 26.0/38.8 MB 949.8 kB/s eta 0:00:14\n",
      "   -------------------------- ------------- 26.2/38.8 MB 948.6 kB/s eta 0:00:14\n",
      "   --------------------------- ------------ 26.5/38.8 MB 947.9 kB/s eta 0:00:14\n",
      "   --------------------------- ------------ 26.7/38.8 MB 946.6 kB/s eta 0:00:13\n",
      "   --------------------------- ------------ 26.7/38.8 MB 946.6 kB/s eta 0:00:13\n",
      "   --------------------------- ------------ 27.0/38.8 MB 945.5 kB/s eta 0:00:13\n",
      "   ---------------------------- ----------- 27.3/38.8 MB 944.3 kB/s eta 0:00:13\n",
      "   ---------------------------- ----------- 27.3/38.8 MB 944.3 kB/s eta 0:00:13\n",
      "   ---------------------------- ----------- 27.5/38.8 MB 942.1 kB/s eta 0:00:13\n",
      "   ---------------------------- ----------- 27.8/38.8 MB 941.0 kB/s eta 0:00:12\n",
      "   ---------------------------- ----------- 27.8/38.8 MB 941.0 kB/s eta 0:00:12\n",
      "   ---------------------------- ----------- 28.0/38.8 MB 941.0 kB/s eta 0:00:12\n",
      "   ----------------------------- ---------- 28.3/38.8 MB 938.9 kB/s eta 0:00:12\n",
      "   ----------------------------- ---------- 28.3/38.8 MB 938.9 kB/s eta 0:00:12\n",
      "   ----------------------------- ---------- 28.6/38.8 MB 937.9 kB/s eta 0:00:11\n",
      "   ----------------------------- ---------- 28.8/38.8 MB 938.4 kB/s eta 0:00:11\n",
      "   ----------------------------- ---------- 28.8/38.8 MB 938.4 kB/s eta 0:00:11\n",
      "   ----------------------------- ---------- 29.1/38.8 MB 935.5 kB/s eta 0:00:11\n",
      "   ------------------------------ --------- 29.4/38.8 MB 935.0 kB/s eta 0:00:11\n",
      "   ------------------------------ --------- 29.4/38.8 MB 935.0 kB/s eta 0:00:11\n",
      "   ------------------------------ --------- 29.6/38.8 MB 932.6 kB/s eta 0:00:10\n",
      "   ------------------------------ --------- 29.9/38.8 MB 930.6 kB/s eta 0:00:10\n",
      "   ------------------------------ --------- 29.9/38.8 MB 930.6 kB/s eta 0:00:10\n",
      "   ------------------------------- -------- 30.1/38.8 MB 927.2 kB/s eta 0:00:10\n",
      "   ------------------------------- -------- 30.4/38.8 MB 927.7 kB/s eta 0:00:10\n",
      "   ------------------------------- -------- 30.4/38.8 MB 927.7 kB/s eta 0:00:10\n",
      "   ------------------------------- -------- 30.7/38.8 MB 925.2 kB/s eta 0:00:09\n",
      "   ------------------------------- -------- 30.9/38.8 MB 923.3 kB/s eta 0:00:09\n",
      "   -------------------------------- ------- 31.2/38.8 MB 923.8 kB/s eta 0:00:09\n",
      "   -------------------------------- ------- 31.2/38.8 MB 923.8 kB/s eta 0:00:09\n",
      "   -------------------------------- ------- 31.5/38.8 MB 923.3 kB/s eta 0:00:08\n",
      "   -------------------------------- ------- 31.7/38.8 MB 922.3 kB/s eta 0:00:08\n",
      "   -------------------------------- ------- 31.7/38.8 MB 922.3 kB/s eta 0:00:08\n",
      "   -------------------------------- ------- 32.0/38.8 MB 921.8 kB/s eta 0:00:08\n",
      "   --------------------------------- ------ 32.2/38.8 MB 920.4 kB/s eta 0:00:08\n",
      "   --------------------------------- ------ 32.5/38.8 MB 918.5 kB/s eta 0:00:07\n",
      "   --------------------------------- ------ 32.5/38.8 MB 918.5 kB/s eta 0:00:07\n",
      "   --------------------------------- ------ 32.8/38.8 MB 916.4 kB/s eta 0:00:07\n",
      "   --------------------------------- ------ 32.8/38.8 MB 916.4 kB/s eta 0:00:07\n",
      "   ---------------------------------- ----- 33.0/38.8 MB 914.0 kB/s eta 0:00:07\n",
      "   ---------------------------------- ----- 33.3/38.8 MB 912.6 kB/s eta 0:00:07\n",
      "   ---------------------------------- ----- 33.6/38.8 MB 909.7 kB/s eta 0:00:06\n",
      "   ---------------------------------- ----- 33.6/38.8 MB 909.7 kB/s eta 0:00:06\n",
      "   ---------------------------------- ----- 33.8/38.8 MB 909.2 kB/s eta 0:00:06\n",
      "   ----------------------------------- ---- 34.1/38.8 MB 907.1 kB/s eta 0:00:06\n",
      "   ----------------------------------- ---- 34.1/38.8 MB 907.1 kB/s eta 0:00:06\n",
      "   ----------------------------------- ---- 34.3/38.8 MB 906.2 kB/s eta 0:00:05\n",
      "   ----------------------------------- ---- 34.6/38.8 MB 905.7 kB/s eta 0:00:05\n",
      "   ----------------------------------- ---- 34.9/38.8 MB 905.7 kB/s eta 0:00:05\n",
      "   ----------------------------------- ---- 34.9/38.8 MB 905.7 kB/s eta 0:00:05\n",
      "   ------------------------------------ --- 35.1/38.8 MB 904.7 kB/s eta 0:00:05\n",
      "   ------------------------------------ --- 35.4/38.8 MB 904.7 kB/s eta 0:00:04\n",
      "   ------------------------------------ --- 35.7/38.8 MB 905.2 kB/s eta 0:00:04\n",
      "   ------------------------------------ --- 35.7/38.8 MB 905.2 kB/s eta 0:00:04\n",
      "   ------------------------------------ --- 35.9/38.8 MB 905.7 kB/s eta 0:00:04\n",
      "   ------------------------------------- -- 36.2/38.8 MB 904.7 kB/s eta 0:00:03\n",
      "   ------------------------------------- -- 36.2/38.8 MB 904.7 kB/s eta 0:00:03\n",
      "   ------------------------------------- -- 36.4/38.8 MB 899.3 kB/s eta 0:00:03\n",
      "   ------------------------------------- -- 36.4/38.8 MB 899.3 kB/s eta 0:00:03\n",
      "   ------------------------------------- -- 36.7/38.8 MB 899.3 kB/s eta 0:00:03\n",
      "   -------------------------------------- - 37.0/38.8 MB 901.4 kB/s eta 0:00:03\n",
      "   -------------------------------------- - 37.2/38.8 MB 900.0 kB/s eta 0:00:02\n",
      "   -------------------------------------- - 37.2/38.8 MB 900.0 kB/s eta 0:00:02\n",
      "   -------------------------------------- - 37.5/38.8 MB 900.2 kB/s eta 0:00:02\n",
      "   -------------------------------------- - 37.7/38.8 MB 901.0 kB/s eta 0:00:02\n",
      "   ---------------------------------------  38.0/38.8 MB 902.8 kB/s eta 0:00:01\n",
      "   ---------------------------------------  38.0/38.8 MB 902.8 kB/s eta 0:00:01\n",
      "   ---------------------------------------  38.3/38.8 MB 901.0 kB/s eta 0:00:01\n",
      "   ---------------------------------------  38.3/38.8 MB 901.0 kB/s eta 0:00:01\n",
      "   ---------------------------------------  38.5/38.8 MB 898.3 kB/s eta 0:00:01\n",
      "   ---------------------------------------  38.5/38.8 MB 898.3 kB/s eta 0:00:01\n",
      "   ---------------------------------------  38.8/38.8 MB 896.9 kB/s eta 0:00:01\n",
      "   ---------------------------------------- 38.8/38.8 MB 889.2 kB/s eta 0:00:00\n",
      "Installing collected packages: opencv-python\n",
      "Successfully installed opencv-python-4.10.0.84\n",
      "Note: you may need to restart the kernel to use updated packages.\n"
     ]
    }
   ],
   "source": [
    "pip install opencv-python"
   ]
  },
  {
   "cell_type": "code",
   "execution_count": 1,
   "id": "60b70e35-acaf-4b80-a037-81f99a9d47e7",
   "metadata": {},
   "outputs": [],
   "source": [
    "import cv2"
   ]
  },
  {
   "cell_type": "code",
   "execution_count": 2,
   "id": "13dbf123-1246-4b69-9f63-df78c65cf9af",
   "metadata": {},
   "outputs": [
    {
     "ename": "ModuleNotFoundError",
     "evalue": "No module named 'freeze'",
     "output_type": "error",
     "traceback": [
      "\u001b[1;31m---------------------------------------------------------------------------\u001b[0m",
      "\u001b[1;31mModuleNotFoundError\u001b[0m                       Traceback (most recent call last)",
      "Cell \u001b[1;32mIn[2], line 1\u001b[0m\n\u001b[1;32m----> 1\u001b[0m \u001b[38;5;28;01mimport\u001b[39;00m \u001b[38;5;21;01mfreeze\u001b[39;00m\n",
      "\u001b[1;31mModuleNotFoundError\u001b[0m: No module named 'freeze'"
     ]
    }
   ],
   "source": [
    "import freeze"
   ]
  },
  {
   "cell_type": "code",
   "execution_count": 4,
   "id": "9a14f13c-3045-4bf0-a13e-52de5b899cf4",
   "metadata": {},
   "outputs": [
    {
     "data": {
      "text/plain": [
       "100"
      ]
     },
     "execution_count": 4,
     "metadata": {},
     "output_type": "execute_result"
    }
   ],
   "source": [
    "number=100\n",
    "number"
   ]
  },
  {
   "cell_type": "code",
   "execution_count": 6,
   "id": "43c82326-86fd-41a8-b87a-6014968a85b5",
   "metadata": {},
   "outputs": [
    {
     "data": {
      "text/plain": [
       "200"
      ]
     },
     "execution_count": 6,
     "metadata": {},
     "output_type": "execute_result"
    }
   ],
   "source": [
    "number=200\n",
    "number"
   ]
  },
  {
   "cell_type": "code",
   "execution_count": 8,
   "id": "ddc16125-b1ac-4c11-8a12-5d16d0162c0e",
   "metadata": {},
   "outputs": [
    {
     "data": {
      "text/plain": [
       "300"
      ]
     },
     "execution_count": 8,
     "metadata": {},
     "output_type": "execute_result"
    }
   ],
   "source": [
    "NUMBERS=300\n",
    "NUMBERS"
   ]
  },
  {
   "cell_type": "code",
   "execution_count": 10,
   "id": "c641e204-1857-4610-bd3c-094f2885ec5d",
   "metadata": {},
   "outputs": [
    {
     "data": {
      "text/plain": [
       "300"
      ]
     },
     "execution_count": 10,
     "metadata": {},
     "output_type": "execute_result"
    }
   ],
   "source": [
    "Numbers=300\n",
    "Numbers"
   ]
  },
  {
   "cell_type": "code",
   "execution_count": 12,
   "id": "4ff8d71c-95c7-4280-bf6e-a29d2329519f",
   "metadata": {},
   "outputs": [
    {
     "data": {
      "text/plain": [
       "500"
      ]
     },
     "execution_count": 12,
     "metadata": {},
     "output_type": "execute_result"
    }
   ],
   "source": [
    "Num123=500\n",
    "Num123"
   ]
  },
  {
   "cell_type": "code",
   "execution_count": 14,
   "id": "e58265db-5467-48e4-89d0-bf427892175c",
   "metadata": {},
   "outputs": [
    {
     "ename": "SyntaxError",
     "evalue": "invalid decimal literal (3163448185.py, line 1)",
     "output_type": "error",
     "traceback": [
      "\u001b[1;36m  Cell \u001b[1;32mIn[14], line 1\u001b[1;36m\u001b[0m\n\u001b[1;33m    123Num=400\u001b[0m\n\u001b[1;37m      ^\u001b[0m\n\u001b[1;31mSyntaxError\u001b[0m\u001b[1;31m:\u001b[0m invalid decimal literal\n"
     ]
    }
   ],
   "source": [
    "123Num=400\n",
    "123Num"
   ]
  },
  {
   "cell_type": "code",
   "execution_count": 16,
   "id": "d4b6855c-5498-47db-99b9-c0d0c7ad7e5b",
   "metadata": {},
   "outputs": [
    {
     "data": {
      "text/plain": [
       "500"
      ]
     },
     "execution_count": 16,
     "metadata": {},
     "output_type": "execute_result"
    }
   ],
   "source": [
    "Num123"
   ]
  },
  {
   "cell_type": "code",
   "execution_count": 18,
   "id": "fcf2be81-dcbe-48f3-b868-333b126ecb55",
   "metadata": {},
   "outputs": [
    {
     "data": {
      "text/plain": [
       "int"
      ]
     },
     "execution_count": 18,
     "metadata": {},
     "output_type": "execute_result"
    }
   ],
   "source": [
    "type(Num123)"
   ]
  },
  {
   "cell_type": "code",
   "execution_count": 1,
   "id": "07b62ad6-7871-410a-9a99-aa582e9c0e1f",
   "metadata": {},
   "outputs": [
    {
     "data": {
      "text/plain": [
       "100"
      ]
     },
     "execution_count": 1,
     "metadata": {},
     "output_type": "execute_result"
    }
   ],
   "source": [
    "a=100\n",
    "a"
   ]
  },
  {
   "cell_type": "code",
   "execution_count": 3,
   "id": "8d78b46b-7434-475d-8114-d270d283b9bd",
   "metadata": {},
   "outputs": [
    {
     "data": {
      "text/plain": [
       "200"
      ]
     },
     "execution_count": 3,
     "metadata": {},
     "output_type": "execute_result"
    }
   ],
   "source": [
    "b=200\n",
    "b"
   ]
  },
  {
   "cell_type": "code",
   "execution_count": 5,
   "id": "96809077-7b05-47c3-972e-aeb8c2a7adef",
   "metadata": {},
   "outputs": [
    {
     "data": {
      "text/plain": [
       "200"
      ]
     },
     "execution_count": 5,
     "metadata": {},
     "output_type": "execute_result"
    }
   ],
   "source": [
    "a=b\n",
    "b"
   ]
  },
  {
   "cell_type": "code",
   "execution_count": 7,
   "id": "2716ca02-ea18-435d-ae56-2bdf8f11aa64",
   "metadata": {},
   "outputs": [
    {
     "data": {
      "text/plain": [
       "200"
      ]
     },
     "execution_count": 7,
     "metadata": {},
     "output_type": "execute_result"
    }
   ],
   "source": [
    "a"
   ]
  },
  {
   "cell_type": "code",
   "execution_count": 9,
   "id": "3a9ae423-a9ca-4304-8e26-a564b46d58af",
   "metadata": {},
   "outputs": [
    {
     "data": {
      "text/plain": [
       "(3+5j)"
      ]
     },
     "execution_count": 9,
     "metadata": {},
     "output_type": "execute_result"
    }
   ],
   "source": [
    "x=3+5j\n",
    "x"
   ]
  },
  {
   "cell_type": "code",
   "execution_count": 11,
   "id": "59355172-9168-428e-8083-24553ed9cc95",
   "metadata": {},
   "outputs": [
    {
     "data": {
      "text/plain": [
       "3.0"
      ]
     },
     "execution_count": 11,
     "metadata": {},
     "output_type": "execute_result"
    }
   ],
   "source": [
    "x.real"
   ]
  },
  {
   "cell_type": "code",
   "execution_count": 13,
   "id": "3fcbb5a3-624d-414e-bdfa-4b0cfd22ae52",
   "metadata": {},
   "outputs": [
    {
     "data": {
      "text/plain": [
       "5.0"
      ]
     },
     "execution_count": 13,
     "metadata": {},
     "output_type": "execute_result"
    }
   ],
   "source": [
    "x.imag"
   ]
  },
  {
   "cell_type": "code",
   "execution_count": 17,
   "id": "d0a1ee32-d440-48f8-9e63-df0fa396bd5d",
   "metadata": {},
   "outputs": [
    {
     "data": {
      "text/plain": [
       "(3-5j)"
      ]
     },
     "execution_count": 17,
     "metadata": {},
     "output_type": "execute_result"
    }
   ],
   "source": [
    "x.conjugate()"
   ]
  },
  {
   "cell_type": "code",
   "execution_count": 19,
   "id": "facc7dad-3e52-49b9-aede-3be857ae54f5",
   "metadata": {},
   "outputs": [
    {
     "data": {
      "text/plain": [
       "(4+10j)"
      ]
     },
     "execution_count": 19,
     "metadata": {},
     "output_type": "execute_result"
    }
   ],
   "source": [
    "complex(4,10)"
   ]
  },
  {
   "cell_type": "code",
   "execution_count": 29,
   "id": "94750d95-c3e6-4bf4-bcc9-b9e7bdf63c77",
   "metadata": {},
   "outputs": [
    {
     "name": "stdin",
     "output_type": "stream",
     "text": [
      "enter the number 7\n"
     ]
    },
    {
     "name": "stdout",
     "output_type": "stream",
     "text": [
      "7 --- 14 --- 21 --- 28\n"
     ]
    }
   ],
   "source": [
    "x=int(input(\"enter the number\"))\n",
    "print(x,\"---\",2*x,\"---\",3*x,\"---\",4*x)"
   ]
  },
  {
   "cell_type": "code",
   "execution_count": 31,
   "id": "02c08513-d9e6-4dfb-9f5e-d0eaae2defd5",
   "metadata": {},
   "outputs": [
    {
     "name": "stdin",
     "output_type": "stream",
     "text": [
      "weight of the user 10\n"
     ]
    },
    {
     "name": "stdout",
     "output_type": "stream",
     "text": [
      "weight of the user in pounds is 22.0\n"
     ]
    }
   ],
   "source": [
    "x=int(input(\"weight of the user\"))\n",
    "print(\"weight of the user in pounds is\", x*2.2)"
   ]
  },
  {
   "cell_type": "code",
   "execution_count": 33,
   "id": "64b4efd5-d890-42cb-8e42-fb2a6e5bc489",
   "metadata": {},
   "outputs": [
    {
     "name": "stdin",
     "output_type": "stream",
     "text": [
      "enter value1 1\n",
      "enter vlue2 2\n",
      "enter value3 3\n"
     ]
    },
    {
     "name": "stdout",
     "output_type": "stream",
     "text": [
      "6\n",
      "2.0\n"
     ]
    }
   ],
   "source": [
    "x=int(input(\"enter value1\"))\n",
    "y=int(input(\"enter vlue2\"))\n",
    "z=int(input(\"enter value3\"))\n",
    "total=x+y+z\n",
    "avg=(x+y+z)/3\n",
    "print(total)\n",
    "print(avg)"
   ]
  },
  {
   "cell_type": "code",
   "execution_count": 65,
   "id": "05a0ae61-a473-41d5-bef8-8d12f2ccb3b7",
   "metadata": {},
   "outputs": [
    {
     "name": "stdin",
     "output_type": "stream",
     "text": [
      "enter total bill in dollors 100\n"
     ]
    },
    {
     "name": "stdout",
     "output_type": "stream",
     "text": [
      "dollors are not accepted\n",
      "what will be accepted\n",
      "only india rupees\n"
     ]
    },
    {
     "name": "stdin",
     "output_type": "stream",
     "text": [
      "ask th user to enter dollor conversion to indian rupees 80\n"
     ]
    },
    {
     "name": "stdout",
     "output_type": "stream",
     "text": [
      "total bill is : 8000\n",
      "thank you\n"
     ]
    }
   ],
   "source": [
    "x=eval(input(\"enter total bill in dollors\"))\n",
    "print(\"dollors are not accepted\")\n",
    "print(\"what will be accepted\")\n",
    "print(\"only india rupees\")\n",
    "y=eval(input(\"ask th user to enter dollor conversion to indian rupees\"))\n",
    "a=x*y\n",
    "print(\"total bill is :\",a)\n",
    "print(\"thank you\")"
   ]
  },
  {
   "cell_type": "code",
   "execution_count": 59,
   "id": "b5b3737b-53e3-48ca-b64a-ed408934ec0f",
   "metadata": {},
   "outputs": [
    {
     "name": "stdout",
     "output_type": "stream",
     "text": [
      "the square of  71 is 5041\n"
     ]
    }
   ],
   "source": [
    "import random\n",
    "x=random.randint(1,100)\n",
    "y=x*x\n",
    "print(\"the square of  {} is {}\".format(x,y))"
   ]
  },
  {
   "cell_type": "code",
   "execution_count": null,
   "id": "cf4bdcaf-3aed-4956-834e-415d0a453406",
   "metadata": {},
   "outputs": [],
   "source": [
    "try:\n",
    "    num=10\n",
    "    num2=20"
   ]
  },
  {
   "cell_type": "code",
   "execution_count": 67,
   "id": "867fe47c-6f7d-4fb0-82a0-655476a35aec",
   "metadata": {},
   "outputs": [
    {
     "name": "stdin",
     "output_type": "stream",
     "text": [
      "enter value1 10\n",
      "enter vlue2 20\n",
      "enter value3 30\n"
     ]
    },
    {
     "name": "stdout",
     "output_type": "stream",
     "text": [
      "the average of 10, 20 and 30 is 20.0\n"
     ]
    }
   ],
   "source": [
    "x=int(input(\"enter value1\"))\n",
    "y=int(input(\"enter vlue2\"))\n",
    "z=int(input(\"enter value3\"))\n",
    "total=x+y+z\n",
    "avg=(x+y+z)/3\n",
    "print(\"the average of {}, {} and {} is {}\".format(x,y,z,avg))"
   ]
  },
  {
   "cell_type": "code",
   "execution_count": 73,
   "id": "ac4b40b3-3b13-4c1d-b5b4-7c326d8fe306",
   "metadata": {},
   "outputs": [
    {
     "name": "stdin",
     "output_type": "stream",
     "text": [
      "enter value1 10\n",
      "enter vlue2 20\n",
      "enter value3 30\n"
     ]
    },
    {
     "name": "stdout",
     "output_type": "stream",
     "text": [
      "the average of 10, 20 and 30 is 20.0\n"
     ]
    }
   ],
   "source": [
    "try:\n",
    "    x=int(input(\"enter value1\"))\n",
    "    y=int(input(\"enter vlue2\"))\n",
    "    z=int(input(\"enter value3\"))\n",
    "    total=x+y+z\n",
    "    avg=(x+y+z)/3\n",
    "    print(\"the average of {}, {} and {} is {}\".format(x,y,z,avg))\n",
    "except:\n",
    "    print(\"check the code\")"
   ]
  },
  {
   "cell_type": "code",
   "execution_count": 75,
   "id": "2ed7fbaf-fd6d-4df4-a5f8-6bf50c151bdb",
   "metadata": {},
   "outputs": [
    {
     "name": "stdin",
     "output_type": "stream",
     "text": [
      "enter value1 10\n",
      "enter vlue2 30\n",
      "enter value3 30\n"
     ]
    },
    {
     "name": "stdout",
     "output_type": "stream",
     "text": [
      "check the code\n"
     ]
    }
   ],
   "source": [
    "try:\n",
    "    x=int(input(\"enter value1\"))\n",
    "    y=int(input(\"enter vlue2\"))\n",
    "    z=int(input(\"enter value3\"))\n",
    "    total=x+y+z\n",
    "    avg=(x+y+g)/3\n",
    "    print(\"the average of {}, {} and {} is {}\".format(x,y,z,avg))\n",
    "except:\n",
    "    print(\"check the code\")"
   ]
  },
  {
   "cell_type": "code",
   "execution_count": 77,
   "id": "3e947323-6773-41bc-b683-9168a8db665c",
   "metadata": {},
   "outputs": [
    {
     "name": "stdin",
     "output_type": "stream",
     "text": [
      "enter value1 10\n",
      "enter vlue2 20\n",
      "enter value3 30\n"
     ]
    },
    {
     "name": "stdout",
     "output_type": "stream",
     "text": [
      "name 'g' is not defined\n"
     ]
    }
   ],
   "source": [
    "try:\n",
    "    x=int(input(\"enter value1\"))\n",
    "    y=int(input(\"enter vlue2\"))\n",
    "    z=int(input(\"enter value3\"))\n",
    "    total=x+y+z\n",
    "    avg=(x+y+g)/3\n",
    "    print(\"the average of {}, {} and {} is {}\".format(x,y,z,avg))\n",
    "except Exception as e:\n",
    "    print(e)"
   ]
  },
  {
   "cell_type": "code",
   "execution_count": 85,
   "id": "aa1c3cf9-03a7-4e5c-8293-d213a8787a85",
   "metadata": {},
   "outputs": [
    {
     "name": "stdin",
     "output_type": "stream",
     "text": [
      "enter value1 10\n"
     ]
    },
    {
     "name": "stdout",
     "output_type": "stream",
     "text": [
      "name 'x1' is not defined\n"
     ]
    },
    {
     "ename": "NameError",
     "evalue": "name 'python' is not defined",
     "output_type": "error",
     "traceback": [
      "\u001b[1;31m---------------------------------------------------------------------------\u001b[0m",
      "\u001b[1;31mNameError\u001b[0m                                 Traceback (most recent call last)",
      "Cell \u001b[1;32mIn[85], line 7\u001b[0m\n\u001b[0;32m      5\u001b[0m \u001b[38;5;28;01mexcept\u001b[39;00m \u001b[38;5;167;01mException\u001b[39;00m \u001b[38;5;28;01mas\u001b[39;00m e:\n\u001b[0;32m      6\u001b[0m     \u001b[38;5;28mprint\u001b[39m(e)\n\u001b[1;32m----> 7\u001b[0m \u001b[38;5;28mprint\u001b[39m(python)\n\u001b[0;32m      8\u001b[0m \u001b[38;5;28mprint\u001b[39m(\u001b[38;5;241m1\u001b[39m)\n\u001b[0;32m      9\u001b[0m \u001b[38;5;28mprint\u001b[39m(\u001b[38;5;241m2\u001b[39m)\n",
      "\u001b[1;31mNameError\u001b[0m: name 'python' is not defined"
     ]
    }
   ],
   "source": [
    "try:\n",
    "    x=int(input(\"enter value1\"))\n",
    "    y=x*x1\n",
    "    print(y)\n",
    "except Exception as e:\n",
    "    print(e)"
   ]
  },
  {
   "cell_type": "code",
   "execution_count": 91,
   "id": "ae9ba0ba-a318-409c-bf2f-6cba60c1b2de",
   "metadata": {},
   "outputs": [
    {
     "name": "stdin",
     "output_type": "stream",
     "text": [
      "enter value1 10\n"
     ]
    },
    {
     "name": "stdout",
     "output_type": "stream",
     "text": [
      "100\n",
      "python\n",
      "1\n",
      "2\n"
     ]
    }
   ],
   "source": [
    "try:\n",
    "    x=int(input(\"enter value1\"))\n",
    "    y=x*x\n",
    "    print(y)\n",
    "except Exception as e:\n",
    "    print(e)\n",
    "print(\"python\")\n",
    "print(1)\n",
    "print(2)"
   ]
  },
  {
   "cell_type": "code",
   "execution_count": 93,
   "id": "a45ddbb0-fc98-4f0d-98ac-5c4785a57d54",
   "metadata": {},
   "outputs": [
    {
     "name": "stdout",
     "output_type": "stream",
     "text": [
      "8\n"
     ]
    }
   ],
   "source": [
    "print(3+5)"
   ]
  },
  {
   "cell_type": "code",
   "execution_count": 101,
   "id": "6cff84e0-84f0-4501-a3f0-9c953ac7888d",
   "metadata": {},
   "outputs": [
    {
     "data": {
      "text/plain": [
       "True"
      ]
     },
     "execution_count": 101,
     "metadata": {},
     "output_type": "execute_result"
    }
   ],
   "source": [
    "name='python'\n",
    "name=='python'"
   ]
  },
  {
   "cell_type": "code",
   "execution_count": 111,
   "id": "0e639c9f-6caf-4174-aff1-27770847b1cd",
   "metadata": {},
   "outputs": [
    {
     "name": "stdin",
     "output_type": "stream",
     "text": [
      "enter value 1 20\n",
      "enter value 2 10\n"
     ]
    },
    {
     "name": "stdout",
     "output_type": "stream",
     "text": [
      "multiplication of 20 and 10 is200\n",
      "substraction 10\n"
     ]
    }
   ],
   "source": [
    "x=eval(input(\"enter value 1\"))\n",
    "y=eval(input(\"enter value 2\"))\n",
    "if x==y:\n",
    "    print(\"addition of {} and {} is {}\".format(x,y,x*+y))\n",
    "else:\n",
    "    print(\"multiplication of {} and {} is{}\".format(x,y,x*y))\n",
    "\n",
    "z=x-y\n",
    "print(\"substraction\",z)"
   ]
  },
  {
   "cell_type": "code",
   "execution_count": 113,
   "id": "0ea84bf8-8937-437d-8110-c4da926fa550",
   "metadata": {},
   "outputs": [
    {
     "name": "stdin",
     "output_type": "stream",
     "text": [
      "enter value 1 10\n"
     ]
    },
    {
     "name": "stdout",
     "output_type": "stream",
     "text": [
      "this 10 is even number\n"
     ]
    }
   ],
   "source": [
    "x=eval(input(\"enter value 1\"))\n",
    "if (x%2==0):\n",
    "    print(\"this {} is even number\".format(x))\n",
    "else:\n",
    "    print(\"this {} is odd number\".format(x))"
   ]
  },
  {
   "cell_type": "code",
   "execution_count": 117,
   "id": "da9bc500-d022-43bb-9cce-4a851492d5c8",
   "metadata": {},
   "outputs": [
    {
     "name": "stdin",
     "output_type": "stream",
     "text": [
      "enter value 1 arun\n"
     ]
    },
    {
     "name": "stdout",
     "output_type": "stream",
     "text": [
      "name 'arun' is not defined\n"
     ]
    }
   ],
   "source": [
    "try:\n",
    "    x=eval(input(\"enter value 1\"))\n",
    "    if (x%2==0):\n",
    "        print(\"this {} is even number\".format(x))\n",
    "    else:\n",
    "        print(\"this {} is odd number\".format(x))\n",
    "\n",
    "except Exception as e:\n",
    "    print(e)"
   ]
  },
  {
   "cell_type": "code",
   "execution_count": 129,
   "id": "de750272-50ab-4513-9ee5-166152246206",
   "metadata": {},
   "outputs": [
    {
     "name": "stdout",
     "output_type": "stream",
     "text": [
      "this 81 is odd number\n"
     ]
    }
   ],
   "source": [
    "import random\n",
    "x=random.randint(1,100)\n",
    "if (x%2==0):\n",
    "    print(\"this {} is even number\".format(x))\n",
    "else:\n",
    "    print(\"this {} is odd number\".format(x))"
   ]
  },
  {
   "cell_type": "code",
   "execution_count": 154,
   "id": "2663d553-f62c-43ea-9b41-6419580a82d0",
   "metadata": {
    "collapsed": true,
    "jupyter": {
     "outputs_hidden": true
    }
   },
   "outputs": [
    {
     "name": "stdout",
     "output_type": "stream",
     "text": [
      "you lost because 179 is not between 10 and 99\n"
     ]
    }
   ],
   "source": [
    "try:\n",
    "    x=random.randint(1,200)\n",
    "    if (x>=10 and x<=99):\n",
    "        print(\"you won because {} is between 10 and 99\".format(x))\n",
    "    else:\n",
    "        print(\"you lost because {} is not between 10 and 99\".format(x))\n",
    "except Exception as e:\n",
    "    print(e)"
   ]
  },
  {
   "cell_type": "markdown",
   "id": "0703d5c0-b2ec-49d5-9398-d09563aa0e66",
   "metadata": {},
   "source": [
    "try:\n",
    "    x=eval(input(\"enter a number\"))\n",
    "    if x>=0:\n",
    "        print(\"it is a positive number\")\n",
    "    else:\n",
    "        print(\"this is a negative number\")\n",
    "\n",
    "except Exception as e:\n",
    "    print(e)\n",
    "    "
   ]
  },
  {
   "cell_type": "code",
   "execution_count": 162,
   "id": "95789b9a-4138-47e9-9a0d-eef62921e08b",
   "metadata": {},
   "outputs": [
    {
     "name": "stdin",
     "output_type": "stream",
     "text": [
      "enter a number -10\n"
     ]
    },
    {
     "name": "stdout",
     "output_type": "stream",
     "text": [
      "this is a negative number\n"
     ]
    }
   ],
   "source": [
    "try:\n",
    "    x=eval(input(\"enter a number\"))\n",
    "    if x>=0:\n",
    "        print(\"it is a positive number\")\n",
    "    else:\n",
    "        print(\"this is a negative number\")\n",
    "\n",
    "except Exception as e:\n",
    "    print(e)"
   ]
  },
  {
   "cell_type": "markdown",
   "id": "22d68f5f-2af3-4cc0-a467-908fc34266da",
   "metadata": {},
   "source": [
    "try:\n",
    "    x=eval(input(\"enter a number\"))\n",
    "    if x>0:\n",
    "        print(\"it is a {} positive number\".format(x))\n",
    "    elif x<0:\n",
    "        print(\"this is a {} negative number\".format(x))\n",
    "    else:\n",
    "        print(\"this is zero\")\n",
    "\n",
    "except Exception as e:\n",
    "    print(e)"
   ]
  },
  {
   "cell_type": "code",
   "execution_count": 194,
   "id": "48098a40-a1fc-42e1-9a27-f8db23773b9d",
   "metadata": {},
   "outputs": [
    {
     "name": "stdin",
     "output_type": "stream",
     "text": [
      "enter a number 50\n"
     ]
    },
    {
     "name": "stdout",
     "output_type": "stream",
     "text": [
      "print 50 Grade C\n"
     ]
    }
   ],
   "source": [
    "try:\n",
    "    x=eval(input(\"enter a number\"))\n",
    "    if x>=90:\n",
    "        print(\"print {} Grade A\".format(x))\n",
    "    elif x>=70:\n",
    "        print(\"print {} Grade B\".format(x))\n",
    "    elif x>=50:\n",
    "        print(\"print {} Grade C\".format(x))\n",
    "    else:\n",
    "        print(\"print {} Grade D\".format(x))\n",
    "\n",
    "except Exception as e:\n",
    "    print(e)"
   ]
  },
  {
   "cell_type": "code",
   "execution_count": 204,
   "id": "636ffc74-228a-4224-8287-96095319b3f3",
   "metadata": {},
   "outputs": [
    {
     "name": "stdin",
     "output_type": "stream",
     "text": [
      "enter a number 18\n"
     ]
    },
    {
     "name": "stdout",
     "output_type": "stream",
     "text": [
      "Teenage\n"
     ]
    }
   ],
   "source": [
    "try:\n",
    "    x=eval(input(\"enter a number\"))\n",
    "    if x>60:\n",
    "        print(\"Senior citizene\")\n",
    "    elif x>=45:\n",
    "        print(\"Aged\")\n",
    "    elif x>=30:\n",
    "        print(\"Middle Age\")\n",
    "    elif x>=20:\n",
    "        print(\"Young\")\n",
    "    elif x>=13:\n",
    "        print(\"Teenage\")\n",
    "    else:\n",
    "        print(\"Child\")\n",
    "\n",
    "except Exception as e:\n",
    "    print(e)"
   ]
  },
  {
   "cell_type": "code",
   "execution_count": 212,
   "id": "3c90f8fe-0f85-48a4-a7c5-6ec734dc75df",
   "metadata": {},
   "outputs": [
    {
     "name": "stdin",
     "output_type": "stream",
     "text": [
      "enter salary 250000\n"
     ]
    },
    {
     "name": "stdout",
     "output_type": "stream",
     "text": [
      "no tax is required\n"
     ]
    }
   ],
   "source": [
    "salary=eval(input(\"enter salary\"))\n",
    "if salary>=1000000:\n",
    "    tax=eval(input(\"enter tax percentage\"))\n",
    "    print(\"the amonut of tax paid:\", (salary*tax)/100)\n",
    "elif salary>=700000:\n",
    "    tax=eval(input(\"enter tax percentage\"))\n",
    "    print(\"the amonut of tax paid:\", (salary*tax)/100)\n",
    "elif salary>=400000:\n",
    "    tax=eval(input(\"enter tax percentage\"))\n",
    "    print(\"the amonut of tax paid:\", (salary*tax)/100)\n",
    "else:\n",
    "    print(\"no tax is required\")"
   ]
  },
  {
   "cell_type": "code",
   "execution_count": 224,
   "id": "a9c274c7-4366-4d69-a2fa-d318298798fb",
   "metadata": {},
   "outputs": [
    {
     "name": "stdin",
     "output_type": "stream",
     "text": [
      "which operation want to perform division\n",
      "enter num1: 10\n",
      "enter num2: 0\n"
     ]
    },
    {
     "name": "stdout",
     "output_type": "stream",
     "text": [
      " we are doing division:\n",
      "division by zero\n"
     ]
    }
   ],
   "source": [
    "try:\n",
    "    operation=input(\"which operation want to perform\")\n",
    "    num1=eval(input(\"enter num1:\"))\n",
    "    num2=eval(input(\"enter num2:\"))\n",
    "    if operation==\"addition\":\n",
    "        print(\" we are doing addition:\")\n",
    "        print(\"the addition of {} and {} is {}\".format(num1,num2,num1+num2))\n",
    "    elif operation==\"substraction\":\n",
    "        print(\" we are doing substraction:\")\n",
    "        print(\"the substraction of {} and {} is {}\".format(num1,num2,num1-num2))\n",
    "    elif operation==\"multiplication\":\n",
    "        print(\" we are doing multiplication:\")\n",
    "        print(\"the multiplication of {} and {} is {}\".format(num1,num2,num1*num2))\n",
    "    elif operation==\"division\":\n",
    "        print(\" we are doing division:\")\n",
    "        print(\"the division of {} and {} is {}\".format(num1,num2,num1/num2))\n",
    "    else:\n",
    "        print(\"which operation\")\n",
    "\n",
    "except Exception as e :\n",
    "    print(e)\n"
   ]
  },
  {
   "cell_type": "code",
   "execution_count": 234,
   "id": "36aae92e-5433-48c1-82c8-7407bad0345a",
   "metadata": {},
   "outputs": [
    {
     "name": "stdin",
     "output_type": "stream",
     "text": [
      "which operation want to perform *\n",
      "enter num1: 20\n",
      "enter num2: 30\n"
     ]
    },
    {
     "name": "stdout",
     "output_type": "stream",
     "text": [
      " we are doing multiplication:\n",
      "the multiplication of 20 and 30 is 600\n"
     ]
    }
   ],
   "source": [
    "operation=input(\"which operation want to perform\")\n",
    "num1=eval(input(\"enter num1:\"))\n",
    "num2=eval(input(\"enter num2:\"))\n",
    "if operation==\"+\":\n",
    "    print(\" we are doing addition:\")\n",
    "    print(\"the addition of {} and {} is {}\".format(num1,num2,num1+num2))\n",
    "elif operation==\"-\":\n",
    "    print(\" we are doing substraction:\")\n",
    "    print(\"the substraction of {} and {} is {}\".format(num1,num2,num1-num2))\n",
    "elif operation==\"*\":\n",
    "    print(\" we are doing multiplication:\")\n",
    "    print(\"the multiplication of {} and {} is {}\".format(num1,num2,num1*num2))\n",
    "elif operation==\"/\":\n",
    "    print(\" we are doing division:\")\n",
    "    print(\"the division of {} and {} is {}\".format(num1,num2,num1/num2))\n",
    "else:\n",
    "    print(\"which operation\")"
   ]
  },
  {
   "cell_type": "code",
   "execution_count": 252,
   "id": "35bc1c83-b6a8-49a1-a86b-7fb401d0be94",
   "metadata": {},
   "outputs": [
    {
     "name": "stdin",
     "output_type": "stream",
     "text": [
      "enter the number -60\n"
     ]
    },
    {
     "name": "stdout",
     "output_type": "stream",
     "text": [
      "it is negative number\n"
     ]
    }
   ],
   "source": [
    "num=eval(input(\"enter the number\"))\n",
    "if num>=0:\n",
    "    if num==0:\n",
    "        print('it is zero')\n",
    "    else:\n",
    "        print('it is a positive number')\n",
    "else:\n",
    "    print(\"it is negative number\")\n"
   ]
  },
  {
   "cell_type": "code",
   "execution_count": 254,
   "id": "601d7630-f0a7-414c-8878-ebc5af00cce5",
   "metadata": {},
   "outputs": [
    {
     "name": "stdin",
     "output_type": "stream",
     "text": [
      "enter value1 10\n",
      "enter value2 20\n",
      "enter value3 30\n"
     ]
    },
    {
     "name": "stdout",
     "output_type": "stream",
     "text": [
      "num3 30 is the largest\n"
     ]
    }
   ],
   "source": [
    "num1=eval(input(\"enter value1\"))\n",
    "num2=eval(input(\"enter value2\"))\n",
    "num3=eval(input(\"enter value3\"))\n",
    "if (num1>=num2) and (num1>=num3):\n",
    "    print(\"num1 {} is the largest\".format(num1))\n",
    "elif (num2>=num1) and (num2>=num3):\n",
    "    print(\"num2 {} is the largest\".format(num2))\n",
    "else:\n",
    "    print(\"num3 {} is the largest\".format(num3))"
   ]
  },
  {
   "cell_type": "code",
   "execution_count": 256,
   "id": "4e502c85-4214-4526-a9cb-18fa36361e4a",
   "metadata": {},
   "outputs": [
    {
     "name": "stdin",
     "output_type": "stream",
     "text": [
      "enter value1 10\n",
      "enter value2 20\n",
      "enter value3 30\n"
     ]
    },
    {
     "name": "stdout",
     "output_type": "stream",
     "text": [
      "the average of 10 , 20 and 30 is 20.0\n"
     ]
    }
   ],
   "source": [
    "num1=eval(input(\"enter value1\"))\n",
    "num2=eval(input(\"enter value2\"))\n",
    "num3=eval(input(\"enter value3\"))\n",
    "avg=(num1+num2+num3)/3\n",
    "print(\"the average of {} , {} and {} is {}\".format(num1,num2,num3,avg))"
   ]
  },
  {
   "cell_type": "code",
   "execution_count": 258,
   "id": "84eb1ad5-1764-494e-90b7-92913466c9eb",
   "metadata": {},
   "outputs": [
    {
     "name": "stdin",
     "output_type": "stream",
     "text": [
      "enter value1 10\n",
      "enter value2 20\n",
      "enter value3 30\n"
     ]
    },
    {
     "name": "stdout",
     "output_type": "stream",
     "text": [
      "the average of 10 , 20 and 30 is 20.0\n"
     ]
    }
   ],
   "source": [
    "def average ():\n",
    "    num1=eval(input(\"enter value1\"))\n",
    "    num2=eval(input(\"enter value2\"))\n",
    "    num3=eval(input(\"enter value3\"))\n",
    "    avg=(num1+num2+num3)/3\n",
    "    print(\"the average of {} , {} and {} is {}\".format(num1,num2,num3,avg))\n",
    "average ()"
   ]
  },
  {
   "cell_type": "code",
   "execution_count": 260,
   "id": "8b2f38a9-6939-41f1-955c-4f35aa4dc813",
   "metadata": {},
   "outputs": [
    {
     "name": "stdin",
     "output_type": "stream",
     "text": [
      "enter value1 10\n",
      "enter value2 20\n",
      "enter value3 30\n"
     ]
    },
    {
     "name": "stdout",
     "output_type": "stream",
     "text": [
      "the average of 10 , 20 and 30 is 20.0\n"
     ]
    }
   ],
   "source": [
    "average()"
   ]
  },
  {
   "cell_type": "code",
   "execution_count": 15,
   "id": "313565b8-73be-44d9-8dfb-57b8620be2de",
   "metadata": {},
   "outputs": [
    {
     "name": "stdin",
     "output_type": "stream",
     "text": [
      "enter the number 10\n"
     ]
    },
    {
     "name": "stdout",
     "output_type": "stream",
     "text": [
      "314.1592653589793\n"
     ]
    }
   ],
   "source": [
    "import math\n",
    "pii=math.pi\n",
    "r=eval(input(\"enter the number\"))\n",
    "area=pii*r*r\n",
    "print(area)"
   ]
  },
  {
   "cell_type": "code",
   "execution_count": 11,
   "id": "c7ea121a-770f-4fcb-8d80-4479808864c0",
   "metadata": {},
   "outputs": [
    {
     "name": "stdin",
     "output_type": "stream",
     "text": [
      "enter the radius 20\n"
     ]
    },
    {
     "name": "stdout",
     "output_type": "stream",
     "text": [
      "the area of circle is: 1256.64\n"
     ]
    }
   ],
   "source": [
    "import math\n",
    "pii=math.pi\n",
    "r=eval(input(\"enter the radius\"))\n",
    "area1=round(pii*r*r,2) \n",
    "print(\"the area of circle is:\",area1)"
   ]
  },
  {
   "cell_type": "code",
   "execution_count": 17,
   "id": "c657e017-2684-4e83-a41b-72ccce66df7c",
   "metadata": {},
   "outputs": [
    {
     "name": "stdin",
     "output_type": "stream",
     "text": [
      "enter the radius 20\n"
     ]
    },
    {
     "name": "stdout",
     "output_type": "stream",
     "text": [
      "the area of circle is: 1256.64\n"
     ]
    }
   ],
   "source": [
    "import math\n",
    "def area_of_circle():\n",
    "    pii=math.pi\n",
    "    r=eval(input(\"enter the radius\"))\n",
    "    area1=round(pii*r*r,2) \n",
    "    print(\"the area of circle is:\",area1)\n",
    "area_of_circle()"
   ]
  },
  {
   "cell_type": "code",
   "execution_count": 19,
   "id": "932a5d38-94dd-459a-b372-b5be2abc0f2f",
   "metadata": {},
   "outputs": [
    {
     "name": "stdout",
     "output_type": "stream",
     "text": [
      "the area of circle is: 1256.64\n"
     ]
    }
   ],
   "source": [
    "import math\n",
    "def area_of_circle(r):\n",
    "    pii=math.pi\n",
    "    area1=round(pii*r*r,2) \n",
    "    print(\"the area of circle is:\",area1)\n",
    "area_of_circle(20)"
   ]
  },
  {
   "cell_type": "code",
   "execution_count": 21,
   "id": "4e01a791-0373-4e82-b286-1000dc98d298",
   "metadata": {},
   "outputs": [
    {
     "name": "stdout",
     "output_type": "stream",
     "text": [
      "the area of circle is: 1256.64\n"
     ]
    }
   ],
   "source": [
    "import math\n",
    "def area_of_circle(r=20):\n",
    "    pii=math.pi\n",
    "    area1=round(pii*r*r,2) \n",
    "    print(\"the area of circle is:\",area1)\n",
    "area_of_circle()"
   ]
  },
  {
   "cell_type": "code",
   "execution_count": 23,
   "id": "8732d7e6-1638-4922-a6ad-21ba9892d229",
   "metadata": {},
   "outputs": [
    {
     "name": "stdin",
     "output_type": "stream",
     "text": [
      "enter the radius 50\n"
     ]
    },
    {
     "name": "stdout",
     "output_type": "stream",
     "text": [
      "the area of circle is: 7853.98\n"
     ]
    }
   ],
   "source": [
    "import math\n",
    "def area_of_circle(r):\n",
    "    pii=math.pi\n",
    "    area1=round(pii*r*r,2) \n",
    "    print(\"the area of circle is:\",area1)\n",
    "area_of_circle( r=eval(input(\"enter the radius\")))"
   ]
  },
  {
   "cell_type": "code",
   "execution_count": 27,
   "id": "983ff99d-de13-4ed4-83dd-73a762e68259",
   "metadata": {},
   "outputs": [
    {
     "name": "stdin",
     "output_type": "stream",
     "text": [
      "enter the radius 20\n"
     ]
    },
    {
     "name": "stdout",
     "output_type": "stream",
     "text": [
      "the area of circle is: 1256.64\n",
      "1256.64\n",
      "3.141592653589793\n"
     ]
    }
   ],
   "source": [
    "import math\n",
    "def area_of_circle():\n",
    "    pii=math.pi\n",
    "    r=eval(input(\"enter the radius\"))\n",
    "    area11=round(pii*r*r,2) \n",
    "    print(\"the area of circle is:\",area11)\n",
    "    return(area11,pii)\n",
    "    \n",
    "Area,Pi=area_of_circle()\n",
    "print(Area)\n",
    "print(Pi)"
   ]
  },
  {
   "cell_type": "code",
   "execution_count": 37,
   "id": "552750ba-b283-4091-b5f2-4a1afbf2f7f3",
   "metadata": {},
   "outputs": [
    {
     "name": "stdin",
     "output_type": "stream",
     "text": [
      "enter number1 20\n",
      "enter number2 30\n"
     ]
    },
    {
     "name": "stdout",
     "output_type": "stream",
     "text": [
      "average of 20 and 30 is 25.0 :\n"
     ]
    }
   ],
   "source": [
    "def avg():\n",
    "    num1=eval(input(\"enter number1\"))\n",
    "    num2=eval(input(\"enter number2\"))\n",
    "    avgg=(num1+num2)/2\n",
    "    print(\"average of {} and {} is {} :\".format(num1,num2,avgg))\n",
    "    return(avg)\n",
    "\n",
    "average=avg()"
   ]
  },
  {
   "cell_type": "code",
   "execution_count": 51,
   "id": "07aaecd4-4f7b-4ea6-9a15-f9d7f843bb73",
   "metadata": {},
   "outputs": [
    {
     "name": "stdout",
     "output_type": "stream",
     "text": [
      "num3 40 is largest\n",
      "40\n"
     ]
    }
   ],
   "source": [
    "def largest(num1,num2,num3):\n",
    "    if (num1>num2) and (num1>num3):\n",
    "        print(\"num1 {} is largest\".format(num1))\n",
    "        return(num1)\n",
    "    elif (num2>num1) and (num2>num3):\n",
    "        print(\"num2 {} is largest\".format(num2))\n",
    "        reurn(num2)\n",
    "    else:\n",
    "        print(\"num3 {} is largest\".format(num3))\n",
    "        return(num3)\n",
    "       \n",
    "biggest=largest(20,30,40)\n",
    "print(biggest)"
   ]
  },
  {
   "cell_type": "code",
   "execution_count": 55,
   "id": "7e7d5a8d-30c6-450f-bd57-47b2c31337d1",
   "metadata": {},
   "outputs": [
    {
     "name": "stdout",
     "output_type": "stream",
     "text": [
      "30\n"
     ]
    }
   ],
   "source": [
    "def add(a,b):\n",
    "    return(a+b)\n",
    "\n",
    "val=add(10,20)\n",
    "print(val)"
   ]
  },
  {
   "cell_type": "code",
   "execution_count": 57,
   "id": "d3afd1d0-4a2f-410d-bba9-7ec18a90c56c",
   "metadata": {},
   "outputs": [
    {
     "name": "stdout",
     "output_type": "stream",
     "text": [
      "-10\n"
     ]
    }
   ],
   "source": [
    "def sub(a,b):\n",
    "    return(a-b)\n",
    "\n",
    "val=sub(10,20)\n",
    "print(val)"
   ]
  },
  {
   "cell_type": "code",
   "execution_count": 65,
   "id": "a2db8e57-274a-461b-bede-7fa68b950b6d",
   "metadata": {},
   "outputs": [
    {
     "name": "stdout",
     "output_type": "stream",
     "text": [
      "200\n"
     ]
    }
   ],
   "source": [
    "def mul(a,b):\n",
    "    return(a*b)\n",
    "\n",
    "val=mul(10,20)\n",
    "print(val)"
   ]
  },
  {
   "cell_type": "code",
   "execution_count": 63,
   "id": "7f8d249e-9f77-48b1-b47b-34101214aee6",
   "metadata": {},
   "outputs": [
    {
     "name": "stdout",
     "output_type": "stream",
     "text": [
      "0.5\n"
     ]
    }
   ],
   "source": [
    "def div(a,b):\n",
    "    return(a/b)\n",
    "\n",
    "val=div(10,20)\n",
    "print(val)"
   ]
  },
  {
   "cell_type": "code",
   "execution_count": 73,
   "id": "9c8c6433-eae2-4c74-b0d8-40ae5fc44cce",
   "metadata": {},
   "outputs": [
    {
     "name": "stdout",
     "output_type": "stream",
     "text": [
      "n1 value: 20\n",
      "20\n",
      "50\n"
     ]
    }
   ],
   "source": [
    "n1=100\n",
    "def  val():\n",
    "    global n1,n2\n",
    "    n1=20\n",
    "    n2=30\n",
    "    print(\"n1 value:\", n1)\n",
    "val()\n",
    "print(n1)\n",
    "print(n1+n2)"
   ]
  },
  {
   "cell_type": "code",
   "execution_count": 77,
   "id": "320f2a53-ba47-42f3-aaa6-0b7023bdc97d",
   "metadata": {},
   "outputs": [],
   "source": [
    "str1=10\n",
    "str2=20"
   ]
  },
  {
   "cell_type": "code",
   "execution_count": 79,
   "id": "625ecde4-831c-42ef-a7c1-17ab6f4587c2",
   "metadata": {},
   "outputs": [
    {
     "data": {
      "text/plain": [
       "30"
      ]
     },
     "execution_count": 79,
     "metadata": {},
     "output_type": "execute_result"
    }
   ],
   "source": [
    "str1+str2"
   ]
  },
  {
   "cell_type": "code",
   "execution_count": 84,
   "id": "a2d0a6c7-3820-4dbb-a3be-5716bf4ac277",
   "metadata": {},
   "outputs": [
    {
     "ename": "IndentationError",
     "evalue": "unindent does not match any outer indentation level (<string>, line 21)",
     "output_type": "error",
     "traceback": [
      "\u001b[1;36m  File \u001b[1;32m<string>:21\u001b[1;36m\u001b[0m\n\u001b[1;33m    main()\u001b[0m\n\u001b[1;37m          ^\u001b[0m\n\u001b[1;31mIndentationError\u001b[0m\u001b[1;31m:\u001b[0m unindent does not match any outer indentation level\n"
     ]
    }
   ],
   "source": [
    "a=eval(input(\"enter number1: \"))\n",
    "b=eval(input(\"enter a number2: \"))\n",
    "def add():\n",
    "    print(a+b)\n",
    "def sub():\n",
    "     print(a-b)\n",
    "def div():\n",
    "     print(a/b)\n",
    "def mul():\n",
    "     print(a*b)\n",
    "def main():\n",
    "     num=eval(input(\"enter a number: \"))\n",
    "     if num==1:\n",
    "     add()\n",
    "     elif num==2:\n",
    "     sub()\n",
    "     elif num==3:\n",
    "     div()\n",
    "     else:\n",
    "     mul()\n",
    " main()\n",
    "    "
   ]
  },
  {
   "cell_type": "code",
   "execution_count": 86,
   "id": "0161d122-1790-4ad1-9d79-14abd98b7218",
   "metadata": {},
   "outputs": [
    {
     "name": "stdout",
     "output_type": "stream",
     "text": [
      "012345678910111213141516171819"
     ]
    }
   ],
   "source": [
    "for i in range(20):\n",
    "    print(i,end=\"\")"
   ]
  },
  {
   "cell_type": "code",
   "execution_count": 88,
   "id": "869b3d1f-9088-4a63-ab75-2b2fd54cabdb",
   "metadata": {},
   "outputs": [
    {
     "name": "stdout",
     "output_type": "stream",
     "text": [
      "hello\n",
      "hello\n",
      "hello\n"
     ]
    }
   ],
   "source": [
    "for i in range(3):\n",
    "    print(\"hello\")"
   ]
  },
  {
   "cell_type": "code",
   "execution_count": 90,
   "id": "548e4b3f-d084-41b3-bdbf-ecf2cad3ef93",
   "metadata": {},
   "outputs": [
    {
     "name": "stdout",
     "output_type": "stream",
     "text": [
      "a\n",
      "a\n",
      "a\n",
      "b\n",
      "b\n",
      "b\n"
     ]
    }
   ],
   "source": [
    "for i in range(3):\n",
    "    print(\"a\")\n",
    "for i in range(3):\n",
    "    print(\"b\")"
   ]
  },
  {
   "cell_type": "code",
   "execution_count": 92,
   "id": "3f3b57ea-d919-4913-95e6-c8159b8c18b4",
   "metadata": {},
   "outputs": [
    {
     "name": "stdout",
     "output_type": "stream",
     "text": [
      "a\n",
      "b\n",
      "a\n",
      "b\n",
      "a\n",
      "b\n",
      "c\n",
      "c\n",
      "c\n"
     ]
    }
   ],
   "source": [
    "for i in range(3):\n",
    "    print(\"a\")\n",
    "    print(\"b\")\n",
    "for i in range(3):\n",
    "    print(\"c\")"
   ]
  },
  {
   "cell_type": "code",
   "execution_count": 98,
   "id": "43fc8d60-9012-4a11-9e15-57f7ec81df0d",
   "metadata": {},
   "outputs": [
    {
     "name": "stdout",
     "output_type": "stream",
     "text": [
      "the square of 10 is 100\n",
      "the square of 11 is 121\n",
      "the square of 12 is 144\n",
      "the square of 13 is 169\n",
      "the square of 14 is 196\n"
     ]
    }
   ],
   "source": [
    "for i in range(10,15):\n",
    "    print(\"the square of {} is {}\".format(i,i*i))"
   ]
  },
  {
   "cell_type": "code",
   "execution_count": 102,
   "id": "ccf20e98-28b3-492c-87f1-685b5b0efe2b",
   "metadata": {},
   "outputs": [
    {
     "name": "stdin",
     "output_type": "stream",
     "text": [
      "enter the numer: 10\n",
      "enter the numer: 20\n"
     ]
    },
    {
     "name": "stdout",
     "output_type": "stream",
     "text": [
      "the square of 10 is 100\n",
      "the square of 11 is 121\n",
      "the square of 12 is 144\n",
      "the square of 13 is 169\n",
      "the square of 14 is 196\n",
      "the square of 15 is 225\n",
      "the square of 16 is 256\n",
      "the square of 17 is 289\n",
      "the square of 18 is 324\n",
      "the square of 19 is 361\n"
     ]
    }
   ],
   "source": [
    "num1=eval(input(\"enter the numer:\"))\n",
    "num2=eval(input(\"enter the numer:\"))\n",
    "for i in range(num1,num2):\n",
    "    print(\"the square of {} is {}\".format(i,i*i))"
   ]
  },
  {
   "cell_type": "code",
   "execution_count": 106,
   "id": "c81af881-3583-40ee-843c-64d162c10f3e",
   "metadata": {},
   "outputs": [
    {
     "name": "stdin",
     "output_type": "stream",
     "text": [
      "enter the numer: 10\n",
      "enter the numer: 20\n"
     ]
    },
    {
     "name": "stdout",
     "output_type": "stream",
     "text": [
      "the square of 10 is 100\n",
      "the square of 11 is 121\n",
      "the square of 12 is 144\n",
      "the square of 13 is 169\n",
      "the square of 14 is 196\n",
      "the square of 15 is 225\n",
      "the square of 16 is 256\n",
      "the square of 17 is 289\n",
      "the square of 18 is 324\n",
      "the square of 19 is 361\n"
     ]
    }
   ],
   "source": [
    "def squr():\n",
    "    num1=eval(input(\"enter the numer:\"))\n",
    "    num2=eval(input(\"enter the numer:\"))\n",
    "    for i in range(num1,num2):\n",
    "        print(\"the square of {} is {}\".format(i,i*i))\n",
    "\n",
    "squr()"
   ]
  },
  {
   "cell_type": "code",
   "execution_count": 112,
   "id": "50f55575-2573-4195-8033-83032f1eb3b9",
   "metadata": {},
   "outputs": [
    {
     "name": "stdout",
     "output_type": "stream",
     "text": [
      "the square of 10 is 100\n",
      "the square of 11 is 121\n",
      "the square of 12 is 144\n",
      "the square of 13 is 169\n",
      "the square of 14 is 196\n",
      "the square of 15 is 225\n"
     ]
    }
   ],
   "source": [
    "def squr(num1=10,num2=16):\n",
    "    for i in range(num1,num2):\n",
    "        print(\"the square of {} is {}\".format(i,i*i))\n",
    "squr()"
   ]
  },
  {
   "cell_type": "code",
   "execution_count": 116,
   "id": "242201b2-1e2d-453c-a8de-8f1661262120",
   "metadata": {},
   "outputs": [
    {
     "name": "stdin",
     "output_type": "stream",
     "text": [
      "enter the numer: 10\n"
     ]
    },
    {
     "name": "stdout",
     "output_type": "stream",
     "text": [
      "the square of 10 is 100\n"
     ]
    },
    {
     "name": "stdin",
     "output_type": "stream",
     "text": [
      "enter the numer: 20\n"
     ]
    },
    {
     "name": "stdout",
     "output_type": "stream",
     "text": [
      "the square of 20 is 400\n"
     ]
    },
    {
     "name": "stdin",
     "output_type": "stream",
     "text": [
      "enter the numer: 30\n"
     ]
    },
    {
     "name": "stdout",
     "output_type": "stream",
     "text": [
      "the square of 30 is 900\n"
     ]
    },
    {
     "name": "stdin",
     "output_type": "stream",
     "text": [
      "enter the numer: 40\n"
     ]
    },
    {
     "name": "stdout",
     "output_type": "stream",
     "text": [
      "the square of 40 is 1600\n"
     ]
    },
    {
     "name": "stdin",
     "output_type": "stream",
     "text": [
      "enter the numer: 50\n"
     ]
    },
    {
     "name": "stdout",
     "output_type": "stream",
     "text": [
      "the square of 50 is 2500\n"
     ]
    }
   ],
   "source": [
    "for i in range(5):\n",
    "    num1=eval(input(\"enter the numer:\"))\n",
    "    print(\"the square of {} is {}\".format(num1,num1*num1))"
   ]
  },
  {
   "cell_type": "code",
   "execution_count": 136,
   "id": "93037898-aa61-4a05-b243-f840e8964781",
   "metadata": {},
   "outputs": [
    {
     "name": "stdout",
     "output_type": "stream",
     "text": [
      "the square of 13 is 169\n",
      "the square of 3 is 9\n",
      "the square of 17 is 289\n",
      "the square of 11 is 121\n",
      "the square of 12 is 144\n"
     ]
    }
   ],
   "source": [
    "import random\n",
    "for i in range(5):\n",
    "    num1=random.randint(1,20)\n",
    "    print(\"the square of {} is {}\".format(num1,num1*num1))"
   ]
  },
  {
   "cell_type": "code",
   "execution_count": 130,
   "id": "bb27cf7e-8505-45a7-8fdc-60d8f6eab948",
   "metadata": {},
   "outputs": [],
   "source": [
    "import random\n",
    "x=random.randint"
   ]
  },
  {
   "cell_type": "code",
   "execution_count": 138,
   "id": "50a10f43-d2de-47c2-879a-5405c55f32a0",
   "metadata": {},
   "outputs": [
    {
     "name": "stdout",
     "output_type": "stream",
     "text": [
      "10 the number is even\n",
      "11 the number is odd\n",
      "12 the number is even\n",
      "13 the number is odd\n",
      "14 the number is even\n",
      "15 the number is odd\n",
      "16 the number is even\n",
      "17 the number is odd\n",
      "18 the number is even\n",
      "19 the number is odd\n",
      "20 the number is even\n",
      "21 the number is odd\n",
      "22 the number is even\n",
      "23 the number is odd\n",
      "24 the number is even\n",
      "25 the number is odd\n",
      "26 the number is even\n",
      "27 the number is odd\n",
      "28 the number is even\n",
      "29 the number is odd\n"
     ]
    }
   ],
   "source": [
    "\n",
    "for i in range(10,30):\n",
    "    if i%2==0:\n",
    "        print(\"{} the number is even\".format(i))\n",
    "    else:\n",
    "        print(\"{} the number is odd\".format(i))"
   ]
  },
  {
   "cell_type": "code",
   "execution_count": 146,
   "id": "679f61b9-fb9e-4e5c-ad08-86297a30100e",
   "metadata": {},
   "outputs": [
    {
     "name": "stdout",
     "output_type": "stream",
     "text": [
      "20 the number is even\n",
      "17 the number is odd\n",
      "20 the number is even\n",
      "14 the number is odd\n",
      "18 the number is even\n"
     ]
    }
   ],
   "source": [
    "import random\n",
    "for i in range(5):\n",
    "    num1=random.randint(10,30)\n",
    "    if i%2==0:\n",
    "        print(\"{} the number is even\".format(num1))\n",
    "    else:\n",
    "        print(\"{} the number is odd\".format(num1))"
   ]
  },
  {
   "cell_type": "code",
   "execution_count": 167,
   "id": "cff5783f-4993-45c6-8f8a-407faab467fe",
   "metadata": {},
   "outputs": [
    {
     "name": "stdout",
     "output_type": "stream",
     "text": [
      "16 the number is even\n",
      "22 the number is even\n",
      "29 the number is odd\n",
      "11 the number is odd\n",
      "30 the number is even\n"
     ]
    }
   ],
   "source": [
    "def even_odd(num1):\n",
    "        if num1%2==0:\n",
    "            print(\"{} the number is even\".format(num1))\n",
    "        else:\n",
    "            print(\"{} the number is odd\".format(num1))\n",
    "\n",
    "import random\n",
    "for i in range(5):\n",
    "    num1=random.randint(10,30)\n",
    "    even_odd(num1)"
   ]
  },
  {
   "cell_type": "code",
   "execution_count": 205,
   "id": "cb4d348e-981c-4d52-9641-6bb5a719346d",
   "metadata": {},
   "outputs": [
    {
     "name": "stdin",
     "output_type": "stream",
     "text": [
      "Enter the number between 1 to 10: 5\n"
     ]
    },
    {
     "name": "stdout",
     "output_type": "stream",
     "text": [
      "you Lost because 7 and 5 are not equal\n"
     ]
    },
    {
     "name": "stdin",
     "output_type": "stream",
     "text": [
      "Enter the number between 1 to 10: 8\n"
     ]
    },
    {
     "name": "stdout",
     "output_type": "stream",
     "text": [
      "you Lost because 7 and 8 are not equal\n"
     ]
    },
    {
     "name": "stdin",
     "output_type": "stream",
     "text": [
      "Enter the number between 1 to 10: 7\n"
     ]
    },
    {
     "name": "stdout",
     "output_type": "stream",
     "text": [
      "you won because 7 and 7 are equal\n"
     ]
    }
   ],
   "source": [
    "import random\n",
    "random_num=random.randint(1,10)\n",
    "for i in range(3):\n",
    "    user_num=eval(input(\"Enter the number between 1 to 10:\"))\n",
    "    if user_num==random_num:\n",
    "        print(\"you won because {} and {} are equal\".format(random_num,user_num))\n",
    "        break\n",
    "    else:\n",
    "        print(\"you Lost because {} and {} are not equal\".format(random_num,user_num))"
   ]
  },
  {
   "cell_type": "code",
   "execution_count": 51,
   "id": "66a93cce-5bd0-4e9c-8227-8a1197cd7edc",
   "metadata": {},
   "outputs": [
    {
     "ename": "TypeError",
     "evalue": "'int' object is not callable",
     "output_type": "error",
     "traceback": [
      "\u001b[1;31m---------------------------------------------------------------------------\u001b[0m",
      "\u001b[1;31mTypeError\u001b[0m                                 Traceback (most recent call last)",
      "Cell \u001b[1;32mIn[51], line 2\u001b[0m\n\u001b[0;32m      1\u001b[0m \u001b[38;5;28;01mfor\u001b[39;00m i \u001b[38;5;129;01min\u001b[39;00m \u001b[38;5;28mrange\u001b[39m(\u001b[38;5;241m1\u001b[39m,\u001b[38;5;241m11\u001b[39m):\n\u001b[1;32m----> 2\u001b[0m     summ\u001b[38;5;241m=\u001b[39mi(i\u001b[38;5;241m+\u001b[39m\u001b[38;5;241m1\u001b[39m)\u001b[38;5;241m/\u001b[39m\u001b[38;5;241m2\u001b[39m\n\u001b[0;32m      3\u001b[0m     \u001b[38;5;28mprint\u001b[39m(summ,end\u001b[38;5;241m=\u001b[39m\u001b[38;5;124m'\u001b[39m\u001b[38;5;124m \u001b[39m\u001b[38;5;124m'\u001b[39m)\n",
      "\u001b[1;31mTypeError\u001b[0m: 'int' object is not callable"
     ]
    }
   ],
   "source": [
    "for i in range(1,11):\n",
    "    summ=i(i+1)/2\n",
    "    print(summ,end=' ')"
   ]
  },
  {
   "cell_type": "code",
   "execution_count": 74,
   "id": "df56f997-b3ad-4619-91ac-e2a93124ca4c",
   "metadata": {},
   "outputs": [
    {
     "name": "stdout",
     "output_type": "stream",
     "text": [
      "21 the number is odd\n",
      "25 the number is odd\n",
      "10 the number is even\n",
      "27 the number is odd\n",
      "27 the number is odd\n",
      "1 4\n"
     ]
    }
   ],
   "source": [
    "import random\n",
    "even_count=0\n",
    "odd_count=0\n",
    "for i in range(5):\n",
    "     num1=random.randint(10,30)\n",
    "     if num1%2==0:\n",
    "        print(\"{} the number is even\".format(num1))\n",
    "        even_count=even_count+1\n",
    "     else:\n",
    "        print(\"{} the number is odd\".format(num1))\n",
    "        odd_count=odd_count+1\n",
    "\n",
    "print( even_count,odd_count)"
   ]
  },
  {
   "cell_type": "code",
   "execution_count": 95,
   "id": "fd4c9c0a-fdf4-4691-8062-bb37197d9850",
   "metadata": {},
   "outputs": [
    {
     "name": "stdout",
     "output_type": "stream",
     "text": [
      "96\n",
      "82\n",
      "76\n",
      "63\n",
      "71\n",
      "90\n",
      "6\n"
     ]
    }
   ],
   "source": [
    "import random\n",
    "count=0\n",
    "for i in range(10):\n",
    "     num1=random.randint(1,99)\n",
    "     if num1>50:\n",
    "        print(num1)\n",
    "        count=count+1\n",
    "print( count)"
   ]
  },
  {
   "cell_type": "code",
   "execution_count": 97,
   "id": "24cb3e87-4907-4b6e-a4d5-816e7dc3297a",
   "metadata": {},
   "outputs": [
    {
     "name": "stdout",
     "output_type": "stream",
     "text": [
      "0123456789"
     ]
    }
   ],
   "source": [
    "i=0\n",
    "while i<10:\n",
    "    print(i,end='')\n",
    "    i=i+1"
   ]
  },
  {
   "cell_type": "code",
   "execution_count": 101,
   "id": "cbc25835-8fea-4ed6-a200-a52125a8c0cd",
   "metadata": {},
   "outputs": [
    {
     "name": "stdout",
     "output_type": "stream",
     "text": [
      "1011121314151617181920"
     ]
    }
   ],
   "source": [
    "i=10\n",
    "while i<20:\n",
    "    print(i,end='')\n",
    "    i=i+1"
   ]
  },
  {
   "cell_type": "code",
   "execution_count": 103,
   "id": "d4aedd63-3400-4441-9e8c-6d8f72b4ce1d",
   "metadata": {},
   "outputs": [
    {
     "name": "stdout",
     "output_type": "stream",
     "text": [
      "-1-2-3-4-5-6-7-8-9-10"
     ]
    }
   ],
   "source": [
    "i=-1\n",
    "while i>=-10:\n",
    "    print(i,end='')\n",
    "    i=i-1"
   ]
  },
  {
   "cell_type": "markdown",
   "id": "bec019b4-d9cd-4cde-82a1-531303a08e72",
   "metadata": {},
   "source": [
    "#### for i in range(num):\n",
    "    num=eval(input(\"enter number\"))\n",
    "    print(\"square of {} is {}\".format(i,i*i))"
   ]
  },
  {
   "cell_type": "code",
   "execution_count": 125,
   "id": "68c7fa56-b69f-4c5f-b7d5-b6b30e110760",
   "metadata": {},
   "outputs": [
    {
     "name": "stdin",
     "output_type": "stream",
     "text": [
      "enter number 1\n"
     ]
    },
    {
     "name": "stdout",
     "output_type": "stream",
     "text": [
      "square of 1 is 1\n"
     ]
    },
    {
     "name": "stdin",
     "output_type": "stream",
     "text": [
      "enter number 2\n"
     ]
    },
    {
     "name": "stdout",
     "output_type": "stream",
     "text": [
      "square of 2 is 4\n"
     ]
    },
    {
     "name": "stdin",
     "output_type": "stream",
     "text": [
      "enter number 3\n"
     ]
    },
    {
     "name": "stdout",
     "output_type": "stream",
     "text": [
      "square of 3 is 9\n"
     ]
    },
    {
     "name": "stdin",
     "output_type": "stream",
     "text": [
      "enter number 4\n"
     ]
    },
    {
     "name": "stdout",
     "output_type": "stream",
     "text": [
      "square of 4 is 16\n"
     ]
    },
    {
     "name": "stdin",
     "output_type": "stream",
     "text": [
      "enter number 5\n"
     ]
    },
    {
     "name": "stdout",
     "output_type": "stream",
     "text": [
      "square of 5 is 25\n"
     ]
    }
   ],
   "source": [
    "for i in range(5):\n",
    "    num=eval(input(\"enter number\"))\n",
    "    print(\"square of {} is {}\".format(num,num*num))"
   ]
  },
  {
   "cell_type": "markdown",
   "id": "7d94deda-7cbd-40bb-94fd-9b42f7946b04",
   "metadata": {},
   "source": [
    "##### i=0\n",
    "while i <=0:\n",
    "    num=eval(input(\"enter number\"))\n",
    "    print(\"square of {} is {}\".format(num,num*num))\n",
    "    i=i+1"
   ]
  },
  {
   "cell_type": "code",
   "execution_count": 137,
   "id": "c0ffa466-b9e6-403c-8958-167180e19246",
   "metadata": {},
   "outputs": [
    {
     "name": "stdin",
     "output_type": "stream",
     "text": [
      "enter number 0\n"
     ]
    },
    {
     "name": "stdout",
     "output_type": "stream",
     "text": [
      "square of 0 is 0\n"
     ]
    },
    {
     "name": "stdin",
     "output_type": "stream",
     "text": [
      "enter number 1\n"
     ]
    },
    {
     "name": "stdout",
     "output_type": "stream",
     "text": [
      "square of 1 is 1\n"
     ]
    },
    {
     "name": "stdin",
     "output_type": "stream",
     "text": [
      "enter number 8\n"
     ]
    },
    {
     "name": "stdout",
     "output_type": "stream",
     "text": [
      "square of 8 is 64\n"
     ]
    },
    {
     "name": "stdin",
     "output_type": "stream",
     "text": [
      "enter number 9\n"
     ]
    },
    {
     "name": "stdout",
     "output_type": "stream",
     "text": [
      "square of 9 is 81\n"
     ]
    },
    {
     "name": "stdin",
     "output_type": "stream",
     "text": [
      "enter number 4\n"
     ]
    },
    {
     "name": "stdout",
     "output_type": "stream",
     "text": [
      "square of 4 is 16\n"
     ]
    },
    {
     "name": "stdin",
     "output_type": "stream",
     "text": [
      "enter number 5\n"
     ]
    },
    {
     "name": "stdout",
     "output_type": "stream",
     "text": [
      "square of 5 is 25\n"
     ]
    }
   ],
   "source": [
    "i=0\n",
    "while i <=5:\n",
    "    num=eval(input(\"enter number\"))\n",
    "    print(\"square of {} is {}\".format(num,num*num))\n",
    "    i=i+1"
   ]
  },
  {
   "cell_type": "code",
   "execution_count": null,
   "id": "b5909a81-5adf-4f78-804f-bafb19351115",
   "metadata": {},
   "outputs": [],
   "source": [
    "while i <=0:\n",
    "    num=eval(input(\"enter number\"))\n",
    "    print(\"square of {} is {}\".format(num,num*num))\n",
    "    i=i+1"
   ]
  },
  {
   "cell_type": "code",
   "execution_count": 141,
   "id": "9bce6c26-cc89-427c-867d-faad601a6387",
   "metadata": {},
   "outputs": [
    {
     "name": "stdout",
     "output_type": "stream",
     "text": [
      "the square of the 19 is 361\n",
      "the square of the 15 is 225\n",
      "the square of the 20 is 400\n",
      "the square of the 13 is 169\n",
      "the square of the 13 is 169\n"
     ]
    }
   ],
   "source": [
    "import random\n",
    "for i in range(5):\n",
    "    num=random.randint(10,20)\n",
    "    print(\"the square of the {} is {}\".format(num,num*num))\n",
    "    "
   ]
  },
  {
   "cell_type": "code",
   "execution_count": 151,
   "id": "1bd6203e-9ee6-47d9-a67e-02652423ecfe",
   "metadata": {},
   "outputs": [
    {
     "name": "stdout",
     "output_type": "stream",
     "text": [
      "the square of the 13 is 169\n",
      "the square of the 20 is 400\n",
      "the square of the 20 is 400\n",
      "the square of the 20 is 400\n"
     ]
    }
   ],
   "source": [
    "import random\n",
    "i=0\n",
    "while i<4:\n",
    "    num=random.randint(10,20)\n",
    "    print(\"the square of the {} is {}\".format(num,num*num))\n",
    "    i=i+1"
   ]
  },
  {
   "cell_type": "code",
   "execution_count": 153,
   "id": "9293d2af-1ee3-4547-9e93-744ac13eb525",
   "metadata": {},
   "outputs": [
    {
     "data": {
      "text/plain": [
       "int"
      ]
     },
     "execution_count": 153,
     "metadata": {},
     "output_type": "execute_result"
    }
   ],
   "source": [
    "x=12345"
   ]
  },
  {
   "cell_type": "code",
   "execution_count": 159,
   "id": "0e320dc8-0514-412a-b7f9-501d780ee6da",
   "metadata": {},
   "outputs": [
    {
     "ename": "TypeError",
     "evalue": "object of type 'int' has no len()",
     "output_type": "error",
     "traceback": [
      "\u001b[1;31m---------------------------------------------------------------------------\u001b[0m",
      "\u001b[1;31mTypeError\u001b[0m                                 Traceback (most recent call last)",
      "Cell \u001b[1;32mIn[159], line 1\u001b[0m\n\u001b[1;32m----> 1\u001b[0m \u001b[38;5;28mlen\u001b[39m(x)\n",
      "\u001b[1;31mTypeError\u001b[0m: object of type 'int' has no len()"
     ]
    }
   ],
   "source": [
    "len(x)"
   ]
  },
  {
   "cell_type": "code",
   "execution_count": 161,
   "id": "5c077c0c-eefa-43ea-9c7a-99f4eb2bf7c2",
   "metadata": {},
   "outputs": [
    {
     "data": {
      "text/plain": [
       "int"
      ]
     },
     "execution_count": 161,
     "metadata": {},
     "output_type": "execute_result"
    }
   ],
   "source": [
    "type(x)"
   ]
  },
  {
   "cell_type": "code",
   "execution_count": 163,
   "id": "b4c4f8a3-be48-4c3f-b048-e58fc6ed8936",
   "metadata": {},
   "outputs": [],
   "source": [
    "y=str(x)"
   ]
  },
  {
   "cell_type": "code",
   "execution_count": 165,
   "id": "dce4d10f-2c25-47ae-a7e0-618498f7241c",
   "metadata": {},
   "outputs": [
    {
     "data": {
      "text/plain": [
       "12345"
      ]
     },
     "execution_count": 165,
     "metadata": {},
     "output_type": "execute_result"
    }
   ],
   "source": [
    "x"
   ]
  },
  {
   "cell_type": "code",
   "execution_count": 167,
   "id": "3e2ed935-f5f4-4199-b3b2-14ad7646f90e",
   "metadata": {},
   "outputs": [
    {
     "data": {
      "text/plain": [
       "'12345'"
      ]
     },
     "execution_count": 167,
     "metadata": {},
     "output_type": "execute_result"
    }
   ],
   "source": [
    "y"
   ]
  },
  {
   "cell_type": "code",
   "execution_count": 169,
   "id": "a538cddf-1c9d-45bf-b069-52de0196a088",
   "metadata": {},
   "outputs": [
    {
     "data": {
      "text/plain": [
       "str"
      ]
     },
     "execution_count": 169,
     "metadata": {},
     "output_type": "execute_result"
    }
   ],
   "source": [
    "type(y)"
   ]
  },
  {
   "cell_type": "code",
   "execution_count": 171,
   "id": "6a99b819-a41d-463b-b4e7-10a24f23b250",
   "metadata": {},
   "outputs": [
    {
     "data": {
      "text/plain": [
       "5"
      ]
     },
     "execution_count": 171,
     "metadata": {},
     "output_type": "execute_result"
    }
   ],
   "source": [
    "len(y)"
   ]
  },
  {
   "cell_type": "code",
   "execution_count": 173,
   "id": "18edc83b-c0d3-4504-a70b-3d6eecc423bd",
   "metadata": {},
   "outputs": [
    {
     "data": {
      "text/plain": [
       "'5'"
      ]
     },
     "execution_count": 173,
     "metadata": {},
     "output_type": "execute_result"
    }
   ],
   "source": [
    "max(y)"
   ]
  },
  {
   "cell_type": "code",
   "execution_count": 175,
   "id": "436ba750-ccb5-485f-ab8a-c60ad4d34334",
   "metadata": {},
   "outputs": [
    {
     "data": {
      "text/plain": [
       "'1'"
      ]
     },
     "execution_count": 175,
     "metadata": {},
     "output_type": "execute_result"
    }
   ],
   "source": [
    "min(y)"
   ]
  },
  {
   "cell_type": "code",
   "execution_count": 187,
   "id": "bf86f737-c910-4ce9-996e-17d58225c60f",
   "metadata": {},
   "outputs": [
    {
     "name": "stdout",
     "output_type": "stream",
     "text": [
      "the ascii value of A is 65\n",
      "the ascii value of B is 66\n",
      "the ascii value of C is 67\n",
      "the ascii value of D is 68\n",
      "the ascii value of E is 69\n",
      "the ascii value of F is 70\n",
      "the ascii value of G is 71\n",
      "the ascii value of H is 72\n",
      "the ascii value of I is 73\n",
      "the ascii value of J is 74\n",
      "the ascii value of K is 75\n",
      "the ascii value of L is 76\n",
      "the ascii value of M is 77\n",
      "the ascii value of N is 78\n",
      "the ascii value of O is 79\n",
      "the ascii value of P is 80\n",
      "the ascii value of Q is 81\n",
      "the ascii value of R is 82\n",
      "the ascii value of S is 83\n",
      "the ascii value of T is 84\n",
      "the ascii value of U is 85\n",
      "the ascii value of V is 86\n",
      "the ascii value of W is 87\n",
      "the ascii value of X is 88\n",
      "the ascii value of Y is 89\n",
      "the ascii value of Z is 90\n"
     ]
    }
   ],
   "source": [
    "string=\"ABCDEFGHIJKLMNOPQRSTUVWXYZ\"\n",
    "for i in string:\n",
    "    print(\"the ascii value of {} is {}\".format(i,ord(i)))"
   ]
  },
  {
   "cell_type": "code",
   "execution_count": 179,
   "id": "feb16610-991c-4187-ada6-32bf7d5ee051",
   "metadata": {},
   "outputs": [],
   "source": [
    "import string"
   ]
  },
  {
   "cell_type": "code",
   "execution_count": 185,
   "id": "7803c75d-b912-401f-a7e2-36639a6533c7",
   "metadata": {},
   "outputs": [
    {
     "name": "stdout",
     "output_type": "stream",
     "text": [
      "ascii value of a is 97\n",
      "ascii value of b is 98\n",
      "ascii value of c is 99\n",
      "ascii value of d is 100\n",
      "ascii value of e is 101\n",
      "ascii value of f is 102\n",
      "ascii value of g is 103\n",
      "ascii value of h is 104\n",
      "ascii value of i is 105\n",
      "ascii value of j is 106\n",
      "ascii value of k is 107\n",
      "ascii value of l is 108\n",
      "ascii value of m is 109\n",
      "ascii value of n is 110\n",
      "ascii value of o is 111\n",
      "ascii value of p is 112\n",
      "ascii value of q is 113\n",
      "ascii value of r is 114\n",
      "ascii value of s is 115\n",
      "ascii value of t is 116\n",
      "ascii value of u is 117\n",
      "ascii value of v is 118\n",
      "ascii value of w is 119\n",
      "ascii value of x is 120\n",
      "ascii value of y is 121\n",
      "ascii value of z is 122\n"
     ]
    }
   ],
   "source": [
    "x=string.ascii_lowercase\n",
    "for i in x:\n",
    "    print(\"ascii value of {} is {}\".format(i,ord(i)))"
   ]
  },
  {
   "cell_type": "code",
   "execution_count": 205,
   "id": "3187cd6e-62c4-483a-b7c9-0de09088b772",
   "metadata": {},
   "outputs": [
    {
     "name": "stdout",
     "output_type": "stream",
     "text": [
      "6\n"
     ]
    }
   ],
   "source": [
    "string=\"hi how are you \"\n",
    "count=0\n",
    "for i in string:\n",
    "    #print(i)\n",
    "    if i=='a':\n",
    "        count=count+1\n",
    "    elif i=='e':\n",
    "        count=count+1\n",
    "    elif i=='i':\n",
    "        count=count+1\n",
    "    elif i=='o':\n",
    "        count=count+1\n",
    "    elif i=='u':\n",
    "        count=count+1\n",
    "print(count)\n",
    "    "
   ]
  },
  {
   "cell_type": "code",
   "execution_count": 207,
   "id": "a02b8c13-9cb1-4fc5-90cf-71ee3ceaf424",
   "metadata": {},
   "outputs": [
    {
     "name": "stdout",
     "output_type": "stream",
     "text": [
      "6\n"
     ]
    }
   ],
   "source": [
    "string=\"hi how are you \"\n",
    "count=0\n",
    "for i in string:\n",
    "    #print(i)\n",
    "    if i in 'aeiou':\n",
    "        count=count+1\n",
    "print(count)"
   ]
  },
  {
   "cell_type": "code",
   "execution_count": 215,
   "id": "0ba04d7e-79d1-48e3-b087-1bd6c1900cd4",
   "metadata": {},
   "outputs": [
    {
     "name": "stdout",
     "output_type": "stream",
     "text": [
      "the index ofp is 0\n",
      "the index ofn is -1\n",
      "the index ofo is -2\n",
      "the index ofh is -3\n",
      "the index oft is -4\n",
      "the index ofy is -5\n"
     ]
    }
   ],
   "source": [
    "string1='python'\n",
    "for i in range(len(string1)):\n",
    "    print(\"the index of{} is {}\".format(string1[-i],-i))"
   ]
  },
  {
   "cell_type": "code",
   "execution_count": 219,
   "id": "f6a80ae2-b81a-4dfb-9ab6-4ff1b5491827",
   "metadata": {},
   "outputs": [
    {
     "name": "stdout",
     "output_type": "stream",
     "text": [
      "the index ofp is -6\n",
      "the index ofy is -5\n",
      "the index oft is -4\n",
      "the index ofh is -3\n",
      "the index ofo is -2\n",
      "the index ofn is -1\n"
     ]
    }
   ],
   "source": [
    "string1='python'\n",
    "for i in range(-6,0):\n",
    "    print(\"the index of{} is {}\".format(string1[i],i))"
   ]
  },
  {
   "cell_type": "code",
   "execution_count": 235,
   "id": "0615d827-d678-48b6-b932-b53d719c471a",
   "metadata": {},
   "outputs": [
    {
     "name": "stdout",
     "output_type": "stream",
     "text": [
      "the positive index is 0 and negative index is -6 for h\n",
      "the positive index is 1 and negative index is -5 for i\n",
      "the positive index is 2 and negative index is -4 for  \n",
      "the positive index is 3 and negative index is -3 for h\n",
      "the positive index is 4 and negative index is -2 for o\n",
      "the positive index is 5 and negative index is -1 for w\n"
     ]
    }
   ],
   "source": [
    "string1='python'\n",
    "i=0\n",
    "while i<len(string1):\n",
    "    print(\"the positive index is {} and negative index is {} for {}\".format(i,i-6,string[i]))\n",
    "    i=i+1"
   ]
  },
  {
   "cell_type": "code",
   "execution_count": 241,
   "id": "0802e63e-7bf4-48ae-925d-6eea272cf4e9",
   "metadata": {},
   "outputs": [
    {
     "data": {
      "text/plain": [
       "'WELCOME'"
      ]
     },
     "execution_count": 241,
     "metadata": {},
     "output_type": "execute_result"
    }
   ],
   "source": [
    "string2=\"welcome\"\n",
    "string2.upper()"
   ]
  },
  {
   "cell_type": "code",
   "execution_count": 245,
   "id": "b4a00145-2d88-471f-b94a-ae4361e5d08d",
   "metadata": {},
   "outputs": [
    {
     "data": {
      "text/plain": [
       "'Welcome'"
      ]
     },
     "execution_count": 245,
     "metadata": {},
     "output_type": "execute_result"
    }
   ],
   "source": [
    "string2.capitalize()"
   ]
  },
  {
   "cell_type": "code",
   "execution_count": 253,
   "id": "a495e455-932d-42f5-ac4c-6e111f50c90d",
   "metadata": {},
   "outputs": [
    {
     "data": {
      "text/plain": [
       "3"
      ]
     },
     "execution_count": 253,
     "metadata": {},
     "output_type": "execute_result"
    }
   ],
   "source": [
    "string3=\"welcome\"\n",
    "string3.index('c')"
   ]
  },
  {
   "cell_type": "code",
   "execution_count": 259,
   "id": "9a2b8b02-2b61-4537-8fe5-a9d01228c7d2",
   "metadata": {},
   "outputs": [
    {
     "name": "stdout",
     "output_type": "stream",
     "text": [
      "2\n"
     ]
    }
   ],
   "source": [
    "string1=\"hi how are you and\"\n",
    "count=0\n",
    "for i in string1:\n",
    "    if i=='a':\n",
    "        count=count+1\n",
    "\n",
    "print(count)\n"
   ]
  },
  {
   "cell_type": "code",
   "execution_count": 261,
   "id": "3b1df8fd-766d-46dc-9d7e-b4d3f69324f8",
   "metadata": {},
   "outputs": [
    {
     "name": "stdout",
     "output_type": "stream",
     "text": [
      "7\n",
      "15\n"
     ]
    }
   ],
   "source": [
    "for i in range(len(string1)):\n",
    "    if string1[i]=='a':\n",
    "        print(i)"
   ]
  },
  {
   "cell_type": "code",
   "execution_count": 271,
   "id": "04873690-0bcd-4cb7-9eea-23ef06916167",
   "metadata": {},
   "outputs": [],
   "source": [
    "str1='python.anaconda@nareshit.com'\n",
    "str2='omkar.nallagoni@cognizant.com'\n",
    "str3='virat.kohli@bcci.com'"
   ]
  },
  {
   "cell_type": "code",
   "execution_count": null,
   "id": "29d0ff70-d007-456b-996a-55335ed7e031",
   "metadata": {},
   "outputs": [],
   "source": []
  },
  {
   "cell_type": "code",
   "execution_count": null,
   "id": "6fe5f344-1bdb-4d5d-9402-fcbdd3615942",
   "metadata": {},
   "outputs": [],
   "source": []
  },
  {
   "cell_type": "code",
   "execution_count": null,
   "id": "fae4389d-5f5e-4488-aa62-545bb19b410b",
   "metadata": {},
   "outputs": [],
   "source": []
  },
  {
   "cell_type": "code",
   "execution_count": null,
   "id": "5185291d-ec87-4d51-bfe4-54e7bd4f7b91",
   "metadata": {},
   "outputs": [],
   "source": []
  },
  {
   "cell_type": "code",
   "execution_count": 273,
   "id": "3aab057d-c669-4020-9bfb-252e23e0ea65",
   "metadata": {},
   "outputs": [
    {
     "data": {
      "text/plain": [
       "6"
      ]
     },
     "execution_count": 273,
     "metadata": {},
     "output_type": "execute_result"
    }
   ],
   "source": [
    "str1.find('.')"
   ]
  },
  {
   "cell_type": "code",
   "execution_count": 275,
   "id": "e790489a-1717-48e2-9f91-8f093b8394c6",
   "metadata": {},
   "outputs": [
    {
     "data": {
      "text/plain": [
       "'python'"
      ]
     },
     "execution_count": 275,
     "metadata": {},
     "output_type": "execute_result"
    }
   ],
   "source": [
    "str1[0:str1.find('.')]"
   ]
  },
  {
   "cell_type": "code",
   "execution_count": 277,
   "id": "3fa26904-8160-4dd8-b73c-7a3c40598d22",
   "metadata": {},
   "outputs": [
    {
     "data": {
      "text/plain": [
       "15"
      ]
     },
     "execution_count": 277,
     "metadata": {},
     "output_type": "execute_result"
    }
   ],
   "source": [
    "str1.find('@')"
   ]
  },
  {
   "cell_type": "code",
   "execution_count": 283,
   "id": "d24de005-e5ed-4a97-859d-6f227ce5f405",
   "metadata": {},
   "outputs": [
    {
     "data": {
      "text/plain": [
       "'anaconda'"
      ]
     },
     "execution_count": 283,
     "metadata": {},
     "output_type": "execute_result"
    }
   ],
   "source": [
    "str1[7:str1.find('@')]"
   ]
  },
  {
   "cell_type": "code",
   "execution_count": 287,
   "id": "a32229a1-fbb2-4908-8774-8d54044582ea",
   "metadata": {},
   "outputs": [
    {
     "ename": "SyntaxError",
     "evalue": "incomplete input (2571682528.py, line 4)",
     "output_type": "error",
     "traceback": [
      "\u001b[1;36m  Cell \u001b[1;32mIn[287], line 4\u001b[1;36m\u001b[0m\n\u001b[1;33m    print(\"Second Name:\",str1[str1.find('@')+1:str1.find('.',str1.find('.')+1)]\u001b[0m\n\u001b[1;37m                                                                               ^\u001b[0m\n\u001b[1;31mSyntaxError\u001b[0m\u001b[1;31m:\u001b[0m incomplete input\n"
     ]
    }
   ],
   "source": [
    "str1 ='omkar.nallagoni@cognizant.com'\n",
    "print(\"First Name:\",str1[:str1.find('.')])\n",
    "print(\"Second Name:\",str1[str1.find('.')+1:str1.find('@')])\n",
    "print(\"Second Name:\",str1[str1.find('@')+1:str1.find('.',str1.find('.')+1)]"
   ]
  },
  {
   "cell_type": "code",
   "execution_count": 291,
   "id": "12257f99-f1ee-4eaf-97e0-461e1f419e20",
   "metadata": {},
   "outputs": [
    {
     "data": {
      "text/plain": [
       "0"
      ]
     },
     "execution_count": 291,
     "metadata": {},
     "output_type": "execute_result"
    }
   ],
   "source": [
    "str1='3.1489'\n",
    "str1.index('.')-1"
   ]
  },
  {
   "cell_type": "code",
   "execution_count": 293,
   "id": "9205a5c4-449e-483d-8fc5-1797b04f9112",
   "metadata": {},
   "outputs": [
    {
     "data": {
      "text/plain": [
       "'3'"
      ]
     },
     "execution_count": 293,
     "metadata": {},
     "output_type": "execute_result"
    }
   ],
   "source": [
    "str1[str1.index('.')-1]"
   ]
  },
  {
   "cell_type": "code",
   "execution_count": 19,
   "id": "7c9bd707-d794-46fd-ad12-b36c2b0b88d1",
   "metadata": {},
   "outputs": [
    {
     "data": {
      "text/plain": [
       "True"
      ]
     },
     "execution_count": 19,
     "metadata": {},
     "output_type": "execute_result"
    }
   ],
   "source": [
    "str1='W123'\n",
    "str1.isalnum()"
   ]
  },
  {
   "cell_type": "code",
   "execution_count": 13,
   "id": "4a0bae92-fdb7-4912-8bc6-ee705bda813e",
   "metadata": {},
   "outputs": [
    {
     "data": {
      "text/plain": [
       "True"
      ]
     },
     "execution_count": 13,
     "metadata": {},
     "output_type": "execute_result"
    }
   ],
   "source": [
    "str1='WELCOME'\n",
    "str1.isupper()"
   ]
  },
  {
   "cell_type": "code",
   "execution_count": 47,
   "id": "a3e77eaf-d71e-4307-bd26-7d9ce54aa3d8",
   "metadata": {},
   "outputs": [
    {
     "ename": "TypeError",
     "evalue": "Random.randint() missing 2 required positional arguments: 'a' and 'b'",
     "output_type": "error",
     "traceback": [
      "\u001b[1;31m---------------------------------------------------------------------------\u001b[0m",
      "\u001b[1;31mTypeError\u001b[0m                                 Traceback (most recent call last)",
      "Cell \u001b[1;32mIn[47], line 2\u001b[0m\n\u001b[0;32m      1\u001b[0m \u001b[38;5;28;01mimport\u001b[39;00m \u001b[38;5;21;01mrandom\u001b[39;00m\n\u001b[1;32m----> 2\u001b[0m random\u001b[38;5;241m.\u001b[39mrandint()\n",
      "\u001b[1;31mTypeError\u001b[0m: Random.randint() missing 2 required positional arguments: 'a' and 'b'"
     ]
    }
   ],
   "source": [
    "import random\n",
    "random.randint()"
   ]
  },
  {
   "cell_type": "code",
   "execution_count": 43,
   "id": "fb8fe938-1bbc-4945-a89f-79c0e0bd1f78",
   "metadata": {},
   "outputs": [
    {
     "data": {
      "text/plain": [
       "['omkar', 'nallagoni@cognizant', 'com']"
      ]
     },
     "execution_count": 43,
     "metadata": {},
     "output_type": "execute_result"
    }
   ],
   "source": [
    "str1 ='omkar.nallagoni@cognizant.com'\n",
    "str1.split('@')\n",
    "str1.split('.')"
   ]
  },
  {
   "cell_type": "code",
   "execution_count": 35,
   "id": "9913098b-f5bb-438c-a1e6-8160a5375004",
   "metadata": {},
   "outputs": [
    {
     "data": {
      "text/plain": [
       "'omkar.nallagoni@cognizant.com'"
      ]
     },
     "execution_count": 35,
     "metadata": {},
     "output_type": "execute_result"
    }
   ],
   "source": [
    "str1.strip('@')"
   ]
  },
  {
   "cell_type": "code",
   "execution_count": 49,
   "id": "48db6005-563c-4133-a1ad-92b1d95b5969",
   "metadata": {},
   "outputs": [
    {
     "data": {
      "text/plain": [
       "4"
      ]
     },
     "execution_count": 49,
     "metadata": {},
     "output_type": "execute_result"
    }
   ],
   "source": [
    "list1=[1,2,3,4]\n",
    "max(list1)"
   ]
  },
  {
   "cell_type": "code",
   "execution_count": 51,
   "id": "44846ef8-f430-4ab9-8fc4-9fde7c63b33c",
   "metadata": {},
   "outputs": [
    {
     "data": {
      "text/plain": [
       "'D'"
      ]
     },
     "execution_count": 51,
     "metadata": {},
     "output_type": "execute_result"
    }
   ],
   "source": [
    "list2=['A','B','C','D']\n",
    "list3=[1,2,3,4,'A','B','C','D']\n",
    "list4=[1,'Apple',10.5,10+20j,True]\n",
    "list5=[100,100,100]\n",
    "list6=[[1,2,3,4]]\n",
    "max(list2)"
   ]
  },
  {
   "cell_type": "code",
   "execution_count": 55,
   "id": "ca02a0ef-b71a-4178-837b-dea10ada00af",
   "metadata": {},
   "outputs": [
    {
     "ename": "TypeError",
     "evalue": "'>' not supported between instances of 'str' and 'int'",
     "output_type": "error",
     "traceback": [
      "\u001b[1;31m---------------------------------------------------------------------------\u001b[0m",
      "\u001b[1;31mTypeError\u001b[0m                                 Traceback (most recent call last)",
      "Cell \u001b[1;32mIn[55], line 2\u001b[0m\n\u001b[0;32m      1\u001b[0m list3\u001b[38;5;241m=\u001b[39m[\u001b[38;5;241m1\u001b[39m,\u001b[38;5;241m2\u001b[39m,\u001b[38;5;241m3\u001b[39m,\u001b[38;5;241m4\u001b[39m,\u001b[38;5;124m'\u001b[39m\u001b[38;5;124mA\u001b[39m\u001b[38;5;124m'\u001b[39m,\u001b[38;5;124m'\u001b[39m\u001b[38;5;124mB\u001b[39m\u001b[38;5;124m'\u001b[39m,\u001b[38;5;124m'\u001b[39m\u001b[38;5;124mC\u001b[39m\u001b[38;5;124m'\u001b[39m,\u001b[38;5;124m'\u001b[39m\u001b[38;5;124mD\u001b[39m\u001b[38;5;124m'\u001b[39m]\n\u001b[1;32m----> 2\u001b[0m \u001b[38;5;28mmax\u001b[39m(list3)\n",
      "\u001b[1;31mTypeError\u001b[0m: '>' not supported between instances of 'str' and 'int'"
     ]
    }
   ],
   "source": [
    "list3=[1,2,3,4,'A','B','C','D']\n",
    "max(list3)"
   ]
  },
  {
   "cell_type": "code",
   "execution_count": 57,
   "id": "bd4c1904-668c-4618-b9a7-0a37861e3390",
   "metadata": {},
   "outputs": [
    {
     "name": "stdout",
     "output_type": "stream",
     "text": [
      "ab\n",
      "cd\n",
      "ef\n"
     ]
    }
   ],
   "source": [
    "list=['apple','ball','cat','ab','cd','ef'] \n",
    "for i in range(len(list)):\n",
    "    if len(list[i])<3:\n",
    "        print(list[i])"
   ]
  },
  {
   "cell_type": "code",
   "execution_count": 59,
   "id": "0df87255-665f-4448-be67-71ca089157a8",
   "metadata": {},
   "outputs": [
    {
     "data": {
      "text/plain": [
       "6"
      ]
     },
     "execution_count": 59,
     "metadata": {},
     "output_type": "execute_result"
    }
   ],
   "source": [
    "list=['apple','ball','cat','ab','cd','ef'] \n",
    "len(list)"
   ]
  },
  {
   "cell_type": "code",
   "execution_count": 65,
   "id": "e9a16b61-1a9f-4fc3-905e-85cdf9954fed",
   "metadata": {},
   "outputs": [
    {
     "name": "stdout",
     "output_type": "stream",
     "text": [
      "app#le\n",
      "ba#ll\n",
      "ca#t\n"
     ]
    }
   ],
   "source": [
    "list=['app#le','ba#ll','ca#t','ab','cd','ef']\n",
    "for i in list:\n",
    "    if '#' in i:\n",
    "        print(i)"
   ]
  },
  {
   "cell_type": "code",
   "execution_count": 73,
   "id": "86ff3699-bd46-4898-8c12-7292945f538d",
   "metadata": {},
   "outputs": [
    {
     "data": {
      "text/plain": [
       "'ab'"
      ]
     },
     "execution_count": 73,
     "metadata": {},
     "output_type": "execute_result"
    }
   ],
   "source": [
    "list=['apple','ball','cat','ab','cd','ef']\n",
    "list[3]"
   ]
  },
  {
   "cell_type": "code",
   "execution_count": 92,
   "id": "e35c1f30-a202-4c1a-a860-a131bae8b657",
   "metadata": {},
   "outputs": [
    {
     "data": {
      "text/plain": [
       "'cherry'"
      ]
     },
     "execution_count": 92,
     "metadata": {},
     "output_type": "execute_result"
    }
   ],
   "source": [
    "list1=[[[[['cherry']]]]]\n",
    "list1[0][0][0][0][0]"
   ]
  },
  {
   "cell_type": "code",
   "execution_count": 136,
   "id": "62936266-fbb0-43e8-9b4d-a8a36c5c0fe6",
   "metadata": {},
   "outputs": [
    {
     "data": {
      "text/plain": [
       "'Car'"
      ]
     },
     "execution_count": 136,
     "metadata": {},
     "output_type": "execute_result"
    }
   ],
   "source": [
    "list3=[[[['A','B',[[[1,2,3,['Car']]]]]]]]\n",
    "list3[0][0][0][2][0][0][3][0]"
   ]
  },
  {
   "cell_type": "code",
   "execution_count": 140,
   "id": "3ad562a7-bca8-460a-817b-4226021d5e5c",
   "metadata": {},
   "outputs": [],
   "source": [
    "list1=['A','B','C']\n",
    "list1[0]=100"
   ]
  },
  {
   "cell_type": "code",
   "execution_count": 142,
   "id": "be258465-751f-4473-b48e-e3c42ff699b9",
   "metadata": {},
   "outputs": [
    {
     "data": {
      "text/plain": [
       "[100, 'B', 'C']"
      ]
     },
     "execution_count": 142,
     "metadata": {},
     "output_type": "execute_result"
    }
   ],
   "source": [
    "list1"
   ]
  },
  {
   "cell_type": "code",
   "execution_count": 144,
   "id": "6755e4e8-202d-4867-bb2d-454266abe92a",
   "metadata": {},
   "outputs": [
    {
     "name": "stdout",
     "output_type": "stream",
     "text": [
      "[30, 'P', 'H', 'a']\n",
      "[]\n",
      "[]\n",
      "[30]\n",
      "['c']\n",
      "[]\n",
      "['c', 'N', 'T', 50]\n",
      "[]\n"
     ]
    }
   ],
   "source": [
    "list1=[10,20,30,40,50,'P','Y','T','H','O','N','a','b','c','D']\n",
    "print(list1[2:14:3]) #p\n",
    "print(list1[2:14:-3])  # np\n",
    "print(list1[2:-14:3])  # np\n",
    "print(list1[2:-14:-3]) # p\n",
    "print(list1[-2:14:3])  # p\n",
    "print(list1[-2:-14:3])  # np\n",
    "print(list1[-2:-14:-3])  # p\n",
    "print(list1[-2:14:-3])  # np"
   ]
  },
  {
   "cell_type": "code",
   "execution_count": 150,
   "id": "55cef2a1-5ea6-4cd4-8b85-368f0b1de3ef",
   "metadata": {},
   "outputs": [
    {
     "data": {
      "text/plain": [
       "['Hyd', 'Bengaluru', 'Delhi']"
      ]
     },
     "execution_count": 150,
     "metadata": {},
     "output_type": "execute_result"
    }
   ],
   "source": [
    "list2=['hyd','bengaluru','delhi']\n",
    "output=[]\n",
    " # output=['Hyd','Bengaluru','Delhi']\n",
    "for i in list2:\n",
    "    output.append(i.capitalize())\n",
    "\n",
    "output"
   ]
  },
  {
   "cell_type": "code",
   "execution_count": 158,
   "id": "90aee0d4-0f2e-4dca-9b27-921ef2f38281",
   "metadata": {},
   "outputs": [
    {
     "data": {
      "text/plain": [
       "['h#d', 'beng#luru']"
      ]
     },
     "execution_count": 158,
     "metadata": {},
     "output_type": "execute_result"
    }
   ],
   "source": [
    "output=[]\n",
    "list2=['h#d','beng#luru','delhi']\n",
    "for i in list2:\n",
    "    if '#' in i:\n",
    "      output.append(i)\n",
    "\n",
    "output\n",
    "\n"
   ]
  },
  {
   "cell_type": "code",
   "execution_count": 170,
   "id": "0b638adb-f6c8-4297-9d32-f95682cc4a39",
   "metadata": {},
   "outputs": [
    {
     "data": {
      "text/plain": [
       "[1, 4, 9, 16]"
      ]
     },
     "execution_count": 170,
     "metadata": {},
     "output_type": "execute_result"
    }
   ],
   "source": [
    "list1=[1,2,3,4]\n",
    "output1=[i*i for i in list1]\n",
    "output1"
   ]
  },
  {
   "cell_type": "code",
   "execution_count": 186,
   "id": "33e26bca-c348-443c-a885-32af9e166d42",
   "metadata": {},
   "outputs": [
    {
     "ename": "SyntaxError",
     "evalue": "incomplete input (3039523569.py, line 3)",
     "output_type": "error",
     "traceback": [
      "\u001b[1;36m  Cell \u001b[1;32mIn[186], line 3\u001b[1;36m\u001b[0m\n\u001b[1;33m    output2\u001b[0m\n\u001b[1;37m           ^\u001b[0m\n\u001b[1;31mSyntaxError\u001b[0m\u001b[1;31m:\u001b[0m incomplete input\n"
     ]
    }
   ],
   "source": [
    "list2=['hyd','bengaluru','delhi']\n",
    "output2=[append(i) for # in i]\n",
    "output2"
   ]
  },
  {
   "cell_type": "code",
   "execution_count": 196,
   "id": "452774cc-6a5e-47c5-8ecd-89a8ece35214",
   "metadata": {},
   "outputs": [
    {
     "name": "stdout",
     "output_type": "stream",
     "text": [
      "1 2 3 4 5 6 7 8 9 10 11 12 13 14 15 16 17 18 19 20 "
     ]
    }
   ],
   "source": [
    "# create a list of 1 to 20 numbers\n",
    "for i in range(1,21):\n",
    "    print(i,end=' ')"
   ]
  },
  {
   "cell_type": "code",
   "execution_count": 208,
   "id": "e9ddbcfd-66e3-4f54-b117-530c0d6cb53a",
   "metadata": {},
   "outputs": [
    {
     "data": {
      "text/plain": [
       "[1,\n",
       " 2,\n",
       " 3,\n",
       " 4,\n",
       " 5,\n",
       " 6,\n",
       " 7,\n",
       " 8,\n",
       " 9,\n",
       " 10,\n",
       " 11,\n",
       " 12,\n",
       " 13,\n",
       " 14,\n",
       " 15,\n",
       " 16,\n",
       " 17,\n",
       " 18,\n",
       " 19,\n",
       " 20,\n",
       " 1,\n",
       " 2,\n",
       " 3,\n",
       " 4,\n",
       " 5,\n",
       " 6,\n",
       " 7,\n",
       " 8,\n",
       " 9,\n",
       " 10,\n",
       " 11,\n",
       " 12,\n",
       " 13,\n",
       " 14,\n",
       " 15,\n",
       " 16,\n",
       " 17,\n",
       " 18,\n",
       " 19,\n",
       " 20]"
      ]
     },
     "execution_count": 208,
     "metadata": {},
     "output_type": "execute_result"
    }
   ],
   "source": [
    "numbers=[]\n",
    "for i in range(1,21):\n",
    "    output.append(i)\n",
    "\n",
    "output"
   ]
  },
  {
   "cell_type": "code",
   "execution_count": 210,
   "id": "0f2c61bc-ea4a-41d2-96be-62357317cb01",
   "metadata": {},
   "outputs": [
    {
     "data": {
      "text/plain": [
       "[]"
      ]
     },
     "execution_count": 210,
     "metadata": {},
     "output_type": "execute_result"
    }
   ],
   "source": [
    "numbers"
   ]
  },
  {
   "cell_type": "code",
   "execution_count": null,
   "id": "246ff6bd-7aa2-4b79-8177-273f1ca069e3",
   "metadata": {},
   "outputs": [],
   "source": [
    "output=[]\n",
    "list2=['h#d','beng#luru','delhi']\n",
    "for i in list2:\n",
    "    if '#' in i:\n",
    "      output.append(i)\n",
    "output"
   ]
  },
  {
   "cell_type": "code",
   "execution_count": 218,
   "id": "7e7e4fce-512f-47bf-a5e7-00a1aff09da2",
   "metadata": {},
   "outputs": [
    {
     "data": {
      "text/plain": [
       "['h#d', 'beng#luru']"
      ]
     },
     "execution_count": 218,
     "metadata": {},
     "output_type": "execute_result"
    }
   ],
   "source": [
    "list2=['h#d','beng#luru','delhi']\n",
    "output=[i for i in list2 if '#' in i]\n",
    "output"
   ]
  },
  {
   "cell_type": "code",
   "execution_count": 240,
   "id": "c5cd7476-1f35-4ddc-b68a-5541a9b9a21a",
   "metadata": {},
   "outputs": [
    {
     "data": {
      "text/plain": [
       "['ac', 'a']"
      ]
     },
     "execution_count": 240,
     "metadata": {},
     "output_type": "execute_result"
    }
   ],
   "source": [
    "list4=['abcd','abc','ac','a']\n",
    "output=[i for i in list4 if len(i)<3]\n",
    "output"
   ]
  },
  {
   "cell_type": "code",
   "execution_count": 250,
   "id": "33a5fa54-0062-4dd3-96da-352f27ac8395",
   "metadata": {},
   "outputs": [
    {
     "name": "stdout",
     "output_type": "stream",
     "text": [
      "ac\n",
      "a\n"
     ]
    }
   ],
   "source": [
    "for i in list4:\n",
    "    if len(i)<3:\n",
    "     print(i)"
   ]
  },
  {
   "cell_type": "code",
   "execution_count": 252,
   "id": "b3405db5-6278-4654-bd56-2f051d34b372",
   "metadata": {},
   "outputs": [
    {
     "name": "stdout",
     "output_type": "stream",
     "text": [
      "odd\n",
      "even\n",
      "odd\n",
      "even\n",
      "odd\n",
      "even\n"
     ]
    }
   ],
   "source": [
    "list1=[1,2,3,4,5,6]\n",
    "for i in list1:\n",
    "    if i%2==0:\n",
    "        print(\"even\")\n",
    "    else:\n",
    "        print(\"odd\")"
   ]
  },
  {
   "cell_type": "code",
   "execution_count": 254,
   "id": "eb6ed1da-cbb8-4f98-a13d-ba335f392edb",
   "metadata": {},
   "outputs": [
    {
     "data": {
      "text/plain": [
       "['odd', 'even', 'odd', 'even', 'odd', 'even']"
      ]
     },
     "execution_count": 254,
     "metadata": {},
     "output_type": "execute_result"
    }
   ],
   "source": [
    "list1=[1,2,3,4,5,6]\n",
    "output=[]\n",
    "for i in list1:\n",
    "    if i%2==0:\n",
    "        output.append(\"even\")\n",
    "    else:\n",
    "        output.append(\"odd\")\n",
    "\n",
    "output"
   ]
  },
  {
   "cell_type": "code",
   "execution_count": 262,
   "id": "994a8013-4d1c-456a-abec-f0b0912dac16",
   "metadata": {},
   "outputs": [
    {
     "data": {
      "text/plain": [
       "['odd', 'even', 'odd', 'even', 'odd', 'even']"
      ]
     },
     "execution_count": 262,
     "metadata": {},
     "output_type": "execute_result"
    }
   ],
   "source": [
    "output=[(\"even\") if i%2==0 else (\"odd\") for i in list1]\n",
    "output"
   ]
  },
  {
   "cell_type": "code",
   "execution_count": 264,
   "id": "d7772b2d-eee1-4e8f-b2cf-541fd677f374",
   "metadata": {},
   "outputs": [
    {
     "name": "stdout",
     "output_type": "stream",
     "text": [
      "3\n"
     ]
    }
   ],
   "source": [
    "list1=[1,2,3,'A','B','B','B','C']\n",
    "count=0\n",
    "for i in list1:\n",
    "    if i=='B':\n",
    "        count=count+1\n",
    "\n",
    "print(count)\n",
    "    "
   ]
  },
  {
   "cell_type": "code",
   "execution_count": 270,
   "id": "63c2035a-92b4-4ea8-b141-0c80e6c0f454",
   "metadata": {},
   "outputs": [
    {
     "ename": "SyntaxError",
     "evalue": "invalid syntax (1308968060.py, line 2)",
     "output_type": "error",
     "traceback": [
      "\u001b[1;36m  Cell \u001b[1;32mIn[270], line 2\u001b[1;36m\u001b[0m\n\u001b[1;33m    output=[count+1 if i=='B' else (\"no\") for in list1]\u001b[0m\n\u001b[1;37m                                              ^\u001b[0m\n\u001b[1;31mSyntaxError\u001b[0m\u001b[1;31m:\u001b[0m invalid syntax\n"
     ]
    }
   ],
   "source": [
    "list1=[1,2,3,'A','B','B','B','C']\n",
    "output=[count+1 if i=='B' else (\"no\") for in list1]"
   ]
  },
  {
   "cell_type": "markdown",
   "id": "4de6a3fe-4640-4905-a94e-57b50abd87f9",
   "metadata": {},
   "source": [
    "$Extend$"
   ]
  },
  {
   "cell_type": "code",
   "execution_count": 275,
   "id": "80854932-932f-4952-b813-5423e82e2162",
   "metadata": {},
   "outputs": [
    {
     "data": {
      "text/plain": [
       "[1, 2, 'A']"
      ]
     },
     "execution_count": 275,
     "metadata": {},
     "output_type": "execute_result"
    }
   ],
   "source": [
    "list1=[1]\n",
    "list2=[2,'A']\n",
    "list1+list2"
   ]
  },
  {
   "cell_type": "code",
   "execution_count": 279,
   "id": "594c2fbd-78d5-4217-8a13-181dcba54b47",
   "metadata": {},
   "outputs": [
    {
     "data": {
      "text/plain": [
       "4"
      ]
     },
     "execution_count": 279,
     "metadata": {},
     "output_type": "execute_result"
    }
   ],
   "source": [
    "list1=[1,2,3,'A','B','C','D','E']\n",
    "list1.index('B')"
   ]
  },
  {
   "cell_type": "code",
   "execution_count": 287,
   "id": "c970be23-4740-44eb-8db8-94dc61e267f9",
   "metadata": {},
   "outputs": [],
   "source": [
    "list1.insert(2,5)"
   ]
  },
  {
   "cell_type": "code",
   "execution_count": 289,
   "id": "2d296899-273a-49b7-9d60-d189350ce8e4",
   "metadata": {},
   "outputs": [
    {
     "data": {
      "text/plain": [
       "[1, 2, 5, 3, 'A', 'B', 'C', 'D', 'E', 5]"
      ]
     },
     "execution_count": 289,
     "metadata": {},
     "output_type": "execute_result"
    }
   ],
   "source": [
    "list1"
   ]
  },
  {
   "cell_type": "code",
   "execution_count": 299,
   "id": "c8aa78a2-1a32-4dbf-9a00-a9ddee63d9bf",
   "metadata": {},
   "outputs": [
    {
     "ename": "ValueError",
     "evalue": "list.remove(x): x not in list",
     "output_type": "error",
     "traceback": [
      "\u001b[1;31m---------------------------------------------------------------------------\u001b[0m",
      "\u001b[1;31mValueError\u001b[0m                                Traceback (most recent call last)",
      "Cell \u001b[1;32mIn[299], line 1\u001b[0m\n\u001b[1;32m----> 1\u001b[0m list1\u001b[38;5;241m.\u001b[39mremove(\u001b[38;5;241m5\u001b[39m)\n",
      "\u001b[1;31mValueError\u001b[0m: list.remove(x): x not in list"
     ]
    }
   ],
   "source": [
    "list1.remove(5)"
   ]
  },
  {
   "cell_type": "code",
   "execution_count": 297,
   "id": "bc02dc71-5c4f-4661-ace2-9c80c5aad848",
   "metadata": {},
   "outputs": [
    {
     "data": {
      "text/plain": [
       "[1, 2, 3, 'A', 'B', 'C', 'D', 'E']"
      ]
     },
     "execution_count": 297,
     "metadata": {},
     "output_type": "execute_result"
    }
   ],
   "source": [
    "list1"
   ]
  },
  {
   "cell_type": "code",
   "execution_count": 307,
   "id": "2d2fd6ec-a608-4c7f-bcd4-c649b090497d",
   "metadata": {},
   "outputs": [],
   "source": [
    "list1.reverse()"
   ]
  },
  {
   "cell_type": "code",
   "execution_count": 309,
   "id": "41cd3b18-6a85-436d-9dcd-d9f4ac970fef",
   "metadata": {},
   "outputs": [
    {
     "data": {
      "text/plain": [
       "['E', 'D', 'C', 'B', 'A', 3, 2, 1]"
      ]
     },
     "execution_count": 309,
     "metadata": {},
     "output_type": "execute_result"
    }
   ],
   "source": [
    "list1"
   ]
  },
  {
   "cell_type": "code",
   "execution_count": 311,
   "id": "317f1fd9-105d-4d7d-8468-4a8be2a67266",
   "metadata": {},
   "outputs": [
    {
     "ename": "TypeError",
     "evalue": "'<' not supported between instances of 'str' and 'int'",
     "output_type": "error",
     "traceback": [
      "\u001b[1;31m---------------------------------------------------------------------------\u001b[0m",
      "\u001b[1;31mTypeError\u001b[0m                                 Traceback (most recent call last)",
      "Cell \u001b[1;32mIn[311], line 2\u001b[0m\n\u001b[0;32m      1\u001b[0m list1\u001b[38;5;241m=\u001b[39m[\u001b[38;5;241m1\u001b[39m, \u001b[38;5;241m2\u001b[39m, \u001b[38;5;241m5\u001b[39m, \u001b[38;5;241m3\u001b[39m, \u001b[38;5;124m'\u001b[39m\u001b[38;5;124mA\u001b[39m\u001b[38;5;124m'\u001b[39m, \u001b[38;5;124m'\u001b[39m\u001b[38;5;124mB\u001b[39m\u001b[38;5;124m'\u001b[39m, \u001b[38;5;124m'\u001b[39m\u001b[38;5;124mC\u001b[39m\u001b[38;5;124m'\u001b[39m, \u001b[38;5;124m'\u001b[39m\u001b[38;5;124mD\u001b[39m\u001b[38;5;124m'\u001b[39m, \u001b[38;5;124m'\u001b[39m\u001b[38;5;124mE\u001b[39m\u001b[38;5;124m'\u001b[39m, \u001b[38;5;241m5\u001b[39m]\n\u001b[1;32m----> 2\u001b[0m list1\u001b[38;5;241m.\u001b[39msort()\n",
      "\u001b[1;31mTypeError\u001b[0m: '<' not supported between instances of 'str' and 'int'"
     ]
    }
   ],
   "source": [
    "list1=[1, 2, 5, 3, 'A', 'B', 'C', 'D', 'E', 5]\n",
    "list1.sort()"
   ]
  },
  {
   "cell_type": "code",
   "execution_count": 313,
   "id": "beca1fe5-2298-485f-a981-079dc9a87ec9",
   "metadata": {},
   "outputs": [
    {
     "name": "stdout",
     "output_type": "stream",
     "text": [
      "Ram 25\n",
      "Robert 30\n",
      "Raheem 35\n"
     ]
    }
   ],
   "source": [
    " list1=['Ram','Robert','Raheem']\n",
    " list2=[25,30,35]\n",
    "for i,j in zip(list1,list2):\n",
    "    print(i,j)"
   ]
  },
  {
   "cell_type": "code",
   "execution_count": 317,
   "id": "82520a3a-a12f-4ca9-afd4-d0fade3fc436",
   "metadata": {},
   "outputs": [
    {
     "data": {
      "text/plain": [
       "[125, 230, 335]"
      ]
     },
     "execution_count": 317,
     "metadata": {},
     "output_type": "execute_result"
    }
   ],
   "source": [
    "list1=[100,200,300]\n",
    "list2=[25,30,35]\n",
    "output=[i+j for i,j in zip(list1,list2)]\n",
    "output"
   ]
  },
  {
   "cell_type": "code",
   "execution_count": 319,
   "id": "288de44c-ed77-4094-a04c-506ea922d4ec",
   "metadata": {},
   "outputs": [],
   "source": [
    "a,b=[1,2]"
   ]
  },
  {
   "cell_type": "code",
   "execution_count": 321,
   "id": "135b2137-c66a-47b3-8381-84dabacef63f",
   "metadata": {},
   "outputs": [],
   "source": [
    "c,d=(1,2)"
   ]
  },
  {
   "cell_type": "code",
   "execution_count": 323,
   "id": "458a4359-6751-40cd-9d02-25329262e7a3",
   "metadata": {},
   "outputs": [
    {
     "name": "stdout",
     "output_type": "stream",
     "text": [
      "1 2\n"
     ]
    }
   ],
   "source": [
    "print(c,d)"
   ]
  },
  {
   "cell_type": "code",
   "execution_count": 325,
   "id": "80a37b7d-5128-4006-97f9-914d26a26a89",
   "metadata": {},
   "outputs": [
    {
     "name": "stdout",
     "output_type": "stream",
     "text": [
      "1 2\n"
     ]
    }
   ],
   "source": [
    "print(a,b)"
   ]
  },
  {
   "cell_type": "code",
   "execution_count": 327,
   "id": "d185f691-9b25-425f-a430-3a480139cbfc",
   "metadata": {},
   "outputs": [
    {
     "name": "stdout",
     "output_type": "stream",
     "text": [
      "1\n"
     ]
    }
   ],
   "source": [
    "print(a)"
   ]
  },
  {
   "cell_type": "code",
   "execution_count": 329,
   "id": "cb87ff60-8a43-4527-9ac0-1115f252e636",
   "metadata": {},
   "outputs": [
    {
     "name": "stdout",
     "output_type": "stream",
     "text": [
      "1\n"
     ]
    }
   ],
   "source": [
    "print(c)"
   ]
  },
  {
   "cell_type": "code",
   "execution_count": 341,
   "id": "b4ed8cba-a6dd-4d0a-a92f-5b198e68ee6c",
   "metadata": {},
   "outputs": [
    {
     "data": {
      "text/plain": [
       "[0, 1, 2, 3, 4, 5, 6, 7, 8, 9]"
      ]
     },
     "execution_count": 341,
     "metadata": {},
     "output_type": "execute_result"
    }
   ],
   "source": [
    "num1=[]\n",
    "for i in range(10):\n",
    "    num1.append(i)\n",
    "\n",
    "num1"
   ]
  },
  {
   "cell_type": "code",
   "execution_count": 343,
   "id": "d3213149-f861-406d-a3e2-ae62cd87ba0f",
   "metadata": {},
   "outputs": [
    {
     "data": {
      "text/plain": [
       "{'fruit': 'apple'}"
      ]
     },
     "execution_count": 343,
     "metadata": {},
     "output_type": "execute_result"
    }
   ],
   "source": [
    "d1={}\n",
    "d1['fruit']='apple'\n",
    "d1"
   ]
  },
  {
   "cell_type": "code",
   "execution_count": 345,
   "id": "0abc786d-b3d5-48ef-befa-bc16455258cc",
   "metadata": {},
   "outputs": [
    {
     "data": {
      "text/plain": [
       "{'Name': 'arun', 'middle': 'kumar', 'last': 'pappula'}"
      ]
     },
     "execution_count": 345,
     "metadata": {},
     "output_type": "execute_result"
    }
   ],
   "source": [
    "d1={}\n",
    "d1['Name']='arun'\n",
    "d1['middle']='kumar'\n",
    "d1['last']='pappula'\n",
    "d1"
   ]
  },
  {
   "cell_type": "code",
   "execution_count": null,
   "id": "2af61939-73fd-454a-a169-3563a6935da4",
   "metadata": {},
   "outputs": [],
   "source": [
    "# WAP create a dictionary based on two lists\n",
    " # names=['Ram','Raheem','Robert']\n",
    " # age=[25,30,35]\n",
    " # d1={'Ram':25,'Raheem':30,'Robert':35}"
   ]
  },
  {
   "cell_type": "code",
   "execution_count": 347,
   "id": "cabe909c-391f-421a-a619-d7069c56ba25",
   "metadata": {},
   "outputs": [
    {
     "data": {
      "text/plain": [
       "{'Ram': 25, 'Raheem': 30, 'Robert': 35}"
      ]
     },
     "execution_count": 347,
     "metadata": {},
     "output_type": "execute_result"
    }
   ],
   "source": [
    "names=['Ram','Raheem','Robert']\n",
    "age=[25,30,35]\n",
    "d2={}\n",
    "for i,j in zip(names,age):\n",
    "    d2[i]=j\n",
    "\n",
    "d2"
   ]
  },
  {
   "cell_type": "code",
   "execution_count": 349,
   "id": "0e688d15-89cf-47e0-8bfc-c043d8486a93",
   "metadata": {},
   "outputs": [
    {
     "data": {
      "text/plain": [
       "{'Ram': 25, 'Raheem': 30, 'Robert': 35}"
      ]
     },
     "execution_count": 349,
     "metadata": {},
     "output_type": "execute_result"
    }
   ],
   "source": [
    "names=['Ram','Raheem','Robert']\n",
    "age=[25,30,35]\n",
    "d3={}\n",
    "for i,j in zip(names,age):\n",
    "    d3[i]=j\n",
    "\n",
    "d3"
   ]
  },
  {
   "cell_type": "code",
   "execution_count": 351,
   "id": "5b88afd6-4ab7-48ce-8adb-6adbc6e66f53",
   "metadata": {},
   "outputs": [
    {
     "name": "stdout",
     "output_type": "stream",
     "text": [
      "Ram\n",
      "Raheem\n",
      "Robert\n"
     ]
    }
   ],
   "source": [
    "for i in names:\n",
    "    print(i)"
   ]
  },
  {
   "cell_type": "code",
   "execution_count": 353,
   "id": "d4d2bda1-e190-4fac-8a29-021e6774298a",
   "metadata": {},
   "outputs": [
    {
     "name": "stdout",
     "output_type": "stream",
     "text": [
      "25\n",
      "30\n",
      "35\n"
     ]
    }
   ],
   "source": [
    "for j in age:\n",
    "    print(j)"
   ]
  },
  {
   "cell_type": "code",
   "execution_count": 355,
   "id": "97c4e079-825c-49c7-8f77-8ffc0bbaeb99",
   "metadata": {},
   "outputs": [
    {
     "data": {
      "text/plain": [
       "{'Ram': 25, 'Raheem': 30, 'Robert': 35}"
      ]
     },
     "execution_count": 355,
     "metadata": {},
     "output_type": "execute_result"
    }
   ],
   "source": [
    "dict1={}\n",
    "for i in range(len(names)):\n",
    "    dict1[names[i]]=age[i]\n",
    "\n",
    "dict1"
   ]
  },
  {
   "cell_type": "code",
   "execution_count": 375,
   "id": "d2ff39a0-b1b8-4ae7-b0fe-d76d495f16cc",
   "metadata": {},
   "outputs": [
    {
     "data": {
      "text/plain": [
       "{'Ram': 25, 'Raheem': 30, 'Robert': 35}"
      ]
     },
     "execution_count": 375,
     "metadata": {},
     "output_type": "execute_result"
    }
   ],
   "source": [
    "dict1={names[i]:age[i] for i in range(len(names))}\n",
    "dict1"
   ]
  },
  {
   "cell_type": "code",
   "execution_count": null,
   "id": "ac02f4a6-f7c4-4fef-bdac-ee31cf3d582f",
   "metadata": {},
   "outputs": [],
   "source": [
    "#WAP take 5 random numbers\n",
    " # and create a dictionary with even and odd\n",
    " # Output: {'even':[20,22],'odd':[19,21,23]}\n",
    " # step-1: take empty dictionary\n",
    " # step-2: take two even and odd list\n",
    " # step-3: import random\n",
    " # step-4: for i in range(5):\n",
    " # step-5:     num=random.randint(a,b)\n",
    " # step-6:     if <even>:\n",
    " # step-7:        append the values in even list\n",
    " # step-8:    else:\n",
    " # step-9:        append the values in odd list\n",
    " # step-10: create dictinary"
   ]
  },
  {
   "cell_type": "code",
   "execution_count": 483,
   "id": "2b05bfc3-2c14-43c5-bfa8-c0f6bd761278",
   "metadata": {},
   "outputs": [
    {
     "name": "stdout",
     "output_type": "stream",
     "text": [
      "[18, 20, 24]\n",
      "[23, 15]\n"
     ]
    },
    {
     "data": {
      "text/plain": [
       "{'even': [18, 20, 24], 'odd': [23, 15]}"
      ]
     },
     "execution_count": 483,
     "metadata": {},
     "output_type": "execute_result"
    }
   ],
   "source": [
    "d5={}\n",
    "A1=[]\n",
    "B2=[]\n",
    "import random\n",
    "for i in range(5):\n",
    "    num=random.randint(10,30)\n",
    "    if num%2==0:\n",
    "        A1.append(num)\n",
    "    else:\n",
    "        B2.append(num)\n",
    "A1\n",
    "B2\n",
    "d5\n",
    "d5[\"even\"]=A1\n",
    "d5[\"odd\"]=B2\n",
    "d5\n",
    "print(A1)\n",
    "print(B2)\n",
    "d5"
   ]
  },
  {
   "cell_type": "code",
   "execution_count": 459,
   "id": "6ddb1274-c98d-473a-bf14-ceb53dab1d35",
   "metadata": {},
   "outputs": [],
   "source": [
    "list1=[1,2,3,4,5,6]\n",
    "output=[]\n",
    "for i in list1:\n",
    "    if i%2==0:\n",
    "        output.append(\"even\")\n",
    "    else:\n",
    "        output.append(\"odd\")"
   ]
  },
  {
   "cell_type": "code",
   "execution_count": 485,
   "id": "6a684caf-fea6-4159-b29d-1f1a262d46f3",
   "metadata": {},
   "outputs": [
    {
     "data": {
      "text/plain": [
       "'C:\\\\Users\\\\DELL\\\\Documents\\\\Datascience'"
      ]
     },
     "execution_count": 485,
     "metadata": {},
     "output_type": "execute_result"
    }
   ],
   "source": [
    "import os\n",
    "os.getcwd()"
   ]
  },
  {
   "cell_type": "code",
   "execution_count": 9,
   "id": "69243deb-b3e8-4460-95ad-d5102e213072",
   "metadata": {},
   "outputs": [],
   "source": [
    "d1={'Ram':25,\n",
    " 'Raheem':30,\n",
    " 'Robert':35}\n",
    "keys=list(d1.keys())\n",
    "values=list(d1.values())"
   ]
  },
  {
   "cell_type": "code",
   "execution_count": 5,
   "id": "a21d4074-ae5a-4210-96b0-c3d69f9f48f3",
   "metadata": {},
   "outputs": [
    {
     "data": {
      "text/plain": [
       "['Ram', 'Raheem', 'Robert']"
      ]
     },
     "execution_count": 5,
     "metadata": {},
     "output_type": "execute_result"
    }
   ],
   "source": [
    "keys"
   ]
  },
  {
   "cell_type": "code",
   "execution_count": 11,
   "id": "6b7b8675-619f-4166-adaa-ad34f1bb64c9",
   "metadata": {},
   "outputs": [
    {
     "data": {
      "text/plain": [
       "[25, 30, 35]"
      ]
     },
     "execution_count": 11,
     "metadata": {},
     "output_type": "execute_result"
    }
   ],
   "source": [
    "values"
   ]
  },
  {
   "cell_type": "code",
   "execution_count": 31,
   "id": "f359c1df-5552-43f2-bfe0-3c8ff22b757d",
   "metadata": {},
   "outputs": [
    {
     "data": {
      "text/plain": [
       "{'Ram': 25, 'Raheem': 30, 'Robert': 35}"
      ]
     },
     "execution_count": 31,
     "metadata": {},
     "output_type": "execute_result"
    }
   ],
   "source": [
    "d2={}\n",
    "for i,j in zip(keys,values):\n",
    "    d2[i]=j\n",
    "\n",
    "d2"
   ]
  },
  {
   "cell_type": "code",
   "execution_count": 33,
   "id": "690c5ad5-4765-4caf-ae04-18ef9113a97c",
   "metadata": {},
   "outputs": [
    {
     "data": {
      "text/plain": [
       "{'Ram': 25, 'Raheem': 30, 'Robert': 35}"
      ]
     },
     "execution_count": 33,
     "metadata": {},
     "output_type": "execute_result"
    }
   ],
   "source": [
    "{i:j for i,j in zip(keys,values)}"
   ]
  },
  {
   "cell_type": "code",
   "execution_count": 37,
   "id": "210a1b3c-9e42-4b7d-8e02-08ecc52b968b",
   "metadata": {},
   "outputs": [],
   "source": [
    "s1='virat.kohli@blr.com,Rohit.sharma@mumbai.com,kl.rahul@lucknow.com'\n",
    " # {'first_name':['virat','Rohit','KL'],\n",
    " #   'second_name':['kohli','sharma','rahul'],\n",
    " #   'company':['blr','mumbai','lucknow']}"
   ]
  },
  {
   "cell_type": "code",
   "execution_count": 47,
   "id": "525000b4-980c-4312-a102-0d3ebf32ce6f",
   "metadata": {},
   "outputs": [
    {
     "data": {
      "text/plain": [
       "['virat.kohli@blr.com', 'Rohit.sharma@mumbai.com', 'kl.rahul@lucknow.com']"
      ]
     },
     "execution_count": 47,
     "metadata": {},
     "output_type": "execute_result"
    }
   ],
   "source": [
    "s1.split(',')"
   ]
  },
  {
   "cell_type": "code",
   "execution_count": 134,
   "id": "d6cb68e8-d2bc-4ee2-8709-741878c76e4b",
   "metadata": {},
   "outputs": [
    {
     "data": {
      "text/plain": [
       "5"
      ]
     },
     "execution_count": 134,
     "metadata": {},
     "output_type": "execute_result"
    }
   ],
   "source": [
    "str1='virat.kohli@blr.com'\n",
    "str1.find('.')"
   ]
  },
  {
   "cell_type": "code",
   "execution_count": 114,
   "id": "494e46c4-94f2-440f-8a98-b88ad5217d67",
   "metadata": {},
   "outputs": [],
   "source": [
    "f_name=[str1[:str1.find('.')] for str1 in s1.split(',')]"
   ]
  },
  {
   "cell_type": "code",
   "execution_count": 116,
   "id": "f85158af-f828-4a72-93d2-42624516d75b",
   "metadata": {},
   "outputs": [
    {
     "data": {
      "text/plain": [
       "['virat', 'Rohit', 'kl']"
      ]
     },
     "execution_count": 116,
     "metadata": {},
     "output_type": "execute_result"
    }
   ],
   "source": [
    "f_name"
   ]
  },
  {
   "cell_type": "code",
   "execution_count": 148,
   "id": "cf8771ec-844c-4321-a107-c8d64a5d36ae",
   "metadata": {},
   "outputs": [],
   "source": [
    "s_name=[str1[str1.find('.')+1: str1.find('@')] for str1 in s1.split(',')]"
   ]
  },
  {
   "cell_type": "code",
   "execution_count": 150,
   "id": "a91d6373-01d2-4987-af33-ba2c5c7448ca",
   "metadata": {},
   "outputs": [
    {
     "data": {
      "text/plain": [
       "['kohli', 'sharma', 'rahul']"
      ]
     },
     "execution_count": 150,
     "metadata": {},
     "output_type": "execute_result"
    }
   ],
   "source": [
    "s_name"
   ]
  },
  {
   "cell_type": "code",
   "execution_count": 162,
   "id": "ffb876d4-33f6-4f35-99ea-3d82147ac6fc",
   "metadata": {},
   "outputs": [],
   "source": [
    "c_name=[str1[str1.find('@')+1:str1.find('.',str1.find('.')+1)] for str1 in s1.split(',')]"
   ]
  },
  {
   "cell_type": "code",
   "execution_count": 164,
   "id": "9ccce3d2-c29e-4cd9-9237-3d160a893693",
   "metadata": {},
   "outputs": [
    {
     "data": {
      "text/plain": [
       "['blr', 'mumbai', 'lucknow']"
      ]
     },
     "execution_count": 164,
     "metadata": {},
     "output_type": "execute_result"
    }
   ],
   "source": [
    "c_name"
   ]
  },
  {
   "cell_type": "code",
   "execution_count": 166,
   "id": "960e77db-4d08-4c84-8267-3d2a48b322eb",
   "metadata": {},
   "outputs": [
    {
     "data": {
      "text/plain": [
       "(['virat', 'Rohit', 'kl'],\n",
       " ['kohli', 'sharma', 'rahul'],\n",
       " ['blr', 'mumbai', 'lucknow'])"
      ]
     },
     "execution_count": 166,
     "metadata": {},
     "output_type": "execute_result"
    }
   ],
   "source": [
    "f_name,s_name,c_name"
   ]
  },
  {
   "cell_type": "code",
   "execution_count": 168,
   "id": "b66c0af3-b1d5-4565-9b80-8c39a0f81a41",
   "metadata": {},
   "outputs": [],
   "source": [
    "str1='can can you canner can you able to can canner'\n",
    " #{'can':4,'you':2,'canner':2,'able':1,'to':1}\n",
    " # d={}\n",
    " # step-1: split the str1 ======= > you will get a list\n",
    " # step-2: iterate through loop ==== > each word will print\n",
    " # step-3: list1.count(<word>): "
   ]
  },
  {
   "cell_type": "code",
   "execution_count": 179,
   "id": "e7d440d4-5e1d-4ab1-8004-9d752686fef3",
   "metadata": {},
   "outputs": [],
   "source": [
    "d1={}\n",
    "d2=str1.split(' ')\n",
    "for i in d2:\n",
    "    d1[i]=d2.count(i)"
   ]
  },
  {
   "cell_type": "code",
   "execution_count": null,
   "id": "8c59ad7b-60d8-4b3d-878c-b2a750a9bba2",
   "metadata": {},
   "outputs": [],
   "source": []
  },
  {
   "cell_type": "code",
   "execution_count": 212,
   "id": "7837e3ee-2682-4a00-81c9-320390b5e55a",
   "metadata": {},
   "outputs": [
    {
     "data": {
      "text/plain": [
       "{'a': 70, 'b': 130, 'c': 240}"
      ]
     },
     "execution_count": 212,
     "metadata": {},
     "output_type": "execute_result"
    }
   ],
   "source": [
    "d1={'a':20,'b':30,'c':40}\n",
    "d2={'a':50,'b':100,'c':200}\n",
    "\n",
    " # o/p={'a':70,'b':130,'c':240}\n",
    "for i in d1:\n",
    "    d1[i]=d1[i]+d2[i]\n",
    "\n",
    "d1"
   ]
  },
  {
   "cell_type": "code",
   "execution_count": 222,
   "id": "52b3eae3-e33c-4616-9bb8-40cfb9a7ecdd",
   "metadata": {},
   "outputs": [
    {
     "data": {
      "text/plain": [
       "{'a': 70, 'b': 130, 'c': 240, 'd': 500}"
      ]
     },
     "execution_count": 222,
     "metadata": {},
     "output_type": "execute_result"
    }
   ],
   "source": [
    "d1={'a':20,'b':30,'c':40,'d':500}\n",
    "d2={'a':50,'b':100,'c':200}\n",
    "for i in d2:\n",
    "    d1[i]=d1[i]+d2[i]\n",
    "\n",
    "d1"
   ]
  },
  {
   "cell_type": "markdown",
   "id": "f3d445eb-179d-4985-b0c2-44b462c36665",
   "metadata": {},
   "source": [
    " # take one dictionary\n",
    " # take second dictionary\n",
    " # copy first dict into second\n",
    " # clear first dict\n",
    " # and print both\n",
    "d1={'a':20,'b':30,'c':40,'d':500}\n",
    "d2={'a':50,'b':100,'c':200}"
   ]
  },
  {
   "cell_type": "code",
   "execution_count": 277,
   "id": "7693b91a-889c-4faa-882d-2c4b392a9953",
   "metadata": {},
   "outputs": [],
   "source": [
    "d1={'a':20,'b':30,'c':40}\n",
    "d2={'d':50,'e':100,'f':200}\n"
   ]
  },
  {
   "cell_type": "code",
   "execution_count": null,
   "id": "6e970e5f-73a1-400c-a5c0-5d0b7dc5b488",
   "metadata": {},
   "outputs": [],
   "source": [
    "location=\"E:\\Omkar\\Material Docs\"\n",
    "name=\"mbox\"\n",
    "extention=\".txt\""
   ]
  },
  {
   "cell_type": "code",
   "execution_count": 283,
   "id": "fd578c14-af2e-4408-9c95-450a9789416c",
   "metadata": {},
   "outputs": [
    {
     "ename": "NameError",
     "evalue": "name 'location' is not defined",
     "output_type": "error",
     "traceback": [
      "\u001b[1;31m---------------------------------------------------------------------------\u001b[0m",
      "\u001b[1;31mNameError\u001b[0m                                 Traceback (most recent call last)",
      "Cell \u001b[1;32mIn[283], line 1\u001b[0m\n\u001b[1;32m----> 1\u001b[0m location\u001b[38;5;241m+\u001b[39mname\u001b[38;5;241m+\u001b[39mextention\n",
      "\u001b[1;31mNameError\u001b[0m: name 'location' is not defined"
     ]
    }
   ],
   "source": [
    "location+name+extention"
   ]
  },
  {
   "cell_type": "code",
   "execution_count": 348,
   "id": "b8ba1f55-3815-459b-a020-cf8ce77aeb21",
   "metadata": {},
   "outputs": [
    {
     "name": "stdout",
     "output_type": "stream",
     "text": [
      "From stephen.marquard@uct.ac.za Sat Jan 5 09:14:16 2008 Return-Path: Received: from murder (mail.umich.edu [141.211.14.90]) by frankenstein.mail.umich.edu (Cyrus v2.3.8) with LMTPA; Sat, 05 Jan 2008 09:14:16 -0500 X-Sieve:\n",
      "CMU Sieve 2.3 Received: from murder ([unix socket]) by mail.umich.edu (Cyrus v2.2.12) with LMTPA; Sat, 05 Jan 2008\n",
      "09:14:16 -0500 Received: from holes.mr.itd.umich.edu (holes.mr.itd.umich.edu [141.211.14.79]) by flawless.mail.umich.edu\n",
      "() with ESMTP id m05EEFR1013674; Sat, 5 Jan 2008 09:14:15 -0500 Received: FROM paploo.uhi.ac.uk\n",
      "(app1.prod.collab.uhi.ac.uk [194.35.219.184]) BY holes.mr.itd.umich.edu ID 477F90B0.2DB2F.12494 ; 5 Jan 2008 09:14:10\n",
      "-0500 Received: from paploo.uhi.ac.uk (localhost [127.0.0.1]) by paploo.uhi.ac.uk (Postfix) with ESMTP id 5F919BC2F2;\n",
      "Sat, 5 Jan 2008 14:10:05 +0000 (GMT) Message-ID: <200801051412.m05ECIaH010327@nakamura.uits.iupui.edu> MimeVersion: 1.0 Content-Transfer-Encoding: 7bit Received: from prod.collab.uhi.ac.uk ([194.35.219.182]) by paploo.uhi.ac.uk\n",
      "(JAMES SMTP Server 2.1.3) with SMTP ID 899 for ; Sat, 5 Jan 2008 14:09:50 +0000 (GMT) Received: from\n",
      "nakamura.uits.iupui.edu (nakamura.uits.iupui.edu [134.68.220.122]) by shmi.uhi.ac.uk (Postfix) with ESMTP id A215243002 for ; Sat, 5 Jan 2008 14:13:33 +0000 (GMT) Received: from nakamura.uits.iupui.edu (localhost [127.0.0.1]) by nakamura.uits.iupui.edu (8.12.11.20060308/8.12.11) with ESMTP id m05ECJVp010329 for ; Sat, 5 Jan 2008 09:12:19\n",
      "-0500 Received: (from apache@localhost) by nakamura.uits.iupui.edu (8.12.11.20060308/8.12.11/Submit) id m05ECIaH010327 for source@collab.sakaiproject.org; Sat, 5 Jan 2008 09:12:18 -0500 Date: Sat, 5 Jan 2008 09:12:18 -0500 X-Authentication-Warning: nakamura.uits.iupui.edu: apache set sender to stephen.marquard@uct.ac.za using -f To:\n",
      "source@collab.sakaiproject.org From: stephen.marquard@uct.ac.za Subject: [sakai] svn commit: r39772 content/branches/sakai_2-5-x/content-impl/impl/src/java/org/sakaiproject/content/impl X-Content-Type-Outer-Envelope: text/plain; charset=UTF-8 X-Content-Type-Message-Body: text/plain; charset=UTF-8 Content-Type: text/plain; charset=UTF-8 X-DSPAM-Result: Innocent X-DSPAM-Processed: Sat Jan 5 09:14:16 2008 X-DSPAM-Confidence: 0.8475 X-DSPAM-Probability: 0.0000 Details: http://source.sakaiproject.org/viewsvn/?view=rev&rev=39772 Author:\n",
      "stephen.marquard@uct.ac.za Date: 2008-01-05 09:12:07 -0500 (Sat, 05 Jan 2008) New Revision: 39772 Modified: content/branches/sakai_2-5-x/content-impl/impl/src/java/org/sakaiproject/content/impl/ContentServiceSqlOracle.java content/branches/sakai_2-5-x/content-impl/impl/src/java/org/sakaiproject/content/impl/DbContentService.java Log: SAK12501 merge to 2-5-x: r39622, r39624:5, r39632:3 (resolve conflict from differing linebreaks for r39622) ---------------------This automatic notification message was sent by Sakai Collab (https://collab.sakaiproject.org/portal) from the Source site.\n",
      "You can modify how you receive notifications at My Workspace > Preferences. From louis@media.berkeley.edu Fri Jan 4\n",
      "18:10:48 2008 Return-Path: Received: from murder (mail.umich.edu [141.211.14.97]) by frankenstein.mail.umich.edu (Cyrus v2.3.8) with LMTPA; Fri, 04 Jan 2008 18:10:48 -0500 X-Sieve: CMU Sieve 2.3 Received: from murder ([unix socket]) by mail.umich.edu (Cyrus v2.2.12) with LMTPA; Fri, 04 Jan 2008 18:10:48 -0500 Received: from icestorm.mr.itd.umich.edu\n",
      "(icestorm.mr.itd.umich.edu [141.211.93.149]) by sleepers.mail.umich.edu () with ESMTP id m04NAbGa029441; Fri, 4 Jan\n",
      "2008 18:10:37 -0500 Received: FROM paploo.uhi.ac.uk (app1.prod.collab.uhi.ac.uk [194.35.219.184]) BY\n",
      "icestorm.mr.itd.umich.edu ID 477EBCE3.161BB.4320 ; 4 Jan 2008 18:10:31 -0500 Received: from paploo.uhi.ac.uk (localhost [127.0.0.1]) by paploo.uhi.ac.uk (Postfix) with ESMTP id 07969BB706; Fri, 4 Jan 2008 23:10:33 +0000 (GMT)\n",
      "Message-ID: <200801042308.m04N8v6O008125@nakamura.uits.iupui.edu> Mime-Version: 1.0 Content-TransferEncoding: 7bit Received: from prod.collab.uhi.ac.uk ([194.35.219.182]) by paploo.uhi.ac.uk (JAMES SMTP Server 2.1.3) with SMTP ID 710 for ; Fri, 4 Jan 2008 23:10:10 +0000 (GMT) Received: from nakamura.uits.iupui.edu\n",
      "(nakamura.uits.iupui.edu [134.68.220.122]) by shmi.uhi.ac.uk (Postfix) with ESMTP id 4BA2F42F57 for ; Fri, 4 Jan 2008\n",
      "23:10:10 +0000 (GMT) Received: from nakamura.uits.iupui.edu (localhost [127.0.0.1]) by nakamura.uits.iupui.edu (8.12.11.20060308/8.12.11) with ESMTP id m04N8vHG008127 for ; Fri, 4 Jan 2008 18:08:57 -0500 Received: (from apache@localhost) by nakamura.uits.iupui.edu (8.12.11.20060308/8.12.11/Submit) id m04N8v6O008125 for source@collab.sakaiproject.org; Fri, 4 Jan 2008 18:08:57 -0500 Date: Fri, 4 Jan 2008 18:08:57 -0500 X-AuthenticationWarning: nakamura.uits.iupui.edu: apache set sender to louis@media.berkeley.edu using -f To:\n",
      "source@collab.sakaiproject.org From: louis@media.berkeley.edu Subject: [sakai] svn commit: r39771 - in bspace/sitemanage/sakai_2-4-x/site-manage-tool/tool/src: bundle java/org/sakaiproject/site/tool X-Content-Type-Outer-Envelope:\n",
      "text/plain; charset=UTF-8 X-Content-Type-Message-Body: text/plain; charset=UTF-8 Content-Type: text/plain; charset=UTF-8 X-DSPAM-Result: Innocent X-DSPAM-Processed: Fri Jan 4 18:10:48 2008 X-DSPAM-Confidence: 0.6178 X-DSPAM-Probability: 0.0000 Details: http://source.sakaiproject.org/viewsvn/?view=rev&rev=39771 Author: louis@media.berkeley.edu Date: 2008-01-04 18:08:50 -0500 (Fri, 04 Jan 2008) New Revision: 39771 Modified:\n",
      "bspace/site-manage/sakai_2-4-x/site-manage-tool/tool/src/bundle/sitesetupgeneric.properties bspace/site-manage/sakai_24-x/site-manage-tool/tool/src/java/org/sakaiproject/site/tool/SiteAction.java Log: BSP-1415 New (Guest) user Notification --------------------- This automatic notification message was sent by Sakai Collab (https://collab.sakaiproject.org/portal) from the\n",
      "Source site. You can modify how you receive notifications at My Workspace > Preferences. From zqian@umich.edu Fri Jan\n",
      "4 16:10:39 2008 Return-Path: Received: from murder (mail.umich.edu [141.211.14.25]) by frankenstein.mail.umich.edu (Cyrus v2.3.8) with LMTPA; Fri, 04 Jan 2008 16:10:39 -0500 X-Sieve: CMU Sieve 2.3 Received: from murder ([unix socket]) by mail.umich.edu (Cyrus v2.2.12) with LMTPA; Fri, 04 Jan 2008 16:10:39 -0500 Received: from\n",
      "ghostbusters.mr.itd.umich.edu (ghostbusters.mr.itd.umich.edu [141.211.93.144]) by panther.mail.umich.edu () with ESMTP id m04LAcZw014275; Fri, 4 Jan 2008 16:10:38 -0500 Received: FROM paploo.uhi.ac.uk (app1.prod.collab.uhi.ac.uk [194.35.219.184]) BY ghostbusters.mr.itd.umich.edu ID 477EA0C6.A0214.25480 ; 4 Jan 2008 16:10:33 -0500 Received: from paploo.uhi.ac.uk (localhost [127.0.0.1]) by paploo.uhi.ac.uk (Postfix) with ESMTP id C48CDBB490; Fri, 4 Jan 2008 21:10:31 +0000 (GMT) Message-ID: <200801042109.m04L92hb007923@nakamura.uits.iupui.edu> Mime-Version: 1.0 Content-Transfer-Encoding: 7bit Received: from prod.collab.uhi.ac.uk ([194.35.219.182]) by paploo.uhi.ac.uk (JAMES\n",
      "SMTP Server 2.1.3) with SMTP ID 906 for ; Fri, 4 Jan 2008 21:10:18 +0000 (GMT) Received: from nakamura.uits.iupui.edu\n",
      "(nakamura.uits.iupui.edu [134.68.220.122]) by shmi.uhi.ac.uk (Postfix) with ESMTP id 7D13042F71 for ; Fri, 4 Jan 2008\n",
      "21:10:14 +0000 (GMT) Received: from nakamura.uits.iupui.edu (localhost [127.0.0.1]) by nakamura.uits.iupui.edu (8.12.11.20060308/8.12.11) with ESMTP id m04L927E007925 for ; Fri, 4 Jan 2008 16:09:02 -0500 Received: (from apache@localhost) by nakamura.uits.iupui.edu (8.12.11.20060308/8.12.11/Submit) id m04L92hb007923 for source@collab.sakaiproject.org; Fri, 4 Jan 2008 16:09:02 -0500 Date: Fri, 4 Jan 2008 16:09:02 -0500 X-Authentication-\n",
      "Warning: nakamura.uits.iupui.edu: apache set sender to zqian@umich.edu using -f To: source@collab.sakaiproject.org From: zqian@umich.edu Subject: [sakai] svn commit: r39770 - site-manage/branches/sakai_2-5-x/site-managetool/tool/src/webapp/vm/sitesetup X-Content-Type-Outer-Envelope: text/plain; charset=UTF-8 X-Content-Type-MessageBody: text/plain; charset=UTF-8 Content-Type: text/plain; charset=UTF-8 X-DSPAM-Result: Innocent X-DSPAM-Processed:\n",
      "Fri Jan 4 16:10:39 2008 X-DSPAM-Confidence: 0.6961 X-DSPAM-Probability: 0.0000 Details:\n",
      "http://source.sakaiproject.org/viewsvn/?view=rev&rev=39770 Author: zqian@umich.edu Date: 2008-01-04 16:09:01 -0500\n",
      "(Fri, 04 Jan 2008) New Revision: 39770 Modified: site-manage/branches/sakai_2-5-x/site-manage-\n",
      "tool/tool/src/webapp/vm/sitesetup/chef_site-siteInfo-list.vm Log: merge fix to SAK-9996 into 2-5-x branch: svn merge -r 39687:39688 https://source.sakaiproject.org/svn/site-manage/trunk/ ---------------------- This automatic notification message was sent by Sakai Collab (https://collab.sakaiproject.org/portal) from the Source site. You can modify how you receive notifications at My Workspace > Preferences. From rjlowe@iupui.edu Fri Jan 4 15:46:24 2008 Return-Path: Received: from murder (mail.umich.edu [141.211.14.25]) by frankenstein.mail.umich.edu (Cyrus v2.3.8) with LMTPA; Fri, 04 Jan 2008 15:46:24 -0500 X-Sieve: CMU Sieve 2.3 Received: from murder ([unix socket]) by mail.umich.edu (Cyrus v2.2.12) with\n",
      "LMTPA; Fri, 04 Jan 2008 15:46:24 -0500 Received: from dreamcatcher.mr.itd.umich.edu (dreamcatcher.mr.itd.umich.edu [141.211.14.43]) by panther.mail.umich.edu () with ESMTP id m04KkNbx032077; Fri, 4 Jan 2008 15:46:23 -0500 Received:\n",
      "FROM paploo.uhi.ac.uk (app1.prod.collab.uhi.ac.uk [194.35.219.184]) BY dreamcatcher.mr.itd.umich.edu ID 477E9B13.2F3BC.22965 ; 4 Jan 2008 15:46:13 -0500 Received: from paploo.uhi.ac.uk (localhost [127.0.0.1]) by paploo.uhi.ac.uk (Postfix) with ESMTP id 4AE03BB552; Fri, 4 Jan 2008 20:46:13 +0000 (GMT) Message-ID: <200801042044.m04Kiem3007881@nakamura.uits.iupui.edu> Mime-Version: 1.0 Content-Transfer-Encoding: 7bit Received: from prod.collab.uhi.ac.uk ([194.35.219.182]) by paploo.uhi.ac.uk (JAMES SMTP Server 2.1.3) with SMTP ID 38 for ; Fri, 4 Jan 2008 20:45:56 +0000 (GMT) Received: from nakamura.uits.iupui.edu (nakamura.uits.iupui.edu [134.68.220.122]) by shmi.uhi.ac.uk (Postfix) with ESMTP id A55D242F57 for ; Fri, 4 Jan 2008 20:45:52 +0000 (GMT)\n",
      "Received: from nakamura.uits.iupui.edu (localhost [127.0.0.1]) by nakamura.uits.iupui.edu (8.12.11.20060308/8.12.11) with ESMTP id m04KieqE007883 for ; Fri, 4 Jan 2008 15:44:40 -0500 Received: (from apache@localhost) by nakamura.uits.iupui.edu (8.12.11.20060308/8.12.11/Submit) id m04Kiem3007881 for source@collab.sakaiproject.org; Fri, 4 Jan 2008 15:44:40 -0500 Date: Fri, 4 Jan 2008 15:44:40 -0500 X-Authentication-Warning: nakamura.uits.iupui.edu: apache set sender to rjlowe@iupui.edu using -f To: source@collab.sakaiproject.org From: rjlowe@iupui.edu Subject: [sakai] svn commit: r39769 - in gradebook/trunk/app/ui/src: java/org/sakaiproject/tool/gradebook/ui/helpers/beans java/org/sakaiproject/tool/gradebook/ui/helpers/producers webapp/WEB-INF webapp/WEB-INF/bundle X-Content-TypeOuter-Envelope: text/plain; charset=UTF-8 X-Content-Type-Message-Body: text/plain; charset=UTF-8 Content-Type: text/plain; charset=UTF-8 X-DSPAM-Result: Innocent X-DSPAM-Processed: Fri Jan 4 15:46:24 2008 X-DSPAMConfidence: 0.7565 X-DSPAM-Probability: 0.0000 Details: http://source.sakaiproject.org/viewsvn/?view=rev&rev=39769 Author: rjlowe@iupui.edu Date: 2008-01-04 15:44:39 -0500 (Fri, 04 Jan 2008) New Revision: 39769 Modified:\n",
      "gradebook/trunk/app/ui/src/java/org/sakaiproject/tool/gradebook/ui/helpers/beans/AssignmentGradeRecordBean.java gradebook/trunk/app/ui/src/java/org/sakaiproject/tool/gradebook/ui/helpers/producers/GradeGradebookItemProducer.java gradebook/trunk/app/ui/src/webapp/WEB-INF/applicationContext.xml gradebook/trunk/app/ui/src/webapp/WEBINF/bundle/messages.properties gradebook/trunk/app/ui/src/webapp/WEB-INF/requestContext.xml Log: SAK-12180 Fixed errors with grading helper ---------------------- This automatic notification message was sent by Sakai Collab\n",
      "(https://collab.sakaiproject.org/portal) from the Source site. You can modify how you receive notifications at My Workspace > Preferences. From zqian@umich.edu Fri Jan 4 15:03:18 2008 Return-Path: Received: from murder (mail.umich.edu [141.211.14.46]) by frankenstein.mail.umich.edu (Cyrus v2.3.8) with LMTPA; Fri, 04 Jan 2008 15:03:18 -0500 X-Sieve:\n",
      "CMU Sieve 2.3 Received: from murder ([unix socket]) by mail.umich.edu (Cyrus v2.2.12) with LMTPA; Fri, 04 Jan 2008\n",
      "15:03:18 -0500 Received: from firestarter.mr.itd.umich.edu (firestarter.mr.itd.umich.edu [141.211.14.83]) by fan.mail.umich.edu () with ESMTP id m04K3HGF006563; Fri, 4 Jan 2008 15:03:17 -0500 Received: FROM paploo.uhi.ac.uk (app1.prod.collab.uhi.ac.uk [194.35.219.184]) BY firestarter.mr.itd.umich.edu ID 477E9100.8F7F4.1590 ; 4 Jan 2008 15:03:15 -0500 Received: from paploo.uhi.ac.uk (localhost [127.0.0.1]) by paploo.uhi.ac.uk (Postfix) with ESMTP id 57770BB477; Fri, 4 Jan 2008 20:03:09 +0000 (GMT) Message-ID:\n",
      "<200801042001.m04K1cO0007738@nakamura.uits.iupui.edu> Mime-Version: 1.0 Content-Transfer-Encoding: 7bit\n",
      "Received: from prod.collab.uhi.ac.uk ([194.35.219.182]) by paploo.uhi.ac.uk (JAMES SMTP Server 2.1.3) with SMTP ID\n",
      "622 for ; Fri, 4 Jan 2008 20:02:46 +0000 (GMT) Received: from nakamura.uits.iupui.edu (nakamura.uits.iupui.edu\n",
      "[134.68.220.122]) by shmi.uhi.ac.uk (Postfix) with ESMTP id AB4D042F4D for ; Fri, 4 Jan 2008 20:02:50 +0000 (GMT)\n",
      "Received: from nakamura.uits.iupui.edu (localhost [127.0.0.1]) by nakamura.uits.iupui.edu (8.12.11.20060308/8.12.11) with ESMTP id m04K1cXv007740 for ; Fri, 4 Jan 2008 15:01:38 -0500 Received: (from apache@localhost) by nakamura.uits.iupui.edu (8.12.11.20060308/8.12.11/Submit) id m04K1cO0007738 for source@collab.sakaiproject.org; Fri, 4\n",
      "Jan 2008 15:01:38 -0500 Date: Fri, 4 Jan 2008 15:01:38 -0500 X-Authentication-Warning: nakamura.uits.iupui.edu: apache set sender to zqian@umich.edu using -f To: source@collab.sakaiproject.org From: zqian@umich.edu Subject: [sakai] svn commit: r39766 - site-manage/branches/sakai_2-4-x/site-manage-tool/tool/src/java/org/sakaiproject/site/tool X-ContentType-Outer-Envelope: text/plain; charset=UTF-8 X-Content-Type-Message-Body: text/plain; charset=UTF-8 Content-Type: text/plain; charset=UTF-8 X-DSPAM-Result: Innocent X-DSPAM-Processed: Fri Jan 4 15:03:18 2008 X-DSPAMConfidence: 0.7626 X-DSPAM-Probability: 0.0000 Details: http://source.sakaiproject.org/viewsvn/?view=rev&rev=39766 Author: zqian@umich.edu Date: 2008-01-04 15:01:37 -0500 (Fri, 04 Jan 2008) New Revision: 39766 Modified: sitemanage/branches/sakai_2-4-x/site-manage-tool/tool/src/java/org/sakaiproject/site/tool/SiteAction.java Log: merge fix to SAK-10788 into site-manage 2.4.x branch: Sakai Source Repository #38024 Wed Nov 07 14:54:46 MST 2007\n",
      "zqian@umich.edu Fix to SAK-10788: If a provided id in a couse site is fake or doesn't provide any user information, Site Info appears to be like project site with empty participant list Watch for enrollments object being null and concatenate\n",
      "provider ids when there are more than one. Files Changed MODIFY /site-manage/trunk/site-manage-\n",
      "tool/tool/src/java/org/sakaiproject/site/tool/SiteAction.java ---------------------- This automatic notification message was sent by Sakai Collab (https://collab.sakaiproject.org/portal) from the Source site. You can modify how you receive notifications at My\n",
      "Workspace > Preferences. From rjlowe@iupui.edu Fri Jan 4 14:50:18 2008 Return-Path: Received: from murder\n",
      "(mail.umich.edu [141.211.14.93]) by frankenstein.mail.umich.edu (Cyrus v2.3.8) with LMTPA; Fri, 04 Jan 2008 14:50:18\n",
      "-0500 X-Sieve: CMU Sieve 2.3 Received: from murder ([unix socket]) by mail.umich.edu (Cyrus v2.2.12) with LMTPA; Fri, 04 Jan 2008 14:50:18 -0500 Received: from eyewitness.mr.itd.umich.edu (eyewitness.mr.itd.umich.edu [141.211.93.142]) by mission.mail.umich.edu () with ESMTP id m04JoHJi019755; Fri, 4 Jan 2008 14:50:17 -0500 Received: FROM\n",
      "paploo.uhi.ac.uk (app1.prod.collab.uhi.ac.uk [194.35.219.184]) BY eyewitness.mr.itd.umich.edu ID 477E8DF2.67B91.5278 ; 4 Jan 2008 14:50:13 -0500 Received: from paploo.uhi.ac.uk (localhost [127.0.0.1]) by paploo.uhi.ac.uk (Postfix) with ESMTP id 2D1B9BB492; Fri, 4 Jan 2008 19:47:10 +0000 (GMT) Message-ID: <200801041948.m04JmdwO007705@nakamura.uits.iupui.edu> Mime-Version: 1.0 Content-Transfer-Encoding: 7bit\n",
      "Received: from prod.collab.uhi.ac.uk ([194.35.219.182]) by paploo.uhi.ac.uk (JAMES SMTP Server 2.1.3) with SMTP ID\n",
      "960 for ; Fri, 4 Jan 2008 19:46:50 +0000 (GMT) Received: from nakamura.uits.iupui.edu (nakamura.uits.iupui.edu\n",
      "[134.68.220.122]) by shmi.uhi.ac.uk (Postfix) with ESMTP id B3E6742F4A for ; Fri, 4 Jan 2008 19:49:51 +0000 (GMT)\n",
      "Received: from nakamura.uits.iupui.edu (localhost [127.0.0.1]) by nakamura.uits.iupui.edu (8.12.11.20060308/8.12.11) with ESMTP id m04JmeV9007707 for ; Fri, 4 Jan 2008 14:48:40 -0500 Received: (from apache@localhost) by nakamura.uits.iupui.edu (8.12.11.20060308/8.12.11/Submit) id m04JmdwO007705 for source@collab.sakaiproject.org; Fri, 4 Jan 2008 14:48:39 -0500 Date: Fri, 4 Jan 2008 14:48:39 -0500 X-Authentication-Warning: nakamura.uits.iupui.edu:\n",
      "apache set sender to rjlowe@iupui.edu using -f To: source@collab.sakaiproject.org From: rjlowe@iupui.edu Subject: [sakai] svn commit: r39765 - in gradebook/trunk/app: business/src/java/org/sakaiproject/tool/gradebook/business business/src/java/org/sakaiproject/tool/gradebook/business/impl ui ui/src/java/org/sakaiproject/tool/gradebook/ui/helpers/beans ui/src/java/org/sakaiproject/tool/gradebook/ui/helpers/entity ui/src/java/org/sakaiproject/tool/gradebook/ui/helpers/params\n",
      "ui/src/java/org/sakaiproject/tool/gradebook/ui/helpers/producers ui/src/webapp/WEB-INF ui/src/webapp/WEB-INF/bundle ui/src/webapp/content/templates X-Content-Type-Outer-Envelope: text/plain; charset=UTF-8 X-Content-Type-MessageBody: text/plain; charset=UTF-8 Content-Type: text/plain; charset=UTF-8 X-DSPAM-Result: Innocent X-DSPAM-Processed:\n",
      "Fri Jan 4 14:50:18 2008 X-DSPAM-Confidence: 0.7556 X-DSPAM-Probability: 0.0000 Details:\n",
      "http://source.sakaiproject.org/viewsvn/?view=rev&rev=39765 Author: rjlowe@iupui.edu Date: 2008-01-04 14:48:37 -0500 (Fri, 04 Jan 2008) New Revision: 39765 Added:\n",
      "gradebook/trunk/app/ui/src/java/org/sakaiproject/tool/gradebook/ui/helpers/beans/AssignmentGradeRecordBean.java gradebook/trunk/app/ui/src/java/org/sakaiproject/tool/gradebook/ui/helpers/beans/AssignmentGradeRecordCreator.java gradebook/trunk/app/ui/src/java/org/sakaiproject/tool/gradebook/ui/helpers/entity/GradebookEntryGradeEntityProvider.java gradebook/trunk/app/ui/src/java/org/sakaiproject/tool/gradebook/ui/helpers/params/GradeGradebookItemViewParams.java gradebook/trunk/app/ui/src/java/org/sakaiproject/tool/gradebook/ui/helpers/producers/GradeGradebookItemProducer.java gradebook/trunk/app/ui/src/webapp/content/templates/grade-gradebook-item.html Modified: gradebook/trunk/app/business/src/java/org/sakaiproject/tool/gradebook/business/GradebookManager.java\n",
      "gradebook/trunk/app/business/src/java/org/sakaiproject/tool/gradebook/business/impl/GradebookManagerHibernateImpl.java gradebook/trunk/app/ui/pom.xml\n",
      "gradebook/trunk/app/ui/src/java/org/sakaiproject/tool/gradebook/ui/helpers/beans/GradebookItemBean.java gradebook/trunk/app/ui/src/java/org/sakaiproject/tool/gradebook/ui/helpers/entity/GradebookEntryEntityProvider.java gradebook/trunk/app/ui/src/java/org/sakaiproject/tool/gradebook/ui/helpers/producers/AddGradebookItemProducer.java gradebook/trunk/app/ui/src/webapp/WEB-INF/applicationContext.xml gradebook/trunk/app/ui/src/webapp/WEB-\n",
      "INF/bundle/messages.properties gradebook/trunk/app/ui/src/webapp/WEB-INF/requestContext.xml Log: SAK-12180 - New helper tool to grade an assignment ---------------------- This automatic notification message was sent by Sakai Collab (https://collab.sakaiproject.org/portal) from the Source site. You can modify how you receive notifications at My Workspace > Preferences. From cwen@iupui.edu Fri Jan 4 11:37:30 2008 Return-Path: Received: from murder (mail.umich.edu [141.211.14.46]) by frankenstein.mail.umich.edu (Cyrus v2.3.8) with LMTPA; Fri, 04 Jan 2008 11:37:30 -0500 X-Sieve:\n",
      "CMU Sieve 2.3 Received: from murder ([unix socket]) by mail.umich.edu (Cyrus v2.2.12) with LMTPA; Fri, 04 Jan 2008\n",
      "11:37:30 -0500 Received: from tadpole.mr.itd.umich.edu (tadpole.mr.itd.umich.edu [141.211.14.72]) by fan.mail.umich.edu\n",
      "() with ESMTP id m04GbT9x022078; Fri, 4 Jan 2008 11:37:29 -0500 Received: FROM paploo.uhi.ac.uk\n",
      "(app1.prod.collab.uhi.ac.uk [194.35.219.184]) BY tadpole.mr.itd.umich.edu ID 477E60B2.82756.9904 ; 4 Jan 2008 11:37:09\n",
      "-0500 Received: from paploo.uhi.ac.uk (localhost [127.0.0.1]) by paploo.uhi.ac.uk (Postfix) with ESMTP id 8D13DBB001;\n",
      "Fri, 4 Jan 2008 16:37:07 +0000 (GMT) Message-ID: <200801041635.m04GZQGZ007313@nakamura.uits.iupui.edu> Mime-Version: 1.0 Content-Transfer-Encoding: 7bit Received: from prod.collab.uhi.ac.uk ([194.35.219.182]) by paploo.uhi.ac.uk (JAMES SMTP Server 2.1.3) with SMTP ID 120 for ; Fri, 4 Jan 2008 16:36:40 +0000 (GMT) Received:\n",
      "from nakamura.uits.iupui.edu (nakamura.uits.iupui.edu [134.68.220.122]) by shmi.uhi.ac.uk (Postfix) with ESMTP id D430B42E42 for ; Fri, 4 Jan 2008 16:36:37 +0000 (GMT) Received: from nakamura.uits.iupui.edu (localhost [127.0.0.1]) by nakamura.uits.iupui.edu (8.12.11.20060308/8.12.11) with ESMTP id m04GZQ7W007315 for ; Fri, 4 Jan 2008 11:35:26\n",
      "-0500 Received: (from apache@localhost) by nakamura.uits.iupui.edu (8.12.11.20060308/8.12.11/Submit) id m04GZQGZ007313 for source@collab.sakaiproject.org; Fri, 4 Jan 2008 11:35:26 -0500 Date: Fri, 4 Jan 2008 11:35:26 -0500 X-Authentication-Warning: nakamura.uits.iupui.edu: apache set sender to cwen@iupui.edu using -f To:\n",
      "source@collab.sakaiproject.org From: cwen@iupui.edu Subject: [sakai] svn commit: r39764 - in msgcntr/trunk/messageforums-app/src/java/org/sakaiproject/tool/messageforums: . ui X-Content-Type-Outer-Envelope: text/plain; charset=UTF-8 X-Content-Type-Message-Body: text/plain; charset=UTF-8 Content-Type: text/plain; charset=UTF-8 X-DSPAM-Result: Innocent X-DSPAM-Processed: Fri Jan 4 11:37:30 2008 X-DSPAM-Confidence: 0.7002 X-DSPAM-Probability: 0.0000 Details: http://source.sakaiproject.org/viewsvn/?view=rev&rev=39764 Author: cwen@iupui.edu Date: 2008-01-04 11:35:25 -0500 (Fri, 04 Jan 2008) New Revision: 39764 Modified: msgcntr/trunk/messageforums-app/src/java/org/sakaiproject/tool/messageforums/PrivateMessagesTool.java\n",
      "msgcntr/trunk/messageforums-app/src/java/org/sakaiproject/tool/messageforums/ui/PrivateMessageDecoratedBean.java\n",
      "Log: unmerge Xingtang's checkin for SAK-12488. svn merge -r39558:39557 https://source.sakaiproject.org/svn/msgcntr/trunk U messageforums-\n",
      "app/src/java/org/sakaiproject/tool/messageforums/PrivateMessagesTool.java U messageforumsapp/src/java/org/sakaiproject/tool/messageforums/ui/PrivateMessageDecoratedBean.java svn log -r 39558 ----------------------------------------------------------------------- r39558 | hu2@iupui.edu | 2007-12-20 15:25:38 -0500 (Thu, 20 Dec 2007) | 3 lines SAK-12488 when send a message to yourself. click reply to all, cc row should be null.\n",
      "http://jira.sakaiproject.org/jira/browse/SAK-12488 ------------------------------------------------------------------------ ---------------------This automatic notification message was sent by Sakai Collab (https://collab.sakaiproject.org/portal) from the Source site.\n",
      "You can modify how you receive notifications at My Workspace > Preferences. From cwen@iupui.edu Fri Jan 4 11:35:08 2008 Return-Path: Received: from murder (mail.umich.edu [141.211.14.46]) by frankenstein.mail.umich.edu (Cyrus v2.3.8) with LMTPA; Fri, 04 Jan 2008 11:35:08 -0500 X-Sieve: CMU Sieve 2.3 Received: from murder ([unix socket]) by mail.umich.edu (Cyrus v2.2.12) with LMTPA; Fri, 04 Jan 2008 11:35:08 -0500 Received: from it.mr.itd.umich.edu\n",
      "(it.mr.itd.umich.edu [141.211.93.151]) by fan.mail.umich.edu () with ESMTP id m04GZ6lt020480; Fri, 4 Jan 2008 11:35:06 -0500 Received: FROM paploo.uhi.ac.uk (app1.prod.collab.uhi.ac.uk [194.35.219.184]) BY it.mr.itd.umich.edu ID 477E6033.6469D.21870 ; 4 Jan 2008 11:35:02 -0500 Received: from paploo.uhi.ac.uk (localhost [127.0.0.1]) by paploo.uhi.ac.uk (Postfix) with ESMTP id E40FABAE5B; Fri, 4 Jan 2008 16:34:38 +0000 (GMT) Message-ID: <200801041633.m04GX6eG007292@nakamura.uits.iupui.edu> Mime-Version: 1.0 Content-Transfer-Encoding: 7bit\n",
      "Received: from prod.collab.uhi.ac.uk ([194.35.219.182]) by paploo.uhi.ac.uk (JAMES SMTP Server 2.1.3) with SMTP ID\n",
      "697 for ; Fri, 4 Jan 2008 16:34:01 +0000 (GMT) Received: from nakamura.uits.iupui.edu (nakamura.uits.iupui.edu\n",
      "[134.68.220.122]) by shmi.uhi.ac.uk (Postfix) with ESMTP id 1CD0C42E42 for ; Fri, 4 Jan 2008 16:34:17 +0000 (GMT)\n",
      "Received: from nakamura.uits.iupui.edu (localhost [127.0.0.1]) by nakamura.uits.iupui.edu (8.12.11.20060308/8.12.11) with ESMTP id m04GX6Y3007294 for ; Fri, 4 Jan 2008 11:33:06 -0500 Received: (from apache@localhost) by nakamura.uits.iupui.edu (8.12.11.20060308/8.12.11/Submit) id m04GX6eG007292 for source@collab.sakaiproject.org; Fri, 4 Jan 2008 11:33:06 -0500 Date: Fri, 4 Jan 2008 11:33:06 -0500 X-Authentication-Warning: nakamura.uits.iupui.edu: apache set sender to cwen@iupui.edu using -f To: source@collab.sakaiproject.org From: cwen@iupui.edu Subject: [sakai] svn commit: r39763 - in msgcntr/trunk: messageforums-api/src/bundle/org/sakaiproject/api/app/messagecenter/bundle messageforums-app/src/java/org/sakaiproject/tool/messageforums X-Content-Type-Outer-Envelope: text/plain; charset=UTF-8 X-Content-Type-Message-Body: text/plain; charset=UTF-8 Content-Type: text/plain; charset=UTF-8 XDSPAM-Result: Innocent X-DSPAM-Processed: Fri Jan 4 11:35:08 2008 X-DSPAM-Confidence: 0.7615 X-DSPAM-\n",
      "Probability: 0.0000 Details: http://source.sakaiproject.org/viewsvn/?view=rev&rev=39763 Author: cwen@iupui.edu Date:\n",
      "2008-01-04 11:33:05 -0500 (Fri, 04 Jan 2008) New Revision: 39763 Modified: msgcntr/trunk/messageforumsapi/src/bundle/org/sakaiproject/api/app/messagecenter/bundle/Messages.properties msgcntr/trunk/messageforumsapp/src/java/org/sakaiproject/tool/messageforums/PrivateMessagesTool.java Log: unmerge Xingtang's check in for SAK-\n",
      "12484. svn merge -r39571:39570 https://source.sakaiproject.org/svn/msgcntr/trunk U messageforumsapi/src/bundle/org/sakaiproject/api/app/messagecenter/bundle/Messages.properties U messageforums-\n",
      "app/src/java/org/sakaiproject/tool/messageforums/PrivateMessagesTool.java svn log -r 39571 ----------------------------------------------------------------------- r39571 | hu2@iupui.edu | 2007-12-20 21:26:28 -0500 (Thu, 20 Dec 2007) | 3 lines SAK-12484 reply all cc list should not include the current user name. http://jira.sakaiproject.org/jira/browse/SAK-12484 ----------------------------------------------------------------------- ---------------------- This automatic notification message was sent by Sakai Collab\n",
      "(https://collab.sakaiproject.org/portal) from the Source site. You can modify how you receive notifications at My Workspace > Preferences. From gsilver@umich.edu Fri Jan 4 11:12:37 2008 Return-Path: Received: from murder (mail.umich.edu [141.211.14.25]) by frankenstein.mail.umich.edu (Cyrus v2.3.8) with LMTPA; Fri, 04 Jan 2008 11:12:37 -0500 X-Sieve:\n",
      "CMU Sieve 2.3 Received: from murder ([unix socket]) by mail.umich.edu (Cyrus v2.2.12) with LMTPA; Fri, 04 Jan 2008\n",
      "11:12:37 -0500 Received: from holes.mr.itd.umich.edu (holes.mr.itd.umich.edu [141.211.14.79]) by panther.mail.umich.edu\n",
      "() with ESMTP id m04GCaHB030887; Fri, 4 Jan 2008 11:12:36 -0500 Received: FROM paploo.uhi.ac.uk\n",
      "(app1.prod.collab.uhi.ac.uk [194.35.219.184]) BY holes.mr.itd.umich.edu ID 477E5AEB.E670B.28397 ; 4 Jan 2008 11:12:30\n",
      "-0500 Received: from paploo.uhi.ac.uk (localhost [127.0.0.1]) by paploo.uhi.ac.uk (Postfix) with ESMTP id 99715BAE7D;\n",
      "Fri, 4 Jan 2008 16:12:27 +0000 (GMT) Message-ID: <200801041611.m04GB1Lb007221@nakamura.uits.iupui.edu> MimeVersion: 1.0 Content-Transfer-Encoding: 7bit Received: from prod.collab.uhi.ac.uk ([194.35.219.182]) by paploo.uhi.ac.uk\n",
      "(JAMES SMTP Server 2.1.3) with SMTP ID 272 for ; Fri, 4 Jan 2008 16:12:14 +0000 (GMT) Received: from nakamura.uits.iupui.edu (nakamura.uits.iupui.edu [134.68.220.122]) by shmi.uhi.ac.uk (Postfix) with ESMTP id\n",
      "0A6ED42DFC for ; Fri, 4 Jan 2008 16:12:12 +0000 (GMT) Received: from nakamura.uits.iupui.edu (localhost [127.0.0.1]) by nakamura.uits.iupui.edu (8.12.11.20060308/8.12.11) with ESMTP id m04GB1Wt007223 for ; Fri, 4 Jan 2008 11:11:01\n",
      "-0500 Received: (from apache@localhost) by nakamura.uits.iupui.edu (8.12.11.20060308/8.12.11/Submit) id m04GB1Lb007221 for source@collab.sakaiproject.org; Fri, 4 Jan 2008 11:11:01 -0500 Date: Fri, 4 Jan 2008 11:11:01 -0500 X-Authentication-Warning: nakamura.uits.iupui.edu: apache set sender to gsilver@umich.edu using -f To: source@collab.sakaiproject.org From: gsilver@umich.edu Subject: [sakai] svn commit: r39762 - web/trunk/webtool/tool/src/bundle X-Content-Type-Outer-Envelope: text/plain; charset=UTF-8 X-Content-Type-Message-Body: text/plain; charset=UTF-8 Content-Type: text/plain; charset=UTF-8 X-DSPAM-Result: Innocent X-DSPAM-Processed: Fri Jan 4 11:12:37 2008 X-DSPAM-Confidence: 0.7601 X-DSPAM-Probability: 0.0000 Details:\n",
      "http://source.sakaiproject.org/viewsvn/?view=rev&rev=39762 Author: gsilver@umich.edu Date: 2008-01-04 11:11:00 -0500 (Fri, 04 Jan 2008) New Revision: 39762 Modified: web/trunk/web-tool/tool/src/bundle/iframe.properties Log: SAK-12596 http://bugs.sakaiproject.org/jira/browse/SAK-12596 - left moot (unused) entries commented for now ---------------------- This automatic notification message was sent by Sakai Collab (https://collab.sakaiproject.org/portal) from the Source site. You can modify how you receive notifications at My Workspace > Preferences. From gsilver@umich.edu Fri Jan 4 11:11:52 2008 Return-Path: Received: from murder (mail.umich.edu [141.211.14.36]) by frankenstein.mail.umich.edu (Cyrus v2.3.8) with LMTPA; Fri, 04 Jan 2008 11:11:52 -0500 X-Sieve: CMU Sieve 2.3 Received: from murder ([unix socket]) by mail.umich.edu (Cyrus v2.2.12) with LMTPA; Fri, 04 Jan 2008 11:11:52 -0500 Received: from creepshow.mr.itd.umich.edu (creepshow.mr.itd.umich.edu [141.211.14.84]) by godsend.mail.umich.edu () with ESMTP id m04GBqqv025330; Fri, 4 Jan\n",
      "2008 11:11:52 -0500 Received: FROM paploo.uhi.ac.uk (app1.prod.collab.uhi.ac.uk [194.35.219.184]) BY creepshow.mr.itd.umich.edu ID 477E5AB3.5CC32.30840 ; 4 Jan 2008 11:11:34 -0500 Received: from paploo.uhi.ac.uk (localhost [127.0.0.1]) by paploo.uhi.ac.uk (Postfix) with ESMTP id 62AA4BAE46; Fri, 4 Jan 2008 16:11:31 +0000 (GMT)\n",
      "Message-ID: <200801041610.m04GA5KP007209@nakamura.uits.iupui.edu> Mime-Version: 1.0 Content-TransferEncoding: 7bit Received: from prod.collab.uhi.ac.uk ([194.35.219.182]) by paploo.uhi.ac.uk (JAMES SMTP Server 2.1.3) with SMTP ID 1006 for ; Fri, 4 Jan 2008 16:11:18 +0000 (GMT) Received: from nakamura.uits.iupui.edu\n",
      "(nakamura.uits.iupui.edu [134.68.220.122]) by shmi.uhi.ac.uk (Postfix) with ESMTP id C596A3DFA2 for ; Fri, 4 Jan 2008\n",
      "16:11:16 +0000 (GMT) Received: from nakamura.uits.iupui.edu (localhost [127.0.0.1]) by nakamura.uits.iupui.edu (8.12.11.20060308/8.12.11) with ESMTP id m04GA5LR007211 for ; Fri, 4 Jan 2008 11:10:05 -0500 Received: (from apache@localhost) by nakamura.uits.iupui.edu (8.12.11.20060308/8.12.11/Submit) id m04GA5KP007209 for source@collab.sakaiproject.org; Fri, 4 Jan 2008 11:10:05 -0500 Date: Fri, 4 Jan 2008 11:10:05 -0500 X-AuthenticationWarning: nakamura.uits.iupui.edu: apache set sender to gsilver@umich.edu using -f To: source@collab.sakaiproject.org\n",
      "From: gsilver@umich.edu Subject: [sakai] svn commit: r39761 - site/trunk/site-tool/tool/src/bundle X-Content-Type-OuterEnvelope: text/plain; charset=UTF-8 X-Content-Type-Message-Body: text/plain; charset=UTF-8 Content-Type: text/plain; charset=UTF-8 X-DSPAM-Result: Innocent X-DSPAM-Processed: Fri Jan 4 11:11:52 2008 X-DSPAM-Confidence: 0.7605 X-DSPAM-Probability: 0.0000 Details: http://source.sakaiproject.org/viewsvn/?view=rev&rev=39761 Author: gsilver@umich.edu Date: 2008-01-04 11:10:04 -0500 (Fri, 04 Jan 2008) New Revision: 39761 Modified: site/trunk/sitetool/tool/src/bundle/admin.properties Log: SAK-12595 http://bugs.sakaiproject.org/jira/browse/SAK-12595 - left moot (unused) entries commented for now ---------------------- This automatic notification message was sent by Sakai Collab\n",
      "(https://collab.sakaiproject.org/portal) from the Source site. You can modify how you receive notifications at My Workspace\n",
      "> Preferences. From zqian@umich.edu Fri Jan 4 11:11:03 2008 Return-Path: Received: from murder (mail.umich.edu\n",
      "[141.211.14.97]) by frankenstein.mail.umich.edu (Cyrus v2.3.8) with LMTPA; Fri, 04 Jan 2008 11:11:03 -0500 X-Sieve: CMU\n",
      "Sieve 2.3 Received: from murder ([unix socket]) by mail.umich.edu (Cyrus v2.2.12) with LMTPA; Fri, 04 Jan 2008 11:11:03\n",
      "-0500 Received: from carrie.mr.itd.umich.edu (carrie.mr.itd.umich.edu [141.211.93.152]) by sleepers.mail.umich.edu () with\n",
      "ESMTP id m04GB3Vg011502; Fri, 4 Jan 2008 11:11:03 -0500 Received: FROM paploo.uhi.ac.uk\n",
      "(app1.prod.collab.uhi.ac.uk [194.35.219.184]) BY carrie.mr.itd.umich.edu ID 477E5A8D.B378F.24200 ; 4 Jan 2008 11:10:56\n",
      "-0500 Received: from paploo.uhi.ac.uk (localhost [127.0.0.1]) by paploo.uhi.ac.uk (Postfix) with ESMTP id C7251BAD44;\n",
      "Fri, 4 Jan 2008 16:10:53 +0000 (GMT) Message-ID: <200801041609.m04G9EuX007197@nakamura.uits.iupui.edu> MimeVersion: 1.0 Content-Transfer-Encoding: 7bit Received: from prod.collab.uhi.ac.uk ([194.35.219.182]) by paploo.uhi.ac.uk\n",
      "(JAMES SMTP Server 2.1.3) with SMTP ID 483 for ; Fri, 4 Jan 2008 16:10:27 +0000 (GMT) Received: from nakamura.uits.iupui.edu (nakamura.uits.iupui.edu [134.68.220.122]) by shmi.uhi.ac.uk (Postfix) with ESMTP id\n",
      "2E7043DFA2 for ; Fri, 4 Jan 2008 16:10:26 +0000 (GMT) Received: from nakamura.uits.iupui.edu (localhost [127.0.0.1]) by nakamura.uits.iupui.edu (8.12.11.20060308/8.12.11) with ESMTP id m04G9Eqg007199 for ; Fri, 4 Jan 2008 11:09:15 -0500 Received: (from apache@localhost) by nakamura.uits.iupui.edu (8.12.11.20060308/8.12.11/Submit) id m04G9EuX007197 for source@collab.sakaiproject.org; Fri, 4 Jan 2008 11:09:14 -0500 Date: Fri, 4 Jan 2008 11:09:14 -0500 X-AuthenticationWarning: nakamura.uits.iupui.edu: apache set sender to zqian@umich.edu using -f To: source@collab.sakaiproject.org From: zqian@umich.edu Subject: [sakai] svn commit: r39760 - in site-manage/trunk/site-manage-tool/tool/src: java/org/sakaiproject/site/tool webapp/vm/sitesetup X-Content-Type-Outer-Envelope: text/plain; charset=UTF-8 X-ContentType-Message-Body: text/plain; charset=UTF-8 Content-Type: text/plain; charset=UTF-8 X-DSPAM-Result: Innocent XDSPAM-Processed: Fri Jan 4 11:11:03 2008 X-DSPAM-Confidence: 0.6959 X-DSPAM-Probability: 0.0000 Details:\n",
      "http://source.sakaiproject.org/viewsvn/?view=rev&rev=39760 Author: zqian@umich.edu Date: 2008-01-04 11:09:12 -0500\n",
      "(Fri, 04 Jan 2008) New Revision: 39760 Modified: site-manage/trunk/site-managetool/tool/src/java/org/sakaiproject/site/tool/SiteAction.java site-manage/trunk/site-manage-\n",
      "tool/tool/src/webapp/vm/sitesetup/chef_site-siteInfo-list.vm Log: fix to SAK-10911: Refactor use of site.upd, site.upd.site.mbrship and site.upd.grp.mbrship permissions ---------------------- This automatic notification message was sent by Sakai Collab (https://collab.sakaiproject.org/portal) from the Source site. You can modify how you receive notifications at My Workspace > Preferences. From gsilver@umich.edu Fri Jan 4 11:10:22 2008 Return-Path: Received: from murder\n",
      "(mail.umich.edu [141.211.14.39]) by frankenstein.mail.umich.edu (Cyrus v2.3.8) with LMTPA; Fri, 04 Jan 2008 11:10:22\n",
      "-0500 X-Sieve: CMU Sieve 2.3 Received: from murder ([unix socket]) by mail.umich.edu (Cyrus v2.2.12) with LMTPA; Fri,\n",
      "04 Jan 2008 11:10:22 -0500 Received: from holes.mr.itd.umich.edu (holes.mr.itd.umich.edu [141.211.14.79]) by faithful.mail.umich.edu () with ESMTP id m04GAL9k010604; Fri, 4 Jan 2008 11:10:21 -0500 Received: FROM paploo.uhi.ac.uk (app1.prod.collab.uhi.ac.uk [194.35.219.184]) BY holes.mr.itd.umich.edu ID 477E5A67.34350.23015 ; 4 Jan 2008 11:10:18 -0500 Received: from paploo.uhi.ac.uk (localhost [127.0.0.1]) by paploo.uhi.ac.uk (Postfix) with ESMTP id 98D04BAD43; Fri, 4 Jan 2008 16:10:11 +0000 (GMT) Message-ID:\n",
      "<200801041608.m04G8d7w007184@nakamura.uits.iupui.edu> Mime-Version: 1.0 Content-Transfer-Encoding: 7bit\n",
      "Received: from prod.collab.uhi.ac.uk ([194.35.219.182]) by paploo.uhi.ac.uk (JAMES SMTP Server 2.1.3) with SMTP ID\n",
      "966 for ; Fri, 4 Jan 2008 16:09:51 +0000 (GMT) Received: from nakamura.uits.iupui.edu (nakamura.uits.iupui.edu\n",
      "[134.68.220.122]) by shmi.uhi.ac.uk (Postfix) with ESMTP id 9F89542DD0 for ; Fri, 4 Jan 2008 16:09:50 +0000 (GMT)\n",
      "Received: from nakamura.uits.iupui.edu (localhost [127.0.0.1]) by nakamura.uits.iupui.edu (8.12.11.20060308/8.12.11) with ESMTP id m04G8dXN007186 for ; Fri, 4 Jan 2008 11:08:39 -0500 Received: (from apache@localhost) by nakamura.uits.iupui.edu (8.12.11.20060308/8.12.11/Submit) id m04G8d7w007184 for source@collab.sakaiproject.org; Fri, 4 Jan 2008 11:08:39 -0500 Date: Fri, 4 Jan 2008 11:08:39 -0500 X-Authentication-Warning: nakamura.uits.iupui.edu: apache set sender to gsilver@umich.edu using -f To: source@collab.sakaiproject.org From: gsilver@umich.edu Subject: [sakai] svn commit: r39759 - mailarchive/trunk/mailarchive-tool/tool/src/bundle X-Content-Type-Outer-Envelope: text/plain; charset=UTF-8 X-Content-Type-Message-Body: text/plain; charset=UTF-8 Content-Type: text/plain; charset=UTF-8 XDSPAM-Result: Innocent X-DSPAM-Processed: Fri Jan 4 11:10:22 2008 X-DSPAM-Confidence: 0.7606 X-DSPAM-\n",
      "Probability: 0.0000 Details: http://source.sakaiproject.org/viewsvn/?view=rev&rev=39759 Author: gsilver@umich.edu Date:\n",
      "2008-01-04 11:08:38 -0500 (Fri, 04 Jan 2008) New Revision: 39759 Modified: mailarchive/trunk/mailarchivetool/tool/src/bundle/email.properties Log: SAK-12592 http://bugs.sakaiproject.org/jira/browse/SAK-12592 - left moot (unused) entries commented for now ---------------------- This automatic notification message was sent by Sakai Collab\n",
      "(https://collab.sakaiproject.org/portal) from the Source site. You can modify how you receive notifications at My Workspace > Preferences. From wagnermr@iupui.edu Fri Jan 4 10:38:42 2008 Return-Path: Received: from murder (mail.umich.edu [141.211.14.90]) by frankenstein.mail.umich.edu (Cyrus v2.3.8) with LMTPA; Fri, 04 Jan 2008 10:38:42 -0500 X-Sieve:\n",
      "CMU Sieve 2.3 Received: from murder ([unix socket]) by mail.umich.edu (Cyrus v2.2.12) with LMTPA; Fri, 04 Jan 2008\n",
      "10:38:42 -0500 Received: from shining.mr.itd.umich.edu (shining.mr.itd.umich.edu [141.211.93.153]) by flawless.mail.umich.edu () with ESMTP id m04Fcfjm012313; Fri, 4 Jan 2008 10:38:41 -0500 Received: FROM paploo.uhi.ac.uk (app1.prod.collab.uhi.ac.uk [194.35.219.184]) BY shining.mr.itd.umich.edu ID 477E52FA.E6C6E.24093 ; 4 Jan 2008 10:38:37 -0500 Received: from paploo.uhi.ac.uk (localhost [127.0.0.1]) by paploo.uhi.ac.uk (Postfix) with ESMTP id 6A39594CD2; Fri, 4 Jan 2008 15:37:36 +0000 (GMT) Message-ID:\n",
      "<200801041537.m04Fb6Ci007092@nakamura.uits.iupui.edu> Mime-Version: 1.0 Content-Transfer-Encoding: 7bit\n",
      "Received: from prod.collab.uhi.ac.uk ([194.35.219.182]) by paploo.uhi.ac.uk (JAMES SMTP Server 2.1.3) with SMTP ID\n",
      "690 for ; Fri, 4 Jan 2008 15:37:21 +0000 (GMT) Received: from nakamura.uits.iupui.edu (nakamura.uits.iupui.edu\n",
      "[134.68.220.122]) by shmi.uhi.ac.uk (Postfix) with ESMTP id CEFA037ACE for ; Fri, 4 Jan 2008 15:38:17 +0000 (GMT)\n",
      "Received: from nakamura.uits.iupui.edu (localhost [127.0.0.1]) by nakamura.uits.iupui.edu (8.12.11.20060308/8.12.11) with ESMTP id m04Fb6nh007094 for ; Fri, 4 Jan 2008 10:37:06 -0500 Received: (from apache@localhost) by\n",
      "nakamura.uits.iupui.edu (8.12.11.20060308/8.12.11/Submit) id m04Fb6Ci007092 for source@collab.sakaiproject.org; Fri, 4 Jan 2008 10:37:06 -0500 Date: Fri, 4 Jan 2008 10:37:06 -0500 X-Authentication-Warning: nakamura.uits.iupui.edu: apache set sender to wagnermr@iupui.edu using -f To: source@collab.sakaiproject.org From: wagnermr@iupui.edu Subject: [sakai] svn commit: r39758 - in gradebook/trunk: app/business/src/java/org/sakaiproject/tool/gradebook/business/impl service/api/src/java/org/sakaiproject/service/gradebook/shared service/impl/src/java/org/sakaiproject/component/gradebook\n",
      "X-Content-Type-Outer-Envelope: text/plain; charset=UTF-8 X-Content-Type-Message-Body: text/plain; charset=UTF-8\n",
      "Content-Type: text/plain; charset=UTF-8 X-DSPAM-Result: Innocent X-DSPAM-Processed: Fri Jan 4 10:38:42 2008 XDSPAM-Confidence: 0.7559 X-DSPAM-Probability: 0.0000 Details: http://source.sakaiproject.org/viewsvn/?\n",
      "view=rev&rev=39758 Author: wagnermr@iupui.edu Date: 2008-01-04 10:37:04 -0500 (Fri, 04 Jan 2008) New Revision:\n",
      "39758 Modified:\n",
      "gradebook/trunk/app/business/src/java/org/sakaiproject/tool/gradebook/business/impl/GradebookManagerHibernateImpl.java gradebook/trunk/service/api/src/java/org/sakaiproject/service/gradebook/shared/GradebookService.java gradebook/trunk/service/impl/src/java/org/sakaiproject/component/gradebook/GradebookServiceHibernateImpl.java Log: SAK-12175 http://bugs.sakaiproject.org/jira/browse/SAK-12175 Create methods required for gb integration with the\n",
      "Assignment2 tool getGradeDefinitionForStudentForItem ---------------------- This automatic notification message was sent by\n",
      "Sakai Collab (https://collab.sakaiproject.org/portal) from the Source site. You can modify how you receive notifications at My\n",
      "Workspace > Preferences. From zqian@umich.edu Fri Jan 4 10:17:43 2008 Return-Path: Received: from murder\n",
      "(mail.umich.edu [141.211.14.97]) by frankenstein.mail.umich.edu (Cyrus v2.3.8) with LMTPA; Fri, 04 Jan 2008 10:17:43\n",
      "-0500 X-Sieve: CMU Sieve 2.3 Received: from murder ([unix socket]) by mail.umich.edu (Cyrus v2.2.12) with LMTPA; Fri, 04 Jan 2008 10:17:42 -0500 Received: from creepshow.mr.itd.umich.edu (creepshow.mr.itd.umich.edu [141.211.14.84]) by sleepers.mail.umich.edu () with ESMTP id m04FHgfs011536; Fri, 4 Jan 2008 10:17:42 -0500 Received: FROM\n",
      "paploo.uhi.ac.uk (app1.prod.collab.uhi.ac.uk [194.35.219.184]) BY creepshow.mr.itd.umich.edu ID 477E4E0F.CCA4B.926 ; 4 Jan 2008 10:17:38 -0500 Received: from paploo.uhi.ac.uk (localhost [127.0.0.1]) by paploo.uhi.ac.uk (Postfix) with ESMTP id BD02DBAC64; Fri, 4 Jan 2008 15:17:34 +0000 (GMT) Message-ID:\n",
      "<200801041515.m04FFv42007050@nakamura.uits.iupui.edu> Mime-Version: 1.0 Content-Transfer-Encoding: 7bit Received: from prod.collab.uhi.ac.uk ([194.35.219.182]) by paploo.uhi.ac.uk (JAMES SMTP Server 2.1.3) with SMTP ID 25 for ; Fri, 4 Jan 2008 15:17:11 +0000 (GMT) Received: from nakamura.uits.iupui.edu (nakamura.uits.iupui.edu\n",
      "[134.68.220.122]) by shmi.uhi.ac.uk (Postfix) with ESMTP id 5B396236B9 for ; Fri, 4 Jan 2008 15:17:08 +0000 (GMT)\n",
      "Received: from nakamura.uits.iupui.edu (localhost [127.0.0.1]) by nakamura.uits.iupui.edu (8.12.11.20060308/8.12.11) with ESMTP id m04FFv85007052 for ; Fri, 4 Jan 2008 10:15:57 -0500 Received: (from apache@localhost) by\n",
      "nakamura.uits.iupui.edu (8.12.11.20060308/8.12.11/Submit) id m04FFv42007050 for source@collab.sakaiproject.org; Fri, 4 Jan 2008 10:15:57 -0500 Date: Fri, 4 Jan 2008 10:15:57 -0500 X-Authentication-Warning: nakamura.uits.iupui.edu: apache set sender to zqian@umich.edu using -f To: source@collab.sakaiproject.org From: zqian@umich.edu Subject: [sakai] svn commit: r39757 - in assignment/trunk: assignment-impl/impl/src/java/org/sakaiproject/assignment/impl assignmenttool/tool/src/webapp/vm/assignment X-Content-Type-Outer-Envelope: text/plain; charset=UTF-8 X-Content-Type-MessageBody: text/plain; charset=UTF-8 Content-Type: text/plain; charset=UTF-8 X-DSPAM-Result: Innocent X-DSPAM-Processed:\n",
      "Fri Jan 4 10:17:42 2008 X-DSPAM-Confidence: 0.7605 X-DSPAM-Probability: 0.0000 Details:\n",
      "http://source.sakaiproject.org/viewsvn/?view=rev&rev=39757 Author: zqian@umich.edu Date: 2008-01-04 10:15:54 -0500\n",
      "(Fri, 04 Jan 2008) New Revision: 39757 Modified: assignment/trunk/assignment-\n",
      "impl/impl/src/java/org/sakaiproject/assignment/impl/BaseAssignmentService.java assignment/trunk/assignmenttool/tool/src/webapp/vm/assignment/chef_assignments_instructor_list_submissions.vm Log: fix to SAK-12604:Don't show groups/sections filter if the site doesn't have any ---------------------- This automatic notification message was sent by Sakai Collab (https://collab.sakaiproject.org/portal) from the Source site. You can modify how you receive notifications at My\n",
      "Workspace > Preferences. From antranig@caret.cam.ac.uk Fri Jan 4 10:04:14 2008 Return-Path: Received: from murder (mail.umich.edu [141.211.14.25]) by frankenstein.mail.umich.edu (Cyrus v2.3.8) with LMTPA; Fri, 04 Jan 2008 10:04:14\n",
      "-0500 X-Sieve: CMU Sieve 2.3 Received: from murder ([unix socket]) by mail.umich.edu (Cyrus v2.2.12) with LMTPA; Fri,\n",
      "04 Jan 2008 10:04:14 -0500 Received: from holes.mr.itd.umich.edu (holes.mr.itd.umich.edu [141.211.14.79]) by panther.mail.umich.edu () with ESMTP id m04F4Dci015108; Fri, 4 Jan 2008 10:04:13 -0500 Received: FROM paploo.uhi.ac.uk (app1.prod.collab.uhi.ac.uk [194.35.219.184]) BY holes.mr.itd.umich.edu ID 477E4AE3.D7AF.31669 ; 4 Jan 2008 10:04:05 -0500 Received: from paploo.uhi.ac.uk (localhost [127.0.0.1]) by paploo.uhi.ac.uk (Postfix) with ESMTP id 933E3BAC17; Fri, 4 Jan 2008 15:04:00 +0000 (GMT) Message-ID:\n",
      "<200801041502.m04F21Jo007031@nakamura.uits.iupui.edu> Mime-Version: 1.0 Content-Transfer-Encoding: 7bit Received: from prod.collab.uhi.ac.uk ([194.35.219.182]) by paploo.uhi.ac.uk (JAMES SMTP Server 2.1.3) with SMTP ID 32 for ; Fri, 4 Jan 2008 15:03:15 +0000 (GMT) Received: from nakamura.uits.iupui.edu (nakamura.uits.iupui.edu\n",
      "[134.68.220.122]) by shmi.uhi.ac.uk (Postfix) with ESMTP id AC2F6236B9 for ; Fri, 4 Jan 2008 15:03:12 +0000 (GMT)\n",
      "Received: from nakamura.uits.iupui.edu (localhost [127.0.0.1]) by nakamura.uits.iupui.edu (8.12.11.20060308/8.12.11) with ESMTP id m04F21hn007033 for ; Fri, 4 Jan 2008 10:02:01 -0500 Received: (from apache@localhost) by nakamura.uits.iupui.edu (8.12.11.20060308/8.12.11/Submit) id m04F21Jo007031 for source@collab.sakaiproject.org; Fri, 4 Jan 2008 10:02:01 -0500 Date: Fri, 4 Jan 2008 10:02:01 -0500 X-Authentication-Warning: nakamura.uits.iupui.edu: apache set sender to antranig@caret.cam.ac.uk using -f To: source@collab.sakaiproject.org From: antranig@caret.cam.ac.uk Subject: [sakai] svn commit: r39756 - in component/branches/SAK-12166/component-\n",
      "api/component/src/java/org/sakaiproject/component: impl impl/spring/support impl/spring/support/dynamic impl/support util X-Content-Type-Outer-Envelope: text/plain; charset=UTF-8 X-Content-Type-Message-Body: text/plain; charset=UTF-8\n",
      "Content-Type: text/plain; charset=UTF-8 X-DSPAM-Result: Innocent X-DSPAM-Processed: Fri Jan 4 10:04:14 2008 XDSPAM-Confidence: 0.6932 X-DSPAM-Probability: 0.0000 Details: http://source.sakaiproject.org/viewsvn/?\n",
      "view=rev&rev=39756 Author: antranig@caret.cam.ac.uk Date: 2008-01-04 10:01:40 -0500 (Fri, 04 Jan 2008) New Revision: 39756 Added: component/branches/SAK-12166/component-\n",
      "api/component/src/java/org/sakaiproject/component/impl/spring/support/dynamic/ component/branches/SAK-\n",
      "12166/component-\n",
      "api/component/src/java/org/sakaiproject/component/impl/spring/support/dynamic/DynamicComponentManager.java component/branches/SAK-12166/component-api/component/src/java/org/sakaiproject/component/impl/support/ component/branches/SAK-12166/component-\n",
      "api/component/src/java/org/sakaiproject/component/impl/support/DynamicComponentRecord.java component/branches/SAK-12166/component-\n",
      "api/component/src/java/org/sakaiproject/component/impl/support/DynamicJARManager.java component/branches/SAK12166/component-api/component/src/java/org/sakaiproject/component/impl/support/JARRecord.java component/branches/SAK-12166/componentapi/component/src/java/org/sakaiproject/component/util/ByteToCharBase64.java component/branches/SAK12166/component-api/component/src/java/org/sakaiproject/component/util/FileUtil.java component/branches/SAK12166/component-api/component/src/java/org/sakaiproject/component/util/RecordFileIO.java component/branches/SAK12166/component-api/component/src/java/org/sakaiproject/component/util/RecordReader.java component/branches/SAK12166/component-api/component/src/java/org/sakaiproject/component/util/RecordWriter.java component/branches/SAK12166/component-api/component/src/java/org/sakaiproject/component/util/StreamDigestor.java Modified:\n",
      "component/branches/SAK-12166/componentapi/component/src/java/org/sakaiproject/component/impl/spring/support/ComponentsLoaderImpl.java Log: Temporary commit of incomplete work on JAR caching ---------------------- This automatic notification message was sent by Sakai Collab (https://collab.sakaiproject.org/portal) from the Source site. You can modify how you receive notifications at My Workspace\n",
      "> Preferences. From gopal.ramasammycook@gmail.com Fri Jan 4 09:05:31 2008 Return-Path: Received: from murder\n",
      "(mail.umich.edu [141.211.14.90]) by frankenstein.mail.umich.edu (Cyrus v2.3.8) with LMTPA; Fri, 04 Jan 2008 09:05:31\n",
      "-0500 X-Sieve: CMU Sieve 2.3 Received: from murder ([unix socket]) by mail.umich.edu (Cyrus v2.2.12) with LMTPA; Fri,\n",
      "04 Jan 2008 09:05:31 -0500 Received: from guys.mr.itd.umich.edu (guys.mr.itd.umich.edu [141.211.14.76]) by flawless.mail.umich.edu () with ESMTP id m04E5U3C029277; Fri, 4 Jan 2008 09:05:30 -0500 Received: FROM paploo.uhi.ac.uk (app1.prod.collab.uhi.ac.uk [194.35.219.184]) BY guys.mr.itd.umich.edu ID 477E3D23.EE2E7.5237 ; 4 Jan 2008 09:05:26 -0500 Received: from paploo.uhi.ac.uk (localhost [127.0.0.1]) by paploo.uhi.ac.uk (Postfix) with ESMTP id 33C7856DC0; Fri, 4 Jan 2008 14:05:26 +0000 (GMT) Message-ID:\n",
      "<200801041403.m04E3psW006926@nakamura.uits.iupui.edu> Mime-Version: 1.0 Content-Transfer-Encoding: 7bit\n",
      "Received: from prod.collab.uhi.ac.uk ([194.35.219.182]) by paploo.uhi.ac.uk (JAMES SMTP Server 2.1.3) with SMTP ID\n",
      "575 for ; Fri, 4 Jan 2008 14:05:04 +0000 (GMT) Received: from nakamura.uits.iupui.edu (nakamura.uits.iupui.edu\n",
      "[134.68.220.122]) by shmi.uhi.ac.uk (Postfix) with ESMTP id 3C0261D617 for ; Fri, 4 Jan 2008 14:05:03 +0000 (GMT)\n",
      "Received: from nakamura.uits.iupui.edu (localhost [127.0.0.1]) by nakamura.uits.iupui.edu (8.12.11.20060308/8.12.11) with ESMTP id m04E3pQS006928 for ; Fri, 4 Jan 2008 09:03:52 -0500 Received: (from apache@localhost) by nakamura.uits.iupui.edu (8.12.11.20060308/8.12.11/Submit) id m04E3psW006926 for source@collab.sakaiproject.org; Fri, 4 Jan 2008 09:03:51 -0500 Date: Fri, 4 Jan 2008 09:03:51 -0500 X-Authentication-Warning: nakamura.uits.iupui.edu: apache set sender to gopal.ramasammycook@gmail.com using -f To: source@collab.sakaiproject.org From:\n",
      "gopal.ramasammycook@gmail.com Subject: [sakai] svn commit: r39755 - in sam/branches/SAK-12065: samigoapi/src/java/org/sakaiproject/tool/assessment/shared/api/grading samigoapp/src/java/org/sakaiproject/tool/assessment/ui/bean/evaluation samigoapp/src/java/org/sakaiproject/tool/assessment/ui/listener/evaluation samigoservices/src/java/org/sakaiproject/tool/assessment/facade samigo-\n",
      "services/src/java/org/sakaiproject/tool/assessment/integration/helper/ifc samigoservices/src/java/org/sakaiproject/tool/assessment/integration/helper/integrated samigoservices/src/java/org/sakaiproject/tool/assessment/integration/helper/standalone samigo-\n",
      "services/src/java/org/sakaiproject/tool/assessment/shared/impl/grading X-Content-Type-Outer-Envelope: text/plain; charset=UTF-8 X-Content-Type-Message-Body: text/plain; charset=UTF-8 Content-Type: text/plain; charset=UTF-8 XDSPAM-Result: Innocent X-DSPAM-Processed: Fri Jan 4 09:05:31 2008 X-DSPAM-Confidence: 0.7558 X-DSPAMProbability: 0.0000 Details: http://source.sakaiproject.org/viewsvn/?view=rev&rev=39755 Author:\n",
      "gopal.ramasammycook@gmail.com Date: 2008-01-04 09:02:54 -0500 (Fri, 04 Jan 2008) New Revision: 39755 Modified: sam/branches/SAK-12065/samigo-\n",
      "api/src/java/org/sakaiproject/tool/assessment/shared/api/grading/GradingSectionAwareServiceAPI.java sam/branches/SAK-\n",
      "12065/samigo-app/src/java/org/sakaiproject/tool/assessment/ui/bean/evaluation/QuestionScoresBean.java sam/branches/SAK-12065/samigo-\n",
      "app/src/java/org/sakaiproject/tool/assessment/ui/bean/evaluation/SubmissionStatusBean.java sam/branches/SAK12065/samigo-app/src/java/org/sakaiproject/tool/assessment/ui/bean/evaluation/TotalScoresBean.java sam/branches/SAK-\n",
      "12065/samigo-app/src/java/org/sakaiproject/tool/assessment/ui/listener/evaluation/SubmissionStatusListener.java sam/branches/SAK-12065/samigoservices/src/java/org/sakaiproject/tool/assessment/facade/PublishedAssessmentFacadeQueries.java sam/branches/SAK12065/samigo-services/src/java/org/sakaiproject/tool/assessment/facade/PublishedAssessmentFacadeQueriesAPI.java sam/branches/SAK-12065/samigo-\n",
      "services/src/java/org/sakaiproject/tool/assessment/integration/helper/ifc/SectionAwareServiceHelper.java sam/branches/SAK-12065/samigo-\n",
      "services/src/java/org/sakaiproject/tool/assessment/integration/helper/integrated/SectionAwareServiceHelperImpl.java sam/branches/SAK-12065/samigo-\n",
      "services/src/java/org/sakaiproject/tool/assessment/integration/helper/standalone/SectionAwareServiceHelperImpl.java sam/branches/SAK-12065/samigo-\n",
      "services/src/java/org/sakaiproject/tool/assessment/shared/impl/grading/GradingSectionAwareServiceImpl.java Log: SAK12065 Gopal - Samigo Group Release. SubmissionStatus/TotalScores/Questions View filter. ---------------------- This automatic notification message was sent by Sakai Collab (https://collab.sakaiproject.org/portal) from the Source site. You can modify how you receive notifications at My Workspace > Preferences. From david.horwitz@uct.ac.za Fri Jan 4 07:02:32 2008 Return-Path: Received: from murder (mail.umich.edu [141.211.14.39]) by frankenstein.mail.umich.edu (Cyrus v2.3.8) with LMTPA; Fri, 04 Jan 2008 07:02:32 -0500 X-Sieve: CMU Sieve 2.3 Received: from murder ([unix socket]) by mail.umich.edu (Cyrus v2.2.12) with LMTPA; Fri, 04 Jan 2008 07:02:32 -0500 Received: from guys.mr.itd.umich.edu (guys.mr.itd.umich.edu [141.211.14.76]) by faithful.mail.umich.edu () with ESMTP id m04C2VN7026678; Fri, 4 Jan 2008\n",
      "07:02:31 -0500 Received: FROM paploo.uhi.ac.uk (app1.prod.collab.uhi.ac.uk [194.35.219.184]) BY guys.mr.itd.umich.edu ID 477E2050.C2599.3263 ; 4 Jan 2008 07:02:27 -0500 Received: from paploo.uhi.ac.uk (localhost [127.0.0.1]) by paploo.uhi.ac.uk (Postfix) with ESMTP id 6497FBA906; Fri, 4 Jan 2008 12:02:11 +0000 (GMT) Message-ID: <200801041200.m04C0gfK006793@nakamura.uits.iupui.edu> Mime-Version: 1.0 Content-Transfer-Encoding: 7bit\n",
      "Received: from prod.collab.uhi.ac.uk ([194.35.219.182]) by paploo.uhi.ac.uk (JAMES SMTP Server 2.1.3) with SMTP ID\n",
      "611 for ; Fri, 4 Jan 2008 12:01:53 +0000 (GMT) Received: from nakamura.uits.iupui.edu (nakamura.uits.iupui.edu\n",
      "[134.68.220.122]) by shmi.uhi.ac.uk (Postfix) with ESMTP id 5296342D3C for ; Fri, 4 Jan 2008 12:01:53 +0000 (GMT)\n",
      "Received: from nakamura.uits.iupui.edu (localhost [127.0.0.1]) by nakamura.uits.iupui.edu (8.12.11.20060308/8.12.11) with ESMTP id m04C0gnm006795 for ; Fri, 4 Jan 2008 07:00:42 -0500 Received: (from apache@localhost) by nakamura.uits.iupui.edu (8.12.11.20060308/8.12.11/Submit) id m04C0gfK006793 for source@collab.sakaiproject.org; Fri, 4 Jan 2008 07:00:42 -0500 Date: Fri, 4 Jan 2008 07:00:42 -0500 X-Authentication-Warning: nakamura.uits.iupui.edu: apache set sender to david.horwitz@uct.ac.za using -f To: source@collab.sakaiproject.org From: david.horwitz@uct.ac.za Subject:\n",
      "[sakai] svn commit: r39754 - in polls/branches/sakai_2-5-x: . tool tool/src/java/org/sakaiproject/poll/tool\n",
      "tool/src/java/org/sakaiproject/poll/tool/evolvers tool/src/webapp/WEB-INF X-Content-Type-Outer-Envelope: text/plain; charset=UTF-8 X-Content-Type-Message-Body: text/plain; charset=UTF-8 Content-Type: text/plain; charset=UTF-8 XDSPAM-Result: Innocent X-DSPAM-Processed: Fri Jan 4 07:02:32 2008 X-DSPAM-Confidence: 0.6526 X-DSPAM-\n",
      "Probability: 0.0000 Details: http://source.sakaiproject.org/viewsvn/?view=rev&rev=39754 Author: david.horwitz@uct.ac.za\n",
      "Date: 2008-01-04 07:00:10 -0500 (Fri, 04 Jan 2008) New Revision: 39754 Added: polls/branches/sakai_2-5x/tool/src/java/org/sakaiproject/poll/tool/evolvers/ polls/branches/sakai_2-5-\n",
      "x/tool/src/java/org/sakaiproject/poll/tool/evolvers/SakaiFCKTextEvolver.java Removed: polls/branches/sakai_2-5x/tool/src/java/org/sakaiproject/poll/tool/evolvers/SakaiFCKTextEvolver.java Modified: polls/branches/sakai_2-5-x/.classpath polls/branches/sakai_2-5-x/tool/pom.xml polls/branches/sakai_2-5-x/tool/src/webapp/WEB-INF/requestContext.xml Log: svn log -r39753 https://source.sakaiproject.org/svn/polls/trunk -----------------------------------------------------------------------r39753 | david.horwitz@uct.ac.za | 2008-01-04 13:05:51 +0200 (Fri, 04 Jan 2008) | 1 line SAK-12228 implmented\n",
      "workaround sugested by AB - needs to be tested against a trunk build ----------------------------------------------------------------------\n",
      "-- dhorwitz@david-horwitz-6:~/branchManagemnt/sakai_2-5-x> svn merge -c39753 https://source.sakaiproject.org/svn/polls/trunk polls/ U polls/.classpath A polls/tool/src/java/org/sakaiproject/poll/tool/evolvers A polls/tool/src/java/org/sakaiproject/poll/tool/evolvers/SakaiFCKTextEvolver.java C polls/tool/src/webapp/WEBINF/requestContext.xml U polls/tool/pom.xml dhorwitz@david-horwitz-6:~/branchManagemnt/sakai_2-5-x> svn resolved\n",
      "polls/tool/src/webapp/WEB-INF/requestContext.xml Resolved conflicted state of 'polls/tool/src/webapp/WEBINF/requestContext.xml ---------------------- This automatic notification message was sent by Sakai Collab\n",
      "(https://collab.sakaiproject.org/portal) from the Source site. You can modify how you receive notifications at My Workspace\n",
      "> Preferences. From david.horwitz@uct.ac.za Fri Jan 4 06:08:27 2008 Return-Path: Received: from murder\n",
      "(mail.umich.edu [141.211.14.98]) by frankenstein.mail.umich.edu (Cyrus v2.3.8) with LMTPA; Fri, 04 Jan 2008 06:08:27\n",
      "-0500 X-Sieve: CMU Sieve 2.3 Received: from murder ([unix socket]) by mail.umich.edu (Cyrus v2.2.12) with LMTPA; Fri, 04 Jan 2008 06:08:27 -0500 Received: from firestarter.mr.itd.umich.edu (firestarter.mr.itd.umich.edu [141.211.14.83]) by casino.mail.umich.edu () with ESMTP id m04B8Qw9001368; Fri, 4 Jan 2008 06:08:26 -0500 Received: FROM paploo.uhi.ac.uk (app1.prod.collab.uhi.ac.uk [194.35.219.184]) BY firestarter.mr.itd.umich.edu ID 477E13A5.30FC0.24054 ; 4 Jan 2008 06:08:23 -0500 Received: from paploo.uhi.ac.uk (localhost [127.0.0.1]) by paploo.uhi.ac.uk (Postfix) with ESMTP id 784A476D7B; Fri, 4 Jan 2008 11:08:12 +0000 (GMT) Message-ID:\n",
      "<200801041106.m04B6lK3006677@nakamura.uits.iupui.edu> Mime-Version: 1.0 Content-Transfer-Encoding: 7bit\n",
      "Received: from prod.collab.uhi.ac.uk ([194.35.219.182]) by paploo.uhi.ac.uk (JAMES SMTP Server 2.1.3) with SMTP ID\n",
      "585 for ; Fri, 4 Jan 2008 11:07:56 +0000 (GMT) Received: from nakamura.uits.iupui.edu (nakamura.uits.iupui.edu\n",
      "[134.68.220.122]) by shmi.uhi.ac.uk (Postfix) with ESMTP id 1CACC42D0C for ; Fri, 4 Jan 2008 11:07:58 +0000 (GMT)\n",
      "Received: from nakamura.uits.iupui.edu (localhost [127.0.0.1]) by nakamura.uits.iupui.edu (8.12.11.20060308/8.12.11) with ESMTP id m04B6lWM006679 for ; Fri, 4 Jan 2008 06:06:47 -0500 Received: (from apache@localhost) by nakamura.uits.iupui.edu (8.12.11.20060308/8.12.11/Submit) id m04B6lK3006677 for source@collab.sakaiproject.org; Fri, 4 Jan 2008 06:06:47 -0500 Date: Fri, 4 Jan 2008 06:06:47 -0500 X-Authentication-Warning: nakamura.uits.iupui.edu: apache set sender to david.horwitz@uct.ac.za using -f To: source@collab.sakaiproject.org From: david.horwitz@uct.ac.za Subject:\n",
      "[sakai] svn commit: r39753 - in polls/trunk: . tool tool/src/java/org/sakaiproject/poll/tool\n",
      "tool/src/java/org/sakaiproject/poll/tool/evolvers tool/src/webapp/WEB-INF X-Content-Type-Outer-Envelope: text/plain; charset=UTF-8 X-Content-Type-Message-Body: text/plain; charset=UTF-8 Content-Type: text/plain; charset=UTF-8 XDSPAM-Result: Innocent X-DSPAM-Processed: Fri Jan 4 06:08:27 2008 X-DSPAM-Confidence: 0.6948 X-DSPAM-\n",
      "Probability: 0.0000 Details: http://source.sakaiproject.org/viewsvn/?view=rev&rev=39753 Author: david.horwitz@uct.ac.za Date: 2008-01-04 06:05:51 -0500 (Fri, 04 Jan 2008) New Revision: 39753 Added:\n",
      "polls/trunk/tool/src/java/org/sakaiproject/poll/tool/evolvers/\n",
      "polls/trunk/tool/src/java/org/sakaiproject/poll/tool/evolvers/SakaiFCKTextEvolver.java Modified: polls/trunk/.classpath polls/trunk/tool/pom.xml polls/trunk/tool/src/webapp/WEB-INF/requestContext.xml Log: SAK-12228 implmented workaround sugested by AB - needs to be tested against a trunk build ---------------------- This automatic notification message was sent by Sakai Collab (https://collab.sakaiproject.org/portal) from the Source site. You can modify how you receive notifications at My\n",
      "Workspace > Preferences. From david.horwitz@uct.ac.za Fri Jan 4 04:49:08 2008 Return-Path: Received: from murder\n",
      "(mail.umich.edu [141.211.14.92]) by frankenstein.mail.umich.edu (Cyrus v2.3.8) with LMTPA; Fri, 04 Jan 2008 04:49:08\n",
      "-0500 X-Sieve: CMU Sieve 2.3 Received: from murder ([unix socket]) by mail.umich.edu (Cyrus v2.2.12) with LMTPA; Fri, 04 Jan 2008 04:49:08 -0500 Received: from galaxyquest.mr.itd.umich.edu (galaxyquest.mr.itd.umich.edu [141.211.93.145]) by score.mail.umich.edu () with ESMTP id m049n60G017588; Fri, 4 Jan 2008 04:49:06 -0500 Received: FROM\n",
      "paploo.uhi.ac.uk (app1.prod.collab.uhi.ac.uk [194.35.219.184]) BY galaxyquest.mr.itd.umich.edu ID 477E010C.48C2.10259 ; 4 Jan 2008 04:49:03 -0500 Received: from paploo.uhi.ac.uk (localhost [127.0.0.1]) by paploo.uhi.ac.uk (Postfix) with ESMTP id 254CC8CDEE; Fri, 4 Jan 2008 09:48:55 +0000 (GMT) Message-ID:\n",
      "<200801040947.m049lUxo006517@nakamura.uits.iupui.edu> Mime-Version: 1.0 Content-Transfer-Encoding: 7bit\n",
      "Received: from prod.collab.uhi.ac.uk ([194.35.219.182]) by paploo.uhi.ac.uk (JAMES SMTP Server 2.1.3) with SMTP ID\n",
      "246 for ; Fri, 4 Jan 2008 09:48:36 +0000 (GMT) Received: from nakamura.uits.iupui.edu (nakamura.uits.iupui.edu\n",
      "[134.68.220.122]) by shmi.uhi.ac.uk (Postfix) with ESMTP id 8C13342C92 for ; Fri, 4 Jan 2008 09:48:40 +0000 (GMT)\n",
      "Received: from nakamura.uits.iupui.edu (localhost [127.0.0.1]) by nakamura.uits.iupui.edu (8.12.11.20060308/8.12.11) with ESMTP id m049lU3P006519 for ; Fri, 4 Jan 2008 04:47:30 -0500 Received: (from apache@localhost) by nakamura.uits.iupui.edu (8.12.11.20060308/8.12.11/Submit) id m049lUxo006517 for source@collab.sakaiproject.org; Fri, 4 Jan 2008 04:47:30 -0500 Date: Fri, 4 Jan 2008 04:47:30 -0500 X-Authentication-Warning: nakamura.uits.iupui.edu: apache set sender to david.horwitz@uct.ac.za using -f To: source@collab.sakaiproject.org From: david.horwitz@uct.ac.za Subject: [sakai] svn commit: r39752 - in podcasts/branches/sakai_2-5-x/podcasts-app/src/webapp: css podcasts X-Content-TypeOuter-Envelope: text/plain; charset=UTF-8 X-Content-Type-Message-Body: text/plain; charset=UTF-8 Content-Type: text/plain; charset=UTF-8 X-DSPAM-Result: Innocent X-DSPAM-Processed: Fri Jan 4 04:49:08 2008 X-DSPAMConfidence: 0.6528 X-DSPAM-Probability: 0.0000 Details: http://source.sakaiproject.org/viewsvn/?view=rev&rev=39752 Author: david.horwitz@uct.ac.za Date: 2008-01-04 04:47:16 -0500 (Fri, 04 Jan 2008) New Revision: 39752 Modified: podcasts/branches/sakai_2-5-x/podcasts-app/src/webapp/css/podcaster.css podcasts/branches/sakai_2-5-x/podcastsapp/src/webapp/podcasts/podMain.jsp Log: svn log -r39641 https://source.sakaiproject.org/svn/podcasts/trunk ----------------------------------------------------------------------- r39641 | josrodri@iupui.edu | 2007-12-28 23:44:24 +0200 (Fri, 28 Dec 2007) | 1\n",
      "line SAK-9882: refactored podMain.jsp the right way (at least much closer to) -------------------------------------------------------------\n",
      "----------- dhorwitz@david-horwitz-6:~/branchManagemnt/sakai_2-5-x> svn merge -c39641\n",
      "https://source.sakaiproject.org/svn/podcasts/trunk podcasts/ C podcasts/podcasts-app/src/webapp/podcasts/podMain.jsp U podcasts/podcasts-app/src/webapp/css/podcaster.css conflict merged manualy ---------------------- This automatic notification message was sent by Sakai Collab (https://collab.sakaiproject.org/portal) from the Source site. You can modify how you receive notifications at My Workspace > Preferences. From david.horwitz@uct.ac.za Fri Jan 4 04:33:44 2008 Return-Path: Received: from murder (mail.umich.edu [141.211.14.46]) by frankenstein.mail.umich.edu (Cyrus v2.3.8) with LMTPA; Fri, 04 Jan 2008 04:33:44 -0500 X-Sieve: CMU Sieve 2.3 Received: from murder ([unix socket]) by mail.umich.edu (Cyrus v2.2.12) with LMTPA; Fri, 04 Jan 2008 04:33:44 -0500 Received: from workinggirl.mr.itd.umich.edu (workinggirl.mr.itd.umich.edu [141.211.93.143]) by fan.mail.umich.edu () with ESMTP id m049Xge3031803; Fri, 4 Jan 2008 04:33:42 -0500 Received:\n",
      "FROM paploo.uhi.ac.uk (app1.prod.collab.uhi.ac.uk [194.35.219.184]) BY workinggirl.mr.itd.umich.edu ID 477DFD6C.75DBE.26054 ; 4 Jan 2008 04:33:35 -0500 Received: from paploo.uhi.ac.uk (localhost [127.0.0.1]) by paploo.uhi.ac.uk (Postfix) with ESMTP id 6C929BA656; Fri, 4 Jan 2008 09:33:27 +0000 (GMT) Message-ID: <200801040932.m049W2i5006493@nakamura.uits.iupui.edu> Mime-Version: 1.0 Content-Transfer-Encoding: 7bit\n",
      "Received: from prod.collab.uhi.ac.uk ([194.35.219.182]) by paploo.uhi.ac.uk (JAMES SMTP Server 2.1.3) with SMTP ID\n",
      "153 for ; Fri, 4 Jan 2008 09:33:10 +0000 (GMT) Received: from nakamura.uits.iupui.edu (nakamura.uits.iupui.edu\n",
      "[134.68.220.122]) by shmi.uhi.ac.uk (Postfix) with ESMTP id 6C69423767 for ; Fri, 4 Jan 2008 09:33:13 +0000 (GMT)\n",
      "Received: from nakamura.uits.iupui.edu (localhost [127.0.0.1]) by nakamura.uits.iupui.edu (8.12.11.20060308/8.12.11) with ESMTP id m049W3fl006495 for ; Fri, 4 Jan 2008 04:32:03 -0500 Received: (from apache@localhost) by nakamura.uits.iupui.edu (8.12.11.20060308/8.12.11/Submit) id m049W2i5006493 for source@collab.sakaiproject.org; Fri, 4 Jan 2008 04:32:02 -0500 Date: Fri, 4 Jan 2008 04:32:02 -0500 X-Authentication-Warning: nakamura.uits.iupui.edu: apache set sender to david.horwitz@uct.ac.za using -f To: source@collab.sakaiproject.org From: david.horwitz@uct.ac.za Subject: [sakai] svn commit: r39751 - in podcasts/branches/sakai_2-5-x/podcasts-app/src/webapp: css images podcasts X-ContentType-Outer-Envelope: text/plain; charset=UTF-8 X-Content-Type-Message-Body: text/plain; charset=UTF-8 Content-Type: text/plain; charset=UTF-8 X-DSPAM-Result: Innocent X-DSPAM-Processed: Fri Jan 4 04:33:44 2008 X-DSPAMConfidence: 0.7002 X-DSPAM-Probability: 0.0000 Details: http://source.sakaiproject.org/viewsvn/?view=rev&rev=39751 Author: david.horwitz@uct.ac.za Date: 2008-01-04 04:31:35 -0500 (Fri, 04 Jan 2008) New Revision: 39751 Removed: podcasts/branches/sakai_2-5-x/podcasts-app/src/webapp/images/rss-feed-icon.png podcasts/branches/sakai_2-5x/podcasts-app/src/webapp/podcasts/podPermissions.jsp Modified: podcasts/branches/sakai_2-5-x/podcastsapp/src/webapp/css/podcaster.css podcasts/branches/sakai_2-5-x/podcasts-app/src/webapp/podcasts/podDelete.jsp podcasts/branches/sakai_2-5-x/podcasts-app/src/webapp/podcasts/podMain.jsp podcasts/branches/sakai_2-5-x/podcastsapp/src/webapp/podcasts/podNoResource.jsp podcasts/branches/sakai_2-5-x/podcasts-\n",
      "app/src/webapp/podcasts/podOptions.jsp Log: svn log -r39146 https://source.sakaiproject.org/svn/podcasts/trunk ----------------------------------------------------------------------- r39146 | josrodri@iupui.edu | 2007-12-12 21:40:33 +0200 (Wed, 12 Dec 2007) | 1 line SAK-9882: refactored the other pages as well to take advantage of proper jsp components as well as validation cleanup. ------------------------------------------------------------------------ dhorwitz@david-horwitz-6:~/branchManagemnt/sakai_2-5x> svn merge -c39146 https://source.sakaiproject.org/svn/podcasts/trunk podcasts/ D podcasts/podcastsapp/src/webapp/podcasts/podPermissions.jsp U podcasts/podcasts-app/src/webapp/podcasts/podDelete.jsp U podcasts/podcasts-app/src/webapp/podcasts/podMain.jsp U podcasts/podcasts-\n",
      "app/src/webapp/podcasts/podNoResource.jsp U podcasts/podcasts-app/src/webapp/podcasts/podOptions.jsp D podcasts/podcasts-app/src/webapp/images/rss-feed-icon.png U podcasts/podcasts-app/src/webapp/css/podcaster.css --------------------- This automatic notification message was sent by Sakai Collab (https://collab.sakaiproject.org/portal) from the\n",
      "Source site. You can modify how you receive notifications at My Workspace > Preferences. From stephen.marquard@uct.ac.za Fri Jan 4 04:07:34 2008 Return-Path: Received: from murder (mail.umich.edu\n",
      "[141.211.14.25]) by frankenstein.mail.umich.edu (Cyrus v2.3.8) with LMTPA; Fri, 04 Jan 2008 04:07:34 -0500 X-Sieve:\n",
      "CMU Sieve 2.3 Received: from murder ([unix socket]) by mail.umich.edu (Cyrus v2.2.12) with LMTPA; Fri, 04 Jan 2008\n",
      "04:07:34 -0500 Received: from salemslot.mr.itd.umich.edu (salemslot.mr.itd.umich.edu [141.211.14.58]) by panther.mail.umich.edu () with ESMTP id m0497WAN027902; Fri, 4 Jan 2008 04:07:32 -0500 Received: FROM\n",
      "paploo.uhi.ac.uk (app1.prod.collab.uhi.ac.uk [194.35.219.184]) BY salemslot.mr.itd.umich.edu ID 477DF74E.49493.30415 ; 4 Jan 2008 04:07:29 -0500 Received: from paploo.uhi.ac.uk (localhost [127.0.0.1]) by paploo.uhi.ac.uk (Postfix) with ESMTP id 88598BA5B6; Fri, 4 Jan 2008 09:07:19 +0000 (GMT) Message-ID:\n",
      "<200801040905.m0495rWB006420@nakamura.uits.iupui.edu> Mime-Version: 1.0 Content-Transfer-Encoding: 7bit\n",
      "Received: from prod.collab.uhi.ac.uk ([194.35.219.182]) by paploo.uhi.ac.uk (JAMES SMTP Server 2.1.3) with SMTP ID\n",
      "385 for ; Fri, 4 Jan 2008 09:07:04 +0000 (GMT) Received: from nakamura.uits.iupui.edu (nakamura.uits.iupui.edu\n",
      "[134.68.220.122]) by shmi.uhi.ac.uk (Postfix) with ESMTP id 90636418A8 for ; Fri, 4 Jan 2008 09:07:04 +0000 (GMT)\n",
      "Received: from nakamura.uits.iupui.edu (localhost [127.0.0.1]) by nakamura.uits.iupui.edu (8.12.11.20060308/8.12.11) with ESMTP id m0495sZs006422 for ; Fri, 4 Jan 2008 04:05:54 -0500 Received: (from apache@localhost) by nakamura.uits.iupui.edu (8.12.11.20060308/8.12.11/Submit) id m0495rWB006420 for source@collab.sakaiproject.org; Fri, 4 Jan 2008 04:05:53 -0500 Date: Fri, 4 Jan 2008 04:05:53 -0500 X-Authentication-Warning: nakamura.uits.iupui.edu: apache set sender to stephen.marquard@uct.ac.za using -f To: source@collab.sakaiproject.org From: stephen.marquard@uct.ac.za Subject: [sakai] svn commit: r39750 - event/branches/SAK-6216/eventutil/util/src/java/org/sakaiproject/util X-Content-Type-Outer-Envelope: text/plain; charset=UTF-8 X-Content-Type-MessageBody: text/plain; charset=UTF-8 Content-Type: text/plain; charset=UTF-8 X-DSPAM-Result: Innocent X-DSPAM-Processed: Fri Jan 4 04:07:34 2008 X-DSPAM-Confidence: 0.7554 X-DSPAM-Probability: 0.0000 Details: http://source.sakaiproject.org/viewsvn/?view=rev&rev=39750 Author: stephen.marquard@uct.ac.za Date: 2008-01-04\n",
      "04:05:43 -0500 (Fri, 04 Jan 2008) New Revision: 39750 Modified: event/branches/SAK-6216/event-\n",
      "util/util/src/java/org/sakaiproject/util/EmailNotification.java Log: SAK-6216 merge event change from SAK-11169 (r39033) to synchronize branch with 2-5-x (for convenience for UCT local build) ---------------------- This automatic notification message was sent by Sakai Collab (https://collab.sakaiproject.org/portal) from the Source site. You can modify how you receive notifications at My Workspace > Preferences. From louis@media.berkeley.edu Thu Jan 3 19:51:21 2008 Return-Path: Received: from murder (mail.umich.edu [141.211.14.91]) by frankenstein.mail.umich.edu (Cyrus v2.3.8) with LMTPA; Thu, 03 Jan 2008 19:51:21 -0500 X-Sieve: CMU Sieve 2.3 Received: from murder ([unix socket]) by mail.umich.edu (Cyrus v2.2.12) with LMTPA; Thu, 03 Jan 2008 19:51:21 -0500 Received: from eyewitness.mr.itd.umich.edu\n",
      "(eyewitness.mr.itd.umich.edu [141.211.93.142]) by jacknife.mail.umich.edu () with ESMTP id m040pJHB027171; Thu, 3 Jan\n",
      "2008 19:51:19 -0500 Received: FROM paploo.uhi.ac.uk (app1.prod.collab.uhi.ac.uk [194.35.219.184]) BY eyewitness.mr.itd.umich.edu ID 477D8300.AC098.32562 ; 3 Jan 2008 19:51:15 -0500 Received: from paploo.uhi.ac.uk (localhost [127.0.0.1]) by paploo.uhi.ac.uk (Postfix) with ESMTP id E6CC4B9F8A; Fri, 4 Jan 2008 00:36:06 +0000 (GMT) Message-ID: <200801040023.m040NpCc005473@nakamura.uits.iupui.edu> Mime-Version: 1.0 Content-TransferEncoding: 7bit Received: from prod.collab.uhi.ac.uk ([194.35.219.182]) by paploo.uhi.ac.uk (JAMES SMTP Server 2.1.3) with SMTP ID 754 for ; Fri, 4 Jan 2008 00:35:43 +0000 (GMT) Received: from nakamura.uits.iupui.edu\n",
      "(nakamura.uits.iupui.edu [134.68.220.122]) by shmi.uhi.ac.uk (Postfix) with ESMTP id 8889842C49 for ; Fri, 4 Jan 2008\n",
      "00:25:00 +0000 (GMT) Received: from nakamura.uits.iupui.edu (localhost [127.0.0.1]) by nakamura.uits.iupui.edu (8.12.11.20060308/8.12.11) with ESMTP id m040NpgM005475 for ; Thu, 3 Jan 2008 19:23:51 -0500 Received: (from apache@localhost) by nakamura.uits.iupui.edu (8.12.11.20060308/8.12.11/Submit) id m040NpCc005473 for source@collab.sakaiproject.org; Thu, 3 Jan 2008 19:23:51 -0500 Date: Thu, 3 Jan 2008 19:23:51 -0500 X-AuthenticationWarning: nakamura.uits.iupui.edu: apache set sender to louis@media.berkeley.edu using -f To:\n",
      "source@collab.sakaiproject.org From: louis@media.berkeley.edu Subject: [sakai] svn commit: r39749 - in bspace/sitemanage/sakai_2-4-x/site-manage-tool/tool/src: bundle webapp/vm/sitesetup X-Content-Type-Outer-Envelope: text/plain; charset=UTF-8 X-Content-Type-Message-Body: text/plain; charset=UTF-8 Content-Type: text/plain; charset=UTF-8 XDSPAM-Result: Innocent X-DSPAM-Processed: Thu Jan 3 19:51:20 2008 X-DSPAM-Confidence: 0.6956 X-DSPAM-\n",
      "Probability: 0.0000 Details: http://source.sakaiproject.org/viewsvn/?view=rev&rev=39749 Author: louis@media.berkeley.edu Date: 2008-01-03 19:23:46 -0500 (Thu, 03 Jan 2008) New Revision: 39749 Modified: bspace/site-manage/sakai_2-4-x/sitemanage-tool/tool/src/bundle/sitesetupgeneric.properties bspace/site-manage/sakai_2-4-x/site-managetool/tool/src/webapp/vm/sitesetup/chef_site-importSites.vm Log: BSP-1420 Update text to clarify \"Re-Use Materials...\" option in WS Setup ---------------------- This automatic notification message was sent by Sakai Collab\n",
      "(https://collab.sakaiproject.org/portal) from the Source site. You can modify how you receive notifications at My Workspace\n",
      "> Preferences. From louis@media.berkeley.edu Thu Jan 3 17:18:23 2008 Return-Path: Received: from murder\n",
      "(mail.umich.edu [141.211.14.91]) by frankenstein.mail.umich.edu (Cyrus v2.3.8) with LMTPA; Thu, 03 Jan 2008 17:18:23\n",
      "-0500 X-Sieve: CMU Sieve 2.3 Received: from murder ([unix socket]) by mail.umich.edu (Cyrus v2.2.12) with LMTPA; Thu, 03 Jan 2008 17:18:23 -0500 Received: from salemslot.mr.itd.umich.edu (salemslot.mr.itd.umich.edu [141.211.14.58]) by jacknife.mail.umich.edu () with ESMTP id m03MIMXY027729; Thu, 3 Jan 2008 17:18:22 -0500 Received: FROM\n",
      "paploo.uhi.ac.uk (app1.prod.collab.uhi.ac.uk [194.35.219.184]) BY salemslot.mr.itd.umich.edu ID 477D5F23.797F6.16348 ; 3 Jan 2008 17:18:14 -0500 Received: from paploo.uhi.ac.uk (localhost [127.0.0.1]) by paploo.uhi.ac.uk (Postfix) with ESMTP id EF439B98CE; Thu, 3 Jan 2008 22:18:19 +0000 (GMT) Message-ID:\n",
      "<200801032216.m03MGhDa005292@nakamura.uits.iupui.edu> Mime-Version: 1.0 Content-Transfer-Encoding: 7bit\n",
      "Received: from prod.collab.uhi.ac.uk ([194.35.219.182]) by paploo.uhi.ac.uk (JAMES SMTP Server 2.1.3) with SMTP ID 236 for ; Thu, 3 Jan 2008 22:18:04 +0000 (GMT) Received: from nakamura.uits.iupui.edu (nakamura.uits.iupui.edu\n",
      "[134.68.220.122]) by shmi.uhi.ac.uk (Postfix) with ESMTP id 905D53C2FD for ; Thu, 3 Jan 2008 22:17:52 +0000 (GMT)\n",
      "Received: from nakamura.uits.iupui.edu (localhost [127.0.0.1]) by nakamura.uits.iupui.edu (8.12.11.20060308/8.12.11) with ESMTP id m03MGhrs005294 for ; Thu, 3 Jan 2008 17:16:43 -0500 Received: (from apache@localhost) by nakamura.uits.iupui.edu (8.12.11.20060308/8.12.11/Submit) id m03MGhDa005292 for source@collab.sakaiproject.org; Thu, 3 Jan 2008 17:16:43 -0500 Date: Thu, 3 Jan 2008 17:16:43 -0500 X-Authentication-Warning: nakamura.uits.iupui.edu: apache set sender to louis@media.berkeley.edu using -f To: source@collab.sakaiproject.org From: louis@media.berkeley.edu Subject: [sakai] svn commit: r39746 - in bspace/site-manage/sakai_2-4-x/site-managetool/tool/src: bundle webapp/vm/sitesetup X-Content-Type-Outer-Envelope: text/plain; charset=UTF-8 X-Content-TypeMessage-Body: text/plain; charset=UTF-8 Content-Type: text/plain; charset=UTF-8 X-DSPAM-Result: Innocent X-DSPAMProcessed: Thu Jan 3 17:18:23 2008 X-DSPAM-Confidence: 0.6959 X-DSPAM-Probability: 0.0000 Details: http://source.sakaiproject.org/viewsvn/?view=rev&rev=39746 Author: louis@media.berkeley.edu Date: 2008-01-03 17:16:39\n",
      "-0500 (Thu, 03 Jan 2008) New Revision: 39746 Modified: bspace/site-manage/sakai_2-4-x/site-managetool/tool/src/bundle/sitesetupgeneric.properties bspace/site-manage/sakai_2-4-x/site-manage-\n",
      "tool/tool/src/webapp/vm/sitesetup/chef_site-siteInfo-duplicate.vm Log: BSP-1421 Add text to clarify \"Duplicate Site\" option in Site Info ---------------------- This automatic notification message was sent by Sakai Collab\n",
      "(https://collab.sakaiproject.org/portal) from the Source site. You can modify how you receive notifications at My Workspace\n",
      "> Preferences. From ray@media.berkeley.edu Thu Jan 3 17:07:00 2008 Return-Path: Received: from murder\n",
      "(mail.umich.edu [141.211.14.39]) by frankenstein.mail.umich.edu (Cyrus v2.3.8) with LMTPA; Thu, 03 Jan 2008 17:07:00\n",
      "-0500 X-Sieve: CMU Sieve 2.3 Received: from murder ([unix socket]) by mail.umich.edu (Cyrus v2.2.12) with LMTPA; Thu, 03 Jan 2008 17:07:00 -0500 Received: from anniehall.mr.itd.umich.edu (anniehall.mr.itd.umich.edu [141.211.93.141]) by faithful.mail.umich.edu () with ESMTP id m03M6xaq014868; Thu, 3 Jan 2008 17:06:59 -0500 Received: FROM\n",
      "paploo.uhi.ac.uk (app1.prod.collab.uhi.ac.uk [194.35.219.184]) BY anniehall.mr.itd.umich.edu ID 477D5C7A.4FE1F.22211 ; 3 Jan 2008 17:06:53 -0500 Received: from paploo.uhi.ac.uk (localhost [127.0.0.1]) by paploo.uhi.ac.uk (Postfix) with ESMTP id 0BC8D7225E; Thu, 3 Jan 2008 22:06:57 +0000 (GMT) Message-ID:\n",
      "<200801032205.m03M5Ea7005273@nakamura.uits.iupui.edu> Mime-Version: 1.0 Content-Transfer-Encoding: 7bit\n",
      "Received: from prod.collab.uhi.ac.uk ([194.35.219.182]) by paploo.uhi.ac.uk (JAMES SMTP Server 2.1.3) with SMTP ID\n",
      "554 for ; Thu, 3 Jan 2008 22:06:34 +0000 (GMT) Received: from nakamura.uits.iupui.edu (nakamura.uits.iupui.edu\n",
      "[134.68.220.122]) by shmi.uhi.ac.uk (Postfix) with ESMTP id 2AB513C2FD for ; Thu, 3 Jan 2008 22:06:23 +0000 (GMT)\n",
      "Received: from nakamura.uits.iupui.edu (localhost [127.0.0.1]) by nakamura.uits.iupui.edu (8.12.11.20060308/8.12.11) with ESMTP id m03M5EQa005275 for ; Thu, 3 Jan 2008 17:05:14 -0500 Received: (from apache@localhost) by nakamura.uits.iupui.edu (8.12.11.20060308/8.12.11/Submit) id m03M5Ea7005273 for source@collab.sakaiproject.org; Thu, 3 Jan 2008 17:05:14 -0500 Date: Thu, 3 Jan 2008 17:05:14 -0500 X-Authentication-Warning: nakamura.uits.iupui.edu:\n",
      "apache set sender to ray@media.berkeley.edu using -f To: source@collab.sakaiproject.org From: ray@media.berkeley.edu Subject: [sakai] svn commit: r39745 - providers/trunk/cm/cm-authzprovider/src/java/org/sakaiproject/coursemanagement/impl/provider X-Content-Type-Outer-Envelope: text/plain; charset=UTF-8 X-Content-Type-Message-Body: text/plain; charset=UTF-8 Content-Type: text/plain; charset=UTF-8 XDSPAM-Result: Innocent X-DSPAM-Processed: Thu Jan 3 17:07:00 2008 X-DSPAM-Confidence: 0.7556 X-DSPAM-\n",
      "Probability: 0.0000 Details: http://source.sakaiproject.org/viewsvn/?view=rev&rev=39745 Author: ray@media.berkeley.edu Date: 2008-01-03 17:05:11 -0500 (Thu, 03 Jan 2008) New Revision: 39745 Modified: providers/trunk/cm/cm-authzprovider/src/java/org/sakaiproject/coursemanagement/impl/provider/CourseManagementGroupProvider.java Log: SAK12602 Fix logic when a user has multiple roles in a section ---------------------- This automatic notification message was sent by Sakai Collab (https://collab.sakaiproject.org/portal) from the Source site. You can modify how you receive notifications at My Workspace > Preferences. From cwen@iupui.edu Thu Jan 3 16:34:40 2008 Return-Path: Received: from murder\n",
      "(mail.umich.edu [141.211.14.34]) by frankenstein.mail.umich.edu (Cyrus v2.3.8) with LMTPA; Thu, 03 Jan 2008 16:34:40\n",
      "-0500 X-Sieve: CMU Sieve 2.3 Received: from murder ([unix socket]) by mail.umich.edu (Cyrus v2.2.12) with LMTPA; Thu, 03 Jan 2008 16:34:40 -0500 Received: from icestorm.mr.itd.umich.edu (icestorm.mr.itd.umich.edu [141.211.93.149]) by chaos.mail.umich.edu () with ESMTP id m03LYdY1029538; Thu, 3 Jan 2008 16:34:39 -0500 Received: FROM\n",
      "paploo.uhi.ac.uk (app1.prod.collab.uhi.ac.uk [194.35.219.184]) BY icestorm.mr.itd.umich.edu ID 477D54EA.13F34.26602 ; 3 Jan 2008 16:34:36 -0500 Received: from paploo.uhi.ac.uk (localhost [127.0.0.1]) by paploo.uhi.ac.uk (Postfix) with ESMTP id CC710ADC79; Thu, 3 Jan 2008 21:34:29 +0000 (GMT) Message-ID:\n",
      "<200801032133.m03LX3gG005191@nakamura.uits.iupui.edu> Mime-Version: 1.0 Content-Transfer-Encoding: 7bit\n",
      "Received: from prod.collab.uhi.ac.uk ([194.35.219.182]) by paploo.uhi.ac.uk (JAMES SMTP Server 2.1.3) with SMTP ID\n",
      "611 for ; Thu, 3 Jan 2008 21:34:08 +0000 (GMT) Received: from nakamura.uits.iupui.edu (nakamura.uits.iupui.edu\n",
      "[134.68.220.122]) by shmi.uhi.ac.uk (Postfix) with ESMTP id 43C4242B55 for ; Thu, 3 Jan 2008 21:34:12 +0000 (GMT)\n",
      "Received: from nakamura.uits.iupui.edu (localhost [127.0.0.1]) by nakamura.uits.iupui.edu (8.12.11.20060308/8.12.11) with ESMTP id m03LX3Vb005193 for ; Thu, 3 Jan 2008 16:33:03 -0500 Received: (from apache@localhost) by nakamura.uits.iupui.edu (8.12.11.20060308/8.12.11/Submit) id m03LX3gG005191 for source@collab.sakaiproject.org; Thu, 3 Jan 2008 16:33:03 -0500 Date: Thu, 3 Jan 2008 16:33:03 -0500 X-Authentication-Warning: nakamura.uits.iupui.edu:\n",
      "apache set sender to cwen@iupui.edu using -f To: source@collab.sakaiproject.org From: cwen@iupui.edu Subject: [sakai] svn commit: r39744 - oncourse/branches/oncourse_OPC_122007 X-Content-Type-Outer-Envelope: text/plain; charset=UTF-8 X-Content-Type-Message-Body: text/plain; charset=UTF-8 Content-Type: text/plain; charset=UTF-8 XDSPAM-Result: Innocent X-DSPAM-Processed: Thu Jan 3 16:34:40 2008 X-DSPAM-Confidence: 0.9846 X-DSPAM-\n",
      "Probability: 0.0000 Details: http://source.sakaiproject.org/viewsvn/?view=rev&rev=39744 Author: cwen@iupui.edu Date:\n",
      "2008-01-03 16:33:02 -0500 (Thu, 03 Jan 2008) New Revision: 39744 Modified:\n",
      "oncourse/branches/oncourse_OPC_122007/ oncourse/branches/oncourse_OPC_122007/.externals Log: update external for GB. ---------------------- This automatic notification message was sent by Sakai Collab\n",
      "(https://collab.sakaiproject.org/portal) from the Source site. You can modify how you receive notifications at My Workspace > Preferences. From cwen@iupui.edu Thu Jan 3 16:29:07 2008 Return-Path: Received: from murder (mail.umich.edu [141.211.14.46]) by frankenstein.mail.umich.edu (Cyrus v2.3.8) with LMTPA; Thu, 03 Jan 2008 16:29:07 -0500 X-Sieve:\n",
      "CMU Sieve 2.3 Received: from murder ([unix socket]) by mail.umich.edu (Cyrus v2.2.12) with LMTPA; Thu, 03 Jan 2008 16:29:07 -0500 Received: from galaxyquest.mr.itd.umich.edu (galaxyquest.mr.itd.umich.edu [141.211.93.145]) by fan.mail.umich.edu () with ESMTP id m03LT6uw027749; Thu, 3 Jan 2008 16:29:06 -0500 Received: FROM paploo.uhi.ac.uk (app1.prod.collab.uhi.ac.uk [194.35.219.184]) BY galaxyquest.mr.itd.umich.edu ID\n",
      "477D5397.E161D.20326 ; 3 Jan 2008 16:28:58 -0500 Received: from paploo.uhi.ac.uk (localhost [127.0.0.1]) by paploo.uhi.ac.uk (Postfix) with ESMTP id DEC65ADC79; Thu, 3 Jan 2008 21:28:52 +0000 (GMT) Message-ID: <200801032127.m03LRUqH005177@nakamura.uits.iupui.edu> Mime-Version: 1.0 Content-Transfer-Encoding: 7bit\n",
      "Received: from prod.collab.uhi.ac.uk ([194.35.219.182]) by paploo.uhi.ac.uk (JAMES SMTP Server 2.1.3) with SMTP ID\n",
      "917 for ; Thu, 3 Jan 2008 21:28:39 +0000 (GMT) Received: from nakamura.uits.iupui.edu (nakamura.uits.iupui.edu\n",
      "[134.68.220.122]) by shmi.uhi.ac.uk (Postfix) with ESMTP id 1FBB042B30 for ; Thu, 3 Jan 2008 21:28:38 +0000 (GMT)\n",
      "Received: from nakamura.uits.iupui.edu (localhost [127.0.0.1]) by nakamura.uits.iupui.edu (8.12.11.20060308/8.12.11) with ESMTP id m03LRUk4005179 for ; Thu, 3 Jan 2008 16:27:30 -0500 Received: (from apache@localhost) by nakamura.uits.iupui.edu (8.12.11.20060308/8.12.11/Submit) id m03LRUqH005177 for source@collab.sakaiproject.org; Thu, 3 Jan 2008 16:27:30 -0500 Date: Thu, 3 Jan 2008 16:27:30 -0500 X-Authentication-Warning: nakamura.uits.iupui.edu: apache set sender to cwen@iupui.edu using -f To: source@collab.sakaiproject.org From: cwen@iupui.edu Subject: [sakai] svn commit: r39743 - gradebook/branches/oncourse_2-4-2/app/ui/src/java/org/sakaiproject/tool/gradebook/ui X-ContentType-Outer-Envelope: text/plain; charset=UTF-8 X-Content-Type-Message-Body: text/plain; charset=UTF-8 Content-Type: text/plain; charset=UTF-8 X-DSPAM-Result: Innocent X-DSPAM-Processed: Thu Jan 3 16:29:07 2008 X-DSPAMConfidence: 0.8509 X-DSPAM-Probability: 0.0000 Details: http://source.sakaiproject.org/viewsvn/?view=rev&rev=39743 Author: cwen@iupui.edu Date: 2008-01-03 16:27:29 -0500 (Thu, 03 Jan 2008) New Revision: 39743 Modified:\n",
      "gradebook/branches/oncourse_2-4-2/app/ui/src/java/org/sakaiproject/tool/gradebook/ui/RosterBean.java Log: svn merge -c\n",
      "39403 https://source.sakaiproject.org/svn/gradebook/trunk U\n",
      "app/ui/src/java/org/sakaiproject/tool/gradebook/ui/RosterBean.java svn log -r 39403\n",
      "https://source.sakaiproject.org/svn/gradebook/trunk ------------------------------------------------------------------------ r39403 |\n",
      "wagnermr@iupui.edu | 2007-12-17 17:11:08 -0500 (Mon, 17 Dec 2007) | 3 lines SAK-12504 http://jira.sakaiproject.org/jira/browse/SAK-12504 Viewing \"All Grades\" page as a TA with grader permissions causes stack trace ------------------------------------------------------------------------ ---------------------- This automatic notification message was sent by Sakai Collab (https://collab.sakaiproject.org/portal) from the Source site. You can modify how you receive notifications at My Workspace > Preferences. From cwen@iupui.edu Thu Jan 3 16:23:48 2008 Return-Path: Received: from murder\n",
      "(mail.umich.edu [141.211.14.91]) by frankenstein.mail.umich.edu (Cyrus v2.3.8) with LMTPA; Thu, 03 Jan 2008 16:23:48\n",
      "-0500 X-Sieve: CMU Sieve 2.3 Received: from murder ([unix socket]) by mail.umich.edu (Cyrus v2.2.12) with LMTPA; Thu,\n",
      "03 Jan 2008 16:23:48 -0500 Received: from salemslot.mr.itd.umich.edu (salemslot.mr.itd.umich.edu [141.211.14.58]) by jacknife.mail.umich.edu () with ESMTP id m03LNlf0002115; Thu, 3 Jan 2008 16:23:47 -0500 Received: FROM\n",
      "paploo.uhi.ac.uk (app1.prod.collab.uhi.ac.uk [194.35.219.184]) BY salemslot.mr.itd.umich.edu ID 477D525E.1448.30389 ; 3 Jan 2008 16:23:44 -0500 Received: from paploo.uhi.ac.uk (localhost [127.0.0.1]) by paploo.uhi.ac.uk (Postfix) with ESMTP id 9D005B9D06; Thu, 3 Jan 2008 21:23:38 +0000 (GMT) Message-ID:\n",
      "<200801032122.m03LMFo4005148@nakamura.uits.iupui.edu> Mime-Version: 1.0 Content-Transfer-Encoding: 7bit Received: from prod.collab.uhi.ac.uk ([194.35.219.182]) by paploo.uhi.ac.uk (JAMES SMTP Server 2.1.3) with SMTP ID 6\n",
      "for ; Thu, 3 Jan 2008 21:23:24 +0000 (GMT) Received: from nakamura.uits.iupui.edu (nakamura.uits.iupui.edu [134.68.220.122]) by shmi.uhi.ac.uk (Postfix) with ESMTP id 3535542B69 for ; Thu, 3 Jan 2008 21:23:24 +0000 (GMT)\n",
      "Received: from nakamura.uits.iupui.edu (localhost [127.0.0.1]) by nakamura.uits.iupui.edu (8.12.11.20060308/8.12.11) with ESMTP id m03LMFtT005150 for ; Thu, 3 Jan 2008 16:22:15 -0500 Received: (from apache@localhost) by nakamura.uits.iupui.edu (8.12.11.20060308/8.12.11/Submit) id m03LMFo4005148 for source@collab.sakaiproject.org; Thu, 3 Jan 2008 16:22:15 -0500 Date: Thu, 3 Jan 2008 16:22:15 -0500 X-Authentication-Warning: nakamura.uits.iupui.edu: apache set sender to cwen@iupui.edu using -f To: source@collab.sakaiproject.org From: cwen@iupui.edu Subject: [sakai] svn commit: r39742 - gradebook/branches/oncourse_2-4-2/app/ui/src/java/org/sakaiproject/tool/gradebook/ui X-ContentType-Outer-Envelope: text/plain; charset=UTF-8 X-Content-Type-Message-Body: text/plain; charset=UTF-8 Content-Type: text/plain; charset=UTF-8 X-DSPAM-Result: Innocent X-DSPAM-Processed: Thu Jan 3 16:23:48 2008 X-DSPAMConfidence: 0.9907 X-DSPAM-Probability: 0.0000 Details: http://source.sakaiproject.org/viewsvn/?view=rev&rev=39742 Author: cwen@iupui.edu Date: 2008-01-03 16:22:14 -0500 (Thu, 03 Jan 2008) New Revision: 39742 Modified:\n",
      "gradebook/branches/oncourse_2-4-2/app/ui/src/java/org/sakaiproject/tool/gradebook/ui/RosterBean.java Log: svn merge -c\n",
      "35014 https://source.sakaiproject.org/svn/gradebook/trunk U\n",
      "app/ui/src/java/org/sakaiproject/tool/gradebook/ui/RosterBean.java svn log -r 35014 https://source.sakaiproject.org/svn/gradebook/trunk ------------------------------------------------------------------------ r35014 |\n",
      "wagnermr@iupui.edu | 2007-09-12 16:17:59 -0400 (Wed, 12 Sep 2007) | 3 lines SAK-11458\n",
      "http://bugs.sakaiproject.org/jira/browse/SAK-11458 Course grade does not appear on \"All Grades\" page if no categories in gb ------------------------------------------------------------------------ ---------------------- This automatic notification message was sent by Sakai Collab (https://collab.sakaiproject.org/portal) from the Source site. You can modify how you receive notifications at My Workspace > Preferences.\n",
      "\n"
     ]
    }
   ],
   "source": [
    "file=\"E:\\\\Omkar\\\\Material Docs\\\\mbox.txt\"\n",
    "filepath=open(file,encoding='utf-8')\n",
    "print(filepath.read())"
   ]
  },
  {
   "cell_type": "code",
   "execution_count": 312,
   "id": "1b1455be-8f9e-404d-bf95-371d37405d85",
   "metadata": {},
   "outputs": [
    {
     "data": {
      "text/plain": [
       "'E:\\\\Omkar\\\\Material Docs\\\\mbox.txt'"
      ]
     },
     "execution_count": 312,
     "metadata": {},
     "output_type": "execute_result"
    }
   ],
   "source": [
    "file"
   ]
  },
  {
   "cell_type": "code",
   "execution_count": 1,
   "id": "bfa444d7-7301-4f61-b8eb-91f9ccd89021",
   "metadata": {},
   "outputs": [
    {
     "name": "stdout",
     "output_type": "stream",
     "text": [
      "From stephen.marquard@uct.ac.za Sat Jan 5 09:14:16 2008 Return-Path: Received: from murder (mail.umich.edu [141.211.14.90]) by frankenstein.mail.umich.edu (Cyrus v2.3.8) with LMTPA; Sat, 05 Jan 2008 09:14:16 -0500 X-Sieve:\n",
      "CMU Sieve 2.3 Received: from murder ([unix socket]) by mail.umich.edu (Cyrus v2.2.12) with LMTPA; Sat, 05 Jan 2008\n",
      "09:14:16 -0500 Received: from holes.mr.itd.umich.edu (holes.mr.itd.umich.edu [141.211.14.79]) by flawless.mail.umich.edu\n",
      "() with ESMTP id m05EEFR1013674; Sat, 5 Jan 2008 09:14:15 -0500 Received: FROM paploo.uhi.ac.uk\n",
      "(app1.prod.collab.uhi.ac.uk [194.35.219.184]) BY holes.mr.itd.umich.edu ID 477F90B0.2DB2F.12494 ; 5 Jan 2008 09:14:10\n",
      "-0500 Received: from paploo.uhi.ac.uk (localhost [127.0.0.1]) by paploo.uhi.ac.uk (Postfix) with ESMTP id 5F919BC2F2;\n",
      "Sat, 5 Jan 2008 14:10:05 +0000 (GMT) Message-ID: <200801051412.m05ECIaH010327@nakamura.uits.iupui.edu> MimeVersion: 1.0 Content-Transfer-Encoding: 7bit Received: from prod.collab.uhi.ac.uk ([194.35.219.182]) by paploo.uhi.ac.uk\n",
      "(JAMES SMTP Server 2.1.3) with SMTP ID 899 for ; Sat, 5 Jan 2008 14:09:50 +0000 (GMT) Received: from\n",
      "nakamura.uits.iupui.edu (nakamura.uits.iupui.edu [134.68.220.122]) by shmi.uhi.ac.uk (Postfix) with ESMTP id A215243002 for ; Sat, 5 Jan 2008 14:13:33 +0000 (GMT) Received: from nakamura.uits.iupui.edu (localhost [127.0.0.1]) by nakamura.uits.iupui.edu (8.12.11.20060308/8.12.11) with ESMTP id m05ECJVp010329 for ; Sat, 5 Jan 2008 09:12:19\n",
      "-0500 Received: (from apache@localhost) by nakamura.uits.iupui.edu (8.12.11.20060308/8.12.11/Submit) id m05ECIaH010327 for source@collab.sakaiproject.org; Sat, 5 Jan 2008 09:12:18 -0500 Date: Sat, 5 Jan 2008 09:12:18 -0500 X-Authentication-Warning: nakamura.uits.iupui.edu: apache set sender to stephen.marquard@uct.ac.za using -f To:\n",
      "source@collab.sakaiproject.org From: stephen.marquard@uct.ac.za Subject: [sakai] svn commit: r39772 content/branches/sakai_2-5-x/content-impl/impl/src/java/org/sakaiproject/content/impl X-Content-Type-Outer-Envelope: text/plain; charset=UTF-8 X-Content-Type-Message-Body: text/plain; charset=UTF-8 Content-Type: text/plain; charset=UTF-8 X-DSPAM-Result: Innocent X-DSPAM-Processed: Sat Jan 5 09:14:16 2008 X-DSPAM-Confidence: 0.8475 X-DSPAM-Probability: 0.0000 Details: http://source.sakaiproject.org/viewsvn/?view=rev&rev=39772 Author:\n",
      "stephen.marquard@uct.ac.za Date: 2008-01-05 09:12:07 -0500 (Sat, 05 Jan 2008) New Revision: 39772 Modified: content/branches/sakai_2-5-x/content-impl/impl/src/java/org/sakaiproject/content/impl/ContentServiceSqlOracle.java content/branches/sakai_2-5-x/content-impl/impl/src/java/org/sakaiproject/content/impl/DbContentService.java Log: SAK12501 merge to 2-5-x: r39622, r39624:5, r39632:3 (resolve conflict from differing linebreaks for r39622) ---------------------This automatic notification message was sent by Sakai Collab (https://collab.sakaiproject.org/portal) from the Source site.\n",
      "You can modify how you receive notifications at My Workspace > Preferences. From louis@media.berkeley.edu Fri Jan 4\n",
      "18:10:48 2008 Return-Path: Received: from murder (mail.umich.edu [141.211.14.97]) by frankenstein.mail.umich.edu (Cyrus v2.3.8) with LMTPA; Fri, 04 Jan 2008 18:10:48 -0500 X-Sieve: CMU Sieve 2.3 Received: from murder ([unix socket]) by mail.umich.edu (Cyrus v2.2.12) with LMTPA; Fri, 04 Jan 2008 18:10:48 -0500 Received: from icestorm.mr.itd.umich.edu\n",
      "(icestorm.mr.itd.umich.edu [141.211.93.149]) by sleepers.mail.umich.edu () with ESMTP id m04NAbGa029441; Fri, 4 Jan\n",
      "2008 18:10:37 -0500 Received: FROM paploo.uhi.ac.uk (app1.prod.collab.uhi.ac.uk [194.35.219.184]) BY\n",
      "icestorm.mr.itd.umich.edu ID 477EBCE3.161BB.4320 ; 4 Jan 2008 18:10:31 -0500 Received: from paploo.uhi.ac.uk (localhost [127.0.0.1]) by paploo.uhi.ac.uk (Postfix) with ESMTP id 07969BB706; Fri, 4 Jan 2008 23:10:33 +0000 (GMT)\n",
      "Message-ID: <200801042308.m04N8v6O008125@nakamura.uits.iupui.edu> Mime-Version: 1.0 Content-TransferEncoding: 7bit Received: from prod.collab.uhi.ac.uk ([194.35.219.182]) by paploo.uhi.ac.uk (JAMES SMTP Server 2.1.3) with SMTP ID 710 for ; Fri, 4 Jan 2008 23:10:10 +0000 (GMT) Received: from nakamura.uits.iupui.edu\n",
      "(nakamura.uits.iupui.edu [134.68.220.122]) by shmi.uhi.ac.uk (Postfix) with ESMTP id 4BA2F42F57 for ; Fri, 4 Jan 2008\n",
      "23:10:10 +0000 (GMT) Received: from nakamura.uits.iupui.edu (localhost [127.0.0.1]) by nakamura.uits.iupui.edu (8.12.11.20060308/8.12.11) with ESMTP id m04N8vHG008127 for ; Fri, 4 Jan 2008 18:08:57 -0500 Received: (from apache@localhost) by nakamura.uits.iupui.edu (8.12.11.20060308/8.12.11/Submit) id m04N8v6O008125 for source@collab.sakaiproject.org; Fri, 4 Jan 2008 18:08:57 -0500 Date: Fri, 4 Jan 2008 18:08:57 -0500 X-AuthenticationWarning: nakamura.uits.iupui.edu: apache set sender to louis@media.berkeley.edu using -f To:\n",
      "source@collab.sakaiproject.org From: louis@media.berkeley.edu Subject: [sakai] svn commit: r39771 - in bspace/sitemanage/sakai_2-4-x/site-manage-tool/tool/src: bundle java/org/sakaiproject/site/tool X-Content-Type-Outer-Envelope:\n",
      "text/plain; charset=UTF-8 X-Content-Type-Message-Body: text/plain; charset=UTF-8 Content-Type: text/plain; charset=UTF-8 X-DSPAM-Result: Innocent X-DSPAM-Processed: Fri Jan 4 18:10:48 2008 X-DSPAM-Confidence: 0.6178 X-DSPAM-Probability: 0.0000 Details: http://source.sakaiproject.org/viewsvn/?view=rev&rev=39771 Author: louis@media.berkeley.edu Date: 2008-01-04 18:08:50 -0500 (Fri, 04 Jan 2008) New Revision: 39771 Modified:\n",
      "bspace/site-manage/sakai_2-4-x/site-manage-tool/tool/src/bundle/sitesetupgeneric.properties bspace/site-manage/sakai_24-x/site-manage-tool/tool/src/java/org/sakaiproject/site/tool/SiteAction.java Log: BSP-1415 New (Guest) user Notification --------------------- This automatic notification message was sent by Sakai Collab (https://collab.sakaiproject.org/portal) from the\n",
      "Source site. You can modify how you receive notifications at My Workspace > Preferences. From zqian@umich.edu Fri Jan\n",
      "4 16:10:39 2008 Return-Path: Received: from murder (mail.umich.edu [141.211.14.25]) by frankenstein.mail.umich.edu (Cyrus v2.3.8) with LMTPA; Fri, 04 Jan 2008 16:10:39 -0500 X-Sieve: CMU Sieve 2.3 Received: from murder ([unix socket]) by mail.umich.edu (Cyrus v2.2.12) with LMTPA; Fri, 04 Jan 2008 16:10:39 -0500 Received: from\n",
      "ghostbusters.mr.itd.umich.edu (ghostbusters.mr.itd.umich.edu [141.211.93.144]) by panther.mail.umich.edu () with ESMTP id m04LAcZw014275; Fri, 4 Jan 2008 16:10:38 -0500 Received: FROM paploo.uhi.ac.uk (app1.prod.collab.uhi.ac.uk [194.35.219.184]) BY ghostbusters.mr.itd.umich.edu ID 477EA0C6.A0214.25480 ; 4 Jan 2008 16:10:33 -0500 Received: from paploo.uhi.ac.uk (localhost [127.0.0.1]) by paploo.uhi.ac.uk (Postfix) with ESMTP id C48CDBB490; Fri, 4 Jan 2008 21:10:31 +0000 (GMT) Message-ID: <200801042109.m04L92hb007923@nakamura.uits.iupui.edu> Mime-Version: 1.0 Content-Transfer-Encoding: 7bit Received: from prod.collab.uhi.ac.uk ([194.35.219.182]) by paploo.uhi.ac.uk (JAMES\n",
      "SMTP Server 2.1.3) with SMTP ID 906 for ; Fri, 4 Jan 2008 21:10:18 +0000 (GMT) Received: from nakamura.uits.iupui.edu\n",
      "(nakamura.uits.iupui.edu [134.68.220.122]) by shmi.uhi.ac.uk (Postfix) with ESMTP id 7D13042F71 for ; Fri, 4 Jan 2008\n",
      "21:10:14 +0000 (GMT) Received: from nakamura.uits.iupui.edu (localhost [127.0.0.1]) by nakamura.uits.iupui.edu (8.12.11.20060308/8.12.11) with ESMTP id m04L927E007925 for ; Fri, 4 Jan 2008 16:09:02 -0500 Received: (from apache@localhost) by nakamura.uits.iupui.edu (8.12.11.20060308/8.12.11/Submit) id m04L92hb007923 for source@collab.sakaiproject.org; Fri, 4 Jan 2008 16:09:02 -0500 Date: Fri, 4 Jan 2008 16:09:02 -0500 X-Authentication-\n",
      "Warning: nakamura.uits.iupui.edu: apache set sender to zqian@umich.edu using -f To: source@collab.sakaiproject.org From: zqian@umich.edu Subject: [sakai] svn commit: r39770 - site-manage/branches/sakai_2-5-x/site-managetool/tool/src/webapp/vm/sitesetup X-Content-Type-Outer-Envelope: text/plain; charset=UTF-8 X-Content-Type-MessageBody: text/plain; charset=UTF-8 Content-Type: text/plain; charset=UTF-8 X-DSPAM-Result: Innocent X-DSPAM-Processed:\n",
      "Fri Jan 4 16:10:39 2008 X-DSPAM-Confidence: 0.6961 X-DSPAM-Probability: 0.0000 Details:\n",
      "http://source.sakaiproject.org/viewsvn/?view=rev&rev=39770 Author: zqian@umich.edu Date: 2008-01-04 16:09:01 -0500\n",
      "(Fri, 04 Jan 2008) New Revision: 39770 Modified: site-manage/branches/sakai_2-5-x/site-manage-\n",
      "tool/tool/src/webapp/vm/sitesetup/chef_site-siteInfo-list.vm Log: merge fix to SAK-9996 into 2-5-x branch: svn merge -r 39687:39688 https://source.sakaiproject.org/svn/site-manage/trunk/ ---------------------- This automatic notification message was sent by Sakai Collab (https://collab.sakaiproject.org/portal) from the Source site. You can modify how you receive notifications at My Workspace > Preferences. From rjlowe@iupui.edu Fri Jan 4 15:46:24 2008 Return-Path: Received: from murder (mail.umich.edu [141.211.14.25]) by frankenstein.mail.umich.edu (Cyrus v2.3.8) with LMTPA; Fri, 04 Jan 2008 15:46:24 -0500 X-Sieve: CMU Sieve 2.3 Received: from murder ([unix socket]) by mail.umich.edu (Cyrus v2.2.12) with\n",
      "LMTPA; Fri, 04 Jan 2008 15:46:24 -0500 Received: from dreamcatcher.mr.itd.umich.edu (dreamcatcher.mr.itd.umich.edu [141.211.14.43]) by panther.mail.umich.edu () with ESMTP id m04KkNbx032077; Fri, 4 Jan 2008 15:46:23 -0500 Received:\n",
      "FROM paploo.uhi.ac.uk (app1.prod.collab.uhi.ac.uk [194.35.219.184]) BY dreamcatcher.mr.itd.umich.edu ID 477E9B13.2F3BC.22965 ; 4 Jan 2008 15:46:13 -0500 Received: from paploo.uhi.ac.uk (localhost [127.0.0.1]) by paploo.uhi.ac.uk (Postfix) with ESMTP id 4AE03BB552; Fri, 4 Jan 2008 20:46:13 +0000 (GMT) Message-ID: <200801042044.m04Kiem3007881@nakamura.uits.iupui.edu> Mime-Version: 1.0 Content-Transfer-Encoding: 7bit Received: from prod.collab.uhi.ac.uk ([194.35.219.182]) by paploo.uhi.ac.uk (JAMES SMTP Server 2.1.3) with SMTP ID 38 for ; Fri, 4 Jan 2008 20:45:56 +0000 (GMT) Received: from nakamura.uits.iupui.edu (nakamura.uits.iupui.edu [134.68.220.122]) by shmi.uhi.ac.uk (Postfix) with ESMTP id A55D242F57 for ; Fri, 4 Jan 2008 20:45:52 +0000 (GMT)\n",
      "Received: from nakamura.uits.iupui.edu (localhost [127.0.0.1]) by nakamura.uits.iupui.edu (8.12.11.20060308/8.12.11) with ESMTP id m04KieqE007883 for ; Fri, 4 Jan 2008 15:44:40 -0500 Received: (from apache@localhost) by nakamura.uits.iupui.edu (8.12.11.20060308/8.12.11/Submit) id m04Kiem3007881 for source@collab.sakaiproject.org; Fri, 4 Jan 2008 15:44:40 -0500 Date: Fri, 4 Jan 2008 15:44:40 -0500 X-Authentication-Warning: nakamura.uits.iupui.edu: apache set sender to rjlowe@iupui.edu using -f To: source@collab.sakaiproject.org From: rjlowe@iupui.edu Subject: [sakai] svn commit: r39769 - in gradebook/trunk/app/ui/src: java/org/sakaiproject/tool/gradebook/ui/helpers/beans java/org/sakaiproject/tool/gradebook/ui/helpers/producers webapp/WEB-INF webapp/WEB-INF/bundle X-Content-TypeOuter-Envelope: text/plain; charset=UTF-8 X-Content-Type-Message-Body: text/plain; charset=UTF-8 Content-Type: text/plain; charset=UTF-8 X-DSPAM-Result: Innocent X-DSPAM-Processed: Fri Jan 4 15:46:24 2008 X-DSPAMConfidence: 0.7565 X-DSPAM-Probability: 0.0000 Details: http://source.sakaiproject.org/viewsvn/?view=rev&rev=39769 Author: rjlowe@iupui.edu Date: 2008-01-04 15:44:39 -0500 (Fri, 04 Jan 2008) New Revision: 39769 Modified:\n",
      "gradebook/trunk/app/ui/src/java/org/sakaiproject/tool/gradebook/ui/helpers/beans/AssignmentGradeRecordBean.java gradebook/trunk/app/ui/src/java/org/sakaiproject/tool/gradebook/ui/helpers/producers/GradeGradebookItemProducer.java gradebook/trunk/app/ui/src/webapp/WEB-INF/applicationContext.xml gradebook/trunk/app/ui/src/webapp/WEBINF/bundle/messages.properties gradebook/trunk/app/ui/src/webapp/WEB-INF/requestContext.xml Log: SAK-12180 Fixed errors with grading helper ---------------------- This automatic notification message was sent by Sakai Collab\n",
      "(https://collab.sakaiproject.org/portal) from the Source site. You can modify how you receive notifications at My Workspace > Preferences. From zqian@umich.edu Fri Jan 4 15:03:18 2008 Return-Path: Received: from murder (mail.umich.edu [141.211.14.46]) by frankenstein.mail.umich.edu (Cyrus v2.3.8) with LMTPA; Fri, 04 Jan 2008 15:03:18 -0500 X-Sieve:\n",
      "CMU Sieve 2.3 Received: from murder ([unix socket]) by mail.umich.edu (Cyrus v2.2.12) with LMTPA; Fri, 04 Jan 2008\n",
      "15:03:18 -0500 Received: from firestarter.mr.itd.umich.edu (firestarter.mr.itd.umich.edu [141.211.14.83]) by fan.mail.umich.edu () with ESMTP id m04K3HGF006563; Fri, 4 Jan 2008 15:03:17 -0500 Received: FROM paploo.uhi.ac.uk (app1.prod.collab.uhi.ac.uk [194.35.219.184]) BY firestarter.mr.itd.umich.edu ID 477E9100.8F7F4.1590 ; 4 Jan 2008 15:03:15 -0500 Received: from paploo.uhi.ac.uk (localhost [127.0.0.1]) by paploo.uhi.ac.uk (Postfix) with ESMTP id 57770BB477; Fri, 4 Jan 2008 20:03:09 +0000 (GMT) Message-ID:\n",
      "<200801042001.m04K1cO0007738@nakamura.uits.iupui.edu> Mime-Version: 1.0 Content-Transfer-Encoding: 7bit\n",
      "Received: from prod.collab.uhi.ac.uk ([194.35.219.182]) by paploo.uhi.ac.uk (JAMES SMTP Server 2.1.3) with SMTP ID\n",
      "622 for ; Fri, 4 Jan 2008 20:02:46 +0000 (GMT) Received: from nakamura.uits.iupui.edu (nakamura.uits.iupui.edu\n",
      "[134.68.220.122]) by shmi.uhi.ac.uk (Postfix) with ESMTP id AB4D042F4D for ; Fri, 4 Jan 2008 20:02:50 +0000 (GMT)\n",
      "Received: from nakamura.uits.iupui.edu (localhost [127.0.0.1]) by nakamura.uits.iupui.edu (8.12.11.20060308/8.12.11) with ESMTP id m04K1cXv007740 for ; Fri, 4 Jan 2008 15:01:38 -0500 Received: (from apache@localhost) by nakamura.uits.iupui.edu (8.12.11.20060308/8.12.11/Submit) id m04K1cO0007738 for source@collab.sakaiproject.org; Fri, 4\n",
      "Jan 2008 15:01:38 -0500 Date: Fri, 4 Jan 2008 15:01:38 -0500 X-Authentication-Warning: nakamura.uits.iupui.edu: apache set sender to zqian@umich.edu using -f To: source@collab.sakaiproject.org From: zqian@umich.edu Subject: [sakai] svn commit: r39766 - site-manage/branches/sakai_2-4-x/site-manage-tool/tool/src/java/org/sakaiproject/site/tool X-ContentType-Outer-Envelope: text/plain; charset=UTF-8 X-Content-Type-Message-Body: text/plain; charset=UTF-8 Content-Type: text/plain; charset=UTF-8 X-DSPAM-Result: Innocent X-DSPAM-Processed: Fri Jan 4 15:03:18 2008 X-DSPAMConfidence: 0.7626 X-DSPAM-Probability: 0.0000 Details: http://source.sakaiproject.org/viewsvn/?view=rev&rev=39766 Author: zqian@umich.edu Date: 2008-01-04 15:01:37 -0500 (Fri, 04 Jan 2008) New Revision: 39766 Modified: sitemanage/branches/sakai_2-4-x/site-manage-tool/tool/src/java/org/sakaiproject/site/tool/SiteAction.java Log: merge fix to SAK-10788 into site-manage 2.4.x branch: Sakai Source Repository #38024 Wed Nov 07 14:54:46 MST 2007\n",
      "zqian@umich.edu Fix to SAK-10788: If a provided id in a couse site is fake or doesn't provide any user information, Site Info appears to be like project site with empty participant list Watch for enrollments object being null and concatenate\n",
      "provider ids when there are more than one. Files Changed MODIFY /site-manage/trunk/site-manage-\n",
      "tool/tool/src/java/org/sakaiproject/site/tool/SiteAction.java ---------------------- This automatic notification message was sent by Sakai Collab (https://collab.sakaiproject.org/portal) from the Source site. You can modify how you receive notifications at My\n",
      "Workspace > Preferences. From rjlowe@iupui.edu Fri Jan 4 14:50:18 2008 Return-Path: Received: from murder\n",
      "(mail.umich.edu [141.211.14.93]) by frankenstein.mail.umich.edu (Cyrus v2.3.8) with LMTPA; Fri, 04 Jan 2008 14:50:18\n",
      "-0500 X-Sieve: CMU Sieve 2.3 Received: from murder ([unix socket]) by mail.umich.edu (Cyrus v2.2.12) with LMTPA; Fri, 04 Jan 2008 14:50:18 -0500 Received: from eyewitness.mr.itd.umich.edu (eyewitness.mr.itd.umich.edu [141.211.93.142]) by mission.mail.umich.edu () with ESMTP id m04JoHJi019755; Fri, 4 Jan 2008 14:50:17 -0500 Received: FROM\n",
      "paploo.uhi.ac.uk (app1.prod.collab.uhi.ac.uk [194.35.219.184]) BY eyewitness.mr.itd.umich.edu ID 477E8DF2.67B91.5278 ; 4 Jan 2008 14:50:13 -0500 Received: from paploo.uhi.ac.uk (localhost [127.0.0.1]) by paploo.uhi.ac.uk (Postfix) with ESMTP id 2D1B9BB492; Fri, 4 Jan 2008 19:47:10 +0000 (GMT) Message-ID: <200801041948.m04JmdwO007705@nakamura.uits.iupui.edu> Mime-Version: 1.0 Content-Transfer-Encoding: 7bit\n",
      "Received: from prod.collab.uhi.ac.uk ([194.35.219.182]) by paploo.uhi.ac.uk (JAMES SMTP Server 2.1.3) with SMTP ID\n",
      "960 for ; Fri, 4 Jan 2008 19:46:50 +0000 (GMT) Received: from nakamura.uits.iupui.edu (nakamura.uits.iupui.edu\n",
      "[134.68.220.122]) by shmi.uhi.ac.uk (Postfix) with ESMTP id B3E6742F4A for ; Fri, 4 Jan 2008 19:49:51 +0000 (GMT)\n",
      "Received: from nakamura.uits.iupui.edu (localhost [127.0.0.1]) by nakamura.uits.iupui.edu (8.12.11.20060308/8.12.11) with ESMTP id m04JmeV9007707 for ; Fri, 4 Jan 2008 14:48:40 -0500 Received: (from apache@localhost) by nakamura.uits.iupui.edu (8.12.11.20060308/8.12.11/Submit) id m04JmdwO007705 for source@collab.sakaiproject.org; Fri, 4 Jan 2008 14:48:39 -0500 Date: Fri, 4 Jan 2008 14:48:39 -0500 X-Authentication-Warning: nakamura.uits.iupui.edu:\n",
      "apache set sender to rjlowe@iupui.edu using -f To: source@collab.sakaiproject.org From: rjlowe@iupui.edu Subject: [sakai] svn commit: r39765 - in gradebook/trunk/app: business/src/java/org/sakaiproject/tool/gradebook/business business/src/java/org/sakaiproject/tool/gradebook/business/impl ui ui/src/java/org/sakaiproject/tool/gradebook/ui/helpers/beans ui/src/java/org/sakaiproject/tool/gradebook/ui/helpers/entity ui/src/java/org/sakaiproject/tool/gradebook/ui/helpers/params\n",
      "ui/src/java/org/sakaiproject/tool/gradebook/ui/helpers/producers ui/src/webapp/WEB-INF ui/src/webapp/WEB-INF/bundle ui/src/webapp/content/templates X-Content-Type-Outer-Envelope: text/plain; charset=UTF-8 X-Content-Type-MessageBody: text/plain; charset=UTF-8 Content-Type: text/plain; charset=UTF-8 X-DSPAM-Result: Innocent X-DSPAM-Processed:\n",
      "Fri Jan 4 14:50:18 2008 X-DSPAM-Confidence: 0.7556 X-DSPAM-Probability: 0.0000 Details:\n",
      "http://source.sakaiproject.org/viewsvn/?view=rev&rev=39765 Author: rjlowe@iupui.edu Date: 2008-01-04 14:48:37 -0500 (Fri, 04 Jan 2008) New Revision: 39765 Added:\n",
      "gradebook/trunk/app/ui/src/java/org/sakaiproject/tool/gradebook/ui/helpers/beans/AssignmentGradeRecordBean.java gradebook/trunk/app/ui/src/java/org/sakaiproject/tool/gradebook/ui/helpers/beans/AssignmentGradeRecordCreator.java gradebook/trunk/app/ui/src/java/org/sakaiproject/tool/gradebook/ui/helpers/entity/GradebookEntryGradeEntityProvider.java gradebook/trunk/app/ui/src/java/org/sakaiproject/tool/gradebook/ui/helpers/params/GradeGradebookItemViewParams.java gradebook/trunk/app/ui/src/java/org/sakaiproject/tool/gradebook/ui/helpers/producers/GradeGradebookItemProducer.java gradebook/trunk/app/ui/src/webapp/content/templates/grade-gradebook-item.html Modified: gradebook/trunk/app/business/src/java/org/sakaiproject/tool/gradebook/business/GradebookManager.java\n",
      "gradebook/trunk/app/business/src/java/org/sakaiproject/tool/gradebook/business/impl/GradebookManagerHibernateImpl.java gradebook/trunk/app/ui/pom.xml\n",
      "gradebook/trunk/app/ui/src/java/org/sakaiproject/tool/gradebook/ui/helpers/beans/GradebookItemBean.java gradebook/trunk/app/ui/src/java/org/sakaiproject/tool/gradebook/ui/helpers/entity/GradebookEntryEntityProvider.java gradebook/trunk/app/ui/src/java/org/sakaiproject/tool/gradebook/ui/helpers/producers/AddGradebookItemProducer.java gradebook/trunk/app/ui/src/webapp/WEB-INF/applicationContext.xml gradebook/trunk/app/ui/src/webapp/WEB-\n",
      "INF/bundle/messages.properties gradebook/trunk/app/ui/src/webapp/WEB-INF/requestContext.xml Log: SAK-12180 - New helper tool to grade an assignment ---------------------- This automatic notification message was sent by Sakai Collab (https://collab.sakaiproject.org/portal) from the Source site. You can modify how you receive notifications at My Workspace > Preferences. From cwen@iupui.edu Fri Jan 4 11:37:30 2008 Return-Path: Received: from murder (mail.umich.edu [141.211.14.46]) by frankenstein.mail.umich.edu (Cyrus v2.3.8) with LMTPA; Fri, 04 Jan 2008 11:37:30 -0500 X-Sieve:\n",
      "CMU Sieve 2.3 Received: from murder ([unix socket]) by mail.umich.edu (Cyrus v2.2.12) with LMTPA; Fri, 04 Jan 2008\n",
      "11:37:30 -0500 Received: from tadpole.mr.itd.umich.edu (tadpole.mr.itd.umich.edu [141.211.14.72]) by fan.mail.umich.edu\n",
      "() with ESMTP id m04GbT9x022078; Fri, 4 Jan 2008 11:37:29 -0500 Received: FROM paploo.uhi.ac.uk\n",
      "(app1.prod.collab.uhi.ac.uk [194.35.219.184]) BY tadpole.mr.itd.umich.edu ID 477E60B2.82756.9904 ; 4 Jan 2008 11:37:09\n",
      "-0500 Received: from paploo.uhi.ac.uk (localhost [127.0.0.1]) by paploo.uhi.ac.uk (Postfix) with ESMTP id 8D13DBB001;\n",
      "Fri, 4 Jan 2008 16:37:07 +0000 (GMT) Message-ID: <200801041635.m04GZQGZ007313@nakamura.uits.iupui.edu> Mime-Version: 1.0 Content-Transfer-Encoding: 7bit Received: from prod.collab.uhi.ac.uk ([194.35.219.182]) by paploo.uhi.ac.uk (JAMES SMTP Server 2.1.3) with SMTP ID 120 for ; Fri, 4 Jan 2008 16:36:40 +0000 (GMT) Received:\n",
      "from nakamura.uits.iupui.edu (nakamura.uits.iupui.edu [134.68.220.122]) by shmi.uhi.ac.uk (Postfix) with ESMTP id D430B42E42 for ; Fri, 4 Jan 2008 16:36:37 +0000 (GMT) Received: from nakamura.uits.iupui.edu (localhost [127.0.0.1]) by nakamura.uits.iupui.edu (8.12.11.20060308/8.12.11) with ESMTP id m04GZQ7W007315 for ; Fri, 4 Jan 2008 11:35:26\n",
      "-0500 Received: (from apache@localhost) by nakamura.uits.iupui.edu (8.12.11.20060308/8.12.11/Submit) id m04GZQGZ007313 for source@collab.sakaiproject.org; Fri, 4 Jan 2008 11:35:26 -0500 Date: Fri, 4 Jan 2008 11:35:26 -0500 X-Authentication-Warning: nakamura.uits.iupui.edu: apache set sender to cwen@iupui.edu using -f To:\n",
      "source@collab.sakaiproject.org From: cwen@iupui.edu Subject: [sakai] svn commit: r39764 - in msgcntr/trunk/messageforums-app/src/java/org/sakaiproject/tool/messageforums: . ui X-Content-Type-Outer-Envelope: text/plain; charset=UTF-8 X-Content-Type-Message-Body: text/plain; charset=UTF-8 Content-Type: text/plain; charset=UTF-8 X-DSPAM-Result: Innocent X-DSPAM-Processed: Fri Jan 4 11:37:30 2008 X-DSPAM-Confidence: 0.7002 X-DSPAM-Probability: 0.0000 Details: http://source.sakaiproject.org/viewsvn/?view=rev&rev=39764 Author: cwen@iupui.edu Date: 2008-01-04 11:35:25 -0500 (Fri, 04 Jan 2008) New Revision: 39764 Modified: msgcntr/trunk/messageforums-app/src/java/org/sakaiproject/tool/messageforums/PrivateMessagesTool.java\n",
      "msgcntr/trunk/messageforums-app/src/java/org/sakaiproject/tool/messageforums/ui/PrivateMessageDecoratedBean.java\n",
      "Log: unmerge Xingtang's checkin for SAK-12488. svn merge -r39558:39557 https://source.sakaiproject.org/svn/msgcntr/trunk U messageforums-\n",
      "app/src/java/org/sakaiproject/tool/messageforums/PrivateMessagesTool.java U messageforumsapp/src/java/org/sakaiproject/tool/messageforums/ui/PrivateMessageDecoratedBean.java svn log -r 39558 ----------------------------------------------------------------------- r39558 | hu2@iupui.edu | 2007-12-20 15:25:38 -0500 (Thu, 20 Dec 2007) | 3 lines SAK-12488 when send a message to yourself. click reply to all, cc row should be null.\n",
      "http://jira.sakaiproject.org/jira/browse/SAK-12488 ------------------------------------------------------------------------ ---------------------This automatic notification message was sent by Sakai Collab (https://collab.sakaiproject.org/portal) from the Source site.\n",
      "You can modify how you receive notifications at My Workspace > Preferences. From cwen@iupui.edu Fri Jan 4 11:35:08 2008 Return-Path: Received: from murder (mail.umich.edu [141.211.14.46]) by frankenstein.mail.umich.edu (Cyrus v2.3.8) with LMTPA; Fri, 04 Jan 2008 11:35:08 -0500 X-Sieve: CMU Sieve 2.3 Received: from murder ([unix socket]) by mail.umich.edu (Cyrus v2.2.12) with LMTPA; Fri, 04 Jan 2008 11:35:08 -0500 Received: from it.mr.itd.umich.edu\n",
      "(it.mr.itd.umich.edu [141.211.93.151]) by fan.mail.umich.edu () with ESMTP id m04GZ6lt020480; Fri, 4 Jan 2008 11:35:06 -0500 Received: FROM paploo.uhi.ac.uk (app1.prod.collab.uhi.ac.uk [194.35.219.184]) BY it.mr.itd.umich.edu ID 477E6033.6469D.21870 ; 4 Jan 2008 11:35:02 -0500 Received: from paploo.uhi.ac.uk (localhost [127.0.0.1]) by paploo.uhi.ac.uk (Postfix) with ESMTP id E40FABAE5B; Fri, 4 Jan 2008 16:34:38 +0000 (GMT) Message-ID: <200801041633.m04GX6eG007292@nakamura.uits.iupui.edu> Mime-Version: 1.0 Content-Transfer-Encoding: 7bit\n",
      "Received: from prod.collab.uhi.ac.uk ([194.35.219.182]) by paploo.uhi.ac.uk (JAMES SMTP Server 2.1.3) with SMTP ID\n",
      "697 for ; Fri, 4 Jan 2008 16:34:01 +0000 (GMT) Received: from nakamura.uits.iupui.edu (nakamura.uits.iupui.edu\n",
      "[134.68.220.122]) by shmi.uhi.ac.uk (Postfix) with ESMTP id 1CD0C42E42 for ; Fri, 4 Jan 2008 16:34:17 +0000 (GMT)\n",
      "Received: from nakamura.uits.iupui.edu (localhost [127.0.0.1]) by nakamura.uits.iupui.edu (8.12.11.20060308/8.12.11) with ESMTP id m04GX6Y3007294 for ; Fri, 4 Jan 2008 11:33:06 -0500 Received: (from apache@localhost) by nakamura.uits.iupui.edu (8.12.11.20060308/8.12.11/Submit) id m04GX6eG007292 for source@collab.sakaiproject.org; Fri, 4 Jan 2008 11:33:06 -0500 Date: Fri, 4 Jan 2008 11:33:06 -0500 X-Authentication-Warning: nakamura.uits.iupui.edu: apache set sender to cwen@iupui.edu using -f To: source@collab.sakaiproject.org From: cwen@iupui.edu Subject: [sakai] svn commit: r39763 - in msgcntr/trunk: messageforums-api/src/bundle/org/sakaiproject/api/app/messagecenter/bundle messageforums-app/src/java/org/sakaiproject/tool/messageforums X-Content-Type-Outer-Envelope: text/plain; charset=UTF-8 X-Content-Type-Message-Body: text/plain; charset=UTF-8 Content-Type: text/plain; charset=UTF-8 XDSPAM-Result: Innocent X-DSPAM-Processed: Fri Jan 4 11:35:08 2008 X-DSPAM-Confidence: 0.7615 X-DSPAM-\n",
      "Probability: 0.0000 Details: http://source.sakaiproject.org/viewsvn/?view=rev&rev=39763 Author: cwen@iupui.edu Date:\n",
      "2008-01-04 11:33:05 -0500 (Fri, 04 Jan 2008) New Revision: 39763 Modified: msgcntr/trunk/messageforumsapi/src/bundle/org/sakaiproject/api/app/messagecenter/bundle/Messages.properties msgcntr/trunk/messageforumsapp/src/java/org/sakaiproject/tool/messageforums/PrivateMessagesTool.java Log: unmerge Xingtang's check in for SAK-\n",
      "12484. svn merge -r39571:39570 https://source.sakaiproject.org/svn/msgcntr/trunk U messageforumsapi/src/bundle/org/sakaiproject/api/app/messagecenter/bundle/Messages.properties U messageforums-\n",
      "app/src/java/org/sakaiproject/tool/messageforums/PrivateMessagesTool.java svn log -r 39571 ----------------------------------------------------------------------- r39571 | hu2@iupui.edu | 2007-12-20 21:26:28 -0500 (Thu, 20 Dec 2007) | 3 lines SAK-12484 reply all cc list should not include the current user name. http://jira.sakaiproject.org/jira/browse/SAK-12484 ----------------------------------------------------------------------- ---------------------- This automatic notification message was sent by Sakai Collab\n",
      "(https://collab.sakaiproject.org/portal) from the Source site. You can modify how you receive notifications at My Workspace > Preferences. From gsilver@umich.edu Fri Jan 4 11:12:37 2008 Return-Path: Received: from murder (mail.umich.edu [141.211.14.25]) by frankenstein.mail.umich.edu (Cyrus v2.3.8) with LMTPA; Fri, 04 Jan 2008 11:12:37 -0500 X-Sieve:\n",
      "CMU Sieve 2.3 Received: from murder ([unix socket]) by mail.umich.edu (Cyrus v2.2.12) with LMTPA; Fri, 04 Jan 2008\n",
      "11:12:37 -0500 Received: from holes.mr.itd.umich.edu (holes.mr.itd.umich.edu [141.211.14.79]) by panther.mail.umich.edu\n",
      "() with ESMTP id m04GCaHB030887; Fri, 4 Jan 2008 11:12:36 -0500 Received: FROM paploo.uhi.ac.uk\n",
      "(app1.prod.collab.uhi.ac.uk [194.35.219.184]) BY holes.mr.itd.umich.edu ID 477E5AEB.E670B.28397 ; 4 Jan 2008 11:12:30\n",
      "-0500 Received: from paploo.uhi.ac.uk (localhost [127.0.0.1]) by paploo.uhi.ac.uk (Postfix) with ESMTP id 99715BAE7D;\n",
      "Fri, 4 Jan 2008 16:12:27 +0000 (GMT) Message-ID: <200801041611.m04GB1Lb007221@nakamura.uits.iupui.edu> MimeVersion: 1.0 Content-Transfer-Encoding: 7bit Received: from prod.collab.uhi.ac.uk ([194.35.219.182]) by paploo.uhi.ac.uk\n",
      "(JAMES SMTP Server 2.1.3) with SMTP ID 272 for ; Fri, 4 Jan 2008 16:12:14 +0000 (GMT) Received: from nakamura.uits.iupui.edu (nakamura.uits.iupui.edu [134.68.220.122]) by shmi.uhi.ac.uk (Postfix) with ESMTP id\n",
      "0A6ED42DFC for ; Fri, 4 Jan 2008 16:12:12 +0000 (GMT) Received: from nakamura.uits.iupui.edu (localhost [127.0.0.1]) by nakamura.uits.iupui.edu (8.12.11.20060308/8.12.11) with ESMTP id m04GB1Wt007223 for ; Fri, 4 Jan 2008 11:11:01\n",
      "-0500 Received: (from apache@localhost) by nakamura.uits.iupui.edu (8.12.11.20060308/8.12.11/Submit) id m04GB1Lb007221 for source@collab.sakaiproject.org; Fri, 4 Jan 2008 11:11:01 -0500 Date: Fri, 4 Jan 2008 11:11:01 -0500 X-Authentication-Warning: nakamura.uits.iupui.edu: apache set sender to gsilver@umich.edu using -f To: source@collab.sakaiproject.org From: gsilver@umich.edu Subject: [sakai] svn commit: r39762 - web/trunk/webtool/tool/src/bundle X-Content-Type-Outer-Envelope: text/plain; charset=UTF-8 X-Content-Type-Message-Body: text/plain; charset=UTF-8 Content-Type: text/plain; charset=UTF-8 X-DSPAM-Result: Innocent X-DSPAM-Processed: Fri Jan 4 11:12:37 2008 X-DSPAM-Confidence: 0.7601 X-DSPAM-Probability: 0.0000 Details:\n",
      "http://source.sakaiproject.org/viewsvn/?view=rev&rev=39762 Author: gsilver@umich.edu Date: 2008-01-04 11:11:00 -0500 (Fri, 04 Jan 2008) New Revision: 39762 Modified: web/trunk/web-tool/tool/src/bundle/iframe.properties Log: SAK-12596 http://bugs.sakaiproject.org/jira/browse/SAK-12596 - left moot (unused) entries commented for now ---------------------- This automatic notification message was sent by Sakai Collab (https://collab.sakaiproject.org/portal) from the Source site. You can modify how you receive notifications at My Workspace > Preferences. From gsilver@umich.edu Fri Jan 4 11:11:52 2008 Return-Path: Received: from murder (mail.umich.edu [141.211.14.36]) by frankenstein.mail.umich.edu (Cyrus v2.3.8) with LMTPA; Fri, 04 Jan 2008 11:11:52 -0500 X-Sieve: CMU Sieve 2.3 Received: from murder ([unix socket]) by mail.umich.edu (Cyrus v2.2.12) with LMTPA; Fri, 04 Jan 2008 11:11:52 -0500 Received: from creepshow.mr.itd.umich.edu (creepshow.mr.itd.umich.edu [141.211.14.84]) by godsend.mail.umich.edu () with ESMTP id m04GBqqv025330; Fri, 4 Jan\n",
      "2008 11:11:52 -0500 Received: FROM paploo.uhi.ac.uk (app1.prod.collab.uhi.ac.uk [194.35.219.184]) BY creepshow.mr.itd.umich.edu ID 477E5AB3.5CC32.30840 ; 4 Jan 2008 11:11:34 -0500 Received: from paploo.uhi.ac.uk (localhost [127.0.0.1]) by paploo.uhi.ac.uk (Postfix) with ESMTP id 62AA4BAE46; Fri, 4 Jan 2008 16:11:31 +0000 (GMT)\n",
      "Message-ID: <200801041610.m04GA5KP007209@nakamura.uits.iupui.edu> Mime-Version: 1.0 Content-TransferEncoding: 7bit Received: from prod.collab.uhi.ac.uk ([194.35.219.182]) by paploo.uhi.ac.uk (JAMES SMTP Server 2.1.3) with SMTP ID 1006 for ; Fri, 4 Jan 2008 16:11:18 +0000 (GMT) Received: from nakamura.uits.iupui.edu\n",
      "(nakamura.uits.iupui.edu [134.68.220.122]) by shmi.uhi.ac.uk (Postfix) with ESMTP id C596A3DFA2 for ; Fri, 4 Jan 2008\n",
      "16:11:16 +0000 (GMT) Received: from nakamura.uits.iupui.edu (localhost [127.0.0.1]) by nakamura.uits.iupui.edu (8.12.11.20060308/8.12.11) with ESMTP id m04GA5LR007211 for ; Fri, 4 Jan 2008 11:10:05 -0500 Received: (from apache@localhost) by nakamura.uits.iupui.edu (8.12.11.20060308/8.12.11/Submit) id m04GA5KP007209 for source@collab.sakaiproject.org; Fri, 4 Jan 2008 11:10:05 -0500 Date: Fri, 4 Jan 2008 11:10:05 -0500 X-AuthenticationWarning: nakamura.uits.iupui.edu: apache set sender to gsilver@umich.edu using -f To: source@collab.sakaiproject.org\n",
      "From: gsilver@umich.edu Subject: [sakai] svn commit: r39761 - site/trunk/site-tool/tool/src/bundle X-Content-Type-OuterEnvelope: text/plain; charset=UTF-8 X-Content-Type-Message-Body: text/plain; charset=UTF-8 Content-Type: text/plain; charset=UTF-8 X-DSPAM-Result: Innocent X-DSPAM-Processed: Fri Jan 4 11:11:52 2008 X-DSPAM-Confidence: 0.7605 X-DSPAM-Probability: 0.0000 Details: http://source.sakaiproject.org/viewsvn/?view=rev&rev=39761 Author: gsilver@umich.edu Date: 2008-01-04 11:10:04 -0500 (Fri, 04 Jan 2008) New Revision: 39761 Modified: site/trunk/sitetool/tool/src/bundle/admin.properties Log: SAK-12595 http://bugs.sakaiproject.org/jira/browse/SAK-12595 - left moot (unused) entries commented for now ---------------------- This automatic notification message was sent by Sakai Collab\n",
      "(https://collab.sakaiproject.org/portal) from the Source site. You can modify how you receive notifications at My Workspace\n",
      "> Preferences. From zqian@umich.edu Fri Jan 4 11:11:03 2008 Return-Path: Received: from murder (mail.umich.edu\n",
      "[141.211.14.97]) by frankenstein.mail.umich.edu (Cyrus v2.3.8) with LMTPA; Fri, 04 Jan 2008 11:11:03 -0500 X-Sieve: CMU\n",
      "Sieve 2.3 Received: from murder ([unix socket]) by mail.umich.edu (Cyrus v2.2.12) with LMTPA; Fri, 04 Jan 2008 11:11:03\n",
      "-0500 Received: from carrie.mr.itd.umich.edu (carrie.mr.itd.umich.edu [141.211.93.152]) by sleepers.mail.umich.edu () with\n",
      "ESMTP id m04GB3Vg011502; Fri, 4 Jan 2008 11:11:03 -0500 Received: FROM paploo.uhi.ac.uk\n",
      "(app1.prod.collab.uhi.ac.uk [194.35.219.184]) BY carrie.mr.itd.umich.edu ID 477E5A8D.B378F.24200 ; 4 Jan 2008 11:10:56\n",
      "-0500 Received: from paploo.uhi.ac.uk (localhost [127.0.0.1]) by paploo.uhi.ac.uk (Postfix) with ESMTP id C7251BAD44;\n",
      "Fri, 4 Jan 2008 16:10:53 +0000 (GMT) Message-ID: <200801041609.m04G9EuX007197@nakamura.uits.iupui.edu> MimeVersion: 1.0 Content-Transfer-Encoding: 7bit Received: from prod.collab.uhi.ac.uk ([194.35.219.182]) by paploo.uhi.ac.uk\n",
      "(JAMES SMTP Server 2.1.3) with SMTP ID 483 for ; Fri, 4 Jan 2008 16:10:27 +0000 (GMT) Received: from nakamura.uits.iupui.edu (nakamura.uits.iupui.edu [134.68.220.122]) by shmi.uhi.ac.uk (Postfix) with ESMTP id\n",
      "2E7043DFA2 for ; Fri, 4 Jan 2008 16:10:26 +0000 (GMT) Received: from nakamura.uits.iupui.edu (localhost [127.0.0.1]) by nakamura.uits.iupui.edu (8.12.11.20060308/8.12.11) with ESMTP id m04G9Eqg007199 for ; Fri, 4 Jan 2008 11:09:15 -0500 Received: (from apache@localhost) by nakamura.uits.iupui.edu (8.12.11.20060308/8.12.11/Submit) id m04G9EuX007197 for source@collab.sakaiproject.org; Fri, 4 Jan 2008 11:09:14 -0500 Date: Fri, 4 Jan 2008 11:09:14 -0500 X-AuthenticationWarning: nakamura.uits.iupui.edu: apache set sender to zqian@umich.edu using -f To: source@collab.sakaiproject.org From: zqian@umich.edu Subject: [sakai] svn commit: r39760 - in site-manage/trunk/site-manage-tool/tool/src: java/org/sakaiproject/site/tool webapp/vm/sitesetup X-Content-Type-Outer-Envelope: text/plain; charset=UTF-8 X-ContentType-Message-Body: text/plain; charset=UTF-8 Content-Type: text/plain; charset=UTF-8 X-DSPAM-Result: Innocent XDSPAM-Processed: Fri Jan 4 11:11:03 2008 X-DSPAM-Confidence: 0.6959 X-DSPAM-Probability: 0.0000 Details:\n",
      "http://source.sakaiproject.org/viewsvn/?view=rev&rev=39760 Author: zqian@umich.edu Date: 2008-01-04 11:09:12 -0500\n",
      "(Fri, 04 Jan 2008) New Revision: 39760 Modified: site-manage/trunk/site-managetool/tool/src/java/org/sakaiproject/site/tool/SiteAction.java site-manage/trunk/site-manage-\n",
      "tool/tool/src/webapp/vm/sitesetup/chef_site-siteInfo-list.vm Log: fix to SAK-10911: Refactor use of site.upd, site.upd.site.mbrship and site.upd.grp.mbrship permissions ---------------------- This automatic notification message was sent by Sakai Collab (https://collab.sakaiproject.org/portal) from the Source site. You can modify how you receive notifications at My Workspace > Preferences. From gsilver@umich.edu Fri Jan 4 11:10:22 2008 Return-Path: Received: from murder\n",
      "(mail.umich.edu [141.211.14.39]) by frankenstein.mail.umich.edu (Cyrus v2.3.8) with LMTPA; Fri, 04 Jan 2008 11:10:22\n",
      "-0500 X-Sieve: CMU Sieve 2.3 Received: from murder ([unix socket]) by mail.umich.edu (Cyrus v2.2.12) with LMTPA; Fri,\n",
      "04 Jan 2008 11:10:22 -0500 Received: from holes.mr.itd.umich.edu (holes.mr.itd.umich.edu [141.211.14.79]) by faithful.mail.umich.edu () with ESMTP id m04GAL9k010604; Fri, 4 Jan 2008 11:10:21 -0500 Received: FROM paploo.uhi.ac.uk (app1.prod.collab.uhi.ac.uk [194.35.219.184]) BY holes.mr.itd.umich.edu ID 477E5A67.34350.23015 ; 4 Jan 2008 11:10:18 -0500 Received: from paploo.uhi.ac.uk (localhost [127.0.0.1]) by paploo.uhi.ac.uk (Postfix) with ESMTP id 98D04BAD43; Fri, 4 Jan 2008 16:10:11 +0000 (GMT) Message-ID:\n",
      "<200801041608.m04G8d7w007184@nakamura.uits.iupui.edu> Mime-Version: 1.0 Content-Transfer-Encoding: 7bit\n",
      "Received: from prod.collab.uhi.ac.uk ([194.35.219.182]) by paploo.uhi.ac.uk (JAMES SMTP Server 2.1.3) with SMTP ID\n",
      "966 for ; Fri, 4 Jan 2008 16:09:51 +0000 (GMT) Received: from nakamura.uits.iupui.edu (nakamura.uits.iupui.edu\n",
      "[134.68.220.122]) by shmi.uhi.ac.uk (Postfix) with ESMTP id 9F89542DD0 for ; Fri, 4 Jan 2008 16:09:50 +0000 (GMT)\n",
      "Received: from nakamura.uits.iupui.edu (localhost [127.0.0.1]) by nakamura.uits.iupui.edu (8.12.11.20060308/8.12.11) with ESMTP id m04G8dXN007186 for ; Fri, 4 Jan 2008 11:08:39 -0500 Received: (from apache@localhost) by nakamura.uits.iupui.edu (8.12.11.20060308/8.12.11/Submit) id m04G8d7w007184 for source@collab.sakaiproject.org; Fri, 4 Jan 2008 11:08:39 -0500 Date: Fri, 4 Jan 2008 11:08:39 -0500 X-Authentication-Warning: nakamura.uits.iupui.edu: apache set sender to gsilver@umich.edu using -f To: source@collab.sakaiproject.org From: gsilver@umich.edu Subject: [sakai] svn commit: r39759 - mailarchive/trunk/mailarchive-tool/tool/src/bundle X-Content-Type-Outer-Envelope: text/plain; charset=UTF-8 X-Content-Type-Message-Body: text/plain; charset=UTF-8 Content-Type: text/plain; charset=UTF-8 XDSPAM-Result: Innocent X-DSPAM-Processed: Fri Jan 4 11:10:22 2008 X-DSPAM-Confidence: 0.7606 X-DSPAM-\n",
      "Probability: 0.0000 Details: http://source.sakaiproject.org/viewsvn/?view=rev&rev=39759 Author: gsilver@umich.edu Date:\n",
      "2008-01-04 11:08:38 -0500 (Fri, 04 Jan 2008) New Revision: 39759 Modified: mailarchive/trunk/mailarchivetool/tool/src/bundle/email.properties Log: SAK-12592 http://bugs.sakaiproject.org/jira/browse/SAK-12592 - left moot (unused) entries commented for now ---------------------- This automatic notification message was sent by Sakai Collab\n",
      "(https://collab.sakaiproject.org/portal) from the Source site. You can modify how you receive notifications at My Workspace > Preferences. From wagnermr@iupui.edu Fri Jan 4 10:38:42 2008 Return-Path: Received: from murder (mail.umich.edu [141.211.14.90]) by frankenstein.mail.umich.edu (Cyrus v2.3.8) with LMTPA; Fri, 04 Jan 2008 10:38:42 -0500 X-Sieve:\n",
      "CMU Sieve 2.3 Received: from murder ([unix socket]) by mail.umich.edu (Cyrus v2.2.12) with LMTPA; Fri, 04 Jan 2008\n",
      "10:38:42 -0500 Received: from shining.mr.itd.umich.edu (shining.mr.itd.umich.edu [141.211.93.153]) by flawless.mail.umich.edu () with ESMTP id m04Fcfjm012313; Fri, 4 Jan 2008 10:38:41 -0500 Received: FROM paploo.uhi.ac.uk (app1.prod.collab.uhi.ac.uk [194.35.219.184]) BY shining.mr.itd.umich.edu ID 477E52FA.E6C6E.24093 ; 4 Jan 2008 10:38:37 -0500 Received: from paploo.uhi.ac.uk (localhost [127.0.0.1]) by paploo.uhi.ac.uk (Postfix) with ESMTP id 6A39594CD2; Fri, 4 Jan 2008 15:37:36 +0000 (GMT) Message-ID:\n",
      "<200801041537.m04Fb6Ci007092@nakamura.uits.iupui.edu> Mime-Version: 1.0 Content-Transfer-Encoding: 7bit\n",
      "Received: from prod.collab.uhi.ac.uk ([194.35.219.182]) by paploo.uhi.ac.uk (JAMES SMTP Server 2.1.3) with SMTP ID\n",
      "690 for ; Fri, 4 Jan 2008 15:37:21 +0000 (GMT) Received: from nakamura.uits.iupui.edu (nakamura.uits.iupui.edu\n",
      "[134.68.220.122]) by shmi.uhi.ac.uk (Postfix) with ESMTP id CEFA037ACE for ; Fri, 4 Jan 2008 15:38:17 +0000 (GMT)\n",
      "Received: from nakamura.uits.iupui.edu (localhost [127.0.0.1]) by nakamura.uits.iupui.edu (8.12.11.20060308/8.12.11) with ESMTP id m04Fb6nh007094 for ; Fri, 4 Jan 2008 10:37:06 -0500 Received: (from apache@localhost) by\n",
      "nakamura.uits.iupui.edu (8.12.11.20060308/8.12.11/Submit) id m04Fb6Ci007092 for source@collab.sakaiproject.org; Fri, 4 Jan 2008 10:37:06 -0500 Date: Fri, 4 Jan 2008 10:37:06 -0500 X-Authentication-Warning: nakamura.uits.iupui.edu: apache set sender to wagnermr@iupui.edu using -f To: source@collab.sakaiproject.org From: wagnermr@iupui.edu Subject: [sakai] svn commit: r39758 - in gradebook/trunk: app/business/src/java/org/sakaiproject/tool/gradebook/business/impl service/api/src/java/org/sakaiproject/service/gradebook/shared service/impl/src/java/org/sakaiproject/component/gradebook\n",
      "X-Content-Type-Outer-Envelope: text/plain; charset=UTF-8 X-Content-Type-Message-Body: text/plain; charset=UTF-8\n",
      "Content-Type: text/plain; charset=UTF-8 X-DSPAM-Result: Innocent X-DSPAM-Processed: Fri Jan 4 10:38:42 2008 XDSPAM-Confidence: 0.7559 X-DSPAM-Probability: 0.0000 Details: http://source.sakaiproject.org/viewsvn/?\n",
      "view=rev&rev=39758 Author: wagnermr@iupui.edu Date: 2008-01-04 10:37:04 -0500 (Fri, 04 Jan 2008) New Revision:\n",
      "39758 Modified:\n",
      "gradebook/trunk/app/business/src/java/org/sakaiproject/tool/gradebook/business/impl/GradebookManagerHibernateImpl.java gradebook/trunk/service/api/src/java/org/sakaiproject/service/gradebook/shared/GradebookService.java gradebook/trunk/service/impl/src/java/org/sakaiproject/component/gradebook/GradebookServiceHibernateImpl.java Log: SAK-12175 http://bugs.sakaiproject.org/jira/browse/SAK-12175 Create methods required for gb integration with the\n",
      "Assignment2 tool getGradeDefinitionForStudentForItem ---------------------- This automatic notification message was sent by\n",
      "Sakai Collab (https://collab.sakaiproject.org/portal) from the Source site. You can modify how you receive notifications at My\n",
      "Workspace > Preferences. From zqian@umich.edu Fri Jan 4 10:17:43 2008 Return-Path: Received: from murder\n",
      "(mail.umich.edu [141.211.14.97]) by frankenstein.mail.umich.edu (Cyrus v2.3.8) with LMTPA; Fri, 04 Jan 2008 10:17:43\n",
      "-0500 X-Sieve: CMU Sieve 2.3 Received: from murder ([unix socket]) by mail.umich.edu (Cyrus v2.2.12) with LMTPA; Fri, 04 Jan 2008 10:17:42 -0500 Received: from creepshow.mr.itd.umich.edu (creepshow.mr.itd.umich.edu [141.211.14.84]) by sleepers.mail.umich.edu () with ESMTP id m04FHgfs011536; Fri, 4 Jan 2008 10:17:42 -0500 Received: FROM\n",
      "paploo.uhi.ac.uk (app1.prod.collab.uhi.ac.uk [194.35.219.184]) BY creepshow.mr.itd.umich.edu ID 477E4E0F.CCA4B.926 ; 4 Jan 2008 10:17:38 -0500 Received: from paploo.uhi.ac.uk (localhost [127.0.0.1]) by paploo.uhi.ac.uk (Postfix) with ESMTP id BD02DBAC64; Fri, 4 Jan 2008 15:17:34 +0000 (GMT) Message-ID:\n",
      "<200801041515.m04FFv42007050@nakamura.uits.iupui.edu> Mime-Version: 1.0 Content-Transfer-Encoding: 7bit Received: from prod.collab.uhi.ac.uk ([194.35.219.182]) by paploo.uhi.ac.uk (JAMES SMTP Server 2.1.3) with SMTP ID 25 for ; Fri, 4 Jan 2008 15:17:11 +0000 (GMT) Received: from nakamura.uits.iupui.edu (nakamura.uits.iupui.edu\n",
      "[134.68.220.122]) by shmi.uhi.ac.uk (Postfix) with ESMTP id 5B396236B9 for ; Fri, 4 Jan 2008 15:17:08 +0000 (GMT)\n",
      "Received: from nakamura.uits.iupui.edu (localhost [127.0.0.1]) by nakamura.uits.iupui.edu (8.12.11.20060308/8.12.11) with ESMTP id m04FFv85007052 for ; Fri, 4 Jan 2008 10:15:57 -0500 Received: (from apache@localhost) by\n",
      "nakamura.uits.iupui.edu (8.12.11.20060308/8.12.11/Submit) id m04FFv42007050 for source@collab.sakaiproject.org; Fri, 4 Jan 2008 10:15:57 -0500 Date: Fri, 4 Jan 2008 10:15:57 -0500 X-Authentication-Warning: nakamura.uits.iupui.edu: apache set sender to zqian@umich.edu using -f To: source@collab.sakaiproject.org From: zqian@umich.edu Subject: [sakai] svn commit: r39757 - in assignment/trunk: assignment-impl/impl/src/java/org/sakaiproject/assignment/impl assignmenttool/tool/src/webapp/vm/assignment X-Content-Type-Outer-Envelope: text/plain; charset=UTF-8 X-Content-Type-MessageBody: text/plain; charset=UTF-8 Content-Type: text/plain; charset=UTF-8 X-DSPAM-Result: Innocent X-DSPAM-Processed:\n",
      "Fri Jan 4 10:17:42 2008 X-DSPAM-Confidence: 0.7605 X-DSPAM-Probability: 0.0000 Details:\n",
      "http://source.sakaiproject.org/viewsvn/?view=rev&rev=39757 Author: zqian@umich.edu Date: 2008-01-04 10:15:54 -0500\n",
      "(Fri, 04 Jan 2008) New Revision: 39757 Modified: assignment/trunk/assignment-\n",
      "impl/impl/src/java/org/sakaiproject/assignment/impl/BaseAssignmentService.java assignment/trunk/assignmenttool/tool/src/webapp/vm/assignment/chef_assignments_instructor_list_submissions.vm Log: fix to SAK-12604:Don't show groups/sections filter if the site doesn't have any ---------------------- This automatic notification message was sent by Sakai Collab (https://collab.sakaiproject.org/portal) from the Source site. You can modify how you receive notifications at My\n",
      "Workspace > Preferences. From antranig@caret.cam.ac.uk Fri Jan 4 10:04:14 2008 Return-Path: Received: from murder (mail.umich.edu [141.211.14.25]) by frankenstein.mail.umich.edu (Cyrus v2.3.8) with LMTPA; Fri, 04 Jan 2008 10:04:14\n",
      "-0500 X-Sieve: CMU Sieve 2.3 Received: from murder ([unix socket]) by mail.umich.edu (Cyrus v2.2.12) with LMTPA; Fri,\n",
      "04 Jan 2008 10:04:14 -0500 Received: from holes.mr.itd.umich.edu (holes.mr.itd.umich.edu [141.211.14.79]) by panther.mail.umich.edu () with ESMTP id m04F4Dci015108; Fri, 4 Jan 2008 10:04:13 -0500 Received: FROM paploo.uhi.ac.uk (app1.prod.collab.uhi.ac.uk [194.35.219.184]) BY holes.mr.itd.umich.edu ID 477E4AE3.D7AF.31669 ; 4 Jan 2008 10:04:05 -0500 Received: from paploo.uhi.ac.uk (localhost [127.0.0.1]) by paploo.uhi.ac.uk (Postfix) with ESMTP id 933E3BAC17; Fri, 4 Jan 2008 15:04:00 +0000 (GMT) Message-ID:\n",
      "<200801041502.m04F21Jo007031@nakamura.uits.iupui.edu> Mime-Version: 1.0 Content-Transfer-Encoding: 7bit Received: from prod.collab.uhi.ac.uk ([194.35.219.182]) by paploo.uhi.ac.uk (JAMES SMTP Server 2.1.3) with SMTP ID 32 for ; Fri, 4 Jan 2008 15:03:15 +0000 (GMT) Received: from nakamura.uits.iupui.edu (nakamura.uits.iupui.edu\n",
      "[134.68.220.122]) by shmi.uhi.ac.uk (Postfix) with ESMTP id AC2F6236B9 for ; Fri, 4 Jan 2008 15:03:12 +0000 (GMT)\n",
      "Received: from nakamura.uits.iupui.edu (localhost [127.0.0.1]) by nakamura.uits.iupui.edu (8.12.11.20060308/8.12.11) with ESMTP id m04F21hn007033 for ; Fri, 4 Jan 2008 10:02:01 -0500 Received: (from apache@localhost) by nakamura.uits.iupui.edu (8.12.11.20060308/8.12.11/Submit) id m04F21Jo007031 for source@collab.sakaiproject.org; Fri, 4 Jan 2008 10:02:01 -0500 Date: Fri, 4 Jan 2008 10:02:01 -0500 X-Authentication-Warning: nakamura.uits.iupui.edu: apache set sender to antranig@caret.cam.ac.uk using -f To: source@collab.sakaiproject.org From: antranig@caret.cam.ac.uk Subject: [sakai] svn commit: r39756 - in component/branches/SAK-12166/component-\n",
      "api/component/src/java/org/sakaiproject/component: impl impl/spring/support impl/spring/support/dynamic impl/support util X-Content-Type-Outer-Envelope: text/plain; charset=UTF-8 X-Content-Type-Message-Body: text/plain; charset=UTF-8\n",
      "Content-Type: text/plain; charset=UTF-8 X-DSPAM-Result: Innocent X-DSPAM-Processed: Fri Jan 4 10:04:14 2008 XDSPAM-Confidence: 0.6932 X-DSPAM-Probability: 0.0000 Details: http://source.sakaiproject.org/viewsvn/?\n",
      "view=rev&rev=39756 Author: antranig@caret.cam.ac.uk Date: 2008-01-04 10:01:40 -0500 (Fri, 04 Jan 2008) New Revision: 39756 Added: component/branches/SAK-12166/component-\n",
      "api/component/src/java/org/sakaiproject/component/impl/spring/support/dynamic/ component/branches/SAK-\n",
      "12166/component-\n",
      "api/component/src/java/org/sakaiproject/component/impl/spring/support/dynamic/DynamicComponentManager.java component/branches/SAK-12166/component-api/component/src/java/org/sakaiproject/component/impl/support/ component/branches/SAK-12166/component-\n",
      "api/component/src/java/org/sakaiproject/component/impl/support/DynamicComponentRecord.java component/branches/SAK-12166/component-\n",
      "api/component/src/java/org/sakaiproject/component/impl/support/DynamicJARManager.java component/branches/SAK12166/component-api/component/src/java/org/sakaiproject/component/impl/support/JARRecord.java component/branches/SAK-12166/componentapi/component/src/java/org/sakaiproject/component/util/ByteToCharBase64.java component/branches/SAK12166/component-api/component/src/java/org/sakaiproject/component/util/FileUtil.java component/branches/SAK12166/component-api/component/src/java/org/sakaiproject/component/util/RecordFileIO.java component/branches/SAK12166/component-api/component/src/java/org/sakaiproject/component/util/RecordReader.java component/branches/SAK12166/component-api/component/src/java/org/sakaiproject/component/util/RecordWriter.java component/branches/SAK12166/component-api/component/src/java/org/sakaiproject/component/util/StreamDigestor.java Modified:\n",
      "component/branches/SAK-12166/componentapi/component/src/java/org/sakaiproject/component/impl/spring/support/ComponentsLoaderImpl.java Log: Temporary commit of incomplete work on JAR caching ---------------------- This automatic notification message was sent by Sakai Collab (https://collab.sakaiproject.org/portal) from the Source site. You can modify how you receive notifications at My Workspace\n",
      "> Preferences. From gopal.ramasammycook@gmail.com Fri Jan 4 09:05:31 2008 Return-Path: Received: from murder\n",
      "(mail.umich.edu [141.211.14.90]) by frankenstein.mail.umich.edu (Cyrus v2.3.8) with LMTPA; Fri, 04 Jan 2008 09:05:31\n",
      "-0500 X-Sieve: CMU Sieve 2.3 Received: from murder ([unix socket]) by mail.umich.edu (Cyrus v2.2.12) with LMTPA; Fri,\n",
      "04 Jan 2008 09:05:31 -0500 Received: from guys.mr.itd.umich.edu (guys.mr.itd.umich.edu [141.211.14.76]) by flawless.mail.umich.edu () with ESMTP id m04E5U3C029277; Fri, 4 Jan 2008 09:05:30 -0500 Received: FROM paploo.uhi.ac.uk (app1.prod.collab.uhi.ac.uk [194.35.219.184]) BY guys.mr.itd.umich.edu ID 477E3D23.EE2E7.5237 ; 4 Jan 2008 09:05:26 -0500 Received: from paploo.uhi.ac.uk (localhost [127.0.0.1]) by paploo.uhi.ac.uk (Postfix) with ESMTP id 33C7856DC0; Fri, 4 Jan 2008 14:05:26 +0000 (GMT) Message-ID:\n",
      "<200801041403.m04E3psW006926@nakamura.uits.iupui.edu> Mime-Version: 1.0 Content-Transfer-Encoding: 7bit\n",
      "Received: from prod.collab.uhi.ac.uk ([194.35.219.182]) by paploo.uhi.ac.uk (JAMES SMTP Server 2.1.3) with SMTP ID\n",
      "575 for ; Fri, 4 Jan 2008 14:05:04 +0000 (GMT) Received: from nakamura.uits.iupui.edu (nakamura.uits.iupui.edu\n",
      "[134.68.220.122]) by shmi.uhi.ac.uk (Postfix) with ESMTP id 3C0261D617 for ; Fri, 4 Jan 2008 14:05:03 +0000 (GMT)\n",
      "Received: from nakamura.uits.iupui.edu (localhost [127.0.0.1]) by nakamura.uits.iupui.edu (8.12.11.20060308/8.12.11) with ESMTP id m04E3pQS006928 for ; Fri, 4 Jan 2008 09:03:52 -0500 Received: (from apache@localhost) by nakamura.uits.iupui.edu (8.12.11.20060308/8.12.11/Submit) id m04E3psW006926 for source@collab.sakaiproject.org; Fri, 4 Jan 2008 09:03:51 -0500 Date: Fri, 4 Jan 2008 09:03:51 -0500 X-Authentication-Warning: nakamura.uits.iupui.edu: apache set sender to gopal.ramasammycook@gmail.com using -f To: source@collab.sakaiproject.org From:\n",
      "gopal.ramasammycook@gmail.com Subject: [sakai] svn commit: r39755 - in sam/branches/SAK-12065: samigoapi/src/java/org/sakaiproject/tool/assessment/shared/api/grading samigoapp/src/java/org/sakaiproject/tool/assessment/ui/bean/evaluation samigoapp/src/java/org/sakaiproject/tool/assessment/ui/listener/evaluation samigoservices/src/java/org/sakaiproject/tool/assessment/facade samigo-\n",
      "services/src/java/org/sakaiproject/tool/assessment/integration/helper/ifc samigoservices/src/java/org/sakaiproject/tool/assessment/integration/helper/integrated samigoservices/src/java/org/sakaiproject/tool/assessment/integration/helper/standalone samigo-\n",
      "services/src/java/org/sakaiproject/tool/assessment/shared/impl/grading X-Content-Type-Outer-Envelope: text/plain; charset=UTF-8 X-Content-Type-Message-Body: text/plain; charset=UTF-8 Content-Type: text/plain; charset=UTF-8 XDSPAM-Result: Innocent X-DSPAM-Processed: Fri Jan 4 09:05:31 2008 X-DSPAM-Confidence: 0.7558 X-DSPAMProbability: 0.0000 Details: http://source.sakaiproject.org/viewsvn/?view=rev&rev=39755 Author:\n",
      "gopal.ramasammycook@gmail.com Date: 2008-01-04 09:02:54 -0500 (Fri, 04 Jan 2008) New Revision: 39755 Modified: sam/branches/SAK-12065/samigo-\n",
      "api/src/java/org/sakaiproject/tool/assessment/shared/api/grading/GradingSectionAwareServiceAPI.java sam/branches/SAK-\n",
      "12065/samigo-app/src/java/org/sakaiproject/tool/assessment/ui/bean/evaluation/QuestionScoresBean.java sam/branches/SAK-12065/samigo-\n",
      "app/src/java/org/sakaiproject/tool/assessment/ui/bean/evaluation/SubmissionStatusBean.java sam/branches/SAK12065/samigo-app/src/java/org/sakaiproject/tool/assessment/ui/bean/evaluation/TotalScoresBean.java sam/branches/SAK-\n",
      "12065/samigo-app/src/java/org/sakaiproject/tool/assessment/ui/listener/evaluation/SubmissionStatusListener.java sam/branches/SAK-12065/samigoservices/src/java/org/sakaiproject/tool/assessment/facade/PublishedAssessmentFacadeQueries.java sam/branches/SAK12065/samigo-services/src/java/org/sakaiproject/tool/assessment/facade/PublishedAssessmentFacadeQueriesAPI.java sam/branches/SAK-12065/samigo-\n",
      "services/src/java/org/sakaiproject/tool/assessment/integration/helper/ifc/SectionAwareServiceHelper.java sam/branches/SAK-12065/samigo-\n",
      "services/src/java/org/sakaiproject/tool/assessment/integration/helper/integrated/SectionAwareServiceHelperImpl.java sam/branches/SAK-12065/samigo-\n",
      "services/src/java/org/sakaiproject/tool/assessment/integration/helper/standalone/SectionAwareServiceHelperImpl.java sam/branches/SAK-12065/samigo-\n",
      "services/src/java/org/sakaiproject/tool/assessment/shared/impl/grading/GradingSectionAwareServiceImpl.java Log: SAK12065 Gopal - Samigo Group Release. SubmissionStatus/TotalScores/Questions View filter. ---------------------- This automatic notification message was sent by Sakai Collab (https://collab.sakaiproject.org/portal) from the Source site. You can modify how you receive notifications at My Workspace > Preferences. From david.horwitz@uct.ac.za Fri Jan 4 07:02:32 2008 Return-Path: Received: from murder (mail.umich.edu [141.211.14.39]) by frankenstein.mail.umich.edu (Cyrus v2.3.8) with LMTPA; Fri, 04 Jan 2008 07:02:32 -0500 X-Sieve: CMU Sieve 2.3 Received: from murder ([unix socket]) by mail.umich.edu (Cyrus v2.2.12) with LMTPA; Fri, 04 Jan 2008 07:02:32 -0500 Received: from guys.mr.itd.umich.edu (guys.mr.itd.umich.edu [141.211.14.76]) by faithful.mail.umich.edu () with ESMTP id m04C2VN7026678; Fri, 4 Jan 2008\n",
      "07:02:31 -0500 Received: FROM paploo.uhi.ac.uk (app1.prod.collab.uhi.ac.uk [194.35.219.184]) BY guys.mr.itd.umich.edu ID 477E2050.C2599.3263 ; 4 Jan 2008 07:02:27 -0500 Received: from paploo.uhi.ac.uk (localhost [127.0.0.1]) by paploo.uhi.ac.uk (Postfix) with ESMTP id 6497FBA906; Fri, 4 Jan 2008 12:02:11 +0000 (GMT) Message-ID: <200801041200.m04C0gfK006793@nakamura.uits.iupui.edu> Mime-Version: 1.0 Content-Transfer-Encoding: 7bit\n",
      "Received: from prod.collab.uhi.ac.uk ([194.35.219.182]) by paploo.uhi.ac.uk (JAMES SMTP Server 2.1.3) with SMTP ID\n",
      "611 for ; Fri, 4 Jan 2008 12:01:53 +0000 (GMT) Received: from nakamura.uits.iupui.edu (nakamura.uits.iupui.edu\n",
      "[134.68.220.122]) by shmi.uhi.ac.uk (Postfix) with ESMTP id 5296342D3C for ; Fri, 4 Jan 2008 12:01:53 +0000 (GMT)\n",
      "Received: from nakamura.uits.iupui.edu (localhost [127.0.0.1]) by nakamura.uits.iupui.edu (8.12.11.20060308/8.12.11) with ESMTP id m04C0gnm006795 for ; Fri, 4 Jan 2008 07:00:42 -0500 Received: (from apache@localhost) by nakamura.uits.iupui.edu (8.12.11.20060308/8.12.11/Submit) id m04C0gfK006793 for source@collab.sakaiproject.org; Fri, 4 Jan 2008 07:00:42 -0500 Date: Fri, 4 Jan 2008 07:00:42 -0500 X-Authentication-Warning: nakamura.uits.iupui.edu: apache set sender to david.horwitz@uct.ac.za using -f To: source@collab.sakaiproject.org From: david.horwitz@uct.ac.za Subject:\n",
      "[sakai] svn commit: r39754 - in polls/branches/sakai_2-5-x: . tool tool/src/java/org/sakaiproject/poll/tool\n",
      "tool/src/java/org/sakaiproject/poll/tool/evolvers tool/src/webapp/WEB-INF X-Content-Type-Outer-Envelope: text/plain; charset=UTF-8 X-Content-Type-Message-Body: text/plain; charset=UTF-8 Content-Type: text/plain; charset=UTF-8 XDSPAM-Result: Innocent X-DSPAM-Processed: Fri Jan 4 07:02:32 2008 X-DSPAM-Confidence: 0.6526 X-DSPAM-\n",
      "Probability: 0.0000 Details: http://source.sakaiproject.org/viewsvn/?view=rev&rev=39754 Author: david.horwitz@uct.ac.za\n",
      "Date: 2008-01-04 07:00:10 -0500 (Fri, 04 Jan 2008) New Revision: 39754 Added: polls/branches/sakai_2-5x/tool/src/java/org/sakaiproject/poll/tool/evolvers/ polls/branches/sakai_2-5-\n",
      "x/tool/src/java/org/sakaiproject/poll/tool/evolvers/SakaiFCKTextEvolver.java Removed: polls/branches/sakai_2-5x/tool/src/java/org/sakaiproject/poll/tool/evolvers/SakaiFCKTextEvolver.java Modified: polls/branches/sakai_2-5-x/.classpath polls/branches/sakai_2-5-x/tool/pom.xml polls/branches/sakai_2-5-x/tool/src/webapp/WEB-INF/requestContext.xml Log: svn log -r39753 https://source.sakaiproject.org/svn/polls/trunk -----------------------------------------------------------------------r39753 | david.horwitz@uct.ac.za | 2008-01-04 13:05:51 +0200 (Fri, 04 Jan 2008) | 1 line SAK-12228 implmented\n",
      "workaround sugested by AB - needs to be tested against a trunk build ----------------------------------------------------------------------\n",
      "-- dhorwitz@david-horwitz-6:~/branchManagemnt/sakai_2-5-x> svn merge -c39753 https://source.sakaiproject.org/svn/polls/trunk polls/ U polls/.classpath A polls/tool/src/java/org/sakaiproject/poll/tool/evolvers A polls/tool/src/java/org/sakaiproject/poll/tool/evolvers/SakaiFCKTextEvolver.java C polls/tool/src/webapp/WEBINF/requestContext.xml U polls/tool/pom.xml dhorwitz@david-horwitz-6:~/branchManagemnt/sakai_2-5-x> svn resolved\n",
      "polls/tool/src/webapp/WEB-INF/requestContext.xml Resolved conflicted state of 'polls/tool/src/webapp/WEBINF/requestContext.xml ---------------------- This automatic notification message was sent by Sakai Collab\n",
      "(https://collab.sakaiproject.org/portal) from the Source site. You can modify how you receive notifications at My Workspace\n",
      "> Preferences. From david.horwitz@uct.ac.za Fri Jan 4 06:08:27 2008 Return-Path: Received: from murder\n",
      "(mail.umich.edu [141.211.14.98]) by frankenstein.mail.umich.edu (Cyrus v2.3.8) with LMTPA; Fri, 04 Jan 2008 06:08:27\n",
      "-0500 X-Sieve: CMU Sieve 2.3 Received: from murder ([unix socket]) by mail.umich.edu (Cyrus v2.2.12) with LMTPA; Fri, 04 Jan 2008 06:08:27 -0500 Received: from firestarter.mr.itd.umich.edu (firestarter.mr.itd.umich.edu [141.211.14.83]) by casino.mail.umich.edu () with ESMTP id m04B8Qw9001368; Fri, 4 Jan 2008 06:08:26 -0500 Received: FROM paploo.uhi.ac.uk (app1.prod.collab.uhi.ac.uk [194.35.219.184]) BY firestarter.mr.itd.umich.edu ID 477E13A5.30FC0.24054 ; 4 Jan 2008 06:08:23 -0500 Received: from paploo.uhi.ac.uk (localhost [127.0.0.1]) by paploo.uhi.ac.uk (Postfix) with ESMTP id 784A476D7B; Fri, 4 Jan 2008 11:08:12 +0000 (GMT) Message-ID:\n",
      "<200801041106.m04B6lK3006677@nakamura.uits.iupui.edu> Mime-Version: 1.0 Content-Transfer-Encoding: 7bit\n",
      "Received: from prod.collab.uhi.ac.uk ([194.35.219.182]) by paploo.uhi.ac.uk (JAMES SMTP Server 2.1.3) with SMTP ID\n",
      "585 for ; Fri, 4 Jan 2008 11:07:56 +0000 (GMT) Received: from nakamura.uits.iupui.edu (nakamura.uits.iupui.edu\n",
      "[134.68.220.122]) by shmi.uhi.ac.uk (Postfix) with ESMTP id 1CACC42D0C for ; Fri, 4 Jan 2008 11:07:58 +0000 (GMT)\n",
      "Received: from nakamura.uits.iupui.edu (localhost [127.0.0.1]) by nakamura.uits.iupui.edu (8.12.11.20060308/8.12.11) with ESMTP id m04B6lWM006679 for ; Fri, 4 Jan 2008 06:06:47 -0500 Received: (from apache@localhost) by nakamura.uits.iupui.edu (8.12.11.20060308/8.12.11/Submit) id m04B6lK3006677 for source@collab.sakaiproject.org; Fri, 4 Jan 2008 06:06:47 -0500 Date: Fri, 4 Jan 2008 06:06:47 -0500 X-Authentication-Warning: nakamura.uits.iupui.edu: apache set sender to david.horwitz@uct.ac.za using -f To: source@collab.sakaiproject.org From: david.horwitz@uct.ac.za Subject:\n",
      "[sakai] svn commit: r39753 - in polls/trunk: . tool tool/src/java/org/sakaiproject/poll/tool\n",
      "tool/src/java/org/sakaiproject/poll/tool/evolvers tool/src/webapp/WEB-INF X-Content-Type-Outer-Envelope: text/plain; charset=UTF-8 X-Content-Type-Message-Body: text/plain; charset=UTF-8 Content-Type: text/plain; charset=UTF-8 XDSPAM-Result: Innocent X-DSPAM-Processed: Fri Jan 4 06:08:27 2008 X-DSPAM-Confidence: 0.6948 X-DSPAM-\n",
      "Probability: 0.0000 Details: http://source.sakaiproject.org/viewsvn/?view=rev&rev=39753 Author: david.horwitz@uct.ac.za Date: 2008-01-04 06:05:51 -0500 (Fri, 04 Jan 2008) New Revision: 39753 Added:\n",
      "polls/trunk/tool/src/java/org/sakaiproject/poll/tool/evolvers/\n",
      "polls/trunk/tool/src/java/org/sakaiproject/poll/tool/evolvers/SakaiFCKTextEvolver.java Modified: polls/trunk/.classpath polls/trunk/tool/pom.xml polls/trunk/tool/src/webapp/WEB-INF/requestContext.xml Log: SAK-12228 implmented workaround sugested by AB - needs to be tested against a trunk build ---------------------- This automatic notification message was sent by Sakai Collab (https://collab.sakaiproject.org/portal) from the Source site. You can modify how you receive notifications at My\n",
      "Workspace > Preferences. From david.horwitz@uct.ac.za Fri Jan 4 04:49:08 2008 Return-Path: Received: from murder\n",
      "(mail.umich.edu [141.211.14.92]) by frankenstein.mail.umich.edu (Cyrus v2.3.8) with LMTPA; Fri, 04 Jan 2008 04:49:08\n",
      "-0500 X-Sieve: CMU Sieve 2.3 Received: from murder ([unix socket]) by mail.umich.edu (Cyrus v2.2.12) with LMTPA; Fri, 04 Jan 2008 04:49:08 -0500 Received: from galaxyquest.mr.itd.umich.edu (galaxyquest.mr.itd.umich.edu [141.211.93.145]) by score.mail.umich.edu () with ESMTP id m049n60G017588; Fri, 4 Jan 2008 04:49:06 -0500 Received: FROM\n",
      "paploo.uhi.ac.uk (app1.prod.collab.uhi.ac.uk [194.35.219.184]) BY galaxyquest.mr.itd.umich.edu ID 477E010C.48C2.10259 ; 4 Jan 2008 04:49:03 -0500 Received: from paploo.uhi.ac.uk (localhost [127.0.0.1]) by paploo.uhi.ac.uk (Postfix) with ESMTP id 254CC8CDEE; Fri, 4 Jan 2008 09:48:55 +0000 (GMT) Message-ID:\n",
      "<200801040947.m049lUxo006517@nakamura.uits.iupui.edu> Mime-Version: 1.0 Content-Transfer-Encoding: 7bit\n",
      "Received: from prod.collab.uhi.ac.uk ([194.35.219.182]) by paploo.uhi.ac.uk (JAMES SMTP Server 2.1.3) with SMTP ID\n",
      "246 for ; Fri, 4 Jan 2008 09:48:36 +0000 (GMT) Received: from nakamura.uits.iupui.edu (nakamura.uits.iupui.edu\n",
      "[134.68.220.122]) by shmi.uhi.ac.uk (Postfix) with ESMTP id 8C13342C92 for ; Fri, 4 Jan 2008 09:48:40 +0000 (GMT)\n",
      "Received: from nakamura.uits.iupui.edu (localhost [127.0.0.1]) by nakamura.uits.iupui.edu (8.12.11.20060308/8.12.11) with ESMTP id m049lU3P006519 for ; Fri, 4 Jan 2008 04:47:30 -0500 Received: (from apache@localhost) by nakamura.uits.iupui.edu (8.12.11.20060308/8.12.11/Submit) id m049lUxo006517 for source@collab.sakaiproject.org; Fri, 4 Jan 2008 04:47:30 -0500 Date: Fri, 4 Jan 2008 04:47:30 -0500 X-Authentication-Warning: nakamura.uits.iupui.edu: apache set sender to david.horwitz@uct.ac.za using -f To: source@collab.sakaiproject.org From: david.horwitz@uct.ac.za Subject: [sakai] svn commit: r39752 - in podcasts/branches/sakai_2-5-x/podcasts-app/src/webapp: css podcasts X-Content-TypeOuter-Envelope: text/plain; charset=UTF-8 X-Content-Type-Message-Body: text/plain; charset=UTF-8 Content-Type: text/plain; charset=UTF-8 X-DSPAM-Result: Innocent X-DSPAM-Processed: Fri Jan 4 04:49:08 2008 X-DSPAMConfidence: 0.6528 X-DSPAM-Probability: 0.0000 Details: http://source.sakaiproject.org/viewsvn/?view=rev&rev=39752 Author: david.horwitz@uct.ac.za Date: 2008-01-04 04:47:16 -0500 (Fri, 04 Jan 2008) New Revision: 39752 Modified: podcasts/branches/sakai_2-5-x/podcasts-app/src/webapp/css/podcaster.css podcasts/branches/sakai_2-5-x/podcastsapp/src/webapp/podcasts/podMain.jsp Log: svn log -r39641 https://source.sakaiproject.org/svn/podcasts/trunk ----------------------------------------------------------------------- r39641 | josrodri@iupui.edu | 2007-12-28 23:44:24 +0200 (Fri, 28 Dec 2007) | 1\n",
      "line SAK-9882: refactored podMain.jsp the right way (at least much closer to) -------------------------------------------------------------\n",
      "----------- dhorwitz@david-horwitz-6:~/branchManagemnt/sakai_2-5-x> svn merge -c39641\n",
      "https://source.sakaiproject.org/svn/podcasts/trunk podcasts/ C podcasts/podcasts-app/src/webapp/podcasts/podMain.jsp U podcasts/podcasts-app/src/webapp/css/podcaster.css conflict merged manualy ---------------------- This automatic notification message was sent by Sakai Collab (https://collab.sakaiproject.org/portal) from the Source site. You can modify how you receive notifications at My Workspace > Preferences. From david.horwitz@uct.ac.za Fri Jan 4 04:33:44 2008 Return-Path: Received: from murder (mail.umich.edu [141.211.14.46]) by frankenstein.mail.umich.edu (Cyrus v2.3.8) with LMTPA; Fri, 04 Jan 2008 04:33:44 -0500 X-Sieve: CMU Sieve 2.3 Received: from murder ([unix socket]) by mail.umich.edu (Cyrus v2.2.12) with LMTPA; Fri, 04 Jan 2008 04:33:44 -0500 Received: from workinggirl.mr.itd.umich.edu (workinggirl.mr.itd.umich.edu [141.211.93.143]) by fan.mail.umich.edu () with ESMTP id m049Xge3031803; Fri, 4 Jan 2008 04:33:42 -0500 Received:\n",
      "FROM paploo.uhi.ac.uk (app1.prod.collab.uhi.ac.uk [194.35.219.184]) BY workinggirl.mr.itd.umich.edu ID 477DFD6C.75DBE.26054 ; 4 Jan 2008 04:33:35 -0500 Received: from paploo.uhi.ac.uk (localhost [127.0.0.1]) by paploo.uhi.ac.uk (Postfix) with ESMTP id 6C929BA656; Fri, 4 Jan 2008 09:33:27 +0000 (GMT) Message-ID: <200801040932.m049W2i5006493@nakamura.uits.iupui.edu> Mime-Version: 1.0 Content-Transfer-Encoding: 7bit\n",
      "Received: from prod.collab.uhi.ac.uk ([194.35.219.182]) by paploo.uhi.ac.uk (JAMES SMTP Server 2.1.3) with SMTP ID\n",
      "153 for ; Fri, 4 Jan 2008 09:33:10 +0000 (GMT) Received: from nakamura.uits.iupui.edu (nakamura.uits.iupui.edu\n",
      "[134.68.220.122]) by shmi.uhi.ac.uk (Postfix) with ESMTP id 6C69423767 for ; Fri, 4 Jan 2008 09:33:13 +0000 (GMT)\n",
      "Received: from nakamura.uits.iupui.edu (localhost [127.0.0.1]) by nakamura.uits.iupui.edu (8.12.11.20060308/8.12.11) with ESMTP id m049W3fl006495 for ; Fri, 4 Jan 2008 04:32:03 -0500 Received: (from apache@localhost) by nakamura.uits.iupui.edu (8.12.11.20060308/8.12.11/Submit) id m049W2i5006493 for source@collab.sakaiproject.org; Fri, 4 Jan 2008 04:32:02 -0500 Date: Fri, 4 Jan 2008 04:32:02 -0500 X-Authentication-Warning: nakamura.uits.iupui.edu: apache set sender to david.horwitz@uct.ac.za using -f To: source@collab.sakaiproject.org From: david.horwitz@uct.ac.za Subject: [sakai] svn commit: r39751 - in podcasts/branches/sakai_2-5-x/podcasts-app/src/webapp: css images podcasts X-ContentType-Outer-Envelope: text/plain; charset=UTF-8 X-Content-Type-Message-Body: text/plain; charset=UTF-8 Content-Type: text/plain; charset=UTF-8 X-DSPAM-Result: Innocent X-DSPAM-Processed: Fri Jan 4 04:33:44 2008 X-DSPAMConfidence: 0.7002 X-DSPAM-Probability: 0.0000 Details: http://source.sakaiproject.org/viewsvn/?view=rev&rev=39751 Author: david.horwitz@uct.ac.za Date: 2008-01-04 04:31:35 -0500 (Fri, 04 Jan 2008) New Revision: 39751 Removed: podcasts/branches/sakai_2-5-x/podcasts-app/src/webapp/images/rss-feed-icon.png podcasts/branches/sakai_2-5x/podcasts-app/src/webapp/podcasts/podPermissions.jsp Modified: podcasts/branches/sakai_2-5-x/podcastsapp/src/webapp/css/podcaster.css podcasts/branches/sakai_2-5-x/podcasts-app/src/webapp/podcasts/podDelete.jsp podcasts/branches/sakai_2-5-x/podcasts-app/src/webapp/podcasts/podMain.jsp podcasts/branches/sakai_2-5-x/podcastsapp/src/webapp/podcasts/podNoResource.jsp podcasts/branches/sakai_2-5-x/podcasts-\n",
      "app/src/webapp/podcasts/podOptions.jsp Log: svn log -r39146 https://source.sakaiproject.org/svn/podcasts/trunk ----------------------------------------------------------------------- r39146 | josrodri@iupui.edu | 2007-12-12 21:40:33 +0200 (Wed, 12 Dec 2007) | 1 line SAK-9882: refactored the other pages as well to take advantage of proper jsp components as well as validation cleanup. ------------------------------------------------------------------------ dhorwitz@david-horwitz-6:~/branchManagemnt/sakai_2-5x> svn merge -c39146 https://source.sakaiproject.org/svn/podcasts/trunk podcasts/ D podcasts/podcastsapp/src/webapp/podcasts/podPermissions.jsp U podcasts/podcasts-app/src/webapp/podcasts/podDelete.jsp U podcasts/podcasts-app/src/webapp/podcasts/podMain.jsp U podcasts/podcasts-\n",
      "app/src/webapp/podcasts/podNoResource.jsp U podcasts/podcasts-app/src/webapp/podcasts/podOptions.jsp D podcasts/podcasts-app/src/webapp/images/rss-feed-icon.png U podcasts/podcasts-app/src/webapp/css/podcaster.css --------------------- This automatic notification message was sent by Sakai Collab (https://collab.sakaiproject.org/portal) from the\n",
      "Source site. You can modify how you receive notifications at My Workspace > Preferences. From stephen.marquard@uct.ac.za Fri Jan 4 04:07:34 2008 Return-Path: Received: from murder (mail.umich.edu\n",
      "[141.211.14.25]) by frankenstein.mail.umich.edu (Cyrus v2.3.8) with LMTPA; Fri, 04 Jan 2008 04:07:34 -0500 X-Sieve:\n",
      "CMU Sieve 2.3 Received: from murder ([unix socket]) by mail.umich.edu (Cyrus v2.2.12) with LMTPA; Fri, 04 Jan 2008\n",
      "04:07:34 -0500 Received: from salemslot.mr.itd.umich.edu (salemslot.mr.itd.umich.edu [141.211.14.58]) by panther.mail.umich.edu () with ESMTP id m0497WAN027902; Fri, 4 Jan 2008 04:07:32 -0500 Received: FROM\n",
      "paploo.uhi.ac.uk (app1.prod.collab.uhi.ac.uk [194.35.219.184]) BY salemslot.mr.itd.umich.edu ID 477DF74E.49493.30415 ; 4 Jan 2008 04:07:29 -0500 Received: from paploo.uhi.ac.uk (localhost [127.0.0.1]) by paploo.uhi.ac.uk (Postfix) with ESMTP id 88598BA5B6; Fri, 4 Jan 2008 09:07:19 +0000 (GMT) Message-ID:\n",
      "<200801040905.m0495rWB006420@nakamura.uits.iupui.edu> Mime-Version: 1.0 Content-Transfer-Encoding: 7bit\n",
      "Received: from prod.collab.uhi.ac.uk ([194.35.219.182]) by paploo.uhi.ac.uk (JAMES SMTP Server 2.1.3) with SMTP ID\n",
      "385 for ; Fri, 4 Jan 2008 09:07:04 +0000 (GMT) Received: from nakamura.uits.iupui.edu (nakamura.uits.iupui.edu\n",
      "[134.68.220.122]) by shmi.uhi.ac.uk (Postfix) with ESMTP id 90636418A8 for ; Fri, 4 Jan 2008 09:07:04 +0000 (GMT)\n",
      "Received: from nakamura.uits.iupui.edu (localhost [127.0.0.1]) by nakamura.uits.iupui.edu (8.12.11.20060308/8.12.11) with ESMTP id m0495sZs006422 for ; Fri, 4 Jan 2008 04:05:54 -0500 Received: (from apache@localhost) by nakamura.uits.iupui.edu (8.12.11.20060308/8.12.11/Submit) id m0495rWB006420 for source@collab.sakaiproject.org; Fri, 4 Jan 2008 04:05:53 -0500 Date: Fri, 4 Jan 2008 04:05:53 -0500 X-Authentication-Warning: nakamura.uits.iupui.edu: apache set sender to stephen.marquard@uct.ac.za using -f To: source@collab.sakaiproject.org From: stephen.marquard@uct.ac.za Subject: [sakai] svn commit: r39750 - event/branches/SAK-6216/eventutil/util/src/java/org/sakaiproject/util X-Content-Type-Outer-Envelope: text/plain; charset=UTF-8 X-Content-Type-MessageBody: text/plain; charset=UTF-8 Content-Type: text/plain; charset=UTF-8 X-DSPAM-Result: Innocent X-DSPAM-Processed: Fri Jan 4 04:07:34 2008 X-DSPAM-Confidence: 0.7554 X-DSPAM-Probability: 0.0000 Details: http://source.sakaiproject.org/viewsvn/?view=rev&rev=39750 Author: stephen.marquard@uct.ac.za Date: 2008-01-04\n",
      "04:05:43 -0500 (Fri, 04 Jan 2008) New Revision: 39750 Modified: event/branches/SAK-6216/event-\n",
      "util/util/src/java/org/sakaiproject/util/EmailNotification.java Log: SAK-6216 merge event change from SAK-11169 (r39033) to synchronize branch with 2-5-x (for convenience for UCT local build) ---------------------- This automatic notification message was sent by Sakai Collab (https://collab.sakaiproject.org/portal) from the Source site. You can modify how you receive notifications at My Workspace > Preferences. From louis@media.berkeley.edu Thu Jan 3 19:51:21 2008 Return-Path: Received: from murder (mail.umich.edu [141.211.14.91]) by frankenstein.mail.umich.edu (Cyrus v2.3.8) with LMTPA; Thu, 03 Jan 2008 19:51:21 -0500 X-Sieve: CMU Sieve 2.3 Received: from murder ([unix socket]) by mail.umich.edu (Cyrus v2.2.12) with LMTPA; Thu, 03 Jan 2008 19:51:21 -0500 Received: from eyewitness.mr.itd.umich.edu\n",
      "(eyewitness.mr.itd.umich.edu [141.211.93.142]) by jacknife.mail.umich.edu () with ESMTP id m040pJHB027171; Thu, 3 Jan\n",
      "2008 19:51:19 -0500 Received: FROM paploo.uhi.ac.uk (app1.prod.collab.uhi.ac.uk [194.35.219.184]) BY eyewitness.mr.itd.umich.edu ID 477D8300.AC098.32562 ; 3 Jan 2008 19:51:15 -0500 Received: from paploo.uhi.ac.uk (localhost [127.0.0.1]) by paploo.uhi.ac.uk (Postfix) with ESMTP id E6CC4B9F8A; Fri, 4 Jan 2008 00:36:06 +0000 (GMT) Message-ID: <200801040023.m040NpCc005473@nakamura.uits.iupui.edu> Mime-Version: 1.0 Content-TransferEncoding: 7bit Received: from prod.collab.uhi.ac.uk ([194.35.219.182]) by paploo.uhi.ac.uk (JAMES SMTP Server 2.1.3) with SMTP ID 754 for ; Fri, 4 Jan 2008 00:35:43 +0000 (GMT) Received: from nakamura.uits.iupui.edu\n",
      "(nakamura.uits.iupui.edu [134.68.220.122]) by shmi.uhi.ac.uk (Postfix) with ESMTP id 8889842C49 for ; Fri, 4 Jan 2008\n",
      "00:25:00 +0000 (GMT) Received: from nakamura.uits.iupui.edu (localhost [127.0.0.1]) by nakamura.uits.iupui.edu (8.12.11.20060308/8.12.11) with ESMTP id m040NpgM005475 for ; Thu, 3 Jan 2008 19:23:51 -0500 Received: (from apache@localhost) by nakamura.uits.iupui.edu (8.12.11.20060308/8.12.11/Submit) id m040NpCc005473 for source@collab.sakaiproject.org; Thu, 3 Jan 2008 19:23:51 -0500 Date: Thu, 3 Jan 2008 19:23:51 -0500 X-AuthenticationWarning: nakamura.uits.iupui.edu: apache set sender to louis@media.berkeley.edu using -f To:\n",
      "source@collab.sakaiproject.org From: louis@media.berkeley.edu Subject: [sakai] svn commit: r39749 - in bspace/sitemanage/sakai_2-4-x/site-manage-tool/tool/src: bundle webapp/vm/sitesetup X-Content-Type-Outer-Envelope: text/plain; charset=UTF-8 X-Content-Type-Message-Body: text/plain; charset=UTF-8 Content-Type: text/plain; charset=UTF-8 XDSPAM-Result: Innocent X-DSPAM-Processed: Thu Jan 3 19:51:20 2008 X-DSPAM-Confidence: 0.6956 X-DSPAM-\n",
      "Probability: 0.0000 Details: http://source.sakaiproject.org/viewsvn/?view=rev&rev=39749 Author: louis@media.berkeley.edu Date: 2008-01-03 19:23:46 -0500 (Thu, 03 Jan 2008) New Revision: 39749 Modified: bspace/site-manage/sakai_2-4-x/sitemanage-tool/tool/src/bundle/sitesetupgeneric.properties bspace/site-manage/sakai_2-4-x/site-managetool/tool/src/webapp/vm/sitesetup/chef_site-importSites.vm Log: BSP-1420 Update text to clarify \"Re-Use Materials...\" option in WS Setup ---------------------- This automatic notification message was sent by Sakai Collab\n",
      "(https://collab.sakaiproject.org/portal) from the Source site. You can modify how you receive notifications at My Workspace\n",
      "> Preferences. From louis@media.berkeley.edu Thu Jan 3 17:18:23 2008 Return-Path: Received: from murder\n",
      "(mail.umich.edu [141.211.14.91]) by frankenstein.mail.umich.edu (Cyrus v2.3.8) with LMTPA; Thu, 03 Jan 2008 17:18:23\n",
      "-0500 X-Sieve: CMU Sieve 2.3 Received: from murder ([unix socket]) by mail.umich.edu (Cyrus v2.2.12) with LMTPA; Thu, 03 Jan 2008 17:18:23 -0500 Received: from salemslot.mr.itd.umich.edu (salemslot.mr.itd.umich.edu [141.211.14.58]) by jacknife.mail.umich.edu () with ESMTP id m03MIMXY027729; Thu, 3 Jan 2008 17:18:22 -0500 Received: FROM\n",
      "paploo.uhi.ac.uk (app1.prod.collab.uhi.ac.uk [194.35.219.184]) BY salemslot.mr.itd.umich.edu ID 477D5F23.797F6.16348 ; 3 Jan 2008 17:18:14 -0500 Received: from paploo.uhi.ac.uk (localhost [127.0.0.1]) by paploo.uhi.ac.uk (Postfix) with ESMTP id EF439B98CE; Thu, 3 Jan 2008 22:18:19 +0000 (GMT) Message-ID:\n",
      "<200801032216.m03MGhDa005292@nakamura.uits.iupui.edu> Mime-Version: 1.0 Content-Transfer-Encoding: 7bit\n",
      "Received: from prod.collab.uhi.ac.uk ([194.35.219.182]) by paploo.uhi.ac.uk (JAMES SMTP Server 2.1.3) with SMTP ID 236 for ; Thu, 3 Jan 2008 22:18:04 +0000 (GMT) Received: from nakamura.uits.iupui.edu (nakamura.uits.iupui.edu\n",
      "[134.68.220.122]) by shmi.uhi.ac.uk (Postfix) with ESMTP id 905D53C2FD for ; Thu, 3 Jan 2008 22:17:52 +0000 (GMT)\n",
      "Received: from nakamura.uits.iupui.edu (localhost [127.0.0.1]) by nakamura.uits.iupui.edu (8.12.11.20060308/8.12.11) with ESMTP id m03MGhrs005294 for ; Thu, 3 Jan 2008 17:16:43 -0500 Received: (from apache@localhost) by nakamura.uits.iupui.edu (8.12.11.20060308/8.12.11/Submit) id m03MGhDa005292 for source@collab.sakaiproject.org; Thu, 3 Jan 2008 17:16:43 -0500 Date: Thu, 3 Jan 2008 17:16:43 -0500 X-Authentication-Warning: nakamura.uits.iupui.edu: apache set sender to louis@media.berkeley.edu using -f To: source@collab.sakaiproject.org From: louis@media.berkeley.edu Subject: [sakai] svn commit: r39746 - in bspace/site-manage/sakai_2-4-x/site-managetool/tool/src: bundle webapp/vm/sitesetup X-Content-Type-Outer-Envelope: text/plain; charset=UTF-8 X-Content-TypeMessage-Body: text/plain; charset=UTF-8 Content-Type: text/plain; charset=UTF-8 X-DSPAM-Result: Innocent X-DSPAMProcessed: Thu Jan 3 17:18:23 2008 X-DSPAM-Confidence: 0.6959 X-DSPAM-Probability: 0.0000 Details: http://source.sakaiproject.org/viewsvn/?view=rev&rev=39746 Author: louis@media.berkeley.edu Date: 2008-01-03 17:16:39\n",
      "-0500 (Thu, 03 Jan 2008) New Revision: 39746 Modified: bspace/site-manage/sakai_2-4-x/site-managetool/tool/src/bundle/sitesetupgeneric.properties bspace/site-manage/sakai_2-4-x/site-manage-\n",
      "tool/tool/src/webapp/vm/sitesetup/chef_site-siteInfo-duplicate.vm Log: BSP-1421 Add text to clarify \"Duplicate Site\" option in Site Info ---------------------- This automatic notification message was sent by Sakai Collab\n",
      "(https://collab.sakaiproject.org/portal) from the Source site. You can modify how you receive notifications at My Workspace\n",
      "> Preferences. From ray@media.berkeley.edu Thu Jan 3 17:07:00 2008 Return-Path: Received: from murder\n",
      "(mail.umich.edu [141.211.14.39]) by frankenstein.mail.umich.edu (Cyrus v2.3.8) with LMTPA; Thu, 03 Jan 2008 17:07:00\n",
      "-0500 X-Sieve: CMU Sieve 2.3 Received: from murder ([unix socket]) by mail.umich.edu (Cyrus v2.2.12) with LMTPA; Thu, 03 Jan 2008 17:07:00 -0500 Received: from anniehall.mr.itd.umich.edu (anniehall.mr.itd.umich.edu [141.211.93.141]) by faithful.mail.umich.edu () with ESMTP id m03M6xaq014868; Thu, 3 Jan 2008 17:06:59 -0500 Received: FROM\n",
      "paploo.uhi.ac.uk (app1.prod.collab.uhi.ac.uk [194.35.219.184]) BY anniehall.mr.itd.umich.edu ID 477D5C7A.4FE1F.22211 ; 3 Jan 2008 17:06:53 -0500 Received: from paploo.uhi.ac.uk (localhost [127.0.0.1]) by paploo.uhi.ac.uk (Postfix) with ESMTP id 0BC8D7225E; Thu, 3 Jan 2008 22:06:57 +0000 (GMT) Message-ID:\n",
      "<200801032205.m03M5Ea7005273@nakamura.uits.iupui.edu> Mime-Version: 1.0 Content-Transfer-Encoding: 7bit\n",
      "Received: from prod.collab.uhi.ac.uk ([194.35.219.182]) by paploo.uhi.ac.uk (JAMES SMTP Server 2.1.3) with SMTP ID\n",
      "554 for ; Thu, 3 Jan 2008 22:06:34 +0000 (GMT) Received: from nakamura.uits.iupui.edu (nakamura.uits.iupui.edu\n",
      "[134.68.220.122]) by shmi.uhi.ac.uk (Postfix) with ESMTP id 2AB513C2FD for ; Thu, 3 Jan 2008 22:06:23 +0000 (GMT)\n",
      "Received: from nakamura.uits.iupui.edu (localhost [127.0.0.1]) by nakamura.uits.iupui.edu (8.12.11.20060308/8.12.11) with ESMTP id m03M5EQa005275 for ; Thu, 3 Jan 2008 17:05:14 -0500 Received: (from apache@localhost) by nakamura.uits.iupui.edu (8.12.11.20060308/8.12.11/Submit) id m03M5Ea7005273 for source@collab.sakaiproject.org; Thu, 3 Jan 2008 17:05:14 -0500 Date: Thu, 3 Jan 2008 17:05:14 -0500 X-Authentication-Warning: nakamura.uits.iupui.edu:\n",
      "apache set sender to ray@media.berkeley.edu using -f To: source@collab.sakaiproject.org From: ray@media.berkeley.edu Subject: [sakai] svn commit: r39745 - providers/trunk/cm/cm-authzprovider/src/java/org/sakaiproject/coursemanagement/impl/provider X-Content-Type-Outer-Envelope: text/plain; charset=UTF-8 X-Content-Type-Message-Body: text/plain; charset=UTF-8 Content-Type: text/plain; charset=UTF-8 XDSPAM-Result: Innocent X-DSPAM-Processed: Thu Jan 3 17:07:00 2008 X-DSPAM-Confidence: 0.7556 X-DSPAM-\n",
      "Probability: 0.0000 Details: http://source.sakaiproject.org/viewsvn/?view=rev&rev=39745 Author: ray@media.berkeley.edu Date: 2008-01-03 17:05:11 -0500 (Thu, 03 Jan 2008) New Revision: 39745 Modified: providers/trunk/cm/cm-authzprovider/src/java/org/sakaiproject/coursemanagement/impl/provider/CourseManagementGroupProvider.java Log: SAK12602 Fix logic when a user has multiple roles in a section ---------------------- This automatic notification message was sent by Sakai Collab (https://collab.sakaiproject.org/portal) from the Source site. You can modify how you receive notifications at My Workspace > Preferences. From cwen@iupui.edu Thu Jan 3 16:34:40 2008 Return-Path: Received: from murder\n",
      "(mail.umich.edu [141.211.14.34]) by frankenstein.mail.umich.edu (Cyrus v2.3.8) with LMTPA; Thu, 03 Jan 2008 16:34:40\n",
      "-0500 X-Sieve: CMU Sieve 2.3 Received: from murder ([unix socket]) by mail.umich.edu (Cyrus v2.2.12) with LMTPA; Thu, 03 Jan 2008 16:34:40 -0500 Received: from icestorm.mr.itd.umich.edu (icestorm.mr.itd.umich.edu [141.211.93.149]) by chaos.mail.umich.edu () with ESMTP id m03LYdY1029538; Thu, 3 Jan 2008 16:34:39 -0500 Received: FROM\n",
      "paploo.uhi.ac.uk (app1.prod.collab.uhi.ac.uk [194.35.219.184]) BY icestorm.mr.itd.umich.edu ID 477D54EA.13F34.26602 ; 3 Jan 2008 16:34:36 -0500 Received: from paploo.uhi.ac.uk (localhost [127.0.0.1]) by paploo.uhi.ac.uk (Postfix) with ESMTP id CC710ADC79; Thu, 3 Jan 2008 21:34:29 +0000 (GMT) Message-ID:\n",
      "<200801032133.m03LX3gG005191@nakamura.uits.iupui.edu> Mime-Version: 1.0 Content-Transfer-Encoding: 7bit\n",
      "Received: from prod.collab.uhi.ac.uk ([194.35.219.182]) by paploo.uhi.ac.uk (JAMES SMTP Server 2.1.3) with SMTP ID\n",
      "611 for ; Thu, 3 Jan 2008 21:34:08 +0000 (GMT) Received: from nakamura.uits.iupui.edu (nakamura.uits.iupui.edu\n",
      "[134.68.220.122]) by shmi.uhi.ac.uk (Postfix) with ESMTP id 43C4242B55 for ; Thu, 3 Jan 2008 21:34:12 +0000 (GMT)\n",
      "Received: from nakamura.uits.iupui.edu (localhost [127.0.0.1]) by nakamura.uits.iupui.edu (8.12.11.20060308/8.12.11) with ESMTP id m03LX3Vb005193 for ; Thu, 3 Jan 2008 16:33:03 -0500 Received: (from apache@localhost) by nakamura.uits.iupui.edu (8.12.11.20060308/8.12.11/Submit) id m03LX3gG005191 for source@collab.sakaiproject.org; Thu, 3 Jan 2008 16:33:03 -0500 Date: Thu, 3 Jan 2008 16:33:03 -0500 X-Authentication-Warning: nakamura.uits.iupui.edu:\n",
      "apache set sender to cwen@iupui.edu using -f To: source@collab.sakaiproject.org From: cwen@iupui.edu Subject: [sakai] svn commit: r39744 - oncourse/branches/oncourse_OPC_122007 X-Content-Type-Outer-Envelope: text/plain; charset=UTF-8 X-Content-Type-Message-Body: text/plain; charset=UTF-8 Content-Type: text/plain; charset=UTF-8 XDSPAM-Result: Innocent X-DSPAM-Processed: Thu Jan 3 16:34:40 2008 X-DSPAM-Confidence: 0.9846 X-DSPAM-\n",
      "Probability: 0.0000 Details: http://source.sakaiproject.org/viewsvn/?view=rev&rev=39744 Author: cwen@iupui.edu Date:\n",
      "2008-01-03 16:33:02 -0500 (Thu, 03 Jan 2008) New Revision: 39744 Modified:\n",
      "oncourse/branches/oncourse_OPC_122007/ oncourse/branches/oncourse_OPC_122007/.externals Log: update external for GB. ---------------------- This automatic notification message was sent by Sakai Collab\n",
      "(https://collab.sakaiproject.org/portal) from the Source site. You can modify how you receive notifications at My Workspace > Preferences. From cwen@iupui.edu Thu Jan 3 16:29:07 2008 Return-Path: Received: from murder (mail.umich.edu [141.211.14.46]) by frankenstein.mail.umich.edu (Cyrus v2.3.8) with LMTPA; Thu, 03 Jan 2008 16:29:07 -0500 X-Sieve:\n",
      "CMU Sieve 2.3 Received: from murder ([unix socket]) by mail.umich.edu (Cyrus v2.2.12) with LMTPA; Thu, 03 Jan 2008 16:29:07 -0500 Received: from galaxyquest.mr.itd.umich.edu (galaxyquest.mr.itd.umich.edu [141.211.93.145]) by fan.mail.umich.edu () with ESMTP id m03LT6uw027749; Thu, 3 Jan 2008 16:29:06 -0500 Received: FROM paploo.uhi.ac.uk (app1.prod.collab.uhi.ac.uk [194.35.219.184]) BY galaxyquest.mr.itd.umich.edu ID\n",
      "477D5397.E161D.20326 ; 3 Jan 2008 16:28:58 -0500 Received: from paploo.uhi.ac.uk (localhost [127.0.0.1]) by paploo.uhi.ac.uk (Postfix) with ESMTP id DEC65ADC79; Thu, 3 Jan 2008 21:28:52 +0000 (GMT) Message-ID: <200801032127.m03LRUqH005177@nakamura.uits.iupui.edu> Mime-Version: 1.0 Content-Transfer-Encoding: 7bit\n",
      "Received: from prod.collab.uhi.ac.uk ([194.35.219.182]) by paploo.uhi.ac.uk (JAMES SMTP Server 2.1.3) with SMTP ID\n",
      "917 for ; Thu, 3 Jan 2008 21:28:39 +0000 (GMT) Received: from nakamura.uits.iupui.edu (nakamura.uits.iupui.edu\n",
      "[134.68.220.122]) by shmi.uhi.ac.uk (Postfix) with ESMTP id 1FBB042B30 for ; Thu, 3 Jan 2008 21:28:38 +0000 (GMT)\n",
      "Received: from nakamura.uits.iupui.edu (localhost [127.0.0.1]) by nakamura.uits.iupui.edu (8.12.11.20060308/8.12.11) with ESMTP id m03LRUk4005179 for ; Thu, 3 Jan 2008 16:27:30 -0500 Received: (from apache@localhost) by nakamura.uits.iupui.edu (8.12.11.20060308/8.12.11/Submit) id m03LRUqH005177 for source@collab.sakaiproject.org; Thu, 3 Jan 2008 16:27:30 -0500 Date: Thu, 3 Jan 2008 16:27:30 -0500 X-Authentication-Warning: nakamura.uits.iupui.edu: apache set sender to cwen@iupui.edu using -f To: source@collab.sakaiproject.org From: cwen@iupui.edu Subject: [sakai] svn commit: r39743 - gradebook/branches/oncourse_2-4-2/app/ui/src/java/org/sakaiproject/tool/gradebook/ui X-ContentType-Outer-Envelope: text/plain; charset=UTF-8 X-Content-Type-Message-Body: text/plain; charset=UTF-8 Content-Type: text/plain; charset=UTF-8 X-DSPAM-Result: Innocent X-DSPAM-Processed: Thu Jan 3 16:29:07 2008 X-DSPAMConfidence: 0.8509 X-DSPAM-Probability: 0.0000 Details: http://source.sakaiproject.org/viewsvn/?view=rev&rev=39743 Author: cwen@iupui.edu Date: 2008-01-03 16:27:29 -0500 (Thu, 03 Jan 2008) New Revision: 39743 Modified:\n",
      "gradebook/branches/oncourse_2-4-2/app/ui/src/java/org/sakaiproject/tool/gradebook/ui/RosterBean.java Log: svn merge -c\n",
      "39403 https://source.sakaiproject.org/svn/gradebook/trunk U\n",
      "app/ui/src/java/org/sakaiproject/tool/gradebook/ui/RosterBean.java svn log -r 39403\n",
      "https://source.sakaiproject.org/svn/gradebook/trunk ------------------------------------------------------------------------ r39403 |\n",
      "wagnermr@iupui.edu | 2007-12-17 17:11:08 -0500 (Mon, 17 Dec 2007) | 3 lines SAK-12504 http://jira.sakaiproject.org/jira/browse/SAK-12504 Viewing \"All Grades\" page as a TA with grader permissions causes stack trace ------------------------------------------------------------------------ ---------------------- This automatic notification message was sent by Sakai Collab (https://collab.sakaiproject.org/portal) from the Source site. You can modify how you receive notifications at My Workspace > Preferences. From cwen@iupui.edu Thu Jan 3 16:23:48 2008 Return-Path: Received: from murder\n",
      "(mail.umich.edu [141.211.14.91]) by frankenstein.mail.umich.edu (Cyrus v2.3.8) with LMTPA; Thu, 03 Jan 2008 16:23:48\n",
      "-0500 X-Sieve: CMU Sieve 2.3 Received: from murder ([unix socket]) by mail.umich.edu (Cyrus v2.2.12) with LMTPA; Thu,\n",
      "03 Jan 2008 16:23:48 -0500 Received: from salemslot.mr.itd.umich.edu (salemslot.mr.itd.umich.edu [141.211.14.58]) by jacknife.mail.umich.edu () with ESMTP id m03LNlf0002115; Thu, 3 Jan 2008 16:23:47 -0500 Received: FROM\n",
      "paploo.uhi.ac.uk (app1.prod.collab.uhi.ac.uk [194.35.219.184]) BY salemslot.mr.itd.umich.edu ID 477D525E.1448.30389 ; 3 Jan 2008 16:23:44 -0500 Received: from paploo.uhi.ac.uk (localhost [127.0.0.1]) by paploo.uhi.ac.uk (Postfix) with ESMTP id 9D005B9D06; Thu, 3 Jan 2008 21:23:38 +0000 (GMT) Message-ID:\n",
      "<200801032122.m03LMFo4005148@nakamura.uits.iupui.edu> Mime-Version: 1.0 Content-Transfer-Encoding: 7bit Received: from prod.collab.uhi.ac.uk ([194.35.219.182]) by paploo.uhi.ac.uk (JAMES SMTP Server 2.1.3) with SMTP ID 6\n",
      "for ; Thu, 3 Jan 2008 21:23:24 +0000 (GMT) Received: from nakamura.uits.iupui.edu (nakamura.uits.iupui.edu [134.68.220.122]) by shmi.uhi.ac.uk (Postfix) with ESMTP id 3535542B69 for ; Thu, 3 Jan 2008 21:23:24 +0000 (GMT)\n",
      "Received: from nakamura.uits.iupui.edu (localhost [127.0.0.1]) by nakamura.uits.iupui.edu (8.12.11.20060308/8.12.11) with ESMTP id m03LMFtT005150 for ; Thu, 3 Jan 2008 16:22:15 -0500 Received: (from apache@localhost) by nakamura.uits.iupui.edu (8.12.11.20060308/8.12.11/Submit) id m03LMFo4005148 for source@collab.sakaiproject.org; Thu, 3 Jan 2008 16:22:15 -0500 Date: Thu, 3 Jan 2008 16:22:15 -0500 X-Authentication-Warning: nakamura.uits.iupui.edu: apache set sender to cwen@iupui.edu using -f To: source@collab.sakaiproject.org From: cwen@iupui.edu Subject: [sakai] svn commit: r39742 - gradebook/branches/oncourse_2-4-2/app/ui/src/java/org/sakaiproject/tool/gradebook/ui X-ContentType-Outer-Envelope: text/plain; charset=UTF-8 X-Content-Type-Message-Body: text/plain; charset=UTF-8 Content-Type: text/plain; charset=UTF-8 X-DSPAM-Result: Innocent X-DSPAM-Processed: Thu Jan 3 16:23:48 2008 X-DSPAMConfidence: 0.9907 X-DSPAM-Probability: 0.0000 Details: http://source.sakaiproject.org/viewsvn/?view=rev&rev=39742 Author: cwen@iupui.edu Date: 2008-01-03 16:22:14 -0500 (Thu, 03 Jan 2008) New Revision: 39742 Modified:\n",
      "gradebook/branches/oncourse_2-4-2/app/ui/src/java/org/sakaiproject/tool/gradebook/ui/RosterBean.java Log: svn merge -c\n",
      "35014 https://source.sakaiproject.org/svn/gradebook/trunk U\n",
      "app/ui/src/java/org/sakaiproject/tool/gradebook/ui/RosterBean.java svn log -r 35014 https://source.sakaiproject.org/svn/gradebook/trunk ------------------------------------------------------------------------ r35014 |\n",
      "wagnermr@iupui.edu | 2007-09-12 16:17:59 -0400 (Wed, 12 Sep 2007) | 3 lines SAK-11458\n",
      "http://bugs.sakaiproject.org/jira/browse/SAK-11458 Course grade does not appear on \"All Grades\" page if no categories in gb ------------------------------------------------------------------------ ---------------------- This automatic notification message was sent by Sakai Collab (https://collab.sakaiproject.org/portal) from the Source site. You can modify how you receive notifications at My Workspace > Preferences.\n",
      "\n",
      "From stephen.marquard@uct.ac.za Sat Jan 5 09:14:16 2008 Return-Path: Received: from murder (mail.umich.edu [141.211.14.90]) by frankenstein.mail.umich.edu (Cyrus v2.3.8) with LMTPA; Sat, 05 Jan 2008 09:14:16 -0500 X-Sieve:\n",
      "CMU Sieve 2.3 Received: from murder ([unix socket]) by mail.umich.edu (Cyrus v2.2.12) with LMTPA; Sat, 05 Jan 2008\n",
      "09:14:16 -0500 Received: from holes.mr.itd.umich.edu (holes.mr.itd.umich.edu [141.211.14.79]) by flawless.mail.umich.edu\n",
      "() with ESMTP id m05EEFR1013674; Sat, 5 Jan 2008 09:14:15 -0500 Received: FROM paploo.uhi.ac.uk\n",
      "(app1.prod.collab.uhi.ac.uk [194.35.219.184]) BY holes.mr.itd.umich.edu ID 477F90B0.2DB2F.12494 ; 5 Jan 2008 09:14:10\n",
      "-0500 Received: from paploo.uhi.ac.uk (localhost [127.0.0.1]) by paploo.uhi.ac.uk (Postfix) with ESMTP id 5F919BC2F2;\n",
      "Sat, 5 Jan 2008 14:10:05 +0000 (GMT) Message-ID: <200801051412.m05ECIaH010327@nakamura.uits.iupui.edu> MimeVersion: 1.0 Content-Transfer-Encoding: 7bit Received: from prod.collab.uhi.ac.uk ([194.35.219.182]) by paploo.uhi.ac.uk\n",
      "(JAMES SMTP Server 2.1.3) with SMTP ID 899 for ; Sat, 5 Jan 2008 14:09:50 +0000 (GMT) Received: from\n",
      "nakamura.uits.iupui.edu (nakamura.uits.iupui.edu [134.68.220.122]) by shmi.uhi.ac.uk (Postfix) with ESMTP id A215243002 for ; Sat, 5 Jan 2008 14:13:33 +0000 (GMT) Received: from nakamura.uits.iupui.edu (localhost [127.0.0.1]) by nakamura.uits.iupui.edu (8.12.11.20060308/8.12.11) with ESMTP id m05ECJVp010329 for ; Sat, 5 Jan 2008 09:12:19\n",
      "-0500 Received: (from apache@localhost) by nakamura.uits.iupui.edu (8.12.11.20060308/8.12.11/Submit) id m05ECIaH010327 for source@collab.sakaiproject.org; Sat, 5 Jan 2008 09:12:18 -0500 Date: Sat, 5 Jan 2008 09:12:18 -0500 X-Authentication-Warning: nakamura.uits.iupui.edu: apache set sender to stephen.marquard@uct.ac.za using -f To:\n",
      "source@collab.sakaiproject.org From: stephen.marquard@uct.ac.za Subject: [sakai] svn commit: r39772 content/branches/sakai_2-5-x/content-impl/impl/src/java/org/sakaiproject/content/impl X-Content-Type-Outer-Envelope: text/plain; charset=UTF-8 X-Content-Type-Message-Body: text/plain; charset=UTF-8 Content-Type: text/plain; charset=UTF-8 X-DSPAM-Result: Innocent X-DSPAM-Processed: Sat Jan 5 09:14:16 2008 X-DSPAM-Confidence: 0.8475 X-DSPAM-Probability: 0.0000 Details: http://source.sakaiproject.org/viewsvn/?view=rev&rev=39772 Author:\n",
      "stephen.marquard@uct.ac.za Date: 2008-01-05 09:12:07 -0500 (Sat, 05 Jan 2008) New Revision: 39772 Modified: content/branches/sakai_2-5-x/content-impl/impl/src/java/org/sakaiproject/content/impl/ContentServiceSqlOracle.java content/branches/sakai_2-5-x/content-impl/impl/src/java/org/sakaiproject/content/impl/DbContentService.java Log: SAK12501 merge to 2-5-x: r39622, r39624:5, r39632:3 (resolve conflict from differing linebreaks for r39622) ---------------------This automatic notification message was sent by Sakai Collab (https://collab.sakaiproject.org/portal) from the Source site.\n",
      "You can modify how you receive notifications at My Workspace > Preferences. From louis@media.berkeley.edu Fri Jan 4\n",
      "18:10:48 2008 Return-Path: Received: from murder (mail.umich.edu [141.211.14.97]) by frankenstein.mail.umich.edu (Cyrus v2.3.8) with LMTPA; Fri, 04 Jan 2008 18:10:48 -0500 X-Sieve: CMU Sieve 2.3 Received: from murder ([unix socket]) by mail.umich.edu (Cyrus v2.2.12) with LMTPA; Fri, 04 Jan 2008 18:10:48 -0500 Received: from icestorm.mr.itd.umich.edu\n",
      "(icestorm.mr.itd.umich.edu [141.211.93.149]) by sleepers.mail.umich.edu () with ESMTP id m04NAbGa029441; Fri, 4 Jan\n",
      "2008 18:10:37 -0500 Received: FROM paploo.uhi.ac.uk (app1.prod.collab.uhi.ac.uk [194.35.219.184]) BY\n",
      "icestorm.mr.itd.umich.edu ID 477EBCE3.161BB.4320 ; 4 Jan 2008 18:10:31 -0500 Received: from paploo.uhi.ac.uk (localhost [127.0.0.1]) by paploo.uhi.ac.uk (Postfix) with ESMTP id 07969BB706; Fri, 4 Jan 2008 23:10:33 +0000 (GMT)\n",
      "Message-ID: <200801042308.m04N8v6O008125@nakamura.uits.iupui.edu> Mime-Version: 1.0 Content-TransferEncoding: 7bit Received: from prod.collab.uhi.ac.uk ([194.35.219.182]) by paploo.uhi.ac.uk (JAMES SMTP Server 2.1.3) with SMTP ID 710 for ; Fri, 4 Jan 2008 23:10:10 +0000 (GMT) Received: from nakamura.uits.iupui.edu\n",
      "(nakamura.uits.iupui.edu [134.68.220.122]) by shmi.uhi.ac.uk (Postfix) with ESMTP id 4BA2F42F57 for ; Fri, 4 Jan 2008\n",
      "23:10:10 +0000 (GMT) Received: from nakamura.uits.iupui.edu (localhost [127.0.0.1]) by nakamura.uits.iupui.edu (8.12.11.20060308/8.12.11) with ESMTP id m04N8vHG008127 for ; Fri, 4 Jan 2008 18:08:57 -0500 Received: (from apache@localhost) by nakamura.uits.iupui.edu (8.12.11.20060308/8.12.11/Submit) id m04N8v6O008125 for source@collab.sakaiproject.org; Fri, 4 Jan 2008 18:08:57 -0500 Date: Fri, 4 Jan 2008 18:08:57 -0500 X-AuthenticationWarning: nakamura.uits.iupui.edu: apache set sender to louis@media.berkeley.edu using -f To:\n",
      "source@collab.sakaiproject.org From: louis@media.berkeley.edu Subject: [sakai] svn commit: r39771 - in bspace/sitemanage/sakai_2-4-x/site-manage-tool/tool/src: bundle java/org/sakaiproject/site/tool X-Content-Type-Outer-Envelope:\n",
      "text/plain; charset=UTF-8 X-Content-Type-Message-Body: text/plain; charset=UTF-8 Content-Type: text/plain; charset=UTF-8 X-DSPAM-Result: Innocent X-DSPAM-Processed: Fri Jan 4 18:10:48 2008 X-DSPAM-Confidence: 0.6178 X-DSPAM-Probability: 0.0000 Details: http://source.sakaiproject.org/viewsvn/?view=rev&rev=39771 Author: louis@media.berkeley.edu Date: 2008-01-04 18:08:50 -0500 (Fri, 04 Jan 2008) New Revision: 39771 Modified:\n",
      "bspace/site-manage/sakai_2-4-x/site-manage-tool/tool/src/bundle/sitesetupgeneric.properties bspace/site-manage/sakai_24-x/site-manage-tool/tool/src/java/org/sakaiproject/site/tool/SiteAction.java Log: BSP-1415 New (Guest) user Notification --------------------- This automatic notification message was sent by Sakai Collab (https://collab.sakaiproject.org/portal) from the\n",
      "Source site. You can modify how you receive notifications at My Workspace > Preferences. From zqian@umich.edu Fri Jan\n",
      "4 16:10:39 2008 Return-Path: Received: from murder (mail.umich.edu [141.211.14.25]) by frankenstein.mail.umich.edu (Cyrus v2.3.8) with LMTPA; Fri, 04 Jan 2008 16:10:39 -0500 X-Sieve: CMU Sieve 2.3 Received: from murder ([unix socket]) by mail.umich.edu (Cyrus v2.2.12) with LMTPA; Fri, 04 Jan 2008 16:10:39 -0500 Received: from\n",
      "ghostbusters.mr.itd.umich.edu (ghostbusters.mr.itd.umich.edu [141.211.93.144]) by panther.mail.umich.edu () with ESMTP id m04LAcZw014275; Fri, 4 Jan 2008 16:10:38 -0500 Received: FROM paploo.uhi.ac.uk (app1.prod.collab.uhi.ac.uk [194.35.219.184]) BY ghostbusters.mr.itd.umich.edu ID 477EA0C6.A0214.25480 ; 4 Jan 2008 16:10:33 -0500 Received: from paploo.uhi.ac.uk (localhost [127.0.0.1]) by paploo.uhi.ac.uk (Postfix) with ESMTP id C48CDBB490; Fri, 4 Jan 2008 21:10:31 +0000 (GMT) Message-ID: <200801042109.m04L92hb007923@nakamura.uits.iupui.edu> Mime-Version: 1.0 Content-Transfer-Encoding: 7bit Received: from prod.collab.uhi.ac.uk ([194.35.219.182]) by paploo.uhi.ac.uk (JAMES\n",
      "SMTP Server 2.1.3) with SMTP ID 906 for ; Fri, 4 Jan 2008 21:10:18 +0000 (GMT) Received: from nakamura.uits.iupui.edu\n",
      "(nakamura.uits.iupui.edu [134.68.220.122]) by shmi.uhi.ac.uk (Postfix) with ESMTP id 7D13042F71 for ; Fri, 4 Jan 2008\n",
      "21:10:14 +0000 (GMT) Received: from nakamura.uits.iupui.edu (localhost [127.0.0.1]) by nakamura.uits.iupui.edu (8.12.11.20060308/8.12.11) with ESMTP id m04L927E007925 for ; Fri, 4 Jan 2008 16:09:02 -0500 Received: (from apache@localhost) by nakamura.uits.iupui.edu (8.12.11.20060308/8.12.11/Submit) id m04L92hb007923 for source@collab.sakaiproject.org; Fri, 4 Jan 2008 16:09:02 -0500 Date: Fri, 4 Jan 2008 16:09:02 -0500 X-Authentication-\n",
      "Warning: nakamura.uits.iupui.edu: apache set sender to zqian@umich.edu using -f To: source@collab.sakaiproject.org From: zqian@umich.edu Subject: [sakai] svn commit: r39770 - site-manage/branches/sakai_2-5-x/site-managetool/tool/src/webapp/vm/sitesetup X-Content-Type-Outer-Envelope: text/plain; charset=UTF-8 X-Content-Type-MessageBody: text/plain; charset=UTF-8 Content-Type: text/plain; charset=UTF-8 X-DSPAM-Result: Innocent X-DSPAM-Processed:\n",
      "Fri Jan 4 16:10:39 2008 X-DSPAM-Confidence: 0.6961 X-DSPAM-Probability: 0.0000 Details:\n",
      "http://source.sakaiproject.org/viewsvn/?view=rev&rev=39770 Author: zqian@umich.edu Date: 2008-01-04 16:09:01 -0500\n",
      "(Fri, 04 Jan 2008) New Revision: 39770 Modified: site-manage/branches/sakai_2-5-x/site-manage-\n",
      "tool/tool/src/webapp/vm/sitesetup/chef_site-siteInfo-list.vm Log: merge fix to SAK-9996 into 2-5-x branch: svn merge -r 39687:39688 https://source.sakaiproject.org/svn/site-manage/trunk/ ---------------------- This automatic notification message was sent by Sakai Collab (https://collab.sakaiproject.org/portal) from the Source site. You can modify how you receive notifications at My Workspace > Preferences. From rjlowe@iupui.edu Fri Jan 4 15:46:24 2008 Return-Path: Received: from murder (mail.umich.edu [141.211.14.25]) by frankenstein.mail.umich.edu (Cyrus v2.3.8) with LMTPA; Fri, 04 Jan 2008 15:46:24 -0500 X-Sieve: CMU Sieve 2.3 Received: from murder ([unix socket]) by mail.umich.edu (Cyrus v2.2.12) with\n",
      "LMTPA; Fri, 04 Jan 2008 15:46:24 -0500 Received: from dreamcatcher.mr.itd.umich.edu (dreamcatcher.mr.itd.umich.edu [141.211.14.43]) by panther.mail.umich.edu () with ESMTP id m04KkNbx032077; Fri, 4 Jan 2008 15:46:23 -0500 Received:\n",
      "FROM paploo.uhi.ac.uk (app1.prod.collab.uhi.ac.uk [194.35.219.184]) BY dreamcatcher.mr.itd.umich.edu ID 477E9B13.2F3BC.22965 ; 4 Jan 2008 15:46:13 -0500 Received: from paploo.uhi.ac.uk (localhost [127.0.0.1]) by paploo.uhi.ac.uk (Postfix) with ESMTP id 4AE03BB552; Fri, 4 Jan 2008 20:46:13 +0000 (GMT) Message-ID: <200801042044.m04Kiem3007881@nakamura.uits.iupui.edu> Mime-Version: 1.0 Content-Transfer-Encoding: 7bit Received: from prod.collab.uhi.ac.uk ([194.35.219.182]) by paploo.uhi.ac.uk (JAMES SMTP Server 2.1.3) with SMTP ID 38 for ; Fri, 4 Jan 2008 20:45:56 +0000 (GMT) Received: from nakamura.uits.iupui.edu (nakamura.uits.iupui.edu [134.68.220.122]) by shmi.uhi.ac.uk (Postfix) with ESMTP id A55D242F57 for ; Fri, 4 Jan 2008 20:45:52 +0000 (GMT)\n",
      "Received: from nakamura.uits.iupui.edu (localhost [127.0.0.1]) by nakamura.uits.iupui.edu (8.12.11.20060308/8.12.11) with ESMTP id m04KieqE007883 for ; Fri, 4 Jan 2008 15:44:40 -0500 Received: (from apache@localhost) by nakamura.uits.iupui.edu (8.12.11.20060308/8.12.11/Submit) id m04Kiem3007881 for source@collab.sakaiproject.org; Fri, 4 Jan 2008 15:44:40 -0500 Date: Fri, 4 Jan 2008 15:44:40 -0500 X-Authentication-Warning: nakamura.uits.iupui.edu: apache set sender to rjlowe@iupui.edu using -f To: source@collab.sakaiproject.org From: rjlowe@iupui.edu Subject: [sakai] svn commit: r39769 - in gradebook/trunk/app/ui/src: java/org/sakaiproject/tool/gradebook/ui/helpers/beans java/org/sakaiproject/tool/gradebook/ui/helpers/producers webapp/WEB-INF webapp/WEB-INF/bundle X-Content-TypeOuter-Envelope: text/plain; charset=UTF-8 X-Content-Type-Message-Body: text/plain; charset=UTF-8 Content-Type: text/plain; charset=UTF-8 X-DSPAM-Result: Innocent X-DSPAM-Processed: Fri Jan 4 15:46:24 2008 X-DSPAMConfidence: 0.7565 X-DSPAM-Probability: 0.0000 Details: http://source.sakaiproject.org/viewsvn/?view=rev&rev=39769 Author: rjlowe@iupui.edu Date: 2008-01-04 15:44:39 -0500 (Fri, 04 Jan 2008) New Revision: 39769 Modified:\n",
      "gradebook/trunk/app/ui/src/java/org/sakaiproject/tool/gradebook/ui/helpers/beans/AssignmentGradeRecordBean.java gradebook/trunk/app/ui/src/java/org/sakaiproject/tool/gradebook/ui/helpers/producers/GradeGradebookItemProducer.java gradebook/trunk/app/ui/src/webapp/WEB-INF/applicationContext.xml gradebook/trunk/app/ui/src/webapp/WEBINF/bundle/messages.properties gradebook/trunk/app/ui/src/webapp/WEB-INF/requestContext.xml Log: SAK-12180 Fixed errors with grading helper ---------------------- This automatic notification message was sent by Sakai Collab\n",
      "(https://collab.sakaiproject.org/portal) from the Source site. You can modify how you receive notifications at My Workspace > Preferences. From zqian@umich.edu Fri Jan 4 15:03:18 2008 Return-Path: Received: from murder (mail.umich.edu [141.211.14.46]) by frankenstein.mail.umich.edu (Cyrus v2.3.8) with LMTPA; Fri, 04 Jan 2008 15:03:18 -0500 X-Sieve:\n",
      "CMU Sieve 2.3 Received: from murder ([unix socket]) by mail.umich.edu (Cyrus v2.2.12) with LMTPA; Fri, 04 Jan 2008\n",
      "15:03:18 -0500 Received: from firestarter.mr.itd.umich.edu (firestarter.mr.itd.umich.edu [141.211.14.83]) by fan.mail.umich.edu () with ESMTP id m04K3HGF006563; Fri, 4 Jan 2008 15:03:17 -0500 Received: FROM paploo.uhi.ac.uk (app1.prod.collab.uhi.ac.uk [194.35.219.184]) BY firestarter.mr.itd.umich.edu ID 477E9100.8F7F4.1590 ; 4 Jan 2008 15:03:15 -0500 Received: from paploo.uhi.ac.uk (localhost [127.0.0.1]) by paploo.uhi.ac.uk (Postfix) with ESMTP id 57770BB477; Fri, 4 Jan 2008 20:03:09 +0000 (GMT) Message-ID:\n",
      "<200801042001.m04K1cO0007738@nakamura.uits.iupui.edu> Mime-Version: 1.0 Content-Transfer-Encoding: 7bit\n",
      "Received: from prod.collab.uhi.ac.uk ([194.35.219.182]) by paploo.uhi.ac.uk (JAMES SMTP Server 2.1.3) with SMTP ID\n",
      "622 for ; Fri, 4 Jan 2008 20:02:46 +0000 (GMT) Received: from nakamura.uits.iupui.edu (nakamura.uits.iupui.edu\n",
      "[134.68.220.122]) by shmi.uhi.ac.uk (Postfix) with ESMTP id AB4D042F4D for ; Fri, 4 Jan 2008 20:02:50 +0000 (GMT)\n",
      "Received: from nakamura.uits.iupui.edu (localhost [127.0.0.1]) by nakamura.uits.iupui.edu (8.12.11.20060308/8.12.11) with ESMTP id m04K1cXv007740 for ; Fri, 4 Jan 2008 15:01:38 -0500 Received: (from apache@localhost) by nakamura.uits.iupui.edu (8.12.11.20060308/8.12.11/Submit) id m04K1cO0007738 for source@collab.sakaiproject.org; Fri, 4\n",
      "Jan 2008 15:01:38 -0500 Date: Fri, 4 Jan 2008 15:01:38 -0500 X-Authentication-Warning: nakamura.uits.iupui.edu: apache set sender to zqian@umich.edu using -f To: source@collab.sakaiproject.org From: zqian@umich.edu Subject: [sakai] svn commit: r39766 - site-manage/branches/sakai_2-4-x/site-manage-tool/tool/src/java/org/sakaiproject/site/tool X-ContentType-Outer-Envelope: text/plain; charset=UTF-8 X-Content-Type-Message-Body: text/plain; charset=UTF-8 Content-Type: text/plain; charset=UTF-8 X-DSPAM-Result: Innocent X-DSPAM-Processed: Fri Jan 4 15:03:18 2008 X-DSPAMConfidence: 0.7626 X-DSPAM-Probability: 0.0000 Details: http://source.sakaiproject.org/viewsvn/?view=rev&rev=39766 Author: zqian@umich.edu Date: 2008-01-04 15:01:37 -0500 (Fri, 04 Jan 2008) New Revision: 39766 Modified: sitemanage/branches/sakai_2-4-x/site-manage-tool/tool/src/java/org/sakaiproject/site/tool/SiteAction.java Log: merge fix to SAK-10788 into site-manage 2.4.x branch: Sakai Source Repository #38024 Wed Nov 07 14:54:46 MST 2007\n",
      "zqian@umich.edu Fix to SAK-10788: If a provided id in a couse site is fake or doesn't provide any user information, Site Info appears to be like project site with empty participant list Watch for enrollments object being null and concatenate\n",
      "provider ids when there are more than one. Files Changed MODIFY /site-manage/trunk/site-manage-\n",
      "tool/tool/src/java/org/sakaiproject/site/tool/SiteAction.java ---------------------- This automatic notification message was sent by Sakai Collab (https://collab.sakaiproject.org/portal) from the Source site. You can modify how you receive notifications at My\n",
      "Workspace > Preferences. From rjlowe@iupui.edu Fri Jan 4 14:50:18 2008 Return-Path: Received: from murder\n",
      "(mail.umich.edu [141.211.14.93]) by frankenstein.mail.umich.edu (Cyrus v2.3.8) with LMTPA; Fri, 04 Jan 2008 14:50:18\n",
      "-0500 X-Sieve: CMU Sieve 2.3 Received: from murder ([unix socket]) by mail.umich.edu (Cyrus v2.2.12) with LMTPA; Fri, 04 Jan 2008 14:50:18 -0500 Received: from eyewitness.mr.itd.umich.edu (eyewitness.mr.itd.umich.edu [141.211.93.142]) by mission.mail.umich.edu () with ESMTP id m04JoHJi019755; Fri, 4 Jan 2008 14:50:17 -0500 Received: FROM\n",
      "paploo.uhi.ac.uk (app1.prod.collab.uhi.ac.uk [194.35.219.184]) BY eyewitness.mr.itd.umich.edu ID 477E8DF2.67B91.5278 ; 4 Jan 2008 14:50:13 -0500 Received: from paploo.uhi.ac.uk (localhost [127.0.0.1]) by paploo.uhi.ac.uk (Postfix) with ESMTP id 2D1B9BB492; Fri, 4 Jan 2008 19:47:10 +0000 (GMT) Message-ID: <200801041948.m04JmdwO007705@nakamura.uits.iupui.edu> Mime-Version: 1.0 Content-Transfer-Encoding: 7bit\n",
      "Received: from prod.collab.uhi.ac.uk ([194.35.219.182]) by paploo.uhi.ac.uk (JAMES SMTP Server 2.1.3) with SMTP ID\n",
      "960 for ; Fri, 4 Jan 2008 19:46:50 +0000 (GMT) Received: from nakamura.uits.iupui.edu (nakamura.uits.iupui.edu\n",
      "[134.68.220.122]) by shmi.uhi.ac.uk (Postfix) with ESMTP id B3E6742F4A for ; Fri, 4 Jan 2008 19:49:51 +0000 (GMT)\n",
      "Received: from nakamura.uits.iupui.edu (localhost [127.0.0.1]) by nakamura.uits.iupui.edu (8.12.11.20060308/8.12.11) with ESMTP id m04JmeV9007707 for ; Fri, 4 Jan 2008 14:48:40 -0500 Received: (from apache@localhost) by nakamura.uits.iupui.edu (8.12.11.20060308/8.12.11/Submit) id m04JmdwO007705 for source@collab.sakaiproject.org; Fri, 4 Jan 2008 14:48:39 -0500 Date: Fri, 4 Jan 2008 14:48:39 -0500 X-Authentication-Warning: nakamura.uits.iupui.edu:\n",
      "apache set sender to rjlowe@iupui.edu using -f To: source@collab.sakaiproject.org From: rjlowe@iupui.edu Subject: [sakai] svn commit: r39765 - in gradebook/trunk/app: business/src/java/org/sakaiproject/tool/gradebook/business business/src/java/org/sakaiproject/tool/gradebook/business/impl ui ui/src/java/org/sakaiproject/tool/gradebook/ui/helpers/beans ui/src/java/org/sakaiproject/tool/gradebook/ui/helpers/entity ui/src/java/org/sakaiproject/tool/gradebook/ui/helpers/params\n",
      "ui/src/java/org/sakaiproject/tool/gradebook/ui/helpers/producers ui/src/webapp/WEB-INF ui/src/webapp/WEB-INF/bundle ui/src/webapp/content/templates X-Content-Type-Outer-Envelope: text/plain; charset=UTF-8 X-Content-Type-MessageBody: text/plain; charset=UTF-8 Content-Type: text/plain; charset=UTF-8 X-DSPAM-Result: Innocent X-DSPAM-Processed:\n",
      "Fri Jan 4 14:50:18 2008 X-DSPAM-Confidence: 0.7556 X-DSPAM-Probability: 0.0000 Details:\n",
      "http://source.sakaiproject.org/viewsvn/?view=rev&rev=39765 Author: rjlowe@iupui.edu Date: 2008-01-04 14:48:37 -0500 (Fri, 04 Jan 2008) New Revision: 39765 Added:\n",
      "gradebook/trunk/app/ui/src/java/org/sakaiproject/tool/gradebook/ui/helpers/beans/AssignmentGradeRecordBean.java gradebook/trunk/app/ui/src/java/org/sakaiproject/tool/gradebook/ui/helpers/beans/AssignmentGradeRecordCreator.java gradebook/trunk/app/ui/src/java/org/sakaiproject/tool/gradebook/ui/helpers/entity/GradebookEntryGradeEntityProvider.java gradebook/trunk/app/ui/src/java/org/sakaiproject/tool/gradebook/ui/helpers/params/GradeGradebookItemViewParams.java gradebook/trunk/app/ui/src/java/org/sakaiproject/tool/gradebook/ui/helpers/producers/GradeGradebookItemProducer.java gradebook/trunk/app/ui/src/webapp/content/templates/grade-gradebook-item.html Modified: gradebook/trunk/app/business/src/java/org/sakaiproject/tool/gradebook/business/GradebookManager.java\n",
      "gradebook/trunk/app/business/src/java/org/sakaiproject/tool/gradebook/business/impl/GradebookManagerHibernateImpl.java gradebook/trunk/app/ui/pom.xml\n",
      "gradebook/trunk/app/ui/src/java/org/sakaiproject/tool/gradebook/ui/helpers/beans/GradebookItemBean.java gradebook/trunk/app/ui/src/java/org/sakaiproject/tool/gradebook/ui/helpers/entity/GradebookEntryEntityProvider.java gradebook/trunk/app/ui/src/java/org/sakaiproject/tool/gradebook/ui/helpers/producers/AddGradebookItemProducer.java gradebook/trunk/app/ui/src/webapp/WEB-INF/applicationContext.xml gradebook/trunk/app/ui/src/webapp/WEB-\n",
      "INF/bundle/messages.properties gradebook/trunk/app/ui/src/webapp/WEB-INF/requestContext.xml Log: SAK-12180 - New helper tool to grade an assignment ---------------------- This automatic notification message was sent by Sakai Collab (https://collab.sakaiproject.org/portal) from the Source site. You can modify how you receive notifications at My Workspace > Preferences. From cwen@iupui.edu Fri Jan 4 11:37:30 2008 Return-Path: Received: from murder (mail.umich.edu [141.211.14.46]) by frankenstein.mail.umich.edu (Cyrus v2.3.8) with LMTPA; Fri, 04 Jan 2008 11:37:30 -0500 X-Sieve:\n",
      "CMU Sieve 2.3 Received: from murder ([unix socket]) by mail.umich.edu (Cyrus v2.2.12) with LMTPA; Fri, 04 Jan 2008\n",
      "11:37:30 -0500 Received: from tadpole.mr.itd.umich.edu (tadpole.mr.itd.umich.edu [141.211.14.72]) by fan.mail.umich.edu\n",
      "() with ESMTP id m04GbT9x022078; Fri, 4 Jan 2008 11:37:29 -0500 Received: FROM paploo.uhi.ac.uk\n",
      "(app1.prod.collab.uhi.ac.uk [194.35.219.184]) BY tadpole.mr.itd.umich.edu ID 477E60B2.82756.9904 ; 4 Jan 2008 11:37:09\n",
      "-0500 Received: from paploo.uhi.ac.uk (localhost [127.0.0.1]) by paploo.uhi.ac.uk (Postfix) with ESMTP id 8D13DBB001;\n",
      "Fri, 4 Jan 2008 16:37:07 +0000 (GMT) Message-ID: <200801041635.m04GZQGZ007313@nakamura.uits.iupui.edu> Mime-Version: 1.0 Content-Transfer-Encoding: 7bit Received: from prod.collab.uhi.ac.uk ([194.35.219.182]) by paploo.uhi.ac.uk (JAMES SMTP Server 2.1.3) with SMTP ID 120 for ; Fri, 4 Jan 2008 16:36:40 +0000 (GMT) Received:\n",
      "from nakamura.uits.iupui.edu (nakamura.uits.iupui.edu [134.68.220.122]) by shmi.uhi.ac.uk (Postfix) with ESMTP id D430B42E42 for ; Fri, 4 Jan 2008 16:36:37 +0000 (GMT) Received: from nakamura.uits.iupui.edu (localhost [127.0.0.1]) by nakamura.uits.iupui.edu (8.12.11.20060308/8.12.11) with ESMTP id m04GZQ7W007315 for ; Fri, 4 Jan 2008 11:35:26\n",
      "-0500 Received: (from apache@localhost) by nakamura.uits.iupui.edu (8.12.11.20060308/8.12.11/Submit) id m04GZQGZ007313 for source@collab.sakaiproject.org; Fri, 4 Jan 2008 11:35:26 -0500 Date: Fri, 4 Jan 2008 11:35:26 -0500 X-Authentication-Warning: nakamura.uits.iupui.edu: apache set sender to cwen@iupui.edu using -f To:\n",
      "source@collab.sakaiproject.org From: cwen@iupui.edu Subject: [sakai] svn commit: r39764 - in msgcntr/trunk/messageforums-app/src/java/org/sakaiproject/tool/messageforums: . ui X-Content-Type-Outer-Envelope: text/plain; charset=UTF-8 X-Content-Type-Message-Body: text/plain; charset=UTF-8 Content-Type: text/plain; charset=UTF-8 X-DSPAM-Result: Innocent X-DSPAM-Processed: Fri Jan 4 11:37:30 2008 X-DSPAM-Confidence: 0.7002 X-DSPAM-Probability: 0.0000 Details: http://source.sakaiproject.org/viewsvn/?view=rev&rev=39764 Author: cwen@iupui.edu Date: 2008-01-04 11:35:25 -0500 (Fri, 04 Jan 2008) New Revision: 39764 Modified: msgcntr/trunk/messageforums-app/src/java/org/sakaiproject/tool/messageforums/PrivateMessagesTool.java\n",
      "msgcntr/trunk/messageforums-app/src/java/org/sakaiproject/tool/messageforums/ui/PrivateMessageDecoratedBean.java\n",
      "Log: unmerge Xingtang's checkin for SAK-12488. svn merge -r39558:39557 https://source.sakaiproject.org/svn/msgcntr/trunk U messageforums-\n",
      "app/src/java/org/sakaiproject/tool/messageforums/PrivateMessagesTool.java U messageforumsapp/src/java/org/sakaiproject/tool/messageforums/ui/PrivateMessageDecoratedBean.java svn log -r 39558 ----------------------------------------------------------------------- r39558 | hu2@iupui.edu | 2007-12-20 15:25:38 -0500 (Thu, 20 Dec 2007) | 3 lines SAK-12488 when send a message to yourself. click reply to all, cc row should be null.\n",
      "http://jira.sakaiproject.org/jira/browse/SAK-12488 ------------------------------------------------------------------------ ---------------------This automatic notification message was sent by Sakai Collab (https://collab.sakaiproject.org/portal) from the Source site.\n",
      "You can modify how you receive notifications at My Workspace > Preferences. From cwen@iupui.edu Fri Jan 4 11:35:08 2008 Return-Path: Received: from murder (mail.umich.edu [141.211.14.46]) by frankenstein.mail.umich.edu (Cyrus v2.3.8) with LMTPA; Fri, 04 Jan 2008 11:35:08 -0500 X-Sieve: CMU Sieve 2.3 Received: from murder ([unix socket]) by mail.umich.edu (Cyrus v2.2.12) with LMTPA; Fri, 04 Jan 2008 11:35:08 -0500 Received: from it.mr.itd.umich.edu\n",
      "(it.mr.itd.umich.edu [141.211.93.151]) by fan.mail.umich.edu () with ESMTP id m04GZ6lt020480; Fri, 4 Jan 2008 11:35:06 -0500 Received: FROM paploo.uhi.ac.uk (app1.prod.collab.uhi.ac.uk [194.35.219.184]) BY it.mr.itd.umich.edu ID 477E6033.6469D.21870 ; 4 Jan 2008 11:35:02 -0500 Received: from paploo.uhi.ac.uk (localhost [127.0.0.1]) by paploo.uhi.ac.uk (Postfix) with ESMTP id E40FABAE5B; Fri, 4 Jan 2008 16:34:38 +0000 (GMT) Message-ID: <200801041633.m04GX6eG007292@nakamura.uits.iupui.edu> Mime-Version: 1.0 Content-Transfer-Encoding: 7bit\n",
      "Received: from prod.collab.uhi.ac.uk ([194.35.219.182]) by paploo.uhi.ac.uk (JAMES SMTP Server 2.1.3) with SMTP ID\n",
      "697 for ; Fri, 4 Jan 2008 16:34:01 +0000 (GMT) Received: from nakamura.uits.iupui.edu (nakamura.uits.iupui.edu\n",
      "[134.68.220.122]) by shmi.uhi.ac.uk (Postfix) with ESMTP id 1CD0C42E42 for ; Fri, 4 Jan 2008 16:34:17 +0000 (GMT)\n",
      "Received: from nakamura.uits.iupui.edu (localhost [127.0.0.1]) by nakamura.uits.iupui.edu (8.12.11.20060308/8.12.11) with ESMTP id m04GX6Y3007294 for ; Fri, 4 Jan 2008 11:33:06 -0500 Received: (from apache@localhost) by nakamura.uits.iupui.edu (8.12.11.20060308/8.12.11/Submit) id m04GX6eG007292 for source@collab.sakaiproject.org; Fri, 4 Jan 2008 11:33:06 -0500 Date: Fri, 4 Jan 2008 11:33:06 -0500 X-Authentication-Warning: nakamura.uits.iupui.edu: apache set sender to cwen@iupui.edu using -f To: source@collab.sakaiproject.org From: cwen@iupui.edu Subject: [sakai] svn commit: r39763 - in msgcntr/trunk: messageforums-api/src/bundle/org/sakaiproject/api/app/messagecenter/bundle messageforums-app/src/java/org/sakaiproject/tool/messageforums X-Content-Type-Outer-Envelope: text/plain; charset=UTF-8 X-Content-Type-Message-Body: text/plain; charset=UTF-8 Content-Type: text/plain; charset=UTF-8 XDSPAM-Result: Innocent X-DSPAM-Processed: Fri Jan 4 11:35:08 2008 X-DSPAM-Confidence: 0.7615 X-DSPAM-\n",
      "Probability: 0.0000 Details: http://source.sakaiproject.org/viewsvn/?view=rev&rev=39763 Author: cwen@iupui.edu Date:\n",
      "2008-01-04 11:33:05 -0500 (Fri, 04 Jan 2008) New Revision: 39763 Modified: msgcntr/trunk/messageforumsapi/src/bundle/org/sakaiproject/api/app/messagecenter/bundle/Messages.properties msgcntr/trunk/messageforumsapp/src/java/org/sakaiproject/tool/messageforums/PrivateMessagesTool.java Log: unmerge Xingtang's check in for SAK-\n",
      "12484. svn merge -r39571:39570 https://source.sakaiproject.org/svn/msgcntr/trunk U messageforumsapi/src/bundle/org/sakaiproject/api/app/messagecenter/bundle/Messages.properties U messageforums-\n",
      "app/src/java/org/sakaiproject/tool/messageforums/PrivateMessagesTool.java svn log -r 39571 ----------------------------------------------------------------------- r39571 | hu2@iupui.edu | 2007-12-20 21:26:28 -0500 (Thu, 20 Dec 2007) | 3 lines SAK-12484 reply all cc list should not include the current user name. http://jira.sakaiproject.org/jira/browse/SAK-12484 ----------------------------------------------------------------------- ---------------------- This automatic notification message was sent by Sakai Collab\n",
      "(https://collab.sakaiproject.org/portal) from the Source site. You can modify how you receive notifications at My Workspace > Preferences. From gsilver@umich.edu Fri Jan 4 11:12:37 2008 Return-Path: Received: from murder (mail.umich.edu [141.211.14.25]) by frankenstein.mail.umich.edu (Cyrus v2.3.8) with LMTPA; Fri, 04 Jan 2008 11:12:37 -0500 X-Sieve:\n",
      "CMU Sieve 2.3 Received: from murder ([unix socket]) by mail.umich.edu (Cyrus v2.2.12) with LMTPA; Fri, 04 Jan 2008\n",
      "11:12:37 -0500 Received: from holes.mr.itd.umich.edu (holes.mr.itd.umich.edu [141.211.14.79]) by panther.mail.umich.edu\n",
      "() with ESMTP id m04GCaHB030887; Fri, 4 Jan 2008 11:12:36 -0500 Received: FROM paploo.uhi.ac.uk\n",
      "(app1.prod.collab.uhi.ac.uk [194.35.219.184]) BY holes.mr.itd.umich.edu ID 477E5AEB.E670B.28397 ; 4 Jan 2008 11:12:30\n",
      "-0500 Received: from paploo.uhi.ac.uk (localhost [127.0.0.1]) by paploo.uhi.ac.uk (Postfix) with ESMTP id 99715BAE7D;\n",
      "Fri, 4 Jan 2008 16:12:27 +0000 (GMT) Message-ID: <200801041611.m04GB1Lb007221@nakamura.uits.iupui.edu> MimeVersion: 1.0 Content-Transfer-Encoding: 7bit Received: from prod.collab.uhi.ac.uk ([194.35.219.182]) by paploo.uhi.ac.uk\n",
      "(JAMES SMTP Server 2.1.3) with SMTP ID 272 for ; Fri, 4 Jan 2008 16:12:14 +0000 (GMT) Received: from nakamura.uits.iupui.edu (nakamura.uits.iupui.edu [134.68.220.122]) by shmi.uhi.ac.uk (Postfix) with ESMTP id\n",
      "0A6ED42DFC for ; Fri, 4 Jan 2008 16:12:12 +0000 (GMT) Received: from nakamura.uits.iupui.edu (localhost [127.0.0.1]) by nakamura.uits.iupui.edu (8.12.11.20060308/8.12.11) with ESMTP id m04GB1Wt007223 for ; Fri, 4 Jan 2008 11:11:01\n",
      "-0500 Received: (from apache@localhost) by nakamura.uits.iupui.edu (8.12.11.20060308/8.12.11/Submit) id m04GB1Lb007221 for source@collab.sakaiproject.org; Fri, 4 Jan 2008 11:11:01 -0500 Date: Fri, 4 Jan 2008 11:11:01 -0500 X-Authentication-Warning: nakamura.uits.iupui.edu: apache set sender to gsilver@umich.edu using -f To: source@collab.sakaiproject.org From: gsilver@umich.edu Subject: [sakai] svn commit: r39762 - web/trunk/webtool/tool/src/bundle X-Content-Type-Outer-Envelope: text/plain; charset=UTF-8 X-Content-Type-Message-Body: text/plain; charset=UTF-8 Content-Type: text/plain; charset=UTF-8 X-DSPAM-Result: Innocent X-DSPAM-Processed: Fri Jan 4 11:12:37 2008 X-DSPAM-Confidence: 0.7601 X-DSPAM-Probability: 0.0000 Details:\n",
      "http://source.sakaiproject.org/viewsvn/?view=rev&rev=39762 Author: gsilver@umich.edu Date: 2008-01-04 11:11:00 -0500 (Fri, 04 Jan 2008) New Revision: 39762 Modified: web/trunk/web-tool/tool/src/bundle/iframe.properties Log: SAK-12596 http://bugs.sakaiproject.org/jira/browse/SAK-12596 - left moot (unused) entries commented for now ---------------------- This automatic notification message was sent by Sakai Collab (https://collab.sakaiproject.org/portal) from the Source site. You can modify how you receive notifications at My Workspace > Preferences. From gsilver@umich.edu Fri Jan 4 11:11:52 2008 Return-Path: Received: from murder (mail.umich.edu [141.211.14.36]) by frankenstein.mail.umich.edu (Cyrus v2.3.8) with LMTPA; Fri, 04 Jan 2008 11:11:52 -0500 X-Sieve: CMU Sieve 2.3 Received: from murder ([unix socket]) by mail.umich.edu (Cyrus v2.2.12) with LMTPA; Fri, 04 Jan 2008 11:11:52 -0500 Received: from creepshow.mr.itd.umich.edu (creepshow.mr.itd.umich.edu [141.211.14.84]) by godsend.mail.umich.edu () with ESMTP id m04GBqqv025330; Fri, 4 Jan\n",
      "2008 11:11:52 -0500 Received: FROM paploo.uhi.ac.uk (app1.prod.collab.uhi.ac.uk [194.35.219.184]) BY creepshow.mr.itd.umich.edu ID 477E5AB3.5CC32.30840 ; 4 Jan 2008 11:11:34 -0500 Received: from paploo.uhi.ac.uk (localhost [127.0.0.1]) by paploo.uhi.ac.uk (Postfix) with ESMTP id 62AA4BAE46; Fri, 4 Jan 2008 16:11:31 +0000 (GMT)\n",
      "Message-ID: <200801041610.m04GA5KP007209@nakamura.uits.iupui.edu> Mime-Version: 1.0 Content-TransferEncoding: 7bit Received: from prod.collab.uhi.ac.uk ([194.35.219.182]) by paploo.uhi.ac.uk (JAMES SMTP Server 2.1.3) with SMTP ID 1006 for ; Fri, 4 Jan 2008 16:11:18 +0000 (GMT) Received: from nakamura.uits.iupui.edu\n",
      "(nakamura.uits.iupui.edu [134.68.220.122]) by shmi.uhi.ac.uk (Postfix) with ESMTP id C596A3DFA2 for ; Fri, 4 Jan 2008\n",
      "16:11:16 +0000 (GMT) Received: from nakamura.uits.iupui.edu (localhost [127.0.0.1]) by nakamura.uits.iupui.edu (8.12.11.20060308/8.12.11) with ESMTP id m04GA5LR007211 for ; Fri, 4 Jan 2008 11:10:05 -0500 Received: (from apache@localhost) by nakamura.uits.iupui.edu (8.12.11.20060308/8.12.11/Submit) id m04GA5KP007209 for source@collab.sakaiproject.org; Fri, 4 Jan 2008 11:10:05 -0500 Date: Fri, 4 Jan 2008 11:10:05 -0500 X-AuthenticationWarning: nakamura.uits.iupui.edu: apache set sender to gsilver@umich.edu using -f To: source@collab.sakaiproject.org\n",
      "From: gsilver@umich.edu Subject: [sakai] svn commit: r39761 - site/trunk/site-tool/tool/src/bundle X-Content-Type-OuterEnvelope: text/plain; charset=UTF-8 X-Content-Type-Message-Body: text/plain; charset=UTF-8 Content-Type: text/plain; charset=UTF-8 X-DSPAM-Result: Innocent X-DSPAM-Processed: Fri Jan 4 11:11:52 2008 X-DSPAM-Confidence: 0.7605 X-DSPAM-Probability: 0.0000 Details: http://source.sakaiproject.org/viewsvn/?view=rev&rev=39761 Author: gsilver@umich.edu Date: 2008-01-04 11:10:04 -0500 (Fri, 04 Jan 2008) New Revision: 39761 Modified: site/trunk/sitetool/tool/src/bundle/admin.properties Log: SAK-12595 http://bugs.sakaiproject.org/jira/browse/SAK-12595 - left moot (unused) entries commented for now ---------------------- This automatic notification message was sent by Sakai Collab\n",
      "(https://collab.sakaiproject.org/portal) from the Source site. You can modify how you receive notifications at My Workspace\n",
      "> Preferences. From zqian@umich.edu Fri Jan 4 11:11:03 2008 Return-Path: Received: from murder (mail.umich.edu\n",
      "[141.211.14.97]) by frankenstein.mail.umich.edu (Cyrus v2.3.8) with LMTPA; Fri, 04 Jan 2008 11:11:03 -0500 X-Sieve: CMU\n",
      "Sieve 2.3 Received: from murder ([unix socket]) by mail.umich.edu (Cyrus v2.2.12) with LMTPA; Fri, 04 Jan 2008 11:11:03\n",
      "-0500 Received: from carrie.mr.itd.umich.edu (carrie.mr.itd.umich.edu [141.211.93.152]) by sleepers.mail.umich.edu () with\n",
      "ESMTP id m04GB3Vg011502; Fri, 4 Jan 2008 11:11:03 -0500 Received: FROM paploo.uhi.ac.uk\n",
      "(app1.prod.collab.uhi.ac.uk [194.35.219.184]) BY carrie.mr.itd.umich.edu ID 477E5A8D.B378F.24200 ; 4 Jan 2008 11:10:56\n",
      "-0500 Received: from paploo.uhi.ac.uk (localhost [127.0.0.1]) by paploo.uhi.ac.uk (Postfix) with ESMTP id C7251BAD44;\n",
      "Fri, 4 Jan 2008 16:10:53 +0000 (GMT) Message-ID: <200801041609.m04G9EuX007197@nakamura.uits.iupui.edu> MimeVersion: 1.0 Content-Transfer-Encoding: 7bit Received: from prod.collab.uhi.ac.uk ([194.35.219.182]) by paploo.uhi.ac.uk\n",
      "(JAMES SMTP Server 2.1.3) with SMTP ID 483 for ; Fri, 4 Jan 2008 16:10:27 +0000 (GMT) Received: from nakamura.uits.iupui.edu (nakamura.uits.iupui.edu [134.68.220.122]) by shmi.uhi.ac.uk (Postfix) with ESMTP id\n",
      "2E7043DFA2 for ; Fri, 4 Jan 2008 16:10:26 +0000 (GMT) Received: from nakamura.uits.iupui.edu (localhost [127.0.0.1]) by nakamura.uits.iupui.edu (8.12.11.20060308/8.12.11) with ESMTP id m04G9Eqg007199 for ; Fri, 4 Jan 2008 11:09:15 -0500 Received: (from apache@localhost) by nakamura.uits.iupui.edu (8.12.11.20060308/8.12.11/Submit) id m04G9EuX007197 for source@collab.sakaiproject.org; Fri, 4 Jan 2008 11:09:14 -0500 Date: Fri, 4 Jan 2008 11:09:14 -0500 X-AuthenticationWarning: nakamura.uits.iupui.edu: apache set sender to zqian@umich.edu using -f To: source@collab.sakaiproject.org From: zqian@umich.edu Subject: [sakai] svn commit: r39760 - in site-manage/trunk/site-manage-tool/tool/src: java/org/sakaiproject/site/tool webapp/vm/sitesetup X-Content-Type-Outer-Envelope: text/plain; charset=UTF-8 X-ContentType-Message-Body: text/plain; charset=UTF-8 Content-Type: text/plain; charset=UTF-8 X-DSPAM-Result: Innocent XDSPAM-Processed: Fri Jan 4 11:11:03 2008 X-DSPAM-Confidence: 0.6959 X-DSPAM-Probability: 0.0000 Details:\n",
      "http://source.sakaiproject.org/viewsvn/?view=rev&rev=39760 Author: zqian@umich.edu Date: 2008-01-04 11:09:12 -0500\n",
      "(Fri, 04 Jan 2008) New Revision: 39760 Modified: site-manage/trunk/site-managetool/tool/src/java/org/sakaiproject/site/tool/SiteAction.java site-manage/trunk/site-manage-\n",
      "tool/tool/src/webapp/vm/sitesetup/chef_site-siteInfo-list.vm Log: fix to SAK-10911: Refactor use of site.upd, site.upd.site.mbrship and site.upd.grp.mbrship permissions ---------------------- This automatic notification message was sent by Sakai Collab (https://collab.sakaiproject.org/portal) from the Source site. You can modify how you receive notifications at My Workspace > Preferences. From gsilver@umich.edu Fri Jan 4 11:10:22 2008 Return-Path: Received: from murder\n",
      "(mail.umich.edu [141.211.14.39]) by frankenstein.mail.umich.edu (Cyrus v2.3.8) with LMTPA; Fri, 04 Jan 2008 11:10:22\n",
      "-0500 X-Sieve: CMU Sieve 2.3 Received: from murder ([unix socket]) by mail.umich.edu (Cyrus v2.2.12) with LMTPA; Fri,\n",
      "04 Jan 2008 11:10:22 -0500 Received: from holes.mr.itd.umich.edu (holes.mr.itd.umich.edu [141.211.14.79]) by faithful.mail.umich.edu () with ESMTP id m04GAL9k010604; Fri, 4 Jan 2008 11:10:21 -0500 Received: FROM paploo.uhi.ac.uk (app1.prod.collab.uhi.ac.uk [194.35.219.184]) BY holes.mr.itd.umich.edu ID 477E5A67.34350.23015 ; 4 Jan 2008 11:10:18 -0500 Received: from paploo.uhi.ac.uk (localhost [127.0.0.1]) by paploo.uhi.ac.uk (Postfix) with ESMTP id 98D04BAD43; Fri, 4 Jan 2008 16:10:11 +0000 (GMT) Message-ID:\n",
      "<200801041608.m04G8d7w007184@nakamura.uits.iupui.edu> Mime-Version: 1.0 Content-Transfer-Encoding: 7bit\n",
      "Received: from prod.collab.uhi.ac.uk ([194.35.219.182]) by paploo.uhi.ac.uk (JAMES SMTP Server 2.1.3) with SMTP ID\n",
      "966 for ; Fri, 4 Jan 2008 16:09:51 +0000 (GMT) Received: from nakamura.uits.iupui.edu (nakamura.uits.iupui.edu\n",
      "[134.68.220.122]) by shmi.uhi.ac.uk (Postfix) with ESMTP id 9F89542DD0 for ; Fri, 4 Jan 2008 16:09:50 +0000 (GMT)\n",
      "Received: from nakamura.uits.iupui.edu (localhost [127.0.0.1]) by nakamura.uits.iupui.edu (8.12.11.20060308/8.12.11) with ESMTP id m04G8dXN007186 for ; Fri, 4 Jan 2008 11:08:39 -0500 Received: (from apache@localhost) by nakamura.uits.iupui.edu (8.12.11.20060308/8.12.11/Submit) id m04G8d7w007184 for source@collab.sakaiproject.org; Fri, 4 Jan 2008 11:08:39 -0500 Date: Fri, 4 Jan 2008 11:08:39 -0500 X-Authentication-Warning: nakamura.uits.iupui.edu: apache set sender to gsilver@umich.edu using -f To: source@collab.sakaiproject.org From: gsilver@umich.edu Subject: [sakai] svn commit: r39759 - mailarchive/trunk/mailarchive-tool/tool/src/bundle X-Content-Type-Outer-Envelope: text/plain; charset=UTF-8 X-Content-Type-Message-Body: text/plain; charset=UTF-8 Content-Type: text/plain; charset=UTF-8 XDSPAM-Result: Innocent X-DSPAM-Processed: Fri Jan 4 11:10:22 2008 X-DSPAM-Confidence: 0.7606 X-DSPAM-\n",
      "Probability: 0.0000 Details: http://source.sakaiproject.org/viewsvn/?view=rev&rev=39759 Author: gsilver@umich.edu Date:\n",
      "2008-01-04 11:08:38 -0500 (Fri, 04 Jan 2008) New Revision: 39759 Modified: mailarchive/trunk/mailarchivetool/tool/src/bundle/email.properties Log: SAK-12592 http://bugs.sakaiproject.org/jira/browse/SAK-12592 - left moot (unused) entries commented for now ---------------------- This automatic notification message was sent by Sakai Collab\n",
      "(https://collab.sakaiproject.org/portal) from the Source site. You can modify how you receive notifications at My Workspace > Preferences. From wagnermr@iupui.edu Fri Jan 4 10:38:42 2008 Return-Path: Received: from murder (mail.umich.edu [141.211.14.90]) by frankenstein.mail.umich.edu (Cyrus v2.3.8) with LMTPA; Fri, 04 Jan 2008 10:38:42 -0500 X-Sieve:\n",
      "CMU Sieve 2.3 Received: from murder ([unix socket]) by mail.umich.edu (Cyrus v2.2.12) with LMTPA; Fri, 04 Jan 2008\n",
      "10:38:42 -0500 Received: from shining.mr.itd.umich.edu (shining.mr.itd.umich.edu [141.211.93.153]) by flawless.mail.umich.edu () with ESMTP id m04Fcfjm012313; Fri, 4 Jan 2008 10:38:41 -0500 Received: FROM paploo.uhi.ac.uk (app1.prod.collab.uhi.ac.uk [194.35.219.184]) BY shining.mr.itd.umich.edu ID 477E52FA.E6C6E.24093 ; 4 Jan 2008 10:38:37 -0500 Received: from paploo.uhi.ac.uk (localhost [127.0.0.1]) by paploo.uhi.ac.uk (Postfix) with ESMTP id 6A39594CD2; Fri, 4 Jan 2008 15:37:36 +0000 (GMT) Message-ID:\n",
      "<200801041537.m04Fb6Ci007092@nakamura.uits.iupui.edu> Mime-Version: 1.0 Content-Transfer-Encoding: 7bit\n",
      "Received: from prod.collab.uhi.ac.uk ([194.35.219.182]) by paploo.uhi.ac.uk (JAMES SMTP Server 2.1.3) with SMTP ID\n",
      "690 for ; Fri, 4 Jan 2008 15:37:21 +0000 (GMT) Received: from nakamura.uits.iupui.edu (nakamura.uits.iupui.edu\n",
      "[134.68.220.122]) by shmi.uhi.ac.uk (Postfix) with ESMTP id CEFA037ACE for ; Fri, 4 Jan 2008 15:38:17 +0000 (GMT)\n",
      "Received: from nakamura.uits.iupui.edu (localhost [127.0.0.1]) by nakamura.uits.iupui.edu (8.12.11.20060308/8.12.11) with ESMTP id m04Fb6nh007094 for ; Fri, 4 Jan 2008 10:37:06 -0500 Received: (from apache@localhost) by\n",
      "nakamura.uits.iupui.edu (8.12.11.20060308/8.12.11/Submit) id m04Fb6Ci007092 for source@collab.sakaiproject.org; Fri, 4 Jan 2008 10:37:06 -0500 Date: Fri, 4 Jan 2008 10:37:06 -0500 X-Authentication-Warning: nakamura.uits.iupui.edu: apache set sender to wagnermr@iupui.edu using -f To: source@collab.sakaiproject.org From: wagnermr@iupui.edu Subject: [sakai] svn commit: r39758 - in gradebook/trunk: app/business/src/java/org/sakaiproject/tool/gradebook/business/impl service/api/src/java/org/sakaiproject/service/gradebook/shared service/impl/src/java/org/sakaiproject/component/gradebook\n",
      "X-Content-Type-Outer-Envelope: text/plain; charset=UTF-8 X-Content-Type-Message-Body: text/plain; charset=UTF-8\n",
      "Content-Type: text/plain; charset=UTF-8 X-DSPAM-Result: Innocent X-DSPAM-Processed: Fri Jan 4 10:38:42 2008 XDSPAM-Confidence: 0.7559 X-DSPAM-Probability: 0.0000 Details: http://source.sakaiproject.org/viewsvn/?\n",
      "view=rev&rev=39758 Author: wagnermr@iupui.edu Date: 2008-01-04 10:37:04 -0500 (Fri, 04 Jan 2008) New Revision:\n",
      "39758 Modified:\n",
      "gradebook/trunk/app/business/src/java/org/sakaiproject/tool/gradebook/business/impl/GradebookManagerHibernateImpl.java gradebook/trunk/service/api/src/java/org/sakaiproject/service/gradebook/shared/GradebookService.java gradebook/trunk/service/impl/src/java/org/sakaiproject/component/gradebook/GradebookServiceHibernateImpl.java Log: SAK-12175 http://bugs.sakaiproject.org/jira/browse/SAK-12175 Create methods required for gb integration with the\n",
      "Assignment2 tool getGradeDefinitionForStudentForItem ---------------------- This automatic notification message was sent by\n",
      "Sakai Collab (https://collab.sakaiproject.org/portal) from the Source site. You can modify how you receive notifications at My\n",
      "Workspace > Preferences. From zqian@umich.edu Fri Jan 4 10:17:43 2008 Return-Path: Received: from murder\n",
      "(mail.umich.edu [141.211.14.97]) by frankenstein.mail.umich.edu (Cyrus v2.3.8) with LMTPA; Fri, 04 Jan 2008 10:17:43\n",
      "-0500 X-Sieve: CMU Sieve 2.3 Received: from murder ([unix socket]) by mail.umich.edu (Cyrus v2.2.12) with LMTPA; Fri, 04 Jan 2008 10:17:42 -0500 Received: from creepshow.mr.itd.umich.edu (creepshow.mr.itd.umich.edu [141.211.14.84]) by sleepers.mail.umich.edu () with ESMTP id m04FHgfs011536; Fri, 4 Jan 2008 10:17:42 -0500 Received: FROM\n",
      "paploo.uhi.ac.uk (app1.prod.collab.uhi.ac.uk [194.35.219.184]) BY creepshow.mr.itd.umich.edu ID 477E4E0F.CCA4B.926 ; 4 Jan 2008 10:17:38 -0500 Received: from paploo.uhi.ac.uk (localhost [127.0.0.1]) by paploo.uhi.ac.uk (Postfix) with ESMTP id BD02DBAC64; Fri, 4 Jan 2008 15:17:34 +0000 (GMT) Message-ID:\n",
      "<200801041515.m04FFv42007050@nakamura.uits.iupui.edu> Mime-Version: 1.0 Content-Transfer-Encoding: 7bit Received: from prod.collab.uhi.ac.uk ([194.35.219.182]) by paploo.uhi.ac.uk (JAMES SMTP Server 2.1.3) with SMTP ID 25 for ; Fri, 4 Jan 2008 15:17:11 +0000 (GMT) Received: from nakamura.uits.iupui.edu (nakamura.uits.iupui.edu\n",
      "[134.68.220.122]) by shmi.uhi.ac.uk (Postfix) with ESMTP id 5B396236B9 for ; Fri, 4 Jan 2008 15:17:08 +0000 (GMT)\n",
      "Received: from nakamura.uits.iupui.edu (localhost [127.0.0.1]) by nakamura.uits.iupui.edu (8.12.11.20060308/8.12.11) with ESMTP id m04FFv85007052 for ; Fri, 4 Jan 2008 10:15:57 -0500 Received: (from apache@localhost) by\n",
      "nakamura.uits.iupui.edu (8.12.11.20060308/8.12.11/Submit) id m04FFv42007050 for source@collab.sakaiproject.org; Fri, 4 Jan 2008 10:15:57 -0500 Date: Fri, 4 Jan 2008 10:15:57 -0500 X-Authentication-Warning: nakamura.uits.iupui.edu: apache set sender to zqian@umich.edu using -f To: source@collab.sakaiproject.org From: zqian@umich.edu Subject: [sakai] svn commit: r39757 - in assignment/trunk: assignment-impl/impl/src/java/org/sakaiproject/assignment/impl assignmenttool/tool/src/webapp/vm/assignment X-Content-Type-Outer-Envelope: text/plain; charset=UTF-8 X-Content-Type-MessageBody: text/plain; charset=UTF-8 Content-Type: text/plain; charset=UTF-8 X-DSPAM-Result: Innocent X-DSPAM-Processed:\n",
      "Fri Jan 4 10:17:42 2008 X-DSPAM-Confidence: 0.7605 X-DSPAM-Probability: 0.0000 Details:\n",
      "http://source.sakaiproject.org/viewsvn/?view=rev&rev=39757 Author: zqian@umich.edu Date: 2008-01-04 10:15:54 -0500\n",
      "(Fri, 04 Jan 2008) New Revision: 39757 Modified: assignment/trunk/assignment-\n",
      "impl/impl/src/java/org/sakaiproject/assignment/impl/BaseAssignmentService.java assignment/trunk/assignmenttool/tool/src/webapp/vm/assignment/chef_assignments_instructor_list_submissions.vm Log: fix to SAK-12604:Don't show groups/sections filter if the site doesn't have any ---------------------- This automatic notification message was sent by Sakai Collab (https://collab.sakaiproject.org/portal) from the Source site. You can modify how you receive notifications at My\n",
      "Workspace > Preferences. From antranig@caret.cam.ac.uk Fri Jan 4 10:04:14 2008 Return-Path: Received: from murder (mail.umich.edu [141.211.14.25]) by frankenstein.mail.umich.edu (Cyrus v2.3.8) with LMTPA; Fri, 04 Jan 2008 10:04:14\n",
      "-0500 X-Sieve: CMU Sieve 2.3 Received: from murder ([unix socket]) by mail.umich.edu (Cyrus v2.2.12) with LMTPA; Fri,\n",
      "04 Jan 2008 10:04:14 -0500 Received: from holes.mr.itd.umich.edu (holes.mr.itd.umich.edu [141.211.14.79]) by panther.mail.umich.edu () with ESMTP id m04F4Dci015108; Fri, 4 Jan 2008 10:04:13 -0500 Received: FROM paploo.uhi.ac.uk (app1.prod.collab.uhi.ac.uk [194.35.219.184]) BY holes.mr.itd.umich.edu ID 477E4AE3.D7AF.31669 ; 4 Jan 2008 10:04:05 -0500 Received: from paploo.uhi.ac.uk (localhost [127.0.0.1]) by paploo.uhi.ac.uk (Postfix) with ESMTP id 933E3BAC17; Fri, 4 Jan 2008 15:04:00 +0000 (GMT) Message-ID:\n",
      "<200801041502.m04F21Jo007031@nakamura.uits.iupui.edu> Mime-Version: 1.0 Content-Transfer-Encoding: 7bit Received: from prod.collab.uhi.ac.uk ([194.35.219.182]) by paploo.uhi.ac.uk (JAMES SMTP Server 2.1.3) with SMTP ID 32 for ; Fri, 4 Jan 2008 15:03:15 +0000 (GMT) Received: from nakamura.uits.iupui.edu (nakamura.uits.iupui.edu\n",
      "[134.68.220.122]) by shmi.uhi.ac.uk (Postfix) with ESMTP id AC2F6236B9 for ; Fri, 4 Jan 2008 15:03:12 +0000 (GMT)\n",
      "Received: from nakamura.uits.iupui.edu (localhost [127.0.0.1]) by nakamura.uits.iupui.edu (8.12.11.20060308/8.12.11) with ESMTP id m04F21hn007033 for ; Fri, 4 Jan 2008 10:02:01 -0500 Received: (from apache@localhost) by nakamura.uits.iupui.edu (8.12.11.20060308/8.12.11/Submit) id m04F21Jo007031 for source@collab.sakaiproject.org; Fri, 4 Jan 2008 10:02:01 -0500 Date: Fri, 4 Jan 2008 10:02:01 -0500 X-Authentication-Warning: nakamura.uits.iupui.edu: apache set sender to antranig@caret.cam.ac.uk using -f To: source@collab.sakaiproject.org From: antranig@caret.cam.ac.uk Subject: [sakai] svn commit: r39756 - in component/branches/SAK-12166/component-\n",
      "api/component/src/java/org/sakaiproject/component: impl impl/spring/support impl/spring/support/dynamic impl/support util X-Content-Type-Outer-Envelope: text/plain; charset=UTF-8 X-Content-Type-Message-Body: text/plain; charset=UTF-8\n",
      "Content-Type: text/plain; charset=UTF-8 X-DSPAM-Result: Innocent X-DSPAM-Processed: Fri Jan 4 10:04:14 2008 XDSPAM-Confidence: 0.6932 X-DSPAM-Probability: 0.0000 Details: http://source.sakaiproject.org/viewsvn/?\n",
      "view=rev&rev=39756 Author: antranig@caret.cam.ac.uk Date: 2008-01-04 10:01:40 -0500 (Fri, 04 Jan 2008) New Revision: 39756 Added: component/branches/SAK-12166/component-\n",
      "api/component/src/java/org/sakaiproject/component/impl/spring/support/dynamic/ component/branches/SAK-\n",
      "12166/component-\n",
      "api/component/src/java/org/sakaiproject/component/impl/spring/support/dynamic/DynamicComponentManager.java component/branches/SAK-12166/component-api/component/src/java/org/sakaiproject/component/impl/support/ component/branches/SAK-12166/component-\n",
      "api/component/src/java/org/sakaiproject/component/impl/support/DynamicComponentRecord.java component/branches/SAK-12166/component-\n",
      "api/component/src/java/org/sakaiproject/component/impl/support/DynamicJARManager.java component/branches/SAK12166/component-api/component/src/java/org/sakaiproject/component/impl/support/JARRecord.java component/branches/SAK-12166/componentapi/component/src/java/org/sakaiproject/component/util/ByteToCharBase64.java component/branches/SAK12166/component-api/component/src/java/org/sakaiproject/component/util/FileUtil.java component/branches/SAK12166/component-api/component/src/java/org/sakaiproject/component/util/RecordFileIO.java component/branches/SAK12166/component-api/component/src/java/org/sakaiproject/component/util/RecordReader.java component/branches/SAK12166/component-api/component/src/java/org/sakaiproject/component/util/RecordWriter.java component/branches/SAK12166/component-api/component/src/java/org/sakaiproject/component/util/StreamDigestor.java Modified:\n",
      "component/branches/SAK-12166/componentapi/component/src/java/org/sakaiproject/component/impl/spring/support/ComponentsLoaderImpl.java Log: Temporary commit of incomplete work on JAR caching ---------------------- This automatic notification message was sent by Sakai Collab (https://collab.sakaiproject.org/portal) from the Source site. You can modify how you receive notifications at My Workspace\n",
      "> Preferences. From gopal.ramasammycook@gmail.com Fri Jan 4 09:05:31 2008 Return-Path: Received: from murder\n",
      "(mail.umich.edu [141.211.14.90]) by frankenstein.mail.umich.edu (Cyrus v2.3.8) with LMTPA; Fri, 04 Jan 2008 09:05:31\n",
      "-0500 X-Sieve: CMU Sieve 2.3 Received: from murder ([unix socket]) by mail.umich.edu (Cyrus v2.2.12) with LMTPA; Fri,\n",
      "04 Jan 2008 09:05:31 -0500 Received: from guys.mr.itd.umich.edu (guys.mr.itd.umich.edu [141.211.14.76]) by flawless.mail.umich.edu () with ESMTP id m04E5U3C029277; Fri, 4 Jan 2008 09:05:30 -0500 Received: FROM paploo.uhi.ac.uk (app1.prod.collab.uhi.ac.uk [194.35.219.184]) BY guys.mr.itd.umich.edu ID 477E3D23.EE2E7.5237 ; 4 Jan 2008 09:05:26 -0500 Received: from paploo.uhi.ac.uk (localhost [127.0.0.1]) by paploo.uhi.ac.uk (Postfix) with ESMTP id 33C7856DC0; Fri, 4 Jan 2008 14:05:26 +0000 (GMT) Message-ID:\n",
      "<200801041403.m04E3psW006926@nakamura.uits.iupui.edu> Mime-Version: 1.0 Content-Transfer-Encoding: 7bit\n",
      "Received: from prod.collab.uhi.ac.uk ([194.35.219.182]) by paploo.uhi.ac.uk (JAMES SMTP Server 2.1.3) with SMTP ID\n",
      "575 for ; Fri, 4 Jan 2008 14:05:04 +0000 (GMT) Received: from nakamura.uits.iupui.edu (nakamura.uits.iupui.edu\n",
      "[134.68.220.122]) by shmi.uhi.ac.uk (Postfix) with ESMTP id 3C0261D617 for ; Fri, 4 Jan 2008 14:05:03 +0000 (GMT)\n",
      "Received: from nakamura.uits.iupui.edu (localhost [127.0.0.1]) by nakamura.uits.iupui.edu (8.12.11.20060308/8.12.11) with ESMTP id m04E3pQS006928 for ; Fri, 4 Jan 2008 09:03:52 -0500 Received: (from apache@localhost) by nakamura.uits.iupui.edu (8.12.11.20060308/8.12.11/Submit) id m04E3psW006926 for source@collab.sakaiproject.org; Fri, 4 Jan 2008 09:03:51 -0500 Date: Fri, 4 Jan 2008 09:03:51 -0500 X-Authentication-Warning: nakamura.uits.iupui.edu: apache set sender to gopal.ramasammycook@gmail.com using -f To: source@collab.sakaiproject.org From:\n",
      "gopal.ramasammycook@gmail.com Subject: [sakai] svn commit: r39755 - in sam/branches/SAK-12065: samigoapi/src/java/org/sakaiproject/tool/assessment/shared/api/grading samigoapp/src/java/org/sakaiproject/tool/assessment/ui/bean/evaluation samigoapp/src/java/org/sakaiproject/tool/assessment/ui/listener/evaluation samigoservices/src/java/org/sakaiproject/tool/assessment/facade samigo-\n",
      "services/src/java/org/sakaiproject/tool/assessment/integration/helper/ifc samigoservices/src/java/org/sakaiproject/tool/assessment/integration/helper/integrated samigoservices/src/java/org/sakaiproject/tool/assessment/integration/helper/standalone samigo-\n",
      "services/src/java/org/sakaiproject/tool/assessment/shared/impl/grading X-Content-Type-Outer-Envelope: text/plain; charset=UTF-8 X-Content-Type-Message-Body: text/plain; charset=UTF-8 Content-Type: text/plain; charset=UTF-8 XDSPAM-Result: Innocent X-DSPAM-Processed: Fri Jan 4 09:05:31 2008 X-DSPAM-Confidence: 0.7558 X-DSPAMProbability: 0.0000 Details: http://source.sakaiproject.org/viewsvn/?view=rev&rev=39755 Author:\n",
      "gopal.ramasammycook@gmail.com Date: 2008-01-04 09:02:54 -0500 (Fri, 04 Jan 2008) New Revision: 39755 Modified: sam/branches/SAK-12065/samigo-\n",
      "api/src/java/org/sakaiproject/tool/assessment/shared/api/grading/GradingSectionAwareServiceAPI.java sam/branches/SAK-\n",
      "12065/samigo-app/src/java/org/sakaiproject/tool/assessment/ui/bean/evaluation/QuestionScoresBean.java sam/branches/SAK-12065/samigo-\n",
      "app/src/java/org/sakaiproject/tool/assessment/ui/bean/evaluation/SubmissionStatusBean.java sam/branches/SAK12065/samigo-app/src/java/org/sakaiproject/tool/assessment/ui/bean/evaluation/TotalScoresBean.java sam/branches/SAK-\n",
      "12065/samigo-app/src/java/org/sakaiproject/tool/assessment/ui/listener/evaluation/SubmissionStatusListener.java sam/branches/SAK-12065/samigoservices/src/java/org/sakaiproject/tool/assessment/facade/PublishedAssessmentFacadeQueries.java sam/branches/SAK12065/samigo-services/src/java/org/sakaiproject/tool/assessment/facade/PublishedAssessmentFacadeQueriesAPI.java sam/branches/SAK-12065/samigo-\n",
      "services/src/java/org/sakaiproject/tool/assessment/integration/helper/ifc/SectionAwareServiceHelper.java sam/branches/SAK-12065/samigo-\n",
      "services/src/java/org/sakaiproject/tool/assessment/integration/helper/integrated/SectionAwareServiceHelperImpl.java sam/branches/SAK-12065/samigo-\n",
      "services/src/java/org/sakaiproject/tool/assessment/integration/helper/standalone/SectionAwareServiceHelperImpl.java sam/branches/SAK-12065/samigo-\n",
      "services/src/java/org/sakaiproject/tool/assessment/shared/impl/grading/GradingSectionAwareServiceImpl.java Log: SAK12065 Gopal - Samigo Group Release. SubmissionStatus/TotalScores/Questions View filter. ---------------------- This automatic notification message was sent by Sakai Collab (https://collab.sakaiproject.org/portal) from the Source site. You can modify how you receive notifications at My Workspace > Preferences. From david.horwitz@uct.ac.za Fri Jan 4 07:02:32 2008 Return-Path: Received: from murder (mail.umich.edu [141.211.14.39]) by frankenstein.mail.umich.edu (Cyrus v2.3.8) with LMTPA; Fri, 04 Jan 2008 07:02:32 -0500 X-Sieve: CMU Sieve 2.3 Received: from murder ([unix socket]) by mail.umich.edu (Cyrus v2.2.12) with LMTPA; Fri, 04 Jan 2008 07:02:32 -0500 Received: from guys.mr.itd.umich.edu (guys.mr.itd.umich.edu [141.211.14.76]) by faithful.mail.umich.edu () with ESMTP id m04C2VN7026678; Fri, 4 Jan 2008\n",
      "07:02:31 -0500 Received: FROM paploo.uhi.ac.uk (app1.prod.collab.uhi.ac.uk [194.35.219.184]) BY guys.mr.itd.umich.edu ID 477E2050.C2599.3263 ; 4 Jan 2008 07:02:27 -0500 Received: from paploo.uhi.ac.uk (localhost [127.0.0.1]) by paploo.uhi.ac.uk (Postfix) with ESMTP id 6497FBA906; Fri, 4 Jan 2008 12:02:11 +0000 (GMT) Message-ID: <200801041200.m04C0gfK006793@nakamura.uits.iupui.edu> Mime-Version: 1.0 Content-Transfer-Encoding: 7bit\n",
      "Received: from prod.collab.uhi.ac.uk ([194.35.219.182]) by paploo.uhi.ac.uk (JAMES SMTP Server 2.1.3) with SMTP ID\n",
      "611 for ; Fri, 4 Jan 2008 12:01:53 +0000 (GMT) Received: from nakamura.uits.iupui.edu (nakamura.uits.iupui.edu\n",
      "[134.68.220.122]) by shmi.uhi.ac.uk (Postfix) with ESMTP id 5296342D3C for ; Fri, 4 Jan 2008 12:01:53 +0000 (GMT)\n",
      "Received: from nakamura.uits.iupui.edu (localhost [127.0.0.1]) by nakamura.uits.iupui.edu (8.12.11.20060308/8.12.11) with ESMTP id m04C0gnm006795 for ; Fri, 4 Jan 2008 07:00:42 -0500 Received: (from apache@localhost) by nakamura.uits.iupui.edu (8.12.11.20060308/8.12.11/Submit) id m04C0gfK006793 for source@collab.sakaiproject.org; Fri, 4 Jan 2008 07:00:42 -0500 Date: Fri, 4 Jan 2008 07:00:42 -0500 X-Authentication-Warning: nakamura.uits.iupui.edu: apache set sender to david.horwitz@uct.ac.za using -f To: source@collab.sakaiproject.org From: david.horwitz@uct.ac.za Subject:\n",
      "[sakai] svn commit: r39754 - in polls/branches/sakai_2-5-x: . tool tool/src/java/org/sakaiproject/poll/tool\n",
      "tool/src/java/org/sakaiproject/poll/tool/evolvers tool/src/webapp/WEB-INF X-Content-Type-Outer-Envelope: text/plain; charset=UTF-8 X-Content-Type-Message-Body: text/plain; charset=UTF-8 Content-Type: text/plain; charset=UTF-8 XDSPAM-Result: Innocent X-DSPAM-Processed: Fri Jan 4 07:02:32 2008 X-DSPAM-Confidence: 0.6526 X-DSPAM-\n",
      "Probability: 0.0000 Details: http://source.sakaiproject.org/viewsvn/?view=rev&rev=39754 Author: david.horwitz@uct.ac.za\n",
      "Date: 2008-01-04 07:00:10 -0500 (Fri, 04 Jan 2008) New Revision: 39754 Added: polls/branches/sakai_2-5x/tool/src/java/org/sakaiproject/poll/tool/evolvers/ polls/branches/sakai_2-5-\n",
      "x/tool/src/java/org/sakaiproject/poll/tool/evolvers/SakaiFCKTextEvolver.java Removed: polls/branches/sakai_2-5x/tool/src/java/org/sakaiproject/poll/tool/evolvers/SakaiFCKTextEvolver.java Modified: polls/branches/sakai_2-5-x/.classpath polls/branches/sakai_2-5-x/tool/pom.xml polls/branches/sakai_2-5-x/tool/src/webapp/WEB-INF/requestContext.xml Log: svn log -r39753 https://source.sakaiproject.org/svn/polls/trunk -----------------------------------------------------------------------r39753 | david.horwitz@uct.ac.za | 2008-01-04 13:05:51 +0200 (Fri, 04 Jan 2008) | 1 line SAK-12228 implmented\n",
      "workaround sugested by AB - needs to be tested against a trunk build ----------------------------------------------------------------------\n",
      "-- dhorwitz@david-horwitz-6:~/branchManagemnt/sakai_2-5-x> svn merge -c39753 https://source.sakaiproject.org/svn/polls/trunk polls/ U polls/.classpath A polls/tool/src/java/org/sakaiproject/poll/tool/evolvers A polls/tool/src/java/org/sakaiproject/poll/tool/evolvers/SakaiFCKTextEvolver.java C polls/tool/src/webapp/WEBINF/requestContext.xml U polls/tool/pom.xml dhorwitz@david-horwitz-6:~/branchManagemnt/sakai_2-5-x> svn resolved\n",
      "polls/tool/src/webapp/WEB-INF/requestContext.xml Resolved conflicted state of 'polls/tool/src/webapp/WEBINF/requestContext.xml ---------------------- This automatic notification message was sent by Sakai Collab\n",
      "(https://collab.sakaiproject.org/portal) from the Source site. You can modify how you receive notifications at My Workspace\n",
      "> Preferences. From david.horwitz@uct.ac.za Fri Jan 4 06:08:27 2008 Return-Path: Received: from murder\n",
      "(mail.umich.edu [141.211.14.98]) by frankenstein.mail.umich.edu (Cyrus v2.3.8) with LMTPA; Fri, 04 Jan 2008 06:08:27\n",
      "-0500 X-Sieve: CMU Sieve 2.3 Received: from murder ([unix socket]) by mail.umich.edu (Cyrus v2.2.12) with LMTPA; Fri, 04 Jan 2008 06:08:27 -0500 Received: from firestarter.mr.itd.umich.edu (firestarter.mr.itd.umich.edu [141.211.14.83]) by casino.mail.umich.edu () with ESMTP id m04B8Qw9001368; Fri, 4 Jan 2008 06:08:26 -0500 Received: FROM paploo.uhi.ac.uk (app1.prod.collab.uhi.ac.uk [194.35.219.184]) BY firestarter.mr.itd.umich.edu ID 477E13A5.30FC0.24054 ; 4 Jan 2008 06:08:23 -0500 Received: from paploo.uhi.ac.uk (localhost [127.0.0.1]) by paploo.uhi.ac.uk (Postfix) with ESMTP id 784A476D7B; Fri, 4 Jan 2008 11:08:12 +0000 (GMT) Message-ID:\n",
      "<200801041106.m04B6lK3006677@nakamura.uits.iupui.edu> Mime-Version: 1.0 Content-Transfer-Encoding: 7bit\n",
      "Received: from prod.collab.uhi.ac.uk ([194.35.219.182]) by paploo.uhi.ac.uk (JAMES SMTP Server 2.1.3) with SMTP ID\n",
      "585 for ; Fri, 4 Jan 2008 11:07:56 +0000 (GMT) Received: from nakamura.uits.iupui.edu (nakamura.uits.iupui.edu\n",
      "[134.68.220.122]) by shmi.uhi.ac.uk (Postfix) with ESMTP id 1CACC42D0C for ; Fri, 4 Jan 2008 11:07:58 +0000 (GMT)\n",
      "Received: from nakamura.uits.iupui.edu (localhost [127.0.0.1]) by nakamura.uits.iupui.edu (8.12.11.20060308/8.12.11) with ESMTP id m04B6lWM006679 for ; Fri, 4 Jan 2008 06:06:47 -0500 Received: (from apache@localhost) by nakamura.uits.iupui.edu (8.12.11.20060308/8.12.11/Submit) id m04B6lK3006677 for source@collab.sakaiproject.org; Fri, 4 Jan 2008 06:06:47 -0500 Date: Fri, 4 Jan 2008 06:06:47 -0500 X-Authentication-Warning: nakamura.uits.iupui.edu: apache set sender to david.horwitz@uct.ac.za using -f To: source@collab.sakaiproject.org From: david.horwitz@uct.ac.za Subject:\n",
      "[sakai] svn commit: r39753 - in polls/trunk: . tool tool/src/java/org/sakaiproject/poll/tool\n",
      "tool/src/java/org/sakaiproject/poll/tool/evolvers tool/src/webapp/WEB-INF X-Content-Type-Outer-Envelope: text/plain; charset=UTF-8 X-Content-Type-Message-Body: text/plain; charset=UTF-8 Content-Type: text/plain; charset=UTF-8 XDSPAM-Result: Innocent X-DSPAM-Processed: Fri Jan 4 06:08:27 2008 X-DSPAM-Confidence: 0.6948 X-DSPAM-\n",
      "Probability: 0.0000 Details: http://source.sakaiproject.org/viewsvn/?view=rev&rev=39753 Author: david.horwitz@uct.ac.za Date: 2008-01-04 06:05:51 -0500 (Fri, 04 Jan 2008) New Revision: 39753 Added:\n",
      "polls/trunk/tool/src/java/org/sakaiproject/poll/tool/evolvers/\n",
      "polls/trunk/tool/src/java/org/sakaiproject/poll/tool/evolvers/SakaiFCKTextEvolver.java Modified: polls/trunk/.classpath polls/trunk/tool/pom.xml polls/trunk/tool/src/webapp/WEB-INF/requestContext.xml Log: SAK-12228 implmented workaround sugested by AB - needs to be tested against a trunk build ---------------------- This automatic notification message was sent by Sakai Collab (https://collab.sakaiproject.org/portal) from the Source site. You can modify how you receive notifications at My\n",
      "Workspace > Preferences. From david.horwitz@uct.ac.za Fri Jan 4 04:49:08 2008 Return-Path: Received: from murder\n",
      "(mail.umich.edu [141.211.14.92]) by frankenstein.mail.umich.edu (Cyrus v2.3.8) with LMTPA; Fri, 04 Jan 2008 04:49:08\n",
      "-0500 X-Sieve: CMU Sieve 2.3 Received: from murder ([unix socket]) by mail.umich.edu (Cyrus v2.2.12) with LMTPA; Fri, 04 Jan 2008 04:49:08 -0500 Received: from galaxyquest.mr.itd.umich.edu (galaxyquest.mr.itd.umich.edu [141.211.93.145]) by score.mail.umich.edu () with ESMTP id m049n60G017588; Fri, 4 Jan 2008 04:49:06 -0500 Received: FROM\n",
      "paploo.uhi.ac.uk (app1.prod.collab.uhi.ac.uk [194.35.219.184]) BY galaxyquest.mr.itd.umich.edu ID 477E010C.48C2.10259 ; 4 Jan 2008 04:49:03 -0500 Received: from paploo.uhi.ac.uk (localhost [127.0.0.1]) by paploo.uhi.ac.uk (Postfix) with ESMTP id 254CC8CDEE; Fri, 4 Jan 2008 09:48:55 +0000 (GMT) Message-ID:\n",
      "<200801040947.m049lUxo006517@nakamura.uits.iupui.edu> Mime-Version: 1.0 Content-Transfer-Encoding: 7bit\n",
      "Received: from prod.collab.uhi.ac.uk ([194.35.219.182]) by paploo.uhi.ac.uk (JAMES SMTP Server 2.1.3) with SMTP ID\n",
      "246 for ; Fri, 4 Jan 2008 09:48:36 +0000 (GMT) Received: from nakamura.uits.iupui.edu (nakamura.uits.iupui.edu\n",
      "[134.68.220.122]) by shmi.uhi.ac.uk (Postfix) with ESMTP id 8C13342C92 for ; Fri, 4 Jan 2008 09:48:40 +0000 (GMT)\n",
      "Received: from nakamura.uits.iupui.edu (localhost [127.0.0.1]) by nakamura.uits.iupui.edu (8.12.11.20060308/8.12.11) with ESMTP id m049lU3P006519 for ; Fri, 4 Jan 2008 04:47:30 -0500 Received: (from apache@localhost) by nakamura.uits.iupui.edu (8.12.11.20060308/8.12.11/Submit) id m049lUxo006517 for source@collab.sakaiproject.org; Fri, 4 Jan 2008 04:47:30 -0500 Date: Fri, 4 Jan 2008 04:47:30 -0500 X-Authentication-Warning: nakamura.uits.iupui.edu: apache set sender to david.horwitz@uct.ac.za using -f To: source@collab.sakaiproject.org From: david.horwitz@uct.ac.za Subject: [sakai] svn commit: r39752 - in podcasts/branches/sakai_2-5-x/podcasts-app/src/webapp: css podcasts X-Content-TypeOuter-Envelope: text/plain; charset=UTF-8 X-Content-Type-Message-Body: text/plain; charset=UTF-8 Content-Type: text/plain; charset=UTF-8 X-DSPAM-Result: Innocent X-DSPAM-Processed: Fri Jan 4 04:49:08 2008 X-DSPAMConfidence: 0.6528 X-DSPAM-Probability: 0.0000 Details: http://source.sakaiproject.org/viewsvn/?view=rev&rev=39752 Author: david.horwitz@uct.ac.za Date: 2008-01-04 04:47:16 -0500 (Fri, 04 Jan 2008) New Revision: 39752 Modified: podcasts/branches/sakai_2-5-x/podcasts-app/src/webapp/css/podcaster.css podcasts/branches/sakai_2-5-x/podcastsapp/src/webapp/podcasts/podMain.jsp Log: svn log -r39641 https://source.sakaiproject.org/svn/podcasts/trunk ----------------------------------------------------------------------- r39641 | josrodri@iupui.edu | 2007-12-28 23:44:24 +0200 (Fri, 28 Dec 2007) | 1\n",
      "line SAK-9882: refactored podMain.jsp the right way (at least much closer to) -------------------------------------------------------------\n",
      "----------- dhorwitz@david-horwitz-6:~/branchManagemnt/sakai_2-5-x> svn merge -c39641\n",
      "https://source.sakaiproject.org/svn/podcasts/trunk podcasts/ C podcasts/podcasts-app/src/webapp/podcasts/podMain.jsp U podcasts/podcasts-app/src/webapp/css/podcaster.css conflict merged manualy ---------------------- This automatic notification message was sent by Sakai Collab (https://collab.sakaiproject.org/portal) from the Source site. You can modify how you receive notifications at My Workspace > Preferences. From david.horwitz@uct.ac.za Fri Jan 4 04:33:44 2008 Return-Path: Received: from murder (mail.umich.edu [141.211.14.46]) by frankenstein.mail.umich.edu (Cyrus v2.3.8) with LMTPA; Fri, 04 Jan 2008 04:33:44 -0500 X-Sieve: CMU Sieve 2.3 Received: from murder ([unix socket]) by mail.umich.edu (Cyrus v2.2.12) with LMTPA; Fri, 04 Jan 2008 04:33:44 -0500 Received: from workinggirl.mr.itd.umich.edu (workinggirl.mr.itd.umich.edu [141.211.93.143]) by fan.mail.umich.edu () with ESMTP id m049Xge3031803; Fri, 4 Jan 2008 04:33:42 -0500 Received:\n",
      "FROM paploo.uhi.ac.uk (app1.prod.collab.uhi.ac.uk [194.35.219.184]) BY workinggirl.mr.itd.umich.edu ID 477DFD6C.75DBE.26054 ; 4 Jan 2008 04:33:35 -0500 Received: from paploo.uhi.ac.uk (localhost [127.0.0.1]) by paploo.uhi.ac.uk (Postfix) with ESMTP id 6C929BA656; Fri, 4 Jan 2008 09:33:27 +0000 (GMT) Message-ID: <200801040932.m049W2i5006493@nakamura.uits.iupui.edu> Mime-Version: 1.0 Content-Transfer-Encoding: 7bit\n",
      "Received: from prod.collab.uhi.ac.uk ([194.35.219.182]) by paploo.uhi.ac.uk (JAMES SMTP Server 2.1.3) with SMTP ID\n",
      "153 for ; Fri, 4 Jan 2008 09:33:10 +0000 (GMT) Received: from nakamura.uits.iupui.edu (nakamura.uits.iupui.edu\n",
      "[134.68.220.122]) by shmi.uhi.ac.uk (Postfix) with ESMTP id 6C69423767 for ; Fri, 4 Jan 2008 09:33:13 +0000 (GMT)\n",
      "Received: from nakamura.uits.iupui.edu (localhost [127.0.0.1]) by nakamura.uits.iupui.edu (8.12.11.20060308/8.12.11) with ESMTP id m049W3fl006495 for ; Fri, 4 Jan 2008 04:32:03 -0500 Received: (from apache@localhost) by nakamura.uits.iupui.edu (8.12.11.20060308/8.12.11/Submit) id m049W2i5006493 for source@collab.sakaiproject.org; Fri, 4 Jan 2008 04:32:02 -0500 Date: Fri, 4 Jan 2008 04:32:02 -0500 X-Authentication-Warning: nakamura.uits.iupui.edu: apache set sender to david.horwitz@uct.ac.za using -f To: source@collab.sakaiproject.org From: david.horwitz@uct.ac.za Subject: [sakai] svn commit: r39751 - in podcasts/branches/sakai_2-5-x/podcasts-app/src/webapp: css images podcasts X-ContentType-Outer-Envelope: text/plain; charset=UTF-8 X-Content-Type-Message-Body: text/plain; charset=UTF-8 Content-Type: text/plain; charset=UTF-8 X-DSPAM-Result: Innocent X-DSPAM-Processed: Fri Jan 4 04:33:44 2008 X-DSPAMConfidence: 0.7002 X-DSPAM-Probability: 0.0000 Details: http://source.sakaiproject.org/viewsvn/?view=rev&rev=39751 Author: david.horwitz@uct.ac.za Date: 2008-01-04 04:31:35 -0500 (Fri, 04 Jan 2008) New Revision: 39751 Removed: podcasts/branches/sakai_2-5-x/podcasts-app/src/webapp/images/rss-feed-icon.png podcasts/branches/sakai_2-5x/podcasts-app/src/webapp/podcasts/podPermissions.jsp Modified: podcasts/branches/sakai_2-5-x/podcastsapp/src/webapp/css/podcaster.css podcasts/branches/sakai_2-5-x/podcasts-app/src/webapp/podcasts/podDelete.jsp podcasts/branches/sakai_2-5-x/podcasts-app/src/webapp/podcasts/podMain.jsp podcasts/branches/sakai_2-5-x/podcastsapp/src/webapp/podcasts/podNoResource.jsp podcasts/branches/sakai_2-5-x/podcasts-\n",
      "app/src/webapp/podcasts/podOptions.jsp Log: svn log -r39146 https://source.sakaiproject.org/svn/podcasts/trunk ----------------------------------------------------------------------- r39146 | josrodri@iupui.edu | 2007-12-12 21:40:33 +0200 (Wed, 12 Dec 2007) | 1 line SAK-9882: refactored the other pages as well to take advantage of proper jsp components as well as validation cleanup. ------------------------------------------------------------------------ dhorwitz@david-horwitz-6:~/branchManagemnt/sakai_2-5x> svn merge -c39146 https://source.sakaiproject.org/svn/podcasts/trunk podcasts/ D podcasts/podcastsapp/src/webapp/podcasts/podPermissions.jsp U podcasts/podcasts-app/src/webapp/podcasts/podDelete.jsp U podcasts/podcasts-app/src/webapp/podcasts/podMain.jsp U podcasts/podcasts-\n",
      "app/src/webapp/podcasts/podNoResource.jsp U podcasts/podcasts-app/src/webapp/podcasts/podOptions.jsp D podcasts/podcasts-app/src/webapp/images/rss-feed-icon.png U podcasts/podcasts-app/src/webapp/css/podcaster.css --------------------- This automatic notification message was sent by Sakai Collab (https://collab.sakaiproject.org/portal) from the\n",
      "Source site. You can modify how you receive notifications at My Workspace > Preferences. From stephen.marquard@uct.ac.za Fri Jan 4 04:07:34 2008 Return-Path: Received: from murder (mail.umich.edu\n",
      "[141.211.14.25]) by frankenstein.mail.umich.edu (Cyrus v2.3.8) with LMTPA; Fri, 04 Jan 2008 04:07:34 -0500 X-Sieve:\n",
      "CMU Sieve 2.3 Received: from murder ([unix socket]) by mail.umich.edu (Cyrus v2.2.12) with LMTPA; Fri, 04 Jan 2008\n",
      "04:07:34 -0500 Received: from salemslot.mr.itd.umich.edu (salemslot.mr.itd.umich.edu [141.211.14.58]) by panther.mail.umich.edu () with ESMTP id m0497WAN027902; Fri, 4 Jan 2008 04:07:32 -0500 Received: FROM\n",
      "paploo.uhi.ac.uk (app1.prod.collab.uhi.ac.uk [194.35.219.184]) BY salemslot.mr.itd.umich.edu ID 477DF74E.49493.30415 ; 4 Jan 2008 04:07:29 -0500 Received: from paploo.uhi.ac.uk (localhost [127.0.0.1]) by paploo.uhi.ac.uk (Postfix) with ESMTP id 88598BA5B6; Fri, 4 Jan 2008 09:07:19 +0000 (GMT) Message-ID:\n",
      "<200801040905.m0495rWB006420@nakamura.uits.iupui.edu> Mime-Version: 1.0 Content-Transfer-Encoding: 7bit\n",
      "Received: from prod.collab.uhi.ac.uk ([194.35.219.182]) by paploo.uhi.ac.uk (JAMES SMTP Server 2.1.3) with SMTP ID\n",
      "385 for ; Fri, 4 Jan 2008 09:07:04 +0000 (GMT) Received: from nakamura.uits.iupui.edu (nakamura.uits.iupui.edu\n",
      "[134.68.220.122]) by shmi.uhi.ac.uk (Postfix) with ESMTP id 90636418A8 for ; Fri, 4 Jan 2008 09:07:04 +0000 (GMT)\n",
      "Received: from nakamura.uits.iupui.edu (localhost [127.0.0.1]) by nakamura.uits.iupui.edu (8.12.11.20060308/8.12.11) with ESMTP id m0495sZs006422 for ; Fri, 4 Jan 2008 04:05:54 -0500 Received: (from apache@localhost) by nakamura.uits.iupui.edu (8.12.11.20060308/8.12.11/Submit) id m0495rWB006420 for source@collab.sakaiproject.org; Fri, 4 Jan 2008 04:05:53 -0500 Date: Fri, 4 Jan 2008 04:05:53 -0500 X-Authentication-Warning: nakamura.uits.iupui.edu: apache set sender to stephen.marquard@uct.ac.za using -f To: source@collab.sakaiproject.org From: stephen.marquard@uct.ac.za Subject: [sakai] svn commit: r39750 - event/branches/SAK-6216/eventutil/util/src/java/org/sakaiproject/util X-Content-Type-Outer-Envelope: text/plain; charset=UTF-8 X-Content-Type-MessageBody: text/plain; charset=UTF-8 Content-Type: text/plain; charset=UTF-8 X-DSPAM-Result: Innocent X-DSPAM-Processed: Fri Jan 4 04:07:34 2008 X-DSPAM-Confidence: 0.7554 X-DSPAM-Probability: 0.0000 Details: http://source.sakaiproject.org/viewsvn/?view=rev&rev=39750 Author: stephen.marquard@uct.ac.za Date: 2008-01-04\n",
      "04:05:43 -0500 (Fri, 04 Jan 2008) New Revision: 39750 Modified: event/branches/SAK-6216/event-\n",
      "util/util/src/java/org/sakaiproject/util/EmailNotification.java Log: SAK-6216 merge event change from SAK-11169 (r39033) to synchronize branch with 2-5-x (for convenience for UCT local build) ---------------------- This automatic notification message was sent by Sakai Collab (https://collab.sakaiproject.org/portal) from the Source site. You can modify how you receive notifications at My Workspace > Preferences. From louis@media.berkeley.edu Thu Jan 3 19:51:21 2008 Return-Path: Received: from murder (mail.umich.edu [141.211.14.91]) by frankenstein.mail.umich.edu (Cyrus v2.3.8) with LMTPA; Thu, 03 Jan 2008 19:51:21 -0500 X-Sieve: CMU Sieve 2.3 Received: from murder ([unix socket]) by mail.umich.edu (Cyrus v2.2.12) with LMTPA; Thu, 03 Jan 2008 19:51:21 -0500 Received: from eyewitness.mr.itd.umich.edu\n",
      "(eyewitness.mr.itd.umich.edu [141.211.93.142]) by jacknife.mail.umich.edu () with ESMTP id m040pJHB027171; Thu, 3 Jan\n",
      "2008 19:51:19 -0500 Received: FROM paploo.uhi.ac.uk (app1.prod.collab.uhi.ac.uk [194.35.219.184]) BY eyewitness.mr.itd.umich.edu ID 477D8300.AC098.32562 ; 3 Jan 2008 19:51:15 -0500 Received: from paploo.uhi.ac.uk (localhost [127.0.0.1]) by paploo.uhi.ac.uk (Postfix) with ESMTP id E6CC4B9F8A; Fri, 4 Jan 2008 00:36:06 +0000 (GMT) Message-ID: <200801040023.m040NpCc005473@nakamura.uits.iupui.edu> Mime-Version: 1.0 Content-TransferEncoding: 7bit Received: from prod.collab.uhi.ac.uk ([194.35.219.182]) by paploo.uhi.ac.uk (JAMES SMTP Server 2.1.3) with SMTP ID 754 for ; Fri, 4 Jan 2008 00:35:43 +0000 (GMT) Received: from nakamura.uits.iupui.edu\n",
      "(nakamura.uits.iupui.edu [134.68.220.122]) by shmi.uhi.ac.uk (Postfix) with ESMTP id 8889842C49 for ; Fri, 4 Jan 2008\n",
      "00:25:00 +0000 (GMT) Received: from nakamura.uits.iupui.edu (localhost [127.0.0.1]) by nakamura.uits.iupui.edu (8.12.11.20060308/8.12.11) with ESMTP id m040NpgM005475 for ; Thu, 3 Jan 2008 19:23:51 -0500 Received: (from apache@localhost) by nakamura.uits.iupui.edu (8.12.11.20060308/8.12.11/Submit) id m040NpCc005473 for source@collab.sakaiproject.org; Thu, 3 Jan 2008 19:23:51 -0500 Date: Thu, 3 Jan 2008 19:23:51 -0500 X-AuthenticationWarning: nakamura.uits.iupui.edu: apache set sender to louis@media.berkeley.edu using -f To:\n",
      "source@collab.sakaiproject.org From: louis@media.berkeley.edu Subject: [sakai] svn commit: r39749 - in bspace/sitemanage/sakai_2-4-x/site-manage-tool/tool/src: bundle webapp/vm/sitesetup X-Content-Type-Outer-Envelope: text/plain; charset=UTF-8 X-Content-Type-Message-Body: text/plain; charset=UTF-8 Content-Type: text/plain; charset=UTF-8 XDSPAM-Result: Innocent X-DSPAM-Processed: Thu Jan 3 19:51:20 2008 X-DSPAM-Confidence: 0.6956 X-DSPAM-\n",
      "Probability: 0.0000 Details: http://source.sakaiproject.org/viewsvn/?view=rev&rev=39749 Author: louis@media.berkeley.edu Date: 2008-01-03 19:23:46 -0500 (Thu, 03 Jan 2008) New Revision: 39749 Modified: bspace/site-manage/sakai_2-4-x/sitemanage-tool/tool/src/bundle/sitesetupgeneric.properties bspace/site-manage/sakai_2-4-x/site-managetool/tool/src/webapp/vm/sitesetup/chef_site-importSites.vm Log: BSP-1420 Update text to clarify \"Re-Use Materials...\" option in WS Setup ---------------------- This automatic notification message was sent by Sakai Collab\n",
      "(https://collab.sakaiproject.org/portal) from the Source site. You can modify how you receive notifications at My Workspace\n",
      "> Preferences. From louis@media.berkeley.edu Thu Jan 3 17:18:23 2008 Return-Path: Received: from murder\n",
      "(mail.umich.edu [141.211.14.91]) by frankenstein.mail.umich.edu (Cyrus v2.3.8) with LMTPA; Thu, 03 Jan 2008 17:18:23\n",
      "-0500 X-Sieve: CMU Sieve 2.3 Received: from murder ([unix socket]) by mail.umich.edu (Cyrus v2.2.12) with LMTPA; Thu, 03 Jan 2008 17:18:23 -0500 Received: from salemslot.mr.itd.umich.edu (salemslot.mr.itd.umich.edu [141.211.14.58]) by jacknife.mail.umich.edu () with ESMTP id m03MIMXY027729; Thu, 3 Jan 2008 17:18:22 -0500 Received: FROM\n",
      "paploo.uhi.ac.uk (app1.prod.collab.uhi.ac.uk [194.35.219.184]) BY salemslot.mr.itd.umich.edu ID 477D5F23.797F6.16348 ; 3 Jan 2008 17:18:14 -0500 Received: from paploo.uhi.ac.uk (localhost [127.0.0.1]) by paploo.uhi.ac.uk (Postfix) with ESMTP id EF439B98CE; Thu, 3 Jan 2008 22:18:19 +0000 (GMT) Message-ID:\n",
      "<200801032216.m03MGhDa005292@nakamura.uits.iupui.edu> Mime-Version: 1.0 Content-Transfer-Encoding: 7bit\n",
      "Received: from prod.collab.uhi.ac.uk ([194.35.219.182]) by paploo.uhi.ac.uk (JAMES SMTP Server 2.1.3) with SMTP ID 236 for ; Thu, 3 Jan 2008 22:18:04 +0000 (GMT) Received: from nakamura.uits.iupui.edu (nakamura.uits.iupui.edu\n",
      "[134.68.220.122]) by shmi.uhi.ac.uk (Postfix) with ESMTP id 905D53C2FD for ; Thu, 3 Jan 2008 22:17:52 +0000 (GMT)\n",
      "Received: from nakamura.uits.iupui.edu (localhost [127.0.0.1]) by nakamura.uits.iupui.edu (8.12.11.20060308/8.12.11) with ESMTP id m03MGhrs005294 for ; Thu, 3 Jan 2008 17:16:43 -0500 Received: (from apache@localhost) by nakamura.uits.iupui.edu (8.12.11.20060308/8.12.11/Submit) id m03MGhDa005292 for source@collab.sakaiproject.org; Thu, 3 Jan 2008 17:16:43 -0500 Date: Thu, 3 Jan 2008 17:16:43 -0500 X-Authentication-Warning: nakamura.uits.iupui.edu: apache set sender to louis@media.berkeley.edu using -f To: source@collab.sakaiproject.org From: louis@media.berkeley.edu Subject: [sakai] svn commit: r39746 - in bspace/site-manage/sakai_2-4-x/site-managetool/tool/src: bundle webapp/vm/sitesetup X-Content-Type-Outer-Envelope: text/plain; charset=UTF-8 X-Content-TypeMessage-Body: text/plain; charset=UTF-8 Content-Type: text/plain; charset=UTF-8 X-DSPAM-Result: Innocent X-DSPAMProcessed: Thu Jan 3 17:18:23 2008 X-DSPAM-Confidence: 0.6959 X-DSPAM-Probability: 0.0000 Details: http://source.sakaiproject.org/viewsvn/?view=rev&rev=39746 Author: louis@media.berkeley.edu Date: 2008-01-03 17:16:39\n",
      "-0500 (Thu, 03 Jan 2008) New Revision: 39746 Modified: bspace/site-manage/sakai_2-4-x/site-managetool/tool/src/bundle/sitesetupgeneric.properties bspace/site-manage/sakai_2-4-x/site-manage-\n",
      "tool/tool/src/webapp/vm/sitesetup/chef_site-siteInfo-duplicate.vm Log: BSP-1421 Add text to clarify \"Duplicate Site\" option in Site Info ---------------------- This automatic notification message was sent by Sakai Collab\n",
      "(https://collab.sakaiproject.org/portal) from the Source site. You can modify how you receive notifications at My Workspace\n",
      "> Preferences. From ray@media.berkeley.edu Thu Jan 3 17:07:00 2008 Return-Path: Received: from murder\n",
      "(mail.umich.edu [141.211.14.39]) by frankenstein.mail.umich.edu (Cyrus v2.3.8) with LMTPA; Thu, 03 Jan 2008 17:07:00\n",
      "-0500 X-Sieve: CMU Sieve 2.3 Received: from murder ([unix socket]) by mail.umich.edu (Cyrus v2.2.12) with LMTPA; Thu, 03 Jan 2008 17:07:00 -0500 Received: from anniehall.mr.itd.umich.edu (anniehall.mr.itd.umich.edu [141.211.93.141]) by faithful.mail.umich.edu () with ESMTP id m03M6xaq014868; Thu, 3 Jan 2008 17:06:59 -0500 Received: FROM\n",
      "paploo.uhi.ac.uk (app1.prod.collab.uhi.ac.uk [194.35.219.184]) BY anniehall.mr.itd.umich.edu ID 477D5C7A.4FE1F.22211 ; 3 Jan 2008 17:06:53 -0500 Received: from paploo.uhi.ac.uk (localhost [127.0.0.1]) by paploo.uhi.ac.uk (Postfix) with ESMTP id 0BC8D7225E; Thu, 3 Jan 2008 22:06:57 +0000 (GMT) Message-ID:\n",
      "<200801032205.m03M5Ea7005273@nakamura.uits.iupui.edu> Mime-Version: 1.0 Content-Transfer-Encoding: 7bit\n",
      "Received: from prod.collab.uhi.ac.uk ([194.35.219.182]) by paploo.uhi.ac.uk (JAMES SMTP Server 2.1.3) with SMTP ID\n",
      "554 for ; Thu, 3 Jan 2008 22:06:34 +0000 (GMT) Received: from nakamura.uits.iupui.edu (nakamura.uits.iupui.edu\n",
      "[134.68.220.122]) by shmi.uhi.ac.uk (Postfix) with ESMTP id 2AB513C2FD for ; Thu, 3 Jan 2008 22:06:23 +0000 (GMT)\n",
      "Received: from nakamura.uits.iupui.edu (localhost [127.0.0.1]) by nakamura.uits.iupui.edu (8.12.11.20060308/8.12.11) with ESMTP id m03M5EQa005275 for ; Thu, 3 Jan 2008 17:05:14 -0500 Received: (from apache@localhost) by nakamura.uits.iupui.edu (8.12.11.20060308/8.12.11/Submit) id m03M5Ea7005273 for source@collab.sakaiproject.org; Thu, 3 Jan 2008 17:05:14 -0500 Date: Thu, 3 Jan 2008 17:05:14 -0500 X-Authentication-Warning: nakamura.uits.iupui.edu:\n",
      "apache set sender to ray@media.berkeley.edu using -f To: source@collab.sakaiproject.org From: ray@media.berkeley.edu Subject: [sakai] svn commit: r39745 - providers/trunk/cm/cm-authzprovider/src/java/org/sakaiproject/coursemanagement/impl/provider X-Content-Type-Outer-Envelope: text/plain; charset=UTF-8 X-Content-Type-Message-Body: text/plain; charset=UTF-8 Content-Type: text/plain; charset=UTF-8 XDSPAM-Result: Innocent X-DSPAM-Processed: Thu Jan 3 17:07:00 2008 X-DSPAM-Confidence: 0.7556 X-DSPAM-\n",
      "Probability: 0.0000 Details: http://source.sakaiproject.org/viewsvn/?view=rev&rev=39745 Author: ray@media.berkeley.edu Date: 2008-01-03 17:05:11 -0500 (Thu, 03 Jan 2008) New Revision: 39745 Modified: providers/trunk/cm/cm-authzprovider/src/java/org/sakaiproject/coursemanagement/impl/provider/CourseManagementGroupProvider.java Log: SAK12602 Fix logic when a user has multiple roles in a section ---------------------- This automatic notification message was sent by Sakai Collab (https://collab.sakaiproject.org/portal) from the Source site. You can modify how you receive notifications at My Workspace > Preferences. From cwen@iupui.edu Thu Jan 3 16:34:40 2008 Return-Path: Received: from murder\n",
      "(mail.umich.edu [141.211.14.34]) by frankenstein.mail.umich.edu (Cyrus v2.3.8) with LMTPA; Thu, 03 Jan 2008 16:34:40\n",
      "-0500 X-Sieve: CMU Sieve 2.3 Received: from murder ([unix socket]) by mail.umich.edu (Cyrus v2.2.12) with LMTPA; Thu, 03 Jan 2008 16:34:40 -0500 Received: from icestorm.mr.itd.umich.edu (icestorm.mr.itd.umich.edu [141.211.93.149]) by chaos.mail.umich.edu () with ESMTP id m03LYdY1029538; Thu, 3 Jan 2008 16:34:39 -0500 Received: FROM\n",
      "paploo.uhi.ac.uk (app1.prod.collab.uhi.ac.uk [194.35.219.184]) BY icestorm.mr.itd.umich.edu ID 477D54EA.13F34.26602 ; 3 Jan 2008 16:34:36 -0500 Received: from paploo.uhi.ac.uk (localhost [127.0.0.1]) by paploo.uhi.ac.uk (Postfix) with ESMTP id CC710ADC79; Thu, 3 Jan 2008 21:34:29 +0000 (GMT) Message-ID:\n",
      "<200801032133.m03LX3gG005191@nakamura.uits.iupui.edu> Mime-Version: 1.0 Content-Transfer-Encoding: 7bit\n",
      "Received: from prod.collab.uhi.ac.uk ([194.35.219.182]) by paploo.uhi.ac.uk (JAMES SMTP Server 2.1.3) with SMTP ID\n",
      "611 for ; Thu, 3 Jan 2008 21:34:08 +0000 (GMT) Received: from nakamura.uits.iupui.edu (nakamura.uits.iupui.edu\n",
      "[134.68.220.122]) by shmi.uhi.ac.uk (Postfix) with ESMTP id 43C4242B55 for ; Thu, 3 Jan 2008 21:34:12 +0000 (GMT)\n",
      "Received: from nakamura.uits.iupui.edu (localhost [127.0.0.1]) by nakamura.uits.iupui.edu (8.12.11.20060308/8.12.11) with ESMTP id m03LX3Vb005193 for ; Thu, 3 Jan 2008 16:33:03 -0500 Received: (from apache@localhost) by nakamura.uits.iupui.edu (8.12.11.20060308/8.12.11/Submit) id m03LX3gG005191 for source@collab.sakaiproject.org; Thu, 3 Jan 2008 16:33:03 -0500 Date: Thu, 3 Jan 2008 16:33:03 -0500 X-Authentication-Warning: nakamura.uits.iupui.edu:\n",
      "apache set sender to cwen@iupui.edu using -f To: source@collab.sakaiproject.org From: cwen@iupui.edu Subject: [sakai] svn commit: r39744 - oncourse/branches/oncourse_OPC_122007 X-Content-Type-Outer-Envelope: text/plain; charset=UTF-8 X-Content-Type-Message-Body: text/plain; charset=UTF-8 Content-Type: text/plain; charset=UTF-8 XDSPAM-Result: Innocent X-DSPAM-Processed: Thu Jan 3 16:34:40 2008 X-DSPAM-Confidence: 0.9846 X-DSPAM-\n",
      "Probability: 0.0000 Details: http://source.sakaiproject.org/viewsvn/?view=rev&rev=39744 Author: cwen@iupui.edu Date:\n",
      "2008-01-03 16:33:02 -0500 (Thu, 03 Jan 2008) New Revision: 39744 Modified:\n",
      "oncourse/branches/oncourse_OPC_122007/ oncourse/branches/oncourse_OPC_122007/.externals Log: update external for GB. ---------------------- This automatic notification message was sent by Sakai Collab\n",
      "(https://collab.sakaiproject.org/portal) from the Source site. You can modify how you receive notifications at My Workspace > Preferences. From cwen@iupui.edu Thu Jan 3 16:29:07 2008 Return-Path: Received: from murder (mail.umich.edu [141.211.14.46]) by frankenstein.mail.umich.edu (Cyrus v2.3.8) with LMTPA; Thu, 03 Jan 2008 16:29:07 -0500 X-Sieve:\n",
      "CMU Sieve 2.3 Received: from murder ([unix socket]) by mail.umich.edu (Cyrus v2.2.12) with LMTPA; Thu, 03 Jan 2008 16:29:07 -0500 Received: from galaxyquest.mr.itd.umich.edu (galaxyquest.mr.itd.umich.edu [141.211.93.145]) by fan.mail.umich.edu () with ESMTP id m03LT6uw027749; Thu, 3 Jan 2008 16:29:06 -0500 Received: FROM paploo.uhi.ac.uk (app1.prod.collab.uhi.ac.uk [194.35.219.184]) BY galaxyquest.mr.itd.umich.edu ID\n",
      "477D5397.E161D.20326 ; 3 Jan 2008 16:28:58 -0500 Received: from paploo.uhi.ac.uk (localhost [127.0.0.1]) by paploo.uhi.ac.uk (Postfix) with ESMTP id DEC65ADC79; Thu, 3 Jan 2008 21:28:52 +0000 (GMT) Message-ID: <200801032127.m03LRUqH005177@nakamura.uits.iupui.edu> Mime-Version: 1.0 Content-Transfer-Encoding: 7bit\n",
      "Received: from prod.collab.uhi.ac.uk ([194.35.219.182]) by paploo.uhi.ac.uk (JAMES SMTP Server 2.1.3) with SMTP ID\n",
      "917 for ; Thu, 3 Jan 2008 21:28:39 +0000 (GMT) Received: from nakamura.uits.iupui.edu (nakamura.uits.iupui.edu\n",
      "[134.68.220.122]) by shmi.uhi.ac.uk (Postfix) with ESMTP id 1FBB042B30 for ; Thu, 3 Jan 2008 21:28:38 +0000 (GMT)\n",
      "Received: from nakamura.uits.iupui.edu (localhost [127.0.0.1]) by nakamura.uits.iupui.edu (8.12.11.20060308/8.12.11) with ESMTP id m03LRUk4005179 for ; Thu, 3 Jan 2008 16:27:30 -0500 Received: (from apache@localhost) by nakamura.uits.iupui.edu (8.12.11.20060308/8.12.11/Submit) id m03LRUqH005177 for source@collab.sakaiproject.org; Thu, 3 Jan 2008 16:27:30 -0500 Date: Thu, 3 Jan 2008 16:27:30 -0500 X-Authentication-Warning: nakamura.uits.iupui.edu: apache set sender to cwen@iupui.edu using -f To: source@collab.sakaiproject.org From: cwen@iupui.edu Subject: [sakai] svn commit: r39743 - gradebook/branches/oncourse_2-4-2/app/ui/src/java/org/sakaiproject/tool/gradebook/ui X-ContentType-Outer-Envelope: text/plain; charset=UTF-8 X-Content-Type-Message-Body: text/plain; charset=UTF-8 Content-Type: text/plain; charset=UTF-8 X-DSPAM-Result: Innocent X-DSPAM-Processed: Thu Jan 3 16:29:07 2008 X-DSPAMConfidence: 0.8509 X-DSPAM-Probability: 0.0000 Details: http://source.sakaiproject.org/viewsvn/?view=rev&rev=39743 Author: cwen@iupui.edu Date: 2008-01-03 16:27:29 -0500 (Thu, 03 Jan 2008) New Revision: 39743 Modified:\n",
      "gradebook/branches/oncourse_2-4-2/app/ui/src/java/org/sakaiproject/tool/gradebook/ui/RosterBean.java Log: svn merge -c\n",
      "39403 https://source.sakaiproject.org/svn/gradebook/trunk U\n",
      "app/ui/src/java/org/sakaiproject/tool/gradebook/ui/RosterBean.java svn log -r 39403\n",
      "https://source.sakaiproject.org/svn/gradebook/trunk ------------------------------------------------------------------------ r39403 |\n",
      "wagnermr@iupui.edu | 2007-12-17 17:11:08 -0500 (Mon, 17 Dec 2007) | 3 lines SAK-12504 http://jira.sakaiproject.org/jira/browse/SAK-12504 Viewing \"All Grades\" page as a TA with grader permissions causes stack trace ------------------------------------------------------------------------ ---------------------- This automatic notification message was sent by Sakai Collab (https://collab.sakaiproject.org/portal) from the Source site. You can modify how you receive notifications at My Workspace > Preferences. From cwen@iupui.edu Thu Jan 3 16:23:48 2008 Return-Path: Received: from murder\n",
      "(mail.umich.edu [141.211.14.91]) by frankenstein.mail.umich.edu (Cyrus v2.3.8) with LMTPA; Thu, 03 Jan 2008 16:23:48\n",
      "-0500 X-Sieve: CMU Sieve 2.3 Received: from murder ([unix socket]) by mail.umich.edu (Cyrus v2.2.12) with LMTPA; Thu,\n",
      "03 Jan 2008 16:23:48 -0500 Received: from salemslot.mr.itd.umich.edu (salemslot.mr.itd.umich.edu [141.211.14.58]) by jacknife.mail.umich.edu () with ESMTP id m03LNlf0002115; Thu, 3 Jan 2008 16:23:47 -0500 Received: FROM\n",
      "paploo.uhi.ac.uk (app1.prod.collab.uhi.ac.uk [194.35.219.184]) BY salemslot.mr.itd.umich.edu ID 477D525E.1448.30389 ; 3 Jan 2008 16:23:44 -0500 Received: from paploo.uhi.ac.uk (localhost [127.0.0.1]) by paploo.uhi.ac.uk (Postfix) with ESMTP id 9D005B9D06; Thu, 3 Jan 2008 21:23:38 +0000 (GMT) Message-ID:\n",
      "<200801032122.m03LMFo4005148@nakamura.uits.iupui.edu> Mime-Version: 1.0 Content-Transfer-Encoding: 7bit Received: from prod.collab.uhi.ac.uk ([194.35.219.182]) by paploo.uhi.ac.uk (JAMES SMTP Server 2.1.3) with SMTP ID 6\n",
      "for ; Thu, 3 Jan 2008 21:23:24 +0000 (GMT) Received: from nakamura.uits.iupui.edu (nakamura.uits.iupui.edu [134.68.220.122]) by shmi.uhi.ac.uk (Postfix) with ESMTP id 3535542B69 for ; Thu, 3 Jan 2008 21:23:24 +0000 (GMT)\n",
      "Received: from nakamura.uits.iupui.edu (localhost [127.0.0.1]) by nakamura.uits.iupui.edu (8.12.11.20060308/8.12.11) with ESMTP id m03LMFtT005150 for ; Thu, 3 Jan 2008 16:22:15 -0500 Received: (from apache@localhost) by nakamura.uits.iupui.edu (8.12.11.20060308/8.12.11/Submit) id m03LMFo4005148 for source@collab.sakaiproject.org; Thu, 3 Jan 2008 16:22:15 -0500 Date: Thu, 3 Jan 2008 16:22:15 -0500 X-Authentication-Warning: nakamura.uits.iupui.edu: apache set sender to cwen@iupui.edu using -f To: source@collab.sakaiproject.org From: cwen@iupui.edu Subject: [sakai] svn commit: r39742 - gradebook/branches/oncourse_2-4-2/app/ui/src/java/org/sakaiproject/tool/gradebook/ui X-ContentType-Outer-Envelope: text/plain; charset=UTF-8 X-Content-Type-Message-Body: text/plain; charset=UTF-8 Content-Type: text/plain; charset=UTF-8 X-DSPAM-Result: Innocent X-DSPAM-Processed: Thu Jan 3 16:23:48 2008 X-DSPAMConfidence: 0.9907 X-DSPAM-Probability: 0.0000 Details: http://source.sakaiproject.org/viewsvn/?view=rev&rev=39742 Author: cwen@iupui.edu Date: 2008-01-03 16:22:14 -0500 (Thu, 03 Jan 2008) New Revision: 39742 Modified:\n",
      "gradebook/branches/oncourse_2-4-2/app/ui/src/java/org/sakaiproject/tool/gradebook/ui/RosterBean.java Log: svn merge -c\n",
      "35014 https://source.sakaiproject.org/svn/gradebook/trunk U\n",
      "app/ui/src/java/org/sakaiproject/tool/gradebook/ui/RosterBean.java svn log -r 35014 https://source.sakaiproject.org/svn/gradebook/trunk ------------------------------------------------------------------------ r35014 |\n",
      "wagnermr@iupui.edu | 2007-09-12 16:17:59 -0400 (Wed, 12 Sep 2007) | 3 lines SAK-11458\n",
      "http://bugs.sakaiproject.org/jira/browse/SAK-11458 Course grade does not appear on \"All Grades\" page if no categories in gb ------------------------------------------------------------------------ ---------------------- This automatic notification message was sent by Sakai Collab (https://collab.sakaiproject.org/portal) from the Source site. You can modify how you receive notifications at My Workspace > Preferences.\n",
      "\n"
     ]
    }
   ],
   "source": [
    "file=\"E:\\\\Omkar\\\\Material Docs\\\\mbox.txt\"\n",
    "filepath=open(file,encoding='utf-8')\n",
    "print(filepath.read())\n",
    "file\n",
    "filepath=open(file,encoding='utf-8')\n",
    "print(filepath.read())"
   ]
  },
  {
   "cell_type": "code",
   "execution_count": 358,
   "id": "f3b6c0ef-c9f2-4b42-ab59-30f5c99a2aee",
   "metadata": {},
   "outputs": [
    {
     "name": "stdout",
     "output_type": "stream",
     "text": [
      "\n"
     ]
    }
   ],
   "source": [
    "print(filepath.read())"
   ]
  },
  {
   "cell_type": "code",
   "execution_count": 350,
   "id": "75faa48e-bdea-44c4-9655-02bf9036ec67",
   "metadata": {},
   "outputs": [
    {
     "data": {
      "text/plain": [
       "<_io.TextIOWrapper name='E:\\\\Omkar\\\\Material Docs\\\\mbox.txt' mode='r' encoding='utf-8'>"
      ]
     },
     "execution_count": 350,
     "metadata": {},
     "output_type": "execute_result"
    }
   ],
   "source": [
    "filepath"
   ]
  },
  {
   "cell_type": "code",
   "execution_count": 354,
   "id": "6492a1a3-f176-4cda-b29f-0371bb9eae76",
   "metadata": {},
   "outputs": [],
   "source": [
    "for i in filepath:\n",
    "    print(i)"
   ]
  },
  {
   "cell_type": "code",
   "execution_count": 360,
   "id": "6ed8423c-dc00-4f87-bc12-ae397768ce47",
   "metadata": {},
   "outputs": [],
   "source": [
    "filepath=open(file,encoding='utf-8')"
   ]
  },
  {
   "cell_type": "code",
   "execution_count": 378,
   "id": "0dfd6eb0-febb-4a56-93a3-a111eab3ee22",
   "metadata": {},
   "outputs": [
    {
     "data": {
      "text/plain": [
       "<_io.TextIOWrapper name='E:\\\\Omkar\\\\Material Docs\\\\mbox.txt' mode='r' encoding='utf-8'>"
      ]
     },
     "execution_count": 378,
     "metadata": {},
     "output_type": "execute_result"
    }
   ],
   "source": [
    "filepath"
   ]
  },
  {
   "cell_type": "code",
   "execution_count": 380,
   "id": "8f7457c1-0b56-4b08-a289-4e7578955202",
   "metadata": {},
   "outputs": [
    {
     "name": "stdout",
     "output_type": "stream",
     "text": [
      "\n"
     ]
    }
   ],
   "source": [
    "print(filepath.read())"
   ]
  },
  {
   "cell_type": "code",
   "execution_count": 382,
   "id": "ae724402-602a-4bac-8b30-a696ab792b58",
   "metadata": {},
   "outputs": [
    {
     "name": "stdout",
     "output_type": "stream",
     "text": [
      "0\n"
     ]
    }
   ],
   "source": [
    "count=0\n",
    "for i in filepath:\n",
    "    count=count+1\n",
    "print(count)"
   ]
  },
  {
   "cell_type": "code",
   "execution_count": 5,
   "id": "cc7550c9-ff08-4338-8fc3-4a033731a96d",
   "metadata": {},
   "outputs": [
    {
     "data": {
      "text/plain": [
       "''"
      ]
     },
     "execution_count": 5,
     "metadata": {},
     "output_type": "execute_result"
    }
   ],
   "source": [
    "filepath.read()"
   ]
  },
  {
   "cell_type": "code",
   "execution_count": 7,
   "id": "607968d6-53a8-4976-aacb-d87a34cac969",
   "metadata": {},
   "outputs": [
    {
     "data": {
      "text/plain": [
       "'E:\\\\Omkar\\\\Material Docs\\\\mbox.txt'"
      ]
     },
     "execution_count": 7,
     "metadata": {},
     "output_type": "execute_result"
    }
   ],
   "source": [
    "file"
   ]
  },
  {
   "cell_type": "code",
   "execution_count": 17,
   "id": "592ffe55-1726-4c0a-abc8-b1d4e6713935",
   "metadata": {},
   "outputs": [],
   "source": [
    "file=\"E:\\\\Omkar\\\\Material Docs\\\\mbox.txt\""
   ]
  },
  {
   "cell_type": "code",
   "execution_count": 23,
   "id": "522dae49-ce9a-4f39-a0e6-4e2b30b2e57d",
   "metadata": {},
   "outputs": [
    {
     "data": {
      "text/plain": [
       "89164"
      ]
     },
     "execution_count": 23,
     "metadata": {},
     "output_type": "execute_result"
    }
   ],
   "source": [
    "len(data)"
   ]
  },
  {
   "cell_type": "code",
   "execution_count": null,
   "id": "082af77b-bc6a-41dd-81aa-96544be0a139",
   "metadata": {},
   "outputs": [],
   "source": []
  },
  {
   "cell_type": "code",
   "execution_count": null,
   "id": "9b011237-1c23-4eaa-8eb6-daf6bbd84ddb",
   "metadata": {},
   "outputs": [],
   "source": []
  },
  {
   "cell_type": "code",
   "execution_count": null,
   "id": "1943a893-13e4-4f15-a389-df773546680d",
   "metadata": {},
   "outputs": [],
   "source": []
  },
  {
   "cell_type": "code",
   "execution_count": null,
   "id": "5d49c4b3-3e35-4f08-86f9-d5b4c40fa61a",
   "metadata": {},
   "outputs": [],
   "source": []
  },
  {
   "cell_type": "code",
   "execution_count": null,
   "id": "62171c75-66fa-4e6a-8582-bc244e987a49",
   "metadata": {},
   "outputs": [],
   "source": []
  },
  {
   "cell_type": "code",
   "execution_count": null,
   "id": "f4d5e893-7bcd-4d44-be46-532629eac217",
   "metadata": {},
   "outputs": [],
   "source": [
    "file=\"E:\\\\Omkar\\\\Material Docs\\\\mbox.txt\"\n",
    "with open(file) as filepath:\n",
    "    data=filepath.read()\n",
    "print(data)"
   ]
  },
  {
   "cell_type": "code",
   "execution_count": null,
   "id": "cf211708-fb43-43bb-8c22-ed10afc7b8ab",
   "metadata": {},
   "outputs": [],
   "source": [
    "file=\"E:\\\\Omkar\\\\Material Docs\\\\mbox.txt\"\n",
    "with open(file) as filepath:\n",
    "    data=filepath.read()\n",
    "print(data)\n",
    "for i in data:\n",
    "    print(i)"
   ]
  },
  {
   "cell_type": "code",
   "execution_count": 33,
   "id": "d446b02c-287f-41b6-9712-3fc3d3b18033",
   "metadata": {},
   "outputs": [
    {
     "name": "stdout",
     "output_type": "stream",
     "text": [
      "316\n"
     ]
    }
   ],
   "source": [
    "file=\"E:\\\\Omkar\\\\Material Docs\\\\mbox.txt\"\n",
    "filepath=open(file,encoding='utf-8')\n",
    "count=0\n",
    "for i in filepath:\n",
    "    count=count+1\n",
    "\n",
    "print(count)"
   ]
  },
  {
   "cell_type": "code",
   "execution_count": 37,
   "id": "6f63e250-668d-406e-85cc-b7324a0d580f",
   "metadata": {},
   "outputs": [
    {
     "name": "stdout",
     "output_type": "stream",
     "text": [
      "0 From stephen.marquard@uct.ac.za Sat Jan 5 09:14:16 2008 Return-Path: Received: from murder (mail.umich.edu [141.211.14.90]) by frankenstein.mail.umich.edu (Cyrus v2.3.8) with LMTPA; Sat, 05 Jan 2008 09:14:16 -0500 X-Sieve:\n",
      "\n",
      "1 CMU Sieve 2.3 Received: from murder ([unix socket]) by mail.umich.edu (Cyrus v2.2.12) with LMTPA; Sat, 05 Jan 2008\n",
      "\n",
      "2 09:14:16 -0500 Received: from holes.mr.itd.umich.edu (holes.mr.itd.umich.edu [141.211.14.79]) by flawless.mail.umich.edu\n",
      "\n",
      "3 () with ESMTP id m05EEFR1013674; Sat, 5 Jan 2008 09:14:15 -0500 Received: FROM paploo.uhi.ac.uk\n",
      "\n",
      "4 (app1.prod.collab.uhi.ac.uk [194.35.219.184]) BY holes.mr.itd.umich.edu ID 477F90B0.2DB2F.12494 ; 5 Jan 2008 09:14:10\n",
      "\n",
      "5 -0500 Received: from paploo.uhi.ac.uk (localhost [127.0.0.1]) by paploo.uhi.ac.uk (Postfix) with ESMTP id 5F919BC2F2;\n",
      "\n",
      "6 Sat, 5 Jan 2008 14:10:05 +0000 (GMT) Message-ID: <200801051412.m05ECIaH010327@nakamura.uits.iupui.edu> MimeVersion: 1.0 Content-Transfer-Encoding: 7bit Received: from prod.collab.uhi.ac.uk ([194.35.219.182]) by paploo.uhi.ac.uk\n",
      "\n",
      "7 (JAMES SMTP Server 2.1.3) with SMTP ID 899 for ; Sat, 5 Jan 2008 14:09:50 +0000 (GMT) Received: from\n",
      "\n",
      "8 nakamura.uits.iupui.edu (nakamura.uits.iupui.edu [134.68.220.122]) by shmi.uhi.ac.uk (Postfix) with ESMTP id A215243002 for ; Sat, 5 Jan 2008 14:13:33 +0000 (GMT) Received: from nakamura.uits.iupui.edu (localhost [127.0.0.1]) by nakamura.uits.iupui.edu (8.12.11.20060308/8.12.11) with ESMTP id m05ECJVp010329 for ; Sat, 5 Jan 2008 09:12:19\n",
      "\n",
      "9 -0500 Received: (from apache@localhost) by nakamura.uits.iupui.edu (8.12.11.20060308/8.12.11/Submit) id m05ECIaH010327 for source@collab.sakaiproject.org; Sat, 5 Jan 2008 09:12:18 -0500 Date: Sat, 5 Jan 2008 09:12:18 -0500 X-Authentication-Warning: nakamura.uits.iupui.edu: apache set sender to stephen.marquard@uct.ac.za using -f To:\n",
      "\n",
      "10 source@collab.sakaiproject.org From: stephen.marquard@uct.ac.za Subject: [sakai] svn commit: r39772 content/branches/sakai_2-5-x/content-impl/impl/src/java/org/sakaiproject/content/impl X-Content-Type-Outer-Envelope: text/plain; charset=UTF-8 X-Content-Type-Message-Body: text/plain; charset=UTF-8 Content-Type: text/plain; charset=UTF-8 X-DSPAM-Result: Innocent X-DSPAM-Processed: Sat Jan 5 09:14:16 2008 X-DSPAM-Confidence: 0.8475 X-DSPAM-Probability: 0.0000 Details: http://source.sakaiproject.org/viewsvn/?view=rev&rev=39772 Author:\n",
      "\n",
      "11 stephen.marquard@uct.ac.za Date: 2008-01-05 09:12:07 -0500 (Sat, 05 Jan 2008) New Revision: 39772 Modified: content/branches/sakai_2-5-x/content-impl/impl/src/java/org/sakaiproject/content/impl/ContentServiceSqlOracle.java content/branches/sakai_2-5-x/content-impl/impl/src/java/org/sakaiproject/content/impl/DbContentService.java Log: SAK12501 merge to 2-5-x: r39622, r39624:5, r39632:3 (resolve conflict from differing linebreaks for r39622) ---------------------This automatic notification message was sent by Sakai Collab (https://collab.sakaiproject.org/portal) from the Source site.\n",
      "\n",
      "12 You can modify how you receive notifications at My Workspace > Preferences. From louis@media.berkeley.edu Fri Jan 4\n",
      "\n",
      "13 18:10:48 2008 Return-Path: Received: from murder (mail.umich.edu [141.211.14.97]) by frankenstein.mail.umich.edu (Cyrus v2.3.8) with LMTPA; Fri, 04 Jan 2008 18:10:48 -0500 X-Sieve: CMU Sieve 2.3 Received: from murder ([unix socket]) by mail.umich.edu (Cyrus v2.2.12) with LMTPA; Fri, 04 Jan 2008 18:10:48 -0500 Received: from icestorm.mr.itd.umich.edu\n",
      "\n",
      "14 (icestorm.mr.itd.umich.edu [141.211.93.149]) by sleepers.mail.umich.edu () with ESMTP id m04NAbGa029441; Fri, 4 Jan\n",
      "\n",
      "15 2008 18:10:37 -0500 Received: FROM paploo.uhi.ac.uk (app1.prod.collab.uhi.ac.uk [194.35.219.184]) BY\n",
      "\n",
      "16 icestorm.mr.itd.umich.edu ID 477EBCE3.161BB.4320 ; 4 Jan 2008 18:10:31 -0500 Received: from paploo.uhi.ac.uk (localhost [127.0.0.1]) by paploo.uhi.ac.uk (Postfix) with ESMTP id 07969BB706; Fri, 4 Jan 2008 23:10:33 +0000 (GMT)\n",
      "\n",
      "17 Message-ID: <200801042308.m04N8v6O008125@nakamura.uits.iupui.edu> Mime-Version: 1.0 Content-TransferEncoding: 7bit Received: from prod.collab.uhi.ac.uk ([194.35.219.182]) by paploo.uhi.ac.uk (JAMES SMTP Server 2.1.3) with SMTP ID 710 for ; Fri, 4 Jan 2008 23:10:10 +0000 (GMT) Received: from nakamura.uits.iupui.edu\n",
      "\n",
      "18 (nakamura.uits.iupui.edu [134.68.220.122]) by shmi.uhi.ac.uk (Postfix) with ESMTP id 4BA2F42F57 for ; Fri, 4 Jan 2008\n",
      "\n",
      "19 23:10:10 +0000 (GMT) Received: from nakamura.uits.iupui.edu (localhost [127.0.0.1]) by nakamura.uits.iupui.edu (8.12.11.20060308/8.12.11) with ESMTP id m04N8vHG008127 for ; Fri, 4 Jan 2008 18:08:57 -0500 Received: (from apache@localhost) by nakamura.uits.iupui.edu (8.12.11.20060308/8.12.11/Submit) id m04N8v6O008125 for source@collab.sakaiproject.org; Fri, 4 Jan 2008 18:08:57 -0500 Date: Fri, 4 Jan 2008 18:08:57 -0500 X-AuthenticationWarning: nakamura.uits.iupui.edu: apache set sender to louis@media.berkeley.edu using -f To:\n",
      "\n",
      "20 source@collab.sakaiproject.org From: louis@media.berkeley.edu Subject: [sakai] svn commit: r39771 - in bspace/sitemanage/sakai_2-4-x/site-manage-tool/tool/src: bundle java/org/sakaiproject/site/tool X-Content-Type-Outer-Envelope:\n",
      "\n",
      "21 text/plain; charset=UTF-8 X-Content-Type-Message-Body: text/plain; charset=UTF-8 Content-Type: text/plain; charset=UTF-8 X-DSPAM-Result: Innocent X-DSPAM-Processed: Fri Jan 4 18:10:48 2008 X-DSPAM-Confidence: 0.6178 X-DSPAM-Probability: 0.0000 Details: http://source.sakaiproject.org/viewsvn/?view=rev&rev=39771 Author: louis@media.berkeley.edu Date: 2008-01-04 18:08:50 -0500 (Fri, 04 Jan 2008) New Revision: 39771 Modified:\n",
      "\n",
      "22 bspace/site-manage/sakai_2-4-x/site-manage-tool/tool/src/bundle/sitesetupgeneric.properties bspace/site-manage/sakai_24-x/site-manage-tool/tool/src/java/org/sakaiproject/site/tool/SiteAction.java Log: BSP-1415 New (Guest) user Notification --------------------- This automatic notification message was sent by Sakai Collab (https://collab.sakaiproject.org/portal) from the\n",
      "\n",
      "23 Source site. You can modify how you receive notifications at My Workspace > Preferences. From zqian@umich.edu Fri Jan\n",
      "\n",
      "24 4 16:10:39 2008 Return-Path: Received: from murder (mail.umich.edu [141.211.14.25]) by frankenstein.mail.umich.edu (Cyrus v2.3.8) with LMTPA; Fri, 04 Jan 2008 16:10:39 -0500 X-Sieve: CMU Sieve 2.3 Received: from murder ([unix socket]) by mail.umich.edu (Cyrus v2.2.12) with LMTPA; Fri, 04 Jan 2008 16:10:39 -0500 Received: from\n",
      "\n",
      "25 ghostbusters.mr.itd.umich.edu (ghostbusters.mr.itd.umich.edu [141.211.93.144]) by panther.mail.umich.edu () with ESMTP id m04LAcZw014275; Fri, 4 Jan 2008 16:10:38 -0500 Received: FROM paploo.uhi.ac.uk (app1.prod.collab.uhi.ac.uk [194.35.219.184]) BY ghostbusters.mr.itd.umich.edu ID 477EA0C6.A0214.25480 ; 4 Jan 2008 16:10:33 -0500 Received: from paploo.uhi.ac.uk (localhost [127.0.0.1]) by paploo.uhi.ac.uk (Postfix) with ESMTP id C48CDBB490; Fri, 4 Jan 2008 21:10:31 +0000 (GMT) Message-ID: <200801042109.m04L92hb007923@nakamura.uits.iupui.edu> Mime-Version: 1.0 Content-Transfer-Encoding: 7bit Received: from prod.collab.uhi.ac.uk ([194.35.219.182]) by paploo.uhi.ac.uk (JAMES\n",
      "\n",
      "26 SMTP Server 2.1.3) with SMTP ID 906 for ; Fri, 4 Jan 2008 21:10:18 +0000 (GMT) Received: from nakamura.uits.iupui.edu\n",
      "\n",
      "27 (nakamura.uits.iupui.edu [134.68.220.122]) by shmi.uhi.ac.uk (Postfix) with ESMTP id 7D13042F71 for ; Fri, 4 Jan 2008\n",
      "\n",
      "28 21:10:14 +0000 (GMT) Received: from nakamura.uits.iupui.edu (localhost [127.0.0.1]) by nakamura.uits.iupui.edu (8.12.11.20060308/8.12.11) with ESMTP id m04L927E007925 for ; Fri, 4 Jan 2008 16:09:02 -0500 Received: (from apache@localhost) by nakamura.uits.iupui.edu (8.12.11.20060308/8.12.11/Submit) id m04L92hb007923 for source@collab.sakaiproject.org; Fri, 4 Jan 2008 16:09:02 -0500 Date: Fri, 4 Jan 2008 16:09:02 -0500 X-Authentication-\n",
      "\n",
      "29 Warning: nakamura.uits.iupui.edu: apache set sender to zqian@umich.edu using -f To: source@collab.sakaiproject.org From: zqian@umich.edu Subject: [sakai] svn commit: r39770 - site-manage/branches/sakai_2-5-x/site-managetool/tool/src/webapp/vm/sitesetup X-Content-Type-Outer-Envelope: text/plain; charset=UTF-8 X-Content-Type-MessageBody: text/plain; charset=UTF-8 Content-Type: text/plain; charset=UTF-8 X-DSPAM-Result: Innocent X-DSPAM-Processed:\n",
      "\n",
      "30 Fri Jan 4 16:10:39 2008 X-DSPAM-Confidence: 0.6961 X-DSPAM-Probability: 0.0000 Details:\n",
      "\n",
      "31 http://source.sakaiproject.org/viewsvn/?view=rev&rev=39770 Author: zqian@umich.edu Date: 2008-01-04 16:09:01 -0500\n",
      "\n",
      "32 (Fri, 04 Jan 2008) New Revision: 39770 Modified: site-manage/branches/sakai_2-5-x/site-manage-\n",
      "\n",
      "33 tool/tool/src/webapp/vm/sitesetup/chef_site-siteInfo-list.vm Log: merge fix to SAK-9996 into 2-5-x branch: svn merge -r 39687:39688 https://source.sakaiproject.org/svn/site-manage/trunk/ ---------------------- This automatic notification message was sent by Sakai Collab (https://collab.sakaiproject.org/portal) from the Source site. You can modify how you receive notifications at My Workspace > Preferences. From rjlowe@iupui.edu Fri Jan 4 15:46:24 2008 Return-Path: Received: from murder (mail.umich.edu [141.211.14.25]) by frankenstein.mail.umich.edu (Cyrus v2.3.8) with LMTPA; Fri, 04 Jan 2008 15:46:24 -0500 X-Sieve: CMU Sieve 2.3 Received: from murder ([unix socket]) by mail.umich.edu (Cyrus v2.2.12) with\n",
      "\n",
      "34 LMTPA; Fri, 04 Jan 2008 15:46:24 -0500 Received: from dreamcatcher.mr.itd.umich.edu (dreamcatcher.mr.itd.umich.edu [141.211.14.43]) by panther.mail.umich.edu () with ESMTP id m04KkNbx032077; Fri, 4 Jan 2008 15:46:23 -0500 Received:\n",
      "\n",
      "35 FROM paploo.uhi.ac.uk (app1.prod.collab.uhi.ac.uk [194.35.219.184]) BY dreamcatcher.mr.itd.umich.edu ID 477E9B13.2F3BC.22965 ; 4 Jan 2008 15:46:13 -0500 Received: from paploo.uhi.ac.uk (localhost [127.0.0.1]) by paploo.uhi.ac.uk (Postfix) with ESMTP id 4AE03BB552; Fri, 4 Jan 2008 20:46:13 +0000 (GMT) Message-ID: <200801042044.m04Kiem3007881@nakamura.uits.iupui.edu> Mime-Version: 1.0 Content-Transfer-Encoding: 7bit Received: from prod.collab.uhi.ac.uk ([194.35.219.182]) by paploo.uhi.ac.uk (JAMES SMTP Server 2.1.3) with SMTP ID 38 for ; Fri, 4 Jan 2008 20:45:56 +0000 (GMT) Received: from nakamura.uits.iupui.edu (nakamura.uits.iupui.edu [134.68.220.122]) by shmi.uhi.ac.uk (Postfix) with ESMTP id A55D242F57 for ; Fri, 4 Jan 2008 20:45:52 +0000 (GMT)\n",
      "\n",
      "36 Received: from nakamura.uits.iupui.edu (localhost [127.0.0.1]) by nakamura.uits.iupui.edu (8.12.11.20060308/8.12.11) with ESMTP id m04KieqE007883 for ; Fri, 4 Jan 2008 15:44:40 -0500 Received: (from apache@localhost) by nakamura.uits.iupui.edu (8.12.11.20060308/8.12.11/Submit) id m04Kiem3007881 for source@collab.sakaiproject.org; Fri, 4 Jan 2008 15:44:40 -0500 Date: Fri, 4 Jan 2008 15:44:40 -0500 X-Authentication-Warning: nakamura.uits.iupui.edu: apache set sender to rjlowe@iupui.edu using -f To: source@collab.sakaiproject.org From: rjlowe@iupui.edu Subject: [sakai] svn commit: r39769 - in gradebook/trunk/app/ui/src: java/org/sakaiproject/tool/gradebook/ui/helpers/beans java/org/sakaiproject/tool/gradebook/ui/helpers/producers webapp/WEB-INF webapp/WEB-INF/bundle X-Content-TypeOuter-Envelope: text/plain; charset=UTF-8 X-Content-Type-Message-Body: text/plain; charset=UTF-8 Content-Type: text/plain; charset=UTF-8 X-DSPAM-Result: Innocent X-DSPAM-Processed: Fri Jan 4 15:46:24 2008 X-DSPAMConfidence: 0.7565 X-DSPAM-Probability: 0.0000 Details: http://source.sakaiproject.org/viewsvn/?view=rev&rev=39769 Author: rjlowe@iupui.edu Date: 2008-01-04 15:44:39 -0500 (Fri, 04 Jan 2008) New Revision: 39769 Modified:\n",
      "\n",
      "37 gradebook/trunk/app/ui/src/java/org/sakaiproject/tool/gradebook/ui/helpers/beans/AssignmentGradeRecordBean.java gradebook/trunk/app/ui/src/java/org/sakaiproject/tool/gradebook/ui/helpers/producers/GradeGradebookItemProducer.java gradebook/trunk/app/ui/src/webapp/WEB-INF/applicationContext.xml gradebook/trunk/app/ui/src/webapp/WEBINF/bundle/messages.properties gradebook/trunk/app/ui/src/webapp/WEB-INF/requestContext.xml Log: SAK-12180 Fixed errors with grading helper ---------------------- This automatic notification message was sent by Sakai Collab\n",
      "\n",
      "38 (https://collab.sakaiproject.org/portal) from the Source site. You can modify how you receive notifications at My Workspace > Preferences. From zqian@umich.edu Fri Jan 4 15:03:18 2008 Return-Path: Received: from murder (mail.umich.edu [141.211.14.46]) by frankenstein.mail.umich.edu (Cyrus v2.3.8) with LMTPA; Fri, 04 Jan 2008 15:03:18 -0500 X-Sieve:\n",
      "\n",
      "39 CMU Sieve 2.3 Received: from murder ([unix socket]) by mail.umich.edu (Cyrus v2.2.12) with LMTPA; Fri, 04 Jan 2008\n",
      "\n",
      "40 15:03:18 -0500 Received: from firestarter.mr.itd.umich.edu (firestarter.mr.itd.umich.edu [141.211.14.83]) by fan.mail.umich.edu () with ESMTP id m04K3HGF006563; Fri, 4 Jan 2008 15:03:17 -0500 Received: FROM paploo.uhi.ac.uk (app1.prod.collab.uhi.ac.uk [194.35.219.184]) BY firestarter.mr.itd.umich.edu ID 477E9100.8F7F4.1590 ; 4 Jan 2008 15:03:15 -0500 Received: from paploo.uhi.ac.uk (localhost [127.0.0.1]) by paploo.uhi.ac.uk (Postfix) with ESMTP id 57770BB477; Fri, 4 Jan 2008 20:03:09 +0000 (GMT) Message-ID:\n",
      "\n",
      "41 <200801042001.m04K1cO0007738@nakamura.uits.iupui.edu> Mime-Version: 1.0 Content-Transfer-Encoding: 7bit\n",
      "\n",
      "42 Received: from prod.collab.uhi.ac.uk ([194.35.219.182]) by paploo.uhi.ac.uk (JAMES SMTP Server 2.1.3) with SMTP ID\n",
      "\n",
      "43 622 for ; Fri, 4 Jan 2008 20:02:46 +0000 (GMT) Received: from nakamura.uits.iupui.edu (nakamura.uits.iupui.edu\n",
      "\n",
      "44 [134.68.220.122]) by shmi.uhi.ac.uk (Postfix) with ESMTP id AB4D042F4D for ; Fri, 4 Jan 2008 20:02:50 +0000 (GMT)\n",
      "\n",
      "45 Received: from nakamura.uits.iupui.edu (localhost [127.0.0.1]) by nakamura.uits.iupui.edu (8.12.11.20060308/8.12.11) with ESMTP id m04K1cXv007740 for ; Fri, 4 Jan 2008 15:01:38 -0500 Received: (from apache@localhost) by nakamura.uits.iupui.edu (8.12.11.20060308/8.12.11/Submit) id m04K1cO0007738 for source@collab.sakaiproject.org; Fri, 4\n",
      "\n",
      "46 Jan 2008 15:01:38 -0500 Date: Fri, 4 Jan 2008 15:01:38 -0500 X-Authentication-Warning: nakamura.uits.iupui.edu: apache set sender to zqian@umich.edu using -f To: source@collab.sakaiproject.org From: zqian@umich.edu Subject: [sakai] svn commit: r39766 - site-manage/branches/sakai_2-4-x/site-manage-tool/tool/src/java/org/sakaiproject/site/tool X-ContentType-Outer-Envelope: text/plain; charset=UTF-8 X-Content-Type-Message-Body: text/plain; charset=UTF-8 Content-Type: text/plain; charset=UTF-8 X-DSPAM-Result: Innocent X-DSPAM-Processed: Fri Jan 4 15:03:18 2008 X-DSPAMConfidence: 0.7626 X-DSPAM-Probability: 0.0000 Details: http://source.sakaiproject.org/viewsvn/?view=rev&rev=39766 Author: zqian@umich.edu Date: 2008-01-04 15:01:37 -0500 (Fri, 04 Jan 2008) New Revision: 39766 Modified: sitemanage/branches/sakai_2-4-x/site-manage-tool/tool/src/java/org/sakaiproject/site/tool/SiteAction.java Log: merge fix to SAK-10788 into site-manage 2.4.x branch: Sakai Source Repository #38024 Wed Nov 07 14:54:46 MST 2007\n",
      "\n",
      "47 zqian@umich.edu Fix to SAK-10788: If a provided id in a couse site is fake or doesn't provide any user information, Site Info appears to be like project site with empty participant list Watch for enrollments object being null and concatenate\n",
      "\n",
      "48 provider ids when there are more than one. Files Changed MODIFY /site-manage/trunk/site-manage-\n",
      "\n",
      "49 tool/tool/src/java/org/sakaiproject/site/tool/SiteAction.java ---------------------- This automatic notification message was sent by Sakai Collab (https://collab.sakaiproject.org/portal) from the Source site. You can modify how you receive notifications at My\n",
      "\n",
      "50 Workspace > Preferences. From rjlowe@iupui.edu Fri Jan 4 14:50:18 2008 Return-Path: Received: from murder\n",
      "\n",
      "51 (mail.umich.edu [141.211.14.93]) by frankenstein.mail.umich.edu (Cyrus v2.3.8) with LMTPA; Fri, 04 Jan 2008 14:50:18\n",
      "\n",
      "52 -0500 X-Sieve: CMU Sieve 2.3 Received: from murder ([unix socket]) by mail.umich.edu (Cyrus v2.2.12) with LMTPA; Fri, 04 Jan 2008 14:50:18 -0500 Received: from eyewitness.mr.itd.umich.edu (eyewitness.mr.itd.umich.edu [141.211.93.142]) by mission.mail.umich.edu () with ESMTP id m04JoHJi019755; Fri, 4 Jan 2008 14:50:17 -0500 Received: FROM\n",
      "\n",
      "53 paploo.uhi.ac.uk (app1.prod.collab.uhi.ac.uk [194.35.219.184]) BY eyewitness.mr.itd.umich.edu ID 477E8DF2.67B91.5278 ; 4 Jan 2008 14:50:13 -0500 Received: from paploo.uhi.ac.uk (localhost [127.0.0.1]) by paploo.uhi.ac.uk (Postfix) with ESMTP id 2D1B9BB492; Fri, 4 Jan 2008 19:47:10 +0000 (GMT) Message-ID: <200801041948.m04JmdwO007705@nakamura.uits.iupui.edu> Mime-Version: 1.0 Content-Transfer-Encoding: 7bit\n",
      "\n",
      "54 Received: from prod.collab.uhi.ac.uk ([194.35.219.182]) by paploo.uhi.ac.uk (JAMES SMTP Server 2.1.3) with SMTP ID\n",
      "\n",
      "55 960 for ; Fri, 4 Jan 2008 19:46:50 +0000 (GMT) Received: from nakamura.uits.iupui.edu (nakamura.uits.iupui.edu\n",
      "\n",
      "56 [134.68.220.122]) by shmi.uhi.ac.uk (Postfix) with ESMTP id B3E6742F4A for ; Fri, 4 Jan 2008 19:49:51 +0000 (GMT)\n",
      "\n",
      "57 Received: from nakamura.uits.iupui.edu (localhost [127.0.0.1]) by nakamura.uits.iupui.edu (8.12.11.20060308/8.12.11) with ESMTP id m04JmeV9007707 for ; Fri, 4 Jan 2008 14:48:40 -0500 Received: (from apache@localhost) by nakamura.uits.iupui.edu (8.12.11.20060308/8.12.11/Submit) id m04JmdwO007705 for source@collab.sakaiproject.org; Fri, 4 Jan 2008 14:48:39 -0500 Date: Fri, 4 Jan 2008 14:48:39 -0500 X-Authentication-Warning: nakamura.uits.iupui.edu:\n",
      "\n",
      "58 apache set sender to rjlowe@iupui.edu using -f To: source@collab.sakaiproject.org From: rjlowe@iupui.edu Subject: [sakai] svn commit: r39765 - in gradebook/trunk/app: business/src/java/org/sakaiproject/tool/gradebook/business business/src/java/org/sakaiproject/tool/gradebook/business/impl ui ui/src/java/org/sakaiproject/tool/gradebook/ui/helpers/beans ui/src/java/org/sakaiproject/tool/gradebook/ui/helpers/entity ui/src/java/org/sakaiproject/tool/gradebook/ui/helpers/params\n",
      "\n",
      "59 ui/src/java/org/sakaiproject/tool/gradebook/ui/helpers/producers ui/src/webapp/WEB-INF ui/src/webapp/WEB-INF/bundle ui/src/webapp/content/templates X-Content-Type-Outer-Envelope: text/plain; charset=UTF-8 X-Content-Type-MessageBody: text/plain; charset=UTF-8 Content-Type: text/plain; charset=UTF-8 X-DSPAM-Result: Innocent X-DSPAM-Processed:\n",
      "\n",
      "60 Fri Jan 4 14:50:18 2008 X-DSPAM-Confidence: 0.7556 X-DSPAM-Probability: 0.0000 Details:\n",
      "\n",
      "61 http://source.sakaiproject.org/viewsvn/?view=rev&rev=39765 Author: rjlowe@iupui.edu Date: 2008-01-04 14:48:37 -0500 (Fri, 04 Jan 2008) New Revision: 39765 Added:\n",
      "\n",
      "62 gradebook/trunk/app/ui/src/java/org/sakaiproject/tool/gradebook/ui/helpers/beans/AssignmentGradeRecordBean.java gradebook/trunk/app/ui/src/java/org/sakaiproject/tool/gradebook/ui/helpers/beans/AssignmentGradeRecordCreator.java gradebook/trunk/app/ui/src/java/org/sakaiproject/tool/gradebook/ui/helpers/entity/GradebookEntryGradeEntityProvider.java gradebook/trunk/app/ui/src/java/org/sakaiproject/tool/gradebook/ui/helpers/params/GradeGradebookItemViewParams.java gradebook/trunk/app/ui/src/java/org/sakaiproject/tool/gradebook/ui/helpers/producers/GradeGradebookItemProducer.java gradebook/trunk/app/ui/src/webapp/content/templates/grade-gradebook-item.html Modified: gradebook/trunk/app/business/src/java/org/sakaiproject/tool/gradebook/business/GradebookManager.java\n",
      "\n",
      "63 gradebook/trunk/app/business/src/java/org/sakaiproject/tool/gradebook/business/impl/GradebookManagerHibernateImpl.java gradebook/trunk/app/ui/pom.xml\n",
      "\n",
      "64 gradebook/trunk/app/ui/src/java/org/sakaiproject/tool/gradebook/ui/helpers/beans/GradebookItemBean.java gradebook/trunk/app/ui/src/java/org/sakaiproject/tool/gradebook/ui/helpers/entity/GradebookEntryEntityProvider.java gradebook/trunk/app/ui/src/java/org/sakaiproject/tool/gradebook/ui/helpers/producers/AddGradebookItemProducer.java gradebook/trunk/app/ui/src/webapp/WEB-INF/applicationContext.xml gradebook/trunk/app/ui/src/webapp/WEB-\n",
      "\n",
      "65 INF/bundle/messages.properties gradebook/trunk/app/ui/src/webapp/WEB-INF/requestContext.xml Log: SAK-12180 - New helper tool to grade an assignment ---------------------- This automatic notification message was sent by Sakai Collab (https://collab.sakaiproject.org/portal) from the Source site. You can modify how you receive notifications at My Workspace > Preferences. From cwen@iupui.edu Fri Jan 4 11:37:30 2008 Return-Path: Received: from murder (mail.umich.edu [141.211.14.46]) by frankenstein.mail.umich.edu (Cyrus v2.3.8) with LMTPA; Fri, 04 Jan 2008 11:37:30 -0500 X-Sieve:\n",
      "\n",
      "66 CMU Sieve 2.3 Received: from murder ([unix socket]) by mail.umich.edu (Cyrus v2.2.12) with LMTPA; Fri, 04 Jan 2008\n",
      "\n",
      "67 11:37:30 -0500 Received: from tadpole.mr.itd.umich.edu (tadpole.mr.itd.umich.edu [141.211.14.72]) by fan.mail.umich.edu\n",
      "\n",
      "68 () with ESMTP id m04GbT9x022078; Fri, 4 Jan 2008 11:37:29 -0500 Received: FROM paploo.uhi.ac.uk\n",
      "\n",
      "69 (app1.prod.collab.uhi.ac.uk [194.35.219.184]) BY tadpole.mr.itd.umich.edu ID 477E60B2.82756.9904 ; 4 Jan 2008 11:37:09\n",
      "\n",
      "70 -0500 Received: from paploo.uhi.ac.uk (localhost [127.0.0.1]) by paploo.uhi.ac.uk (Postfix) with ESMTP id 8D13DBB001;\n",
      "\n",
      "71 Fri, 4 Jan 2008 16:37:07 +0000 (GMT) Message-ID: <200801041635.m04GZQGZ007313@nakamura.uits.iupui.edu> Mime-Version: 1.0 Content-Transfer-Encoding: 7bit Received: from prod.collab.uhi.ac.uk ([194.35.219.182]) by paploo.uhi.ac.uk (JAMES SMTP Server 2.1.3) with SMTP ID 120 for ; Fri, 4 Jan 2008 16:36:40 +0000 (GMT) Received:\n",
      "\n",
      "72 from nakamura.uits.iupui.edu (nakamura.uits.iupui.edu [134.68.220.122]) by shmi.uhi.ac.uk (Postfix) with ESMTP id D430B42E42 for ; Fri, 4 Jan 2008 16:36:37 +0000 (GMT) Received: from nakamura.uits.iupui.edu (localhost [127.0.0.1]) by nakamura.uits.iupui.edu (8.12.11.20060308/8.12.11) with ESMTP id m04GZQ7W007315 for ; Fri, 4 Jan 2008 11:35:26\n",
      "\n",
      "73 -0500 Received: (from apache@localhost) by nakamura.uits.iupui.edu (8.12.11.20060308/8.12.11/Submit) id m04GZQGZ007313 for source@collab.sakaiproject.org; Fri, 4 Jan 2008 11:35:26 -0500 Date: Fri, 4 Jan 2008 11:35:26 -0500 X-Authentication-Warning: nakamura.uits.iupui.edu: apache set sender to cwen@iupui.edu using -f To:\n",
      "\n",
      "74 source@collab.sakaiproject.org From: cwen@iupui.edu Subject: [sakai] svn commit: r39764 - in msgcntr/trunk/messageforums-app/src/java/org/sakaiproject/tool/messageforums: . ui X-Content-Type-Outer-Envelope: text/plain; charset=UTF-8 X-Content-Type-Message-Body: text/plain; charset=UTF-8 Content-Type: text/plain; charset=UTF-8 X-DSPAM-Result: Innocent X-DSPAM-Processed: Fri Jan 4 11:37:30 2008 X-DSPAM-Confidence: 0.7002 X-DSPAM-Probability: 0.0000 Details: http://source.sakaiproject.org/viewsvn/?view=rev&rev=39764 Author: cwen@iupui.edu Date: 2008-01-04 11:35:25 -0500 (Fri, 04 Jan 2008) New Revision: 39764 Modified: msgcntr/trunk/messageforums-app/src/java/org/sakaiproject/tool/messageforums/PrivateMessagesTool.java\n",
      "\n",
      "75 msgcntr/trunk/messageforums-app/src/java/org/sakaiproject/tool/messageforums/ui/PrivateMessageDecoratedBean.java\n",
      "\n",
      "76 Log: unmerge Xingtang's checkin for SAK-12488. svn merge -r39558:39557 https://source.sakaiproject.org/svn/msgcntr/trunk U messageforums-\n",
      "\n",
      "77 app/src/java/org/sakaiproject/tool/messageforums/PrivateMessagesTool.java U messageforumsapp/src/java/org/sakaiproject/tool/messageforums/ui/PrivateMessageDecoratedBean.java svn log -r 39558 ----------------------------------------------------------------------- r39558 | hu2@iupui.edu | 2007-12-20 15:25:38 -0500 (Thu, 20 Dec 2007) | 3 lines SAK-12488 when send a message to yourself. click reply to all, cc row should be null.\n",
      "\n",
      "78 http://jira.sakaiproject.org/jira/browse/SAK-12488 ------------------------------------------------------------------------ ---------------------This automatic notification message was sent by Sakai Collab (https://collab.sakaiproject.org/portal) from the Source site.\n",
      "\n",
      "79 You can modify how you receive notifications at My Workspace > Preferences. From cwen@iupui.edu Fri Jan 4 11:35:08 2008 Return-Path: Received: from murder (mail.umich.edu [141.211.14.46]) by frankenstein.mail.umich.edu (Cyrus v2.3.8) with LMTPA; Fri, 04 Jan 2008 11:35:08 -0500 X-Sieve: CMU Sieve 2.3 Received: from murder ([unix socket]) by mail.umich.edu (Cyrus v2.2.12) with LMTPA; Fri, 04 Jan 2008 11:35:08 -0500 Received: from it.mr.itd.umich.edu\n",
      "\n",
      "80 (it.mr.itd.umich.edu [141.211.93.151]) by fan.mail.umich.edu () with ESMTP id m04GZ6lt020480; Fri, 4 Jan 2008 11:35:06 -0500 Received: FROM paploo.uhi.ac.uk (app1.prod.collab.uhi.ac.uk [194.35.219.184]) BY it.mr.itd.umich.edu ID 477E6033.6469D.21870 ; 4 Jan 2008 11:35:02 -0500 Received: from paploo.uhi.ac.uk (localhost [127.0.0.1]) by paploo.uhi.ac.uk (Postfix) with ESMTP id E40FABAE5B; Fri, 4 Jan 2008 16:34:38 +0000 (GMT) Message-ID: <200801041633.m04GX6eG007292@nakamura.uits.iupui.edu> Mime-Version: 1.0 Content-Transfer-Encoding: 7bit\n",
      "\n",
      "81 Received: from prod.collab.uhi.ac.uk ([194.35.219.182]) by paploo.uhi.ac.uk (JAMES SMTP Server 2.1.3) with SMTP ID\n",
      "\n",
      "82 697 for ; Fri, 4 Jan 2008 16:34:01 +0000 (GMT) Received: from nakamura.uits.iupui.edu (nakamura.uits.iupui.edu\n",
      "\n",
      "83 [134.68.220.122]) by shmi.uhi.ac.uk (Postfix) with ESMTP id 1CD0C42E42 for ; Fri, 4 Jan 2008 16:34:17 +0000 (GMT)\n",
      "\n",
      "84 Received: from nakamura.uits.iupui.edu (localhost [127.0.0.1]) by nakamura.uits.iupui.edu (8.12.11.20060308/8.12.11) with ESMTP id m04GX6Y3007294 for ; Fri, 4 Jan 2008 11:33:06 -0500 Received: (from apache@localhost) by nakamura.uits.iupui.edu (8.12.11.20060308/8.12.11/Submit) id m04GX6eG007292 for source@collab.sakaiproject.org; Fri, 4 Jan 2008 11:33:06 -0500 Date: Fri, 4 Jan 2008 11:33:06 -0500 X-Authentication-Warning: nakamura.uits.iupui.edu: apache set sender to cwen@iupui.edu using -f To: source@collab.sakaiproject.org From: cwen@iupui.edu Subject: [sakai] svn commit: r39763 - in msgcntr/trunk: messageforums-api/src/bundle/org/sakaiproject/api/app/messagecenter/bundle messageforums-app/src/java/org/sakaiproject/tool/messageforums X-Content-Type-Outer-Envelope: text/plain; charset=UTF-8 X-Content-Type-Message-Body: text/plain; charset=UTF-8 Content-Type: text/plain; charset=UTF-8 XDSPAM-Result: Innocent X-DSPAM-Processed: Fri Jan 4 11:35:08 2008 X-DSPAM-Confidence: 0.7615 X-DSPAM-\n",
      "\n",
      "85 Probability: 0.0000 Details: http://source.sakaiproject.org/viewsvn/?view=rev&rev=39763 Author: cwen@iupui.edu Date:\n",
      "\n",
      "86 2008-01-04 11:33:05 -0500 (Fri, 04 Jan 2008) New Revision: 39763 Modified: msgcntr/trunk/messageforumsapi/src/bundle/org/sakaiproject/api/app/messagecenter/bundle/Messages.properties msgcntr/trunk/messageforumsapp/src/java/org/sakaiproject/tool/messageforums/PrivateMessagesTool.java Log: unmerge Xingtang's check in for SAK-\n",
      "\n",
      "87 12484. svn merge -r39571:39570 https://source.sakaiproject.org/svn/msgcntr/trunk U messageforumsapi/src/bundle/org/sakaiproject/api/app/messagecenter/bundle/Messages.properties U messageforums-\n",
      "\n",
      "88 app/src/java/org/sakaiproject/tool/messageforums/PrivateMessagesTool.java svn log -r 39571 ----------------------------------------------------------------------- r39571 | hu2@iupui.edu | 2007-12-20 21:26:28 -0500 (Thu, 20 Dec 2007) | 3 lines SAK-12484 reply all cc list should not include the current user name. http://jira.sakaiproject.org/jira/browse/SAK-12484 ----------------------------------------------------------------------- ---------------------- This automatic notification message was sent by Sakai Collab\n",
      "\n",
      "89 (https://collab.sakaiproject.org/portal) from the Source site. You can modify how you receive notifications at My Workspace > Preferences. From gsilver@umich.edu Fri Jan 4 11:12:37 2008 Return-Path: Received: from murder (mail.umich.edu [141.211.14.25]) by frankenstein.mail.umich.edu (Cyrus v2.3.8) with LMTPA; Fri, 04 Jan 2008 11:12:37 -0500 X-Sieve:\n",
      "\n",
      "90 CMU Sieve 2.3 Received: from murder ([unix socket]) by mail.umich.edu (Cyrus v2.2.12) with LMTPA; Fri, 04 Jan 2008\n",
      "\n",
      "91 11:12:37 -0500 Received: from holes.mr.itd.umich.edu (holes.mr.itd.umich.edu [141.211.14.79]) by panther.mail.umich.edu\n",
      "\n",
      "92 () with ESMTP id m04GCaHB030887; Fri, 4 Jan 2008 11:12:36 -0500 Received: FROM paploo.uhi.ac.uk\n",
      "\n",
      "93 (app1.prod.collab.uhi.ac.uk [194.35.219.184]) BY holes.mr.itd.umich.edu ID 477E5AEB.E670B.28397 ; 4 Jan 2008 11:12:30\n",
      "\n",
      "94 -0500 Received: from paploo.uhi.ac.uk (localhost [127.0.0.1]) by paploo.uhi.ac.uk (Postfix) with ESMTP id 99715BAE7D;\n",
      "\n",
      "95 Fri, 4 Jan 2008 16:12:27 +0000 (GMT) Message-ID: <200801041611.m04GB1Lb007221@nakamura.uits.iupui.edu> MimeVersion: 1.0 Content-Transfer-Encoding: 7bit Received: from prod.collab.uhi.ac.uk ([194.35.219.182]) by paploo.uhi.ac.uk\n",
      "\n",
      "96 (JAMES SMTP Server 2.1.3) with SMTP ID 272 for ; Fri, 4 Jan 2008 16:12:14 +0000 (GMT) Received: from nakamura.uits.iupui.edu (nakamura.uits.iupui.edu [134.68.220.122]) by shmi.uhi.ac.uk (Postfix) with ESMTP id\n",
      "\n",
      "97 0A6ED42DFC for ; Fri, 4 Jan 2008 16:12:12 +0000 (GMT) Received: from nakamura.uits.iupui.edu (localhost [127.0.0.1]) by nakamura.uits.iupui.edu (8.12.11.20060308/8.12.11) with ESMTP id m04GB1Wt007223 for ; Fri, 4 Jan 2008 11:11:01\n",
      "\n",
      "98 -0500 Received: (from apache@localhost) by nakamura.uits.iupui.edu (8.12.11.20060308/8.12.11/Submit) id m04GB1Lb007221 for source@collab.sakaiproject.org; Fri, 4 Jan 2008 11:11:01 -0500 Date: Fri, 4 Jan 2008 11:11:01 -0500 X-Authentication-Warning: nakamura.uits.iupui.edu: apache set sender to gsilver@umich.edu using -f To: source@collab.sakaiproject.org From: gsilver@umich.edu Subject: [sakai] svn commit: r39762 - web/trunk/webtool/tool/src/bundle X-Content-Type-Outer-Envelope: text/plain; charset=UTF-8 X-Content-Type-Message-Body: text/plain; charset=UTF-8 Content-Type: text/plain; charset=UTF-8 X-DSPAM-Result: Innocent X-DSPAM-Processed: Fri Jan 4 11:12:37 2008 X-DSPAM-Confidence: 0.7601 X-DSPAM-Probability: 0.0000 Details:\n",
      "\n",
      "99 http://source.sakaiproject.org/viewsvn/?view=rev&rev=39762 Author: gsilver@umich.edu Date: 2008-01-04 11:11:00 -0500 (Fri, 04 Jan 2008) New Revision: 39762 Modified: web/trunk/web-tool/tool/src/bundle/iframe.properties Log: SAK-12596 http://bugs.sakaiproject.org/jira/browse/SAK-12596 - left moot (unused) entries commented for now ---------------------- This automatic notification message was sent by Sakai Collab (https://collab.sakaiproject.org/portal) from the Source site. You can modify how you receive notifications at My Workspace > Preferences. From gsilver@umich.edu Fri Jan 4 11:11:52 2008 Return-Path: Received: from murder (mail.umich.edu [141.211.14.36]) by frankenstein.mail.umich.edu (Cyrus v2.3.8) with LMTPA; Fri, 04 Jan 2008 11:11:52 -0500 X-Sieve: CMU Sieve 2.3 Received: from murder ([unix socket]) by mail.umich.edu (Cyrus v2.2.12) with LMTPA; Fri, 04 Jan 2008 11:11:52 -0500 Received: from creepshow.mr.itd.umich.edu (creepshow.mr.itd.umich.edu [141.211.14.84]) by godsend.mail.umich.edu () with ESMTP id m04GBqqv025330; Fri, 4 Jan\n",
      "\n",
      "100 2008 11:11:52 -0500 Received: FROM paploo.uhi.ac.uk (app1.prod.collab.uhi.ac.uk [194.35.219.184]) BY creepshow.mr.itd.umich.edu ID 477E5AB3.5CC32.30840 ; 4 Jan 2008 11:11:34 -0500 Received: from paploo.uhi.ac.uk (localhost [127.0.0.1]) by paploo.uhi.ac.uk (Postfix) with ESMTP id 62AA4BAE46; Fri, 4 Jan 2008 16:11:31 +0000 (GMT)\n",
      "\n",
      "101 Message-ID: <200801041610.m04GA5KP007209@nakamura.uits.iupui.edu> Mime-Version: 1.0 Content-TransferEncoding: 7bit Received: from prod.collab.uhi.ac.uk ([194.35.219.182]) by paploo.uhi.ac.uk (JAMES SMTP Server 2.1.3) with SMTP ID 1006 for ; Fri, 4 Jan 2008 16:11:18 +0000 (GMT) Received: from nakamura.uits.iupui.edu\n",
      "\n",
      "102 (nakamura.uits.iupui.edu [134.68.220.122]) by shmi.uhi.ac.uk (Postfix) with ESMTP id C596A3DFA2 for ; Fri, 4 Jan 2008\n",
      "\n",
      "103 16:11:16 +0000 (GMT) Received: from nakamura.uits.iupui.edu (localhost [127.0.0.1]) by nakamura.uits.iupui.edu (8.12.11.20060308/8.12.11) with ESMTP id m04GA5LR007211 for ; Fri, 4 Jan 2008 11:10:05 -0500 Received: (from apache@localhost) by nakamura.uits.iupui.edu (8.12.11.20060308/8.12.11/Submit) id m04GA5KP007209 for source@collab.sakaiproject.org; Fri, 4 Jan 2008 11:10:05 -0500 Date: Fri, 4 Jan 2008 11:10:05 -0500 X-AuthenticationWarning: nakamura.uits.iupui.edu: apache set sender to gsilver@umich.edu using -f To: source@collab.sakaiproject.org\n",
      "\n",
      "104 From: gsilver@umich.edu Subject: [sakai] svn commit: r39761 - site/trunk/site-tool/tool/src/bundle X-Content-Type-OuterEnvelope: text/plain; charset=UTF-8 X-Content-Type-Message-Body: text/plain; charset=UTF-8 Content-Type: text/plain; charset=UTF-8 X-DSPAM-Result: Innocent X-DSPAM-Processed: Fri Jan 4 11:11:52 2008 X-DSPAM-Confidence: 0.7605 X-DSPAM-Probability: 0.0000 Details: http://source.sakaiproject.org/viewsvn/?view=rev&rev=39761 Author: gsilver@umich.edu Date: 2008-01-04 11:10:04 -0500 (Fri, 04 Jan 2008) New Revision: 39761 Modified: site/trunk/sitetool/tool/src/bundle/admin.properties Log: SAK-12595 http://bugs.sakaiproject.org/jira/browse/SAK-12595 - left moot (unused) entries commented for now ---------------------- This automatic notification message was sent by Sakai Collab\n",
      "\n",
      "105 (https://collab.sakaiproject.org/portal) from the Source site. You can modify how you receive notifications at My Workspace\n",
      "\n",
      "106 > Preferences. From zqian@umich.edu Fri Jan 4 11:11:03 2008 Return-Path: Received: from murder (mail.umich.edu\n",
      "\n",
      "107 [141.211.14.97]) by frankenstein.mail.umich.edu (Cyrus v2.3.8) with LMTPA; Fri, 04 Jan 2008 11:11:03 -0500 X-Sieve: CMU\n",
      "\n",
      "108 Sieve 2.3 Received: from murder ([unix socket]) by mail.umich.edu (Cyrus v2.2.12) with LMTPA; Fri, 04 Jan 2008 11:11:03\n",
      "\n",
      "109 -0500 Received: from carrie.mr.itd.umich.edu (carrie.mr.itd.umich.edu [141.211.93.152]) by sleepers.mail.umich.edu () with\n",
      "\n",
      "110 ESMTP id m04GB3Vg011502; Fri, 4 Jan 2008 11:11:03 -0500 Received: FROM paploo.uhi.ac.uk\n",
      "\n",
      "111 (app1.prod.collab.uhi.ac.uk [194.35.219.184]) BY carrie.mr.itd.umich.edu ID 477E5A8D.B378F.24200 ; 4 Jan 2008 11:10:56\n",
      "\n",
      "112 -0500 Received: from paploo.uhi.ac.uk (localhost [127.0.0.1]) by paploo.uhi.ac.uk (Postfix) with ESMTP id C7251BAD44;\n",
      "\n",
      "113 Fri, 4 Jan 2008 16:10:53 +0000 (GMT) Message-ID: <200801041609.m04G9EuX007197@nakamura.uits.iupui.edu> MimeVersion: 1.0 Content-Transfer-Encoding: 7bit Received: from prod.collab.uhi.ac.uk ([194.35.219.182]) by paploo.uhi.ac.uk\n",
      "\n",
      "114 (JAMES SMTP Server 2.1.3) with SMTP ID 483 for ; Fri, 4 Jan 2008 16:10:27 +0000 (GMT) Received: from nakamura.uits.iupui.edu (nakamura.uits.iupui.edu [134.68.220.122]) by shmi.uhi.ac.uk (Postfix) with ESMTP id\n",
      "\n",
      "115 2E7043DFA2 for ; Fri, 4 Jan 2008 16:10:26 +0000 (GMT) Received: from nakamura.uits.iupui.edu (localhost [127.0.0.1]) by nakamura.uits.iupui.edu (8.12.11.20060308/8.12.11) with ESMTP id m04G9Eqg007199 for ; Fri, 4 Jan 2008 11:09:15 -0500 Received: (from apache@localhost) by nakamura.uits.iupui.edu (8.12.11.20060308/8.12.11/Submit) id m04G9EuX007197 for source@collab.sakaiproject.org; Fri, 4 Jan 2008 11:09:14 -0500 Date: Fri, 4 Jan 2008 11:09:14 -0500 X-AuthenticationWarning: nakamura.uits.iupui.edu: apache set sender to zqian@umich.edu using -f To: source@collab.sakaiproject.org From: zqian@umich.edu Subject: [sakai] svn commit: r39760 - in site-manage/trunk/site-manage-tool/tool/src: java/org/sakaiproject/site/tool webapp/vm/sitesetup X-Content-Type-Outer-Envelope: text/plain; charset=UTF-8 X-ContentType-Message-Body: text/plain; charset=UTF-8 Content-Type: text/plain; charset=UTF-8 X-DSPAM-Result: Innocent XDSPAM-Processed: Fri Jan 4 11:11:03 2008 X-DSPAM-Confidence: 0.6959 X-DSPAM-Probability: 0.0000 Details:\n",
      "\n",
      "116 http://source.sakaiproject.org/viewsvn/?view=rev&rev=39760 Author: zqian@umich.edu Date: 2008-01-04 11:09:12 -0500\n",
      "\n",
      "117 (Fri, 04 Jan 2008) New Revision: 39760 Modified: site-manage/trunk/site-managetool/tool/src/java/org/sakaiproject/site/tool/SiteAction.java site-manage/trunk/site-manage-\n",
      "\n",
      "118 tool/tool/src/webapp/vm/sitesetup/chef_site-siteInfo-list.vm Log: fix to SAK-10911: Refactor use of site.upd, site.upd.site.mbrship and site.upd.grp.mbrship permissions ---------------------- This automatic notification message was sent by Sakai Collab (https://collab.sakaiproject.org/portal) from the Source site. You can modify how you receive notifications at My Workspace > Preferences. From gsilver@umich.edu Fri Jan 4 11:10:22 2008 Return-Path: Received: from murder\n",
      "\n",
      "119 (mail.umich.edu [141.211.14.39]) by frankenstein.mail.umich.edu (Cyrus v2.3.8) with LMTPA; Fri, 04 Jan 2008 11:10:22\n",
      "\n",
      "120 -0500 X-Sieve: CMU Sieve 2.3 Received: from murder ([unix socket]) by mail.umich.edu (Cyrus v2.2.12) with LMTPA; Fri,\n",
      "\n",
      "121 04 Jan 2008 11:10:22 -0500 Received: from holes.mr.itd.umich.edu (holes.mr.itd.umich.edu [141.211.14.79]) by faithful.mail.umich.edu () with ESMTP id m04GAL9k010604; Fri, 4 Jan 2008 11:10:21 -0500 Received: FROM paploo.uhi.ac.uk (app1.prod.collab.uhi.ac.uk [194.35.219.184]) BY holes.mr.itd.umich.edu ID 477E5A67.34350.23015 ; 4 Jan 2008 11:10:18 -0500 Received: from paploo.uhi.ac.uk (localhost [127.0.0.1]) by paploo.uhi.ac.uk (Postfix) with ESMTP id 98D04BAD43; Fri, 4 Jan 2008 16:10:11 +0000 (GMT) Message-ID:\n",
      "\n",
      "122 <200801041608.m04G8d7w007184@nakamura.uits.iupui.edu> Mime-Version: 1.0 Content-Transfer-Encoding: 7bit\n",
      "\n",
      "123 Received: from prod.collab.uhi.ac.uk ([194.35.219.182]) by paploo.uhi.ac.uk (JAMES SMTP Server 2.1.3) with SMTP ID\n",
      "\n",
      "124 966 for ; Fri, 4 Jan 2008 16:09:51 +0000 (GMT) Received: from nakamura.uits.iupui.edu (nakamura.uits.iupui.edu\n",
      "\n",
      "125 [134.68.220.122]) by shmi.uhi.ac.uk (Postfix) with ESMTP id 9F89542DD0 for ; Fri, 4 Jan 2008 16:09:50 +0000 (GMT)\n",
      "\n",
      "126 Received: from nakamura.uits.iupui.edu (localhost [127.0.0.1]) by nakamura.uits.iupui.edu (8.12.11.20060308/8.12.11) with ESMTP id m04G8dXN007186 for ; Fri, 4 Jan 2008 11:08:39 -0500 Received: (from apache@localhost) by nakamura.uits.iupui.edu (8.12.11.20060308/8.12.11/Submit) id m04G8d7w007184 for source@collab.sakaiproject.org; Fri, 4 Jan 2008 11:08:39 -0500 Date: Fri, 4 Jan 2008 11:08:39 -0500 X-Authentication-Warning: nakamura.uits.iupui.edu: apache set sender to gsilver@umich.edu using -f To: source@collab.sakaiproject.org From: gsilver@umich.edu Subject: [sakai] svn commit: r39759 - mailarchive/trunk/mailarchive-tool/tool/src/bundle X-Content-Type-Outer-Envelope: text/plain; charset=UTF-8 X-Content-Type-Message-Body: text/plain; charset=UTF-8 Content-Type: text/plain; charset=UTF-8 XDSPAM-Result: Innocent X-DSPAM-Processed: Fri Jan 4 11:10:22 2008 X-DSPAM-Confidence: 0.7606 X-DSPAM-\n",
      "\n",
      "127 Probability: 0.0000 Details: http://source.sakaiproject.org/viewsvn/?view=rev&rev=39759 Author: gsilver@umich.edu Date:\n",
      "\n",
      "128 2008-01-04 11:08:38 -0500 (Fri, 04 Jan 2008) New Revision: 39759 Modified: mailarchive/trunk/mailarchivetool/tool/src/bundle/email.properties Log: SAK-12592 http://bugs.sakaiproject.org/jira/browse/SAK-12592 - left moot (unused) entries commented for now ---------------------- This automatic notification message was sent by Sakai Collab\n",
      "\n",
      "129 (https://collab.sakaiproject.org/portal) from the Source site. You can modify how you receive notifications at My Workspace > Preferences. From wagnermr@iupui.edu Fri Jan 4 10:38:42 2008 Return-Path: Received: from murder (mail.umich.edu [141.211.14.90]) by frankenstein.mail.umich.edu (Cyrus v2.3.8) with LMTPA; Fri, 04 Jan 2008 10:38:42 -0500 X-Sieve:\n",
      "\n",
      "130 CMU Sieve 2.3 Received: from murder ([unix socket]) by mail.umich.edu (Cyrus v2.2.12) with LMTPA; Fri, 04 Jan 2008\n",
      "\n",
      "131 10:38:42 -0500 Received: from shining.mr.itd.umich.edu (shining.mr.itd.umich.edu [141.211.93.153]) by flawless.mail.umich.edu () with ESMTP id m04Fcfjm012313; Fri, 4 Jan 2008 10:38:41 -0500 Received: FROM paploo.uhi.ac.uk (app1.prod.collab.uhi.ac.uk [194.35.219.184]) BY shining.mr.itd.umich.edu ID 477E52FA.E6C6E.24093 ; 4 Jan 2008 10:38:37 -0500 Received: from paploo.uhi.ac.uk (localhost [127.0.0.1]) by paploo.uhi.ac.uk (Postfix) with ESMTP id 6A39594CD2; Fri, 4 Jan 2008 15:37:36 +0000 (GMT) Message-ID:\n",
      "\n",
      "132 <200801041537.m04Fb6Ci007092@nakamura.uits.iupui.edu> Mime-Version: 1.0 Content-Transfer-Encoding: 7bit\n",
      "\n",
      "133 Received: from prod.collab.uhi.ac.uk ([194.35.219.182]) by paploo.uhi.ac.uk (JAMES SMTP Server 2.1.3) with SMTP ID\n",
      "\n",
      "134 690 for ; Fri, 4 Jan 2008 15:37:21 +0000 (GMT) Received: from nakamura.uits.iupui.edu (nakamura.uits.iupui.edu\n",
      "\n",
      "135 [134.68.220.122]) by shmi.uhi.ac.uk (Postfix) with ESMTP id CEFA037ACE for ; Fri, 4 Jan 2008 15:38:17 +0000 (GMT)\n",
      "\n",
      "136 Received: from nakamura.uits.iupui.edu (localhost [127.0.0.1]) by nakamura.uits.iupui.edu (8.12.11.20060308/8.12.11) with ESMTP id m04Fb6nh007094 for ; Fri, 4 Jan 2008 10:37:06 -0500 Received: (from apache@localhost) by\n",
      "\n",
      "137 nakamura.uits.iupui.edu (8.12.11.20060308/8.12.11/Submit) id m04Fb6Ci007092 for source@collab.sakaiproject.org; Fri, 4 Jan 2008 10:37:06 -0500 Date: Fri, 4 Jan 2008 10:37:06 -0500 X-Authentication-Warning: nakamura.uits.iupui.edu: apache set sender to wagnermr@iupui.edu using -f To: source@collab.sakaiproject.org From: wagnermr@iupui.edu Subject: [sakai] svn commit: r39758 - in gradebook/trunk: app/business/src/java/org/sakaiproject/tool/gradebook/business/impl service/api/src/java/org/sakaiproject/service/gradebook/shared service/impl/src/java/org/sakaiproject/component/gradebook\n",
      "\n",
      "138 X-Content-Type-Outer-Envelope: text/plain; charset=UTF-8 X-Content-Type-Message-Body: text/plain; charset=UTF-8\n",
      "\n",
      "139 Content-Type: text/plain; charset=UTF-8 X-DSPAM-Result: Innocent X-DSPAM-Processed: Fri Jan 4 10:38:42 2008 XDSPAM-Confidence: 0.7559 X-DSPAM-Probability: 0.0000 Details: http://source.sakaiproject.org/viewsvn/?\n",
      "\n",
      "140 view=rev&rev=39758 Author: wagnermr@iupui.edu Date: 2008-01-04 10:37:04 -0500 (Fri, 04 Jan 2008) New Revision:\n",
      "\n",
      "141 39758 Modified:\n",
      "\n",
      "142 gradebook/trunk/app/business/src/java/org/sakaiproject/tool/gradebook/business/impl/GradebookManagerHibernateImpl.java gradebook/trunk/service/api/src/java/org/sakaiproject/service/gradebook/shared/GradebookService.java gradebook/trunk/service/impl/src/java/org/sakaiproject/component/gradebook/GradebookServiceHibernateImpl.java Log: SAK-12175 http://bugs.sakaiproject.org/jira/browse/SAK-12175 Create methods required for gb integration with the\n",
      "\n",
      "143 Assignment2 tool getGradeDefinitionForStudentForItem ---------------------- This automatic notification message was sent by\n",
      "\n",
      "144 Sakai Collab (https://collab.sakaiproject.org/portal) from the Source site. You can modify how you receive notifications at My\n",
      "\n",
      "145 Workspace > Preferences. From zqian@umich.edu Fri Jan 4 10:17:43 2008 Return-Path: Received: from murder\n",
      "\n",
      "146 (mail.umich.edu [141.211.14.97]) by frankenstein.mail.umich.edu (Cyrus v2.3.8) with LMTPA; Fri, 04 Jan 2008 10:17:43\n",
      "\n",
      "147 -0500 X-Sieve: CMU Sieve 2.3 Received: from murder ([unix socket]) by mail.umich.edu (Cyrus v2.2.12) with LMTPA; Fri, 04 Jan 2008 10:17:42 -0500 Received: from creepshow.mr.itd.umich.edu (creepshow.mr.itd.umich.edu [141.211.14.84]) by sleepers.mail.umich.edu () with ESMTP id m04FHgfs011536; Fri, 4 Jan 2008 10:17:42 -0500 Received: FROM\n",
      "\n",
      "148 paploo.uhi.ac.uk (app1.prod.collab.uhi.ac.uk [194.35.219.184]) BY creepshow.mr.itd.umich.edu ID 477E4E0F.CCA4B.926 ; 4 Jan 2008 10:17:38 -0500 Received: from paploo.uhi.ac.uk (localhost [127.0.0.1]) by paploo.uhi.ac.uk (Postfix) with ESMTP id BD02DBAC64; Fri, 4 Jan 2008 15:17:34 +0000 (GMT) Message-ID:\n",
      "\n",
      "149 <200801041515.m04FFv42007050@nakamura.uits.iupui.edu> Mime-Version: 1.0 Content-Transfer-Encoding: 7bit Received: from prod.collab.uhi.ac.uk ([194.35.219.182]) by paploo.uhi.ac.uk (JAMES SMTP Server 2.1.3) with SMTP ID 25 for ; Fri, 4 Jan 2008 15:17:11 +0000 (GMT) Received: from nakamura.uits.iupui.edu (nakamura.uits.iupui.edu\n",
      "\n",
      "150 [134.68.220.122]) by shmi.uhi.ac.uk (Postfix) with ESMTP id 5B396236B9 for ; Fri, 4 Jan 2008 15:17:08 +0000 (GMT)\n",
      "\n",
      "151 Received: from nakamura.uits.iupui.edu (localhost [127.0.0.1]) by nakamura.uits.iupui.edu (8.12.11.20060308/8.12.11) with ESMTP id m04FFv85007052 for ; Fri, 4 Jan 2008 10:15:57 -0500 Received: (from apache@localhost) by\n",
      "\n",
      "152 nakamura.uits.iupui.edu (8.12.11.20060308/8.12.11/Submit) id m04FFv42007050 for source@collab.sakaiproject.org; Fri, 4 Jan 2008 10:15:57 -0500 Date: Fri, 4 Jan 2008 10:15:57 -0500 X-Authentication-Warning: nakamura.uits.iupui.edu: apache set sender to zqian@umich.edu using -f To: source@collab.sakaiproject.org From: zqian@umich.edu Subject: [sakai] svn commit: r39757 - in assignment/trunk: assignment-impl/impl/src/java/org/sakaiproject/assignment/impl assignmenttool/tool/src/webapp/vm/assignment X-Content-Type-Outer-Envelope: text/plain; charset=UTF-8 X-Content-Type-MessageBody: text/plain; charset=UTF-8 Content-Type: text/plain; charset=UTF-8 X-DSPAM-Result: Innocent X-DSPAM-Processed:\n",
      "\n",
      "153 Fri Jan 4 10:17:42 2008 X-DSPAM-Confidence: 0.7605 X-DSPAM-Probability: 0.0000 Details:\n",
      "\n",
      "154 http://source.sakaiproject.org/viewsvn/?view=rev&rev=39757 Author: zqian@umich.edu Date: 2008-01-04 10:15:54 -0500\n",
      "\n",
      "155 (Fri, 04 Jan 2008) New Revision: 39757 Modified: assignment/trunk/assignment-\n",
      "\n",
      "156 impl/impl/src/java/org/sakaiproject/assignment/impl/BaseAssignmentService.java assignment/trunk/assignmenttool/tool/src/webapp/vm/assignment/chef_assignments_instructor_list_submissions.vm Log: fix to SAK-12604:Don't show groups/sections filter if the site doesn't have any ---------------------- This automatic notification message was sent by Sakai Collab (https://collab.sakaiproject.org/portal) from the Source site. You can modify how you receive notifications at My\n",
      "\n",
      "157 Workspace > Preferences. From antranig@caret.cam.ac.uk Fri Jan 4 10:04:14 2008 Return-Path: Received: from murder (mail.umich.edu [141.211.14.25]) by frankenstein.mail.umich.edu (Cyrus v2.3.8) with LMTPA; Fri, 04 Jan 2008 10:04:14\n",
      "\n",
      "158 -0500 X-Sieve: CMU Sieve 2.3 Received: from murder ([unix socket]) by mail.umich.edu (Cyrus v2.2.12) with LMTPA; Fri,\n",
      "\n",
      "159 04 Jan 2008 10:04:14 -0500 Received: from holes.mr.itd.umich.edu (holes.mr.itd.umich.edu [141.211.14.79]) by panther.mail.umich.edu () with ESMTP id m04F4Dci015108; Fri, 4 Jan 2008 10:04:13 -0500 Received: FROM paploo.uhi.ac.uk (app1.prod.collab.uhi.ac.uk [194.35.219.184]) BY holes.mr.itd.umich.edu ID 477E4AE3.D7AF.31669 ; 4 Jan 2008 10:04:05 -0500 Received: from paploo.uhi.ac.uk (localhost [127.0.0.1]) by paploo.uhi.ac.uk (Postfix) with ESMTP id 933E3BAC17; Fri, 4 Jan 2008 15:04:00 +0000 (GMT) Message-ID:\n",
      "\n",
      "160 <200801041502.m04F21Jo007031@nakamura.uits.iupui.edu> Mime-Version: 1.0 Content-Transfer-Encoding: 7bit Received: from prod.collab.uhi.ac.uk ([194.35.219.182]) by paploo.uhi.ac.uk (JAMES SMTP Server 2.1.3) with SMTP ID 32 for ; Fri, 4 Jan 2008 15:03:15 +0000 (GMT) Received: from nakamura.uits.iupui.edu (nakamura.uits.iupui.edu\n",
      "\n",
      "161 [134.68.220.122]) by shmi.uhi.ac.uk (Postfix) with ESMTP id AC2F6236B9 for ; Fri, 4 Jan 2008 15:03:12 +0000 (GMT)\n",
      "\n",
      "162 Received: from nakamura.uits.iupui.edu (localhost [127.0.0.1]) by nakamura.uits.iupui.edu (8.12.11.20060308/8.12.11) with ESMTP id m04F21hn007033 for ; Fri, 4 Jan 2008 10:02:01 -0500 Received: (from apache@localhost) by nakamura.uits.iupui.edu (8.12.11.20060308/8.12.11/Submit) id m04F21Jo007031 for source@collab.sakaiproject.org; Fri, 4 Jan 2008 10:02:01 -0500 Date: Fri, 4 Jan 2008 10:02:01 -0500 X-Authentication-Warning: nakamura.uits.iupui.edu: apache set sender to antranig@caret.cam.ac.uk using -f To: source@collab.sakaiproject.org From: antranig@caret.cam.ac.uk Subject: [sakai] svn commit: r39756 - in component/branches/SAK-12166/component-\n",
      "\n",
      "163 api/component/src/java/org/sakaiproject/component: impl impl/spring/support impl/spring/support/dynamic impl/support util X-Content-Type-Outer-Envelope: text/plain; charset=UTF-8 X-Content-Type-Message-Body: text/plain; charset=UTF-8\n",
      "\n",
      "164 Content-Type: text/plain; charset=UTF-8 X-DSPAM-Result: Innocent X-DSPAM-Processed: Fri Jan 4 10:04:14 2008 XDSPAM-Confidence: 0.6932 X-DSPAM-Probability: 0.0000 Details: http://source.sakaiproject.org/viewsvn/?\n",
      "\n",
      "165 view=rev&rev=39756 Author: antranig@caret.cam.ac.uk Date: 2008-01-04 10:01:40 -0500 (Fri, 04 Jan 2008) New Revision: 39756 Added: component/branches/SAK-12166/component-\n",
      "\n",
      "166 api/component/src/java/org/sakaiproject/component/impl/spring/support/dynamic/ component/branches/SAK-\n",
      "\n",
      "167 12166/component-\n",
      "\n",
      "168 api/component/src/java/org/sakaiproject/component/impl/spring/support/dynamic/DynamicComponentManager.java component/branches/SAK-12166/component-api/component/src/java/org/sakaiproject/component/impl/support/ component/branches/SAK-12166/component-\n",
      "\n",
      "169 api/component/src/java/org/sakaiproject/component/impl/support/DynamicComponentRecord.java component/branches/SAK-12166/component-\n",
      "\n",
      "170 api/component/src/java/org/sakaiproject/component/impl/support/DynamicJARManager.java component/branches/SAK12166/component-api/component/src/java/org/sakaiproject/component/impl/support/JARRecord.java component/branches/SAK-12166/componentapi/component/src/java/org/sakaiproject/component/util/ByteToCharBase64.java component/branches/SAK12166/component-api/component/src/java/org/sakaiproject/component/util/FileUtil.java component/branches/SAK12166/component-api/component/src/java/org/sakaiproject/component/util/RecordFileIO.java component/branches/SAK12166/component-api/component/src/java/org/sakaiproject/component/util/RecordReader.java component/branches/SAK12166/component-api/component/src/java/org/sakaiproject/component/util/RecordWriter.java component/branches/SAK12166/component-api/component/src/java/org/sakaiproject/component/util/StreamDigestor.java Modified:\n",
      "\n",
      "171 component/branches/SAK-12166/componentapi/component/src/java/org/sakaiproject/component/impl/spring/support/ComponentsLoaderImpl.java Log: Temporary commit of incomplete work on JAR caching ---------------------- This automatic notification message was sent by Sakai Collab (https://collab.sakaiproject.org/portal) from the Source site. You can modify how you receive notifications at My Workspace\n",
      "\n",
      "172 > Preferences. From gopal.ramasammycook@gmail.com Fri Jan 4 09:05:31 2008 Return-Path: Received: from murder\n",
      "\n",
      "173 (mail.umich.edu [141.211.14.90]) by frankenstein.mail.umich.edu (Cyrus v2.3.8) with LMTPA; Fri, 04 Jan 2008 09:05:31\n",
      "\n",
      "174 -0500 X-Sieve: CMU Sieve 2.3 Received: from murder ([unix socket]) by mail.umich.edu (Cyrus v2.2.12) with LMTPA; Fri,\n",
      "\n",
      "175 04 Jan 2008 09:05:31 -0500 Received: from guys.mr.itd.umich.edu (guys.mr.itd.umich.edu [141.211.14.76]) by flawless.mail.umich.edu () with ESMTP id m04E5U3C029277; Fri, 4 Jan 2008 09:05:30 -0500 Received: FROM paploo.uhi.ac.uk (app1.prod.collab.uhi.ac.uk [194.35.219.184]) BY guys.mr.itd.umich.edu ID 477E3D23.EE2E7.5237 ; 4 Jan 2008 09:05:26 -0500 Received: from paploo.uhi.ac.uk (localhost [127.0.0.1]) by paploo.uhi.ac.uk (Postfix) with ESMTP id 33C7856DC0; Fri, 4 Jan 2008 14:05:26 +0000 (GMT) Message-ID:\n",
      "\n",
      "176 <200801041403.m04E3psW006926@nakamura.uits.iupui.edu> Mime-Version: 1.0 Content-Transfer-Encoding: 7bit\n",
      "\n",
      "177 Received: from prod.collab.uhi.ac.uk ([194.35.219.182]) by paploo.uhi.ac.uk (JAMES SMTP Server 2.1.3) with SMTP ID\n",
      "\n",
      "178 575 for ; Fri, 4 Jan 2008 14:05:04 +0000 (GMT) Received: from nakamura.uits.iupui.edu (nakamura.uits.iupui.edu\n",
      "\n",
      "179 [134.68.220.122]) by shmi.uhi.ac.uk (Postfix) with ESMTP id 3C0261D617 for ; Fri, 4 Jan 2008 14:05:03 +0000 (GMT)\n",
      "\n",
      "180 Received: from nakamura.uits.iupui.edu (localhost [127.0.0.1]) by nakamura.uits.iupui.edu (8.12.11.20060308/8.12.11) with ESMTP id m04E3pQS006928 for ; Fri, 4 Jan 2008 09:03:52 -0500 Received: (from apache@localhost) by nakamura.uits.iupui.edu (8.12.11.20060308/8.12.11/Submit) id m04E3psW006926 for source@collab.sakaiproject.org; Fri, 4 Jan 2008 09:03:51 -0500 Date: Fri, 4 Jan 2008 09:03:51 -0500 X-Authentication-Warning: nakamura.uits.iupui.edu: apache set sender to gopal.ramasammycook@gmail.com using -f To: source@collab.sakaiproject.org From:\n",
      "\n",
      "181 gopal.ramasammycook@gmail.com Subject: [sakai] svn commit: r39755 - in sam/branches/SAK-12065: samigoapi/src/java/org/sakaiproject/tool/assessment/shared/api/grading samigoapp/src/java/org/sakaiproject/tool/assessment/ui/bean/evaluation samigoapp/src/java/org/sakaiproject/tool/assessment/ui/listener/evaluation samigoservices/src/java/org/sakaiproject/tool/assessment/facade samigo-\n",
      "\n",
      "182 services/src/java/org/sakaiproject/tool/assessment/integration/helper/ifc samigoservices/src/java/org/sakaiproject/tool/assessment/integration/helper/integrated samigoservices/src/java/org/sakaiproject/tool/assessment/integration/helper/standalone samigo-\n",
      "\n",
      "183 services/src/java/org/sakaiproject/tool/assessment/shared/impl/grading X-Content-Type-Outer-Envelope: text/plain; charset=UTF-8 X-Content-Type-Message-Body: text/plain; charset=UTF-8 Content-Type: text/plain; charset=UTF-8 XDSPAM-Result: Innocent X-DSPAM-Processed: Fri Jan 4 09:05:31 2008 X-DSPAM-Confidence: 0.7558 X-DSPAMProbability: 0.0000 Details: http://source.sakaiproject.org/viewsvn/?view=rev&rev=39755 Author:\n",
      "\n",
      "184 gopal.ramasammycook@gmail.com Date: 2008-01-04 09:02:54 -0500 (Fri, 04 Jan 2008) New Revision: 39755 Modified: sam/branches/SAK-12065/samigo-\n",
      "\n",
      "185 api/src/java/org/sakaiproject/tool/assessment/shared/api/grading/GradingSectionAwareServiceAPI.java sam/branches/SAK-\n",
      "\n",
      "186 12065/samigo-app/src/java/org/sakaiproject/tool/assessment/ui/bean/evaluation/QuestionScoresBean.java sam/branches/SAK-12065/samigo-\n",
      "\n",
      "187 app/src/java/org/sakaiproject/tool/assessment/ui/bean/evaluation/SubmissionStatusBean.java sam/branches/SAK12065/samigo-app/src/java/org/sakaiproject/tool/assessment/ui/bean/evaluation/TotalScoresBean.java sam/branches/SAK-\n",
      "\n",
      "188 12065/samigo-app/src/java/org/sakaiproject/tool/assessment/ui/listener/evaluation/SubmissionStatusListener.java sam/branches/SAK-12065/samigoservices/src/java/org/sakaiproject/tool/assessment/facade/PublishedAssessmentFacadeQueries.java sam/branches/SAK12065/samigo-services/src/java/org/sakaiproject/tool/assessment/facade/PublishedAssessmentFacadeQueriesAPI.java sam/branches/SAK-12065/samigo-\n",
      "\n",
      "189 services/src/java/org/sakaiproject/tool/assessment/integration/helper/ifc/SectionAwareServiceHelper.java sam/branches/SAK-12065/samigo-\n",
      "\n",
      "190 services/src/java/org/sakaiproject/tool/assessment/integration/helper/integrated/SectionAwareServiceHelperImpl.java sam/branches/SAK-12065/samigo-\n",
      "\n",
      "191 services/src/java/org/sakaiproject/tool/assessment/integration/helper/standalone/SectionAwareServiceHelperImpl.java sam/branches/SAK-12065/samigo-\n",
      "\n",
      "192 services/src/java/org/sakaiproject/tool/assessment/shared/impl/grading/GradingSectionAwareServiceImpl.java Log: SAK12065 Gopal - Samigo Group Release. SubmissionStatus/TotalScores/Questions View filter. ---------------------- This automatic notification message was sent by Sakai Collab (https://collab.sakaiproject.org/portal) from the Source site. You can modify how you receive notifications at My Workspace > Preferences. From david.horwitz@uct.ac.za Fri Jan 4 07:02:32 2008 Return-Path: Received: from murder (mail.umich.edu [141.211.14.39]) by frankenstein.mail.umich.edu (Cyrus v2.3.8) with LMTPA; Fri, 04 Jan 2008 07:02:32 -0500 X-Sieve: CMU Sieve 2.3 Received: from murder ([unix socket]) by mail.umich.edu (Cyrus v2.2.12) with LMTPA; Fri, 04 Jan 2008 07:02:32 -0500 Received: from guys.mr.itd.umich.edu (guys.mr.itd.umich.edu [141.211.14.76]) by faithful.mail.umich.edu () with ESMTP id m04C2VN7026678; Fri, 4 Jan 2008\n",
      "\n",
      "193 07:02:31 -0500 Received: FROM paploo.uhi.ac.uk (app1.prod.collab.uhi.ac.uk [194.35.219.184]) BY guys.mr.itd.umich.edu ID 477E2050.C2599.3263 ; 4 Jan 2008 07:02:27 -0500 Received: from paploo.uhi.ac.uk (localhost [127.0.0.1]) by paploo.uhi.ac.uk (Postfix) with ESMTP id 6497FBA906; Fri, 4 Jan 2008 12:02:11 +0000 (GMT) Message-ID: <200801041200.m04C0gfK006793@nakamura.uits.iupui.edu> Mime-Version: 1.0 Content-Transfer-Encoding: 7bit\n",
      "\n",
      "194 Received: from prod.collab.uhi.ac.uk ([194.35.219.182]) by paploo.uhi.ac.uk (JAMES SMTP Server 2.1.3) with SMTP ID\n",
      "\n",
      "195 611 for ; Fri, 4 Jan 2008 12:01:53 +0000 (GMT) Received: from nakamura.uits.iupui.edu (nakamura.uits.iupui.edu\n",
      "\n",
      "196 [134.68.220.122]) by shmi.uhi.ac.uk (Postfix) with ESMTP id 5296342D3C for ; Fri, 4 Jan 2008 12:01:53 +0000 (GMT)\n",
      "\n",
      "197 Received: from nakamura.uits.iupui.edu (localhost [127.0.0.1]) by nakamura.uits.iupui.edu (8.12.11.20060308/8.12.11) with ESMTP id m04C0gnm006795 for ; Fri, 4 Jan 2008 07:00:42 -0500 Received: (from apache@localhost) by nakamura.uits.iupui.edu (8.12.11.20060308/8.12.11/Submit) id m04C0gfK006793 for source@collab.sakaiproject.org; Fri, 4 Jan 2008 07:00:42 -0500 Date: Fri, 4 Jan 2008 07:00:42 -0500 X-Authentication-Warning: nakamura.uits.iupui.edu: apache set sender to david.horwitz@uct.ac.za using -f To: source@collab.sakaiproject.org From: david.horwitz@uct.ac.za Subject:\n",
      "\n",
      "198 [sakai] svn commit: r39754 - in polls/branches/sakai_2-5-x: . tool tool/src/java/org/sakaiproject/poll/tool\n",
      "\n",
      "199 tool/src/java/org/sakaiproject/poll/tool/evolvers tool/src/webapp/WEB-INF X-Content-Type-Outer-Envelope: text/plain; charset=UTF-8 X-Content-Type-Message-Body: text/plain; charset=UTF-8 Content-Type: text/plain; charset=UTF-8 XDSPAM-Result: Innocent X-DSPAM-Processed: Fri Jan 4 07:02:32 2008 X-DSPAM-Confidence: 0.6526 X-DSPAM-\n",
      "\n",
      "200 Probability: 0.0000 Details: http://source.sakaiproject.org/viewsvn/?view=rev&rev=39754 Author: david.horwitz@uct.ac.za\n",
      "\n",
      "201 Date: 2008-01-04 07:00:10 -0500 (Fri, 04 Jan 2008) New Revision: 39754 Added: polls/branches/sakai_2-5x/tool/src/java/org/sakaiproject/poll/tool/evolvers/ polls/branches/sakai_2-5-\n",
      "\n",
      "202 x/tool/src/java/org/sakaiproject/poll/tool/evolvers/SakaiFCKTextEvolver.java Removed: polls/branches/sakai_2-5x/tool/src/java/org/sakaiproject/poll/tool/evolvers/SakaiFCKTextEvolver.java Modified: polls/branches/sakai_2-5-x/.classpath polls/branches/sakai_2-5-x/tool/pom.xml polls/branches/sakai_2-5-x/tool/src/webapp/WEB-INF/requestContext.xml Log: svn log -r39753 https://source.sakaiproject.org/svn/polls/trunk -----------------------------------------------------------------------r39753 | david.horwitz@uct.ac.za | 2008-01-04 13:05:51 +0200 (Fri, 04 Jan 2008) | 1 line SAK-12228 implmented\n",
      "\n",
      "203 workaround sugested by AB - needs to be tested against a trunk build ----------------------------------------------------------------------\n",
      "\n",
      "204 -- dhorwitz@david-horwitz-6:~/branchManagemnt/sakai_2-5-x> svn merge -c39753 https://source.sakaiproject.org/svn/polls/trunk polls/ U polls/.classpath A polls/tool/src/java/org/sakaiproject/poll/tool/evolvers A polls/tool/src/java/org/sakaiproject/poll/tool/evolvers/SakaiFCKTextEvolver.java C polls/tool/src/webapp/WEBINF/requestContext.xml U polls/tool/pom.xml dhorwitz@david-horwitz-6:~/branchManagemnt/sakai_2-5-x> svn resolved\n",
      "\n",
      "205 polls/tool/src/webapp/WEB-INF/requestContext.xml Resolved conflicted state of 'polls/tool/src/webapp/WEBINF/requestContext.xml ---------------------- This automatic notification message was sent by Sakai Collab\n",
      "\n",
      "206 (https://collab.sakaiproject.org/portal) from the Source site. You can modify how you receive notifications at My Workspace\n",
      "\n",
      "207 > Preferences. From david.horwitz@uct.ac.za Fri Jan 4 06:08:27 2008 Return-Path: Received: from murder\n",
      "\n",
      "208 (mail.umich.edu [141.211.14.98]) by frankenstein.mail.umich.edu (Cyrus v2.3.8) with LMTPA; Fri, 04 Jan 2008 06:08:27\n",
      "\n",
      "209 -0500 X-Sieve: CMU Sieve 2.3 Received: from murder ([unix socket]) by mail.umich.edu (Cyrus v2.2.12) with LMTPA; Fri, 04 Jan 2008 06:08:27 -0500 Received: from firestarter.mr.itd.umich.edu (firestarter.mr.itd.umich.edu [141.211.14.83]) by casino.mail.umich.edu () with ESMTP id m04B8Qw9001368; Fri, 4 Jan 2008 06:08:26 -0500 Received: FROM paploo.uhi.ac.uk (app1.prod.collab.uhi.ac.uk [194.35.219.184]) BY firestarter.mr.itd.umich.edu ID 477E13A5.30FC0.24054 ; 4 Jan 2008 06:08:23 -0500 Received: from paploo.uhi.ac.uk (localhost [127.0.0.1]) by paploo.uhi.ac.uk (Postfix) with ESMTP id 784A476D7B; Fri, 4 Jan 2008 11:08:12 +0000 (GMT) Message-ID:\n",
      "\n",
      "210 <200801041106.m04B6lK3006677@nakamura.uits.iupui.edu> Mime-Version: 1.0 Content-Transfer-Encoding: 7bit\n",
      "\n",
      "211 Received: from prod.collab.uhi.ac.uk ([194.35.219.182]) by paploo.uhi.ac.uk (JAMES SMTP Server 2.1.3) with SMTP ID\n",
      "\n",
      "212 585 for ; Fri, 4 Jan 2008 11:07:56 +0000 (GMT) Received: from nakamura.uits.iupui.edu (nakamura.uits.iupui.edu\n",
      "\n",
      "213 [134.68.220.122]) by shmi.uhi.ac.uk (Postfix) with ESMTP id 1CACC42D0C for ; Fri, 4 Jan 2008 11:07:58 +0000 (GMT)\n",
      "\n",
      "214 Received: from nakamura.uits.iupui.edu (localhost [127.0.0.1]) by nakamura.uits.iupui.edu (8.12.11.20060308/8.12.11) with ESMTP id m04B6lWM006679 for ; Fri, 4 Jan 2008 06:06:47 -0500 Received: (from apache@localhost) by nakamura.uits.iupui.edu (8.12.11.20060308/8.12.11/Submit) id m04B6lK3006677 for source@collab.sakaiproject.org; Fri, 4 Jan 2008 06:06:47 -0500 Date: Fri, 4 Jan 2008 06:06:47 -0500 X-Authentication-Warning: nakamura.uits.iupui.edu: apache set sender to david.horwitz@uct.ac.za using -f To: source@collab.sakaiproject.org From: david.horwitz@uct.ac.za Subject:\n",
      "\n",
      "215 [sakai] svn commit: r39753 - in polls/trunk: . tool tool/src/java/org/sakaiproject/poll/tool\n",
      "\n",
      "216 tool/src/java/org/sakaiproject/poll/tool/evolvers tool/src/webapp/WEB-INF X-Content-Type-Outer-Envelope: text/plain; charset=UTF-8 X-Content-Type-Message-Body: text/plain; charset=UTF-8 Content-Type: text/plain; charset=UTF-8 XDSPAM-Result: Innocent X-DSPAM-Processed: Fri Jan 4 06:08:27 2008 X-DSPAM-Confidence: 0.6948 X-DSPAM-\n",
      "\n",
      "217 Probability: 0.0000 Details: http://source.sakaiproject.org/viewsvn/?view=rev&rev=39753 Author: david.horwitz@uct.ac.za Date: 2008-01-04 06:05:51 -0500 (Fri, 04 Jan 2008) New Revision: 39753 Added:\n",
      "\n",
      "218 polls/trunk/tool/src/java/org/sakaiproject/poll/tool/evolvers/\n",
      "\n",
      "219 polls/trunk/tool/src/java/org/sakaiproject/poll/tool/evolvers/SakaiFCKTextEvolver.java Modified: polls/trunk/.classpath polls/trunk/tool/pom.xml polls/trunk/tool/src/webapp/WEB-INF/requestContext.xml Log: SAK-12228 implmented workaround sugested by AB - needs to be tested against a trunk build ---------------------- This automatic notification message was sent by Sakai Collab (https://collab.sakaiproject.org/portal) from the Source site. You can modify how you receive notifications at My\n",
      "\n",
      "220 Workspace > Preferences. From david.horwitz@uct.ac.za Fri Jan 4 04:49:08 2008 Return-Path: Received: from murder\n",
      "\n",
      "221 (mail.umich.edu [141.211.14.92]) by frankenstein.mail.umich.edu (Cyrus v2.3.8) with LMTPA; Fri, 04 Jan 2008 04:49:08\n",
      "\n",
      "222 -0500 X-Sieve: CMU Sieve 2.3 Received: from murder ([unix socket]) by mail.umich.edu (Cyrus v2.2.12) with LMTPA; Fri, 04 Jan 2008 04:49:08 -0500 Received: from galaxyquest.mr.itd.umich.edu (galaxyquest.mr.itd.umich.edu [141.211.93.145]) by score.mail.umich.edu () with ESMTP id m049n60G017588; Fri, 4 Jan 2008 04:49:06 -0500 Received: FROM\n",
      "\n",
      "223 paploo.uhi.ac.uk (app1.prod.collab.uhi.ac.uk [194.35.219.184]) BY galaxyquest.mr.itd.umich.edu ID 477E010C.48C2.10259 ; 4 Jan 2008 04:49:03 -0500 Received: from paploo.uhi.ac.uk (localhost [127.0.0.1]) by paploo.uhi.ac.uk (Postfix) with ESMTP id 254CC8CDEE; Fri, 4 Jan 2008 09:48:55 +0000 (GMT) Message-ID:\n",
      "\n",
      "224 <200801040947.m049lUxo006517@nakamura.uits.iupui.edu> Mime-Version: 1.0 Content-Transfer-Encoding: 7bit\n",
      "\n",
      "225 Received: from prod.collab.uhi.ac.uk ([194.35.219.182]) by paploo.uhi.ac.uk (JAMES SMTP Server 2.1.3) with SMTP ID\n",
      "\n",
      "226 246 for ; Fri, 4 Jan 2008 09:48:36 +0000 (GMT) Received: from nakamura.uits.iupui.edu (nakamura.uits.iupui.edu\n",
      "\n",
      "227 [134.68.220.122]) by shmi.uhi.ac.uk (Postfix) with ESMTP id 8C13342C92 for ; Fri, 4 Jan 2008 09:48:40 +0000 (GMT)\n",
      "\n",
      "228 Received: from nakamura.uits.iupui.edu (localhost [127.0.0.1]) by nakamura.uits.iupui.edu (8.12.11.20060308/8.12.11) with ESMTP id m049lU3P006519 for ; Fri, 4 Jan 2008 04:47:30 -0500 Received: (from apache@localhost) by nakamura.uits.iupui.edu (8.12.11.20060308/8.12.11/Submit) id m049lUxo006517 for source@collab.sakaiproject.org; Fri, 4 Jan 2008 04:47:30 -0500 Date: Fri, 4 Jan 2008 04:47:30 -0500 X-Authentication-Warning: nakamura.uits.iupui.edu: apache set sender to david.horwitz@uct.ac.za using -f To: source@collab.sakaiproject.org From: david.horwitz@uct.ac.za Subject: [sakai] svn commit: r39752 - in podcasts/branches/sakai_2-5-x/podcasts-app/src/webapp: css podcasts X-Content-TypeOuter-Envelope: text/plain; charset=UTF-8 X-Content-Type-Message-Body: text/plain; charset=UTF-8 Content-Type: text/plain; charset=UTF-8 X-DSPAM-Result: Innocent X-DSPAM-Processed: Fri Jan 4 04:49:08 2008 X-DSPAMConfidence: 0.6528 X-DSPAM-Probability: 0.0000 Details: http://source.sakaiproject.org/viewsvn/?view=rev&rev=39752 Author: david.horwitz@uct.ac.za Date: 2008-01-04 04:47:16 -0500 (Fri, 04 Jan 2008) New Revision: 39752 Modified: podcasts/branches/sakai_2-5-x/podcasts-app/src/webapp/css/podcaster.css podcasts/branches/sakai_2-5-x/podcastsapp/src/webapp/podcasts/podMain.jsp Log: svn log -r39641 https://source.sakaiproject.org/svn/podcasts/trunk ----------------------------------------------------------------------- r39641 | josrodri@iupui.edu | 2007-12-28 23:44:24 +0200 (Fri, 28 Dec 2007) | 1\n",
      "\n",
      "229 line SAK-9882: refactored podMain.jsp the right way (at least much closer to) -------------------------------------------------------------\n",
      "\n",
      "230 ----------- dhorwitz@david-horwitz-6:~/branchManagemnt/sakai_2-5-x> svn merge -c39641\n",
      "\n",
      "231 https://source.sakaiproject.org/svn/podcasts/trunk podcasts/ C podcasts/podcasts-app/src/webapp/podcasts/podMain.jsp U podcasts/podcasts-app/src/webapp/css/podcaster.css conflict merged manualy ---------------------- This automatic notification message was sent by Sakai Collab (https://collab.sakaiproject.org/portal) from the Source site. You can modify how you receive notifications at My Workspace > Preferences. From david.horwitz@uct.ac.za Fri Jan 4 04:33:44 2008 Return-Path: Received: from murder (mail.umich.edu [141.211.14.46]) by frankenstein.mail.umich.edu (Cyrus v2.3.8) with LMTPA; Fri, 04 Jan 2008 04:33:44 -0500 X-Sieve: CMU Sieve 2.3 Received: from murder ([unix socket]) by mail.umich.edu (Cyrus v2.2.12) with LMTPA; Fri, 04 Jan 2008 04:33:44 -0500 Received: from workinggirl.mr.itd.umich.edu (workinggirl.mr.itd.umich.edu [141.211.93.143]) by fan.mail.umich.edu () with ESMTP id m049Xge3031803; Fri, 4 Jan 2008 04:33:42 -0500 Received:\n",
      "\n",
      "232 FROM paploo.uhi.ac.uk (app1.prod.collab.uhi.ac.uk [194.35.219.184]) BY workinggirl.mr.itd.umich.edu ID 477DFD6C.75DBE.26054 ; 4 Jan 2008 04:33:35 -0500 Received: from paploo.uhi.ac.uk (localhost [127.0.0.1]) by paploo.uhi.ac.uk (Postfix) with ESMTP id 6C929BA656; Fri, 4 Jan 2008 09:33:27 +0000 (GMT) Message-ID: <200801040932.m049W2i5006493@nakamura.uits.iupui.edu> Mime-Version: 1.0 Content-Transfer-Encoding: 7bit\n",
      "\n",
      "233 Received: from prod.collab.uhi.ac.uk ([194.35.219.182]) by paploo.uhi.ac.uk (JAMES SMTP Server 2.1.3) with SMTP ID\n",
      "\n",
      "234 153 for ; Fri, 4 Jan 2008 09:33:10 +0000 (GMT) Received: from nakamura.uits.iupui.edu (nakamura.uits.iupui.edu\n",
      "\n",
      "235 [134.68.220.122]) by shmi.uhi.ac.uk (Postfix) with ESMTP id 6C69423767 for ; Fri, 4 Jan 2008 09:33:13 +0000 (GMT)\n",
      "\n",
      "236 Received: from nakamura.uits.iupui.edu (localhost [127.0.0.1]) by nakamura.uits.iupui.edu (8.12.11.20060308/8.12.11) with ESMTP id m049W3fl006495 for ; Fri, 4 Jan 2008 04:32:03 -0500 Received: (from apache@localhost) by nakamura.uits.iupui.edu (8.12.11.20060308/8.12.11/Submit) id m049W2i5006493 for source@collab.sakaiproject.org; Fri, 4 Jan 2008 04:32:02 -0500 Date: Fri, 4 Jan 2008 04:32:02 -0500 X-Authentication-Warning: nakamura.uits.iupui.edu: apache set sender to david.horwitz@uct.ac.za using -f To: source@collab.sakaiproject.org From: david.horwitz@uct.ac.za Subject: [sakai] svn commit: r39751 - in podcasts/branches/sakai_2-5-x/podcasts-app/src/webapp: css images podcasts X-ContentType-Outer-Envelope: text/plain; charset=UTF-8 X-Content-Type-Message-Body: text/plain; charset=UTF-8 Content-Type: text/plain; charset=UTF-8 X-DSPAM-Result: Innocent X-DSPAM-Processed: Fri Jan 4 04:33:44 2008 X-DSPAMConfidence: 0.7002 X-DSPAM-Probability: 0.0000 Details: http://source.sakaiproject.org/viewsvn/?view=rev&rev=39751 Author: david.horwitz@uct.ac.za Date: 2008-01-04 04:31:35 -0500 (Fri, 04 Jan 2008) New Revision: 39751 Removed: podcasts/branches/sakai_2-5-x/podcasts-app/src/webapp/images/rss-feed-icon.png podcasts/branches/sakai_2-5x/podcasts-app/src/webapp/podcasts/podPermissions.jsp Modified: podcasts/branches/sakai_2-5-x/podcastsapp/src/webapp/css/podcaster.css podcasts/branches/sakai_2-5-x/podcasts-app/src/webapp/podcasts/podDelete.jsp podcasts/branches/sakai_2-5-x/podcasts-app/src/webapp/podcasts/podMain.jsp podcasts/branches/sakai_2-5-x/podcastsapp/src/webapp/podcasts/podNoResource.jsp podcasts/branches/sakai_2-5-x/podcasts-\n",
      "\n",
      "237 app/src/webapp/podcasts/podOptions.jsp Log: svn log -r39146 https://source.sakaiproject.org/svn/podcasts/trunk ----------------------------------------------------------------------- r39146 | josrodri@iupui.edu | 2007-12-12 21:40:33 +0200 (Wed, 12 Dec 2007) | 1 line SAK-9882: refactored the other pages as well to take advantage of proper jsp components as well as validation cleanup. ------------------------------------------------------------------------ dhorwitz@david-horwitz-6:~/branchManagemnt/sakai_2-5x> svn merge -c39146 https://source.sakaiproject.org/svn/podcasts/trunk podcasts/ D podcasts/podcastsapp/src/webapp/podcasts/podPermissions.jsp U podcasts/podcasts-app/src/webapp/podcasts/podDelete.jsp U podcasts/podcasts-app/src/webapp/podcasts/podMain.jsp U podcasts/podcasts-\n",
      "\n",
      "238 app/src/webapp/podcasts/podNoResource.jsp U podcasts/podcasts-app/src/webapp/podcasts/podOptions.jsp D podcasts/podcasts-app/src/webapp/images/rss-feed-icon.png U podcasts/podcasts-app/src/webapp/css/podcaster.css --------------------- This automatic notification message was sent by Sakai Collab (https://collab.sakaiproject.org/portal) from the\n",
      "\n",
      "239 Source site. You can modify how you receive notifications at My Workspace > Preferences. From stephen.marquard@uct.ac.za Fri Jan 4 04:07:34 2008 Return-Path: Received: from murder (mail.umich.edu\n",
      "\n",
      "240 [141.211.14.25]) by frankenstein.mail.umich.edu (Cyrus v2.3.8) with LMTPA; Fri, 04 Jan 2008 04:07:34 -0500 X-Sieve:\n",
      "\n",
      "241 CMU Sieve 2.3 Received: from murder ([unix socket]) by mail.umich.edu (Cyrus v2.2.12) with LMTPA; Fri, 04 Jan 2008\n",
      "\n",
      "242 04:07:34 -0500 Received: from salemslot.mr.itd.umich.edu (salemslot.mr.itd.umich.edu [141.211.14.58]) by panther.mail.umich.edu () with ESMTP id m0497WAN027902; Fri, 4 Jan 2008 04:07:32 -0500 Received: FROM\n",
      "\n",
      "243 paploo.uhi.ac.uk (app1.prod.collab.uhi.ac.uk [194.35.219.184]) BY salemslot.mr.itd.umich.edu ID 477DF74E.49493.30415 ; 4 Jan 2008 04:07:29 -0500 Received: from paploo.uhi.ac.uk (localhost [127.0.0.1]) by paploo.uhi.ac.uk (Postfix) with ESMTP id 88598BA5B6; Fri, 4 Jan 2008 09:07:19 +0000 (GMT) Message-ID:\n",
      "\n",
      "244 <200801040905.m0495rWB006420@nakamura.uits.iupui.edu> Mime-Version: 1.0 Content-Transfer-Encoding: 7bit\n",
      "\n",
      "245 Received: from prod.collab.uhi.ac.uk ([194.35.219.182]) by paploo.uhi.ac.uk (JAMES SMTP Server 2.1.3) with SMTP ID\n",
      "\n",
      "246 385 for ; Fri, 4 Jan 2008 09:07:04 +0000 (GMT) Received: from nakamura.uits.iupui.edu (nakamura.uits.iupui.edu\n",
      "\n",
      "247 [134.68.220.122]) by shmi.uhi.ac.uk (Postfix) with ESMTP id 90636418A8 for ; Fri, 4 Jan 2008 09:07:04 +0000 (GMT)\n",
      "\n",
      "248 Received: from nakamura.uits.iupui.edu (localhost [127.0.0.1]) by nakamura.uits.iupui.edu (8.12.11.20060308/8.12.11) with ESMTP id m0495sZs006422 for ; Fri, 4 Jan 2008 04:05:54 -0500 Received: (from apache@localhost) by nakamura.uits.iupui.edu (8.12.11.20060308/8.12.11/Submit) id m0495rWB006420 for source@collab.sakaiproject.org; Fri, 4 Jan 2008 04:05:53 -0500 Date: Fri, 4 Jan 2008 04:05:53 -0500 X-Authentication-Warning: nakamura.uits.iupui.edu: apache set sender to stephen.marquard@uct.ac.za using -f To: source@collab.sakaiproject.org From: stephen.marquard@uct.ac.za Subject: [sakai] svn commit: r39750 - event/branches/SAK-6216/eventutil/util/src/java/org/sakaiproject/util X-Content-Type-Outer-Envelope: text/plain; charset=UTF-8 X-Content-Type-MessageBody: text/plain; charset=UTF-8 Content-Type: text/plain; charset=UTF-8 X-DSPAM-Result: Innocent X-DSPAM-Processed: Fri Jan 4 04:07:34 2008 X-DSPAM-Confidence: 0.7554 X-DSPAM-Probability: 0.0000 Details: http://source.sakaiproject.org/viewsvn/?view=rev&rev=39750 Author: stephen.marquard@uct.ac.za Date: 2008-01-04\n",
      "\n",
      "249 04:05:43 -0500 (Fri, 04 Jan 2008) New Revision: 39750 Modified: event/branches/SAK-6216/event-\n",
      "\n",
      "250 util/util/src/java/org/sakaiproject/util/EmailNotification.java Log: SAK-6216 merge event change from SAK-11169 (r39033) to synchronize branch with 2-5-x (for convenience for UCT local build) ---------------------- This automatic notification message was sent by Sakai Collab (https://collab.sakaiproject.org/portal) from the Source site. You can modify how you receive notifications at My Workspace > Preferences. From louis@media.berkeley.edu Thu Jan 3 19:51:21 2008 Return-Path: Received: from murder (mail.umich.edu [141.211.14.91]) by frankenstein.mail.umich.edu (Cyrus v2.3.8) with LMTPA; Thu, 03 Jan 2008 19:51:21 -0500 X-Sieve: CMU Sieve 2.3 Received: from murder ([unix socket]) by mail.umich.edu (Cyrus v2.2.12) with LMTPA; Thu, 03 Jan 2008 19:51:21 -0500 Received: from eyewitness.mr.itd.umich.edu\n",
      "\n",
      "251 (eyewitness.mr.itd.umich.edu [141.211.93.142]) by jacknife.mail.umich.edu () with ESMTP id m040pJHB027171; Thu, 3 Jan\n",
      "\n",
      "252 2008 19:51:19 -0500 Received: FROM paploo.uhi.ac.uk (app1.prod.collab.uhi.ac.uk [194.35.219.184]) BY eyewitness.mr.itd.umich.edu ID 477D8300.AC098.32562 ; 3 Jan 2008 19:51:15 -0500 Received: from paploo.uhi.ac.uk (localhost [127.0.0.1]) by paploo.uhi.ac.uk (Postfix) with ESMTP id E6CC4B9F8A; Fri, 4 Jan 2008 00:36:06 +0000 (GMT) Message-ID: <200801040023.m040NpCc005473@nakamura.uits.iupui.edu> Mime-Version: 1.0 Content-TransferEncoding: 7bit Received: from prod.collab.uhi.ac.uk ([194.35.219.182]) by paploo.uhi.ac.uk (JAMES SMTP Server 2.1.3) with SMTP ID 754 for ; Fri, 4 Jan 2008 00:35:43 +0000 (GMT) Received: from nakamura.uits.iupui.edu\n",
      "\n",
      "253 (nakamura.uits.iupui.edu [134.68.220.122]) by shmi.uhi.ac.uk (Postfix) with ESMTP id 8889842C49 for ; Fri, 4 Jan 2008\n",
      "\n",
      "254 00:25:00 +0000 (GMT) Received: from nakamura.uits.iupui.edu (localhost [127.0.0.1]) by nakamura.uits.iupui.edu (8.12.11.20060308/8.12.11) with ESMTP id m040NpgM005475 for ; Thu, 3 Jan 2008 19:23:51 -0500 Received: (from apache@localhost) by nakamura.uits.iupui.edu (8.12.11.20060308/8.12.11/Submit) id m040NpCc005473 for source@collab.sakaiproject.org; Thu, 3 Jan 2008 19:23:51 -0500 Date: Thu, 3 Jan 2008 19:23:51 -0500 X-AuthenticationWarning: nakamura.uits.iupui.edu: apache set sender to louis@media.berkeley.edu using -f To:\n",
      "\n",
      "255 source@collab.sakaiproject.org From: louis@media.berkeley.edu Subject: [sakai] svn commit: r39749 - in bspace/sitemanage/sakai_2-4-x/site-manage-tool/tool/src: bundle webapp/vm/sitesetup X-Content-Type-Outer-Envelope: text/plain; charset=UTF-8 X-Content-Type-Message-Body: text/plain; charset=UTF-8 Content-Type: text/plain; charset=UTF-8 XDSPAM-Result: Innocent X-DSPAM-Processed: Thu Jan 3 19:51:20 2008 X-DSPAM-Confidence: 0.6956 X-DSPAM-\n",
      "\n",
      "256 Probability: 0.0000 Details: http://source.sakaiproject.org/viewsvn/?view=rev&rev=39749 Author: louis@media.berkeley.edu Date: 2008-01-03 19:23:46 -0500 (Thu, 03 Jan 2008) New Revision: 39749 Modified: bspace/site-manage/sakai_2-4-x/sitemanage-tool/tool/src/bundle/sitesetupgeneric.properties bspace/site-manage/sakai_2-4-x/site-managetool/tool/src/webapp/vm/sitesetup/chef_site-importSites.vm Log: BSP-1420 Update text to clarify \"Re-Use Materials...\" option in WS Setup ---------------------- This automatic notification message was sent by Sakai Collab\n",
      "\n",
      "257 (https://collab.sakaiproject.org/portal) from the Source site. You can modify how you receive notifications at My Workspace\n",
      "\n",
      "258 > Preferences. From louis@media.berkeley.edu Thu Jan 3 17:18:23 2008 Return-Path: Received: from murder\n",
      "\n",
      "259 (mail.umich.edu [141.211.14.91]) by frankenstein.mail.umich.edu (Cyrus v2.3.8) with LMTPA; Thu, 03 Jan 2008 17:18:23\n",
      "\n",
      "260 -0500 X-Sieve: CMU Sieve 2.3 Received: from murder ([unix socket]) by mail.umich.edu (Cyrus v2.2.12) with LMTPA; Thu, 03 Jan 2008 17:18:23 -0500 Received: from salemslot.mr.itd.umich.edu (salemslot.mr.itd.umich.edu [141.211.14.58]) by jacknife.mail.umich.edu () with ESMTP id m03MIMXY027729; Thu, 3 Jan 2008 17:18:22 -0500 Received: FROM\n",
      "\n",
      "261 paploo.uhi.ac.uk (app1.prod.collab.uhi.ac.uk [194.35.219.184]) BY salemslot.mr.itd.umich.edu ID 477D5F23.797F6.16348 ; 3 Jan 2008 17:18:14 -0500 Received: from paploo.uhi.ac.uk (localhost [127.0.0.1]) by paploo.uhi.ac.uk (Postfix) with ESMTP id EF439B98CE; Thu, 3 Jan 2008 22:18:19 +0000 (GMT) Message-ID:\n",
      "\n",
      "262 <200801032216.m03MGhDa005292@nakamura.uits.iupui.edu> Mime-Version: 1.0 Content-Transfer-Encoding: 7bit\n",
      "\n",
      "263 Received: from prod.collab.uhi.ac.uk ([194.35.219.182]) by paploo.uhi.ac.uk (JAMES SMTP Server 2.1.3) with SMTP ID 236 for ; Thu, 3 Jan 2008 22:18:04 +0000 (GMT) Received: from nakamura.uits.iupui.edu (nakamura.uits.iupui.edu\n",
      "\n",
      "264 [134.68.220.122]) by shmi.uhi.ac.uk (Postfix) with ESMTP id 905D53C2FD for ; Thu, 3 Jan 2008 22:17:52 +0000 (GMT)\n",
      "\n",
      "265 Received: from nakamura.uits.iupui.edu (localhost [127.0.0.1]) by nakamura.uits.iupui.edu (8.12.11.20060308/8.12.11) with ESMTP id m03MGhrs005294 for ; Thu, 3 Jan 2008 17:16:43 -0500 Received: (from apache@localhost) by nakamura.uits.iupui.edu (8.12.11.20060308/8.12.11/Submit) id m03MGhDa005292 for source@collab.sakaiproject.org; Thu, 3 Jan 2008 17:16:43 -0500 Date: Thu, 3 Jan 2008 17:16:43 -0500 X-Authentication-Warning: nakamura.uits.iupui.edu: apache set sender to louis@media.berkeley.edu using -f To: source@collab.sakaiproject.org From: louis@media.berkeley.edu Subject: [sakai] svn commit: r39746 - in bspace/site-manage/sakai_2-4-x/site-managetool/tool/src: bundle webapp/vm/sitesetup X-Content-Type-Outer-Envelope: text/plain; charset=UTF-8 X-Content-TypeMessage-Body: text/plain; charset=UTF-8 Content-Type: text/plain; charset=UTF-8 X-DSPAM-Result: Innocent X-DSPAMProcessed: Thu Jan 3 17:18:23 2008 X-DSPAM-Confidence: 0.6959 X-DSPAM-Probability: 0.0000 Details: http://source.sakaiproject.org/viewsvn/?view=rev&rev=39746 Author: louis@media.berkeley.edu Date: 2008-01-03 17:16:39\n",
      "\n",
      "266 -0500 (Thu, 03 Jan 2008) New Revision: 39746 Modified: bspace/site-manage/sakai_2-4-x/site-managetool/tool/src/bundle/sitesetupgeneric.properties bspace/site-manage/sakai_2-4-x/site-manage-\n",
      "\n",
      "267 tool/tool/src/webapp/vm/sitesetup/chef_site-siteInfo-duplicate.vm Log: BSP-1421 Add text to clarify \"Duplicate Site\" option in Site Info ---------------------- This automatic notification message was sent by Sakai Collab\n",
      "\n",
      "268 (https://collab.sakaiproject.org/portal) from the Source site. You can modify how you receive notifications at My Workspace\n",
      "\n",
      "269 > Preferences. From ray@media.berkeley.edu Thu Jan 3 17:07:00 2008 Return-Path: Received: from murder\n",
      "\n",
      "270 (mail.umich.edu [141.211.14.39]) by frankenstein.mail.umich.edu (Cyrus v2.3.8) with LMTPA; Thu, 03 Jan 2008 17:07:00\n",
      "\n",
      "271 -0500 X-Sieve: CMU Sieve 2.3 Received: from murder ([unix socket]) by mail.umich.edu (Cyrus v2.2.12) with LMTPA; Thu, 03 Jan 2008 17:07:00 -0500 Received: from anniehall.mr.itd.umich.edu (anniehall.mr.itd.umich.edu [141.211.93.141]) by faithful.mail.umich.edu () with ESMTP id m03M6xaq014868; Thu, 3 Jan 2008 17:06:59 -0500 Received: FROM\n",
      "\n",
      "272 paploo.uhi.ac.uk (app1.prod.collab.uhi.ac.uk [194.35.219.184]) BY anniehall.mr.itd.umich.edu ID 477D5C7A.4FE1F.22211 ; 3 Jan 2008 17:06:53 -0500 Received: from paploo.uhi.ac.uk (localhost [127.0.0.1]) by paploo.uhi.ac.uk (Postfix) with ESMTP id 0BC8D7225E; Thu, 3 Jan 2008 22:06:57 +0000 (GMT) Message-ID:\n",
      "\n",
      "273 <200801032205.m03M5Ea7005273@nakamura.uits.iupui.edu> Mime-Version: 1.0 Content-Transfer-Encoding: 7bit\n",
      "\n",
      "274 Received: from prod.collab.uhi.ac.uk ([194.35.219.182]) by paploo.uhi.ac.uk (JAMES SMTP Server 2.1.3) with SMTP ID\n",
      "\n",
      "275 554 for ; Thu, 3 Jan 2008 22:06:34 +0000 (GMT) Received: from nakamura.uits.iupui.edu (nakamura.uits.iupui.edu\n",
      "\n",
      "276 [134.68.220.122]) by shmi.uhi.ac.uk (Postfix) with ESMTP id 2AB513C2FD for ; Thu, 3 Jan 2008 22:06:23 +0000 (GMT)\n",
      "\n",
      "277 Received: from nakamura.uits.iupui.edu (localhost [127.0.0.1]) by nakamura.uits.iupui.edu (8.12.11.20060308/8.12.11) with ESMTP id m03M5EQa005275 for ; Thu, 3 Jan 2008 17:05:14 -0500 Received: (from apache@localhost) by nakamura.uits.iupui.edu (8.12.11.20060308/8.12.11/Submit) id m03M5Ea7005273 for source@collab.sakaiproject.org; Thu, 3 Jan 2008 17:05:14 -0500 Date: Thu, 3 Jan 2008 17:05:14 -0500 X-Authentication-Warning: nakamura.uits.iupui.edu:\n",
      "\n",
      "278 apache set sender to ray@media.berkeley.edu using -f To: source@collab.sakaiproject.org From: ray@media.berkeley.edu Subject: [sakai] svn commit: r39745 - providers/trunk/cm/cm-authzprovider/src/java/org/sakaiproject/coursemanagement/impl/provider X-Content-Type-Outer-Envelope: text/plain; charset=UTF-8 X-Content-Type-Message-Body: text/plain; charset=UTF-8 Content-Type: text/plain; charset=UTF-8 XDSPAM-Result: Innocent X-DSPAM-Processed: Thu Jan 3 17:07:00 2008 X-DSPAM-Confidence: 0.7556 X-DSPAM-\n",
      "\n",
      "279 Probability: 0.0000 Details: http://source.sakaiproject.org/viewsvn/?view=rev&rev=39745 Author: ray@media.berkeley.edu Date: 2008-01-03 17:05:11 -0500 (Thu, 03 Jan 2008) New Revision: 39745 Modified: providers/trunk/cm/cm-authzprovider/src/java/org/sakaiproject/coursemanagement/impl/provider/CourseManagementGroupProvider.java Log: SAK12602 Fix logic when a user has multiple roles in a section ---------------------- This automatic notification message was sent by Sakai Collab (https://collab.sakaiproject.org/portal) from the Source site. You can modify how you receive notifications at My Workspace > Preferences. From cwen@iupui.edu Thu Jan 3 16:34:40 2008 Return-Path: Received: from murder\n",
      "\n",
      "280 (mail.umich.edu [141.211.14.34]) by frankenstein.mail.umich.edu (Cyrus v2.3.8) with LMTPA; Thu, 03 Jan 2008 16:34:40\n",
      "\n",
      "281 -0500 X-Sieve: CMU Sieve 2.3 Received: from murder ([unix socket]) by mail.umich.edu (Cyrus v2.2.12) with LMTPA; Thu, 03 Jan 2008 16:34:40 -0500 Received: from icestorm.mr.itd.umich.edu (icestorm.mr.itd.umich.edu [141.211.93.149]) by chaos.mail.umich.edu () with ESMTP id m03LYdY1029538; Thu, 3 Jan 2008 16:34:39 -0500 Received: FROM\n",
      "\n",
      "282 paploo.uhi.ac.uk (app1.prod.collab.uhi.ac.uk [194.35.219.184]) BY icestorm.mr.itd.umich.edu ID 477D54EA.13F34.26602 ; 3 Jan 2008 16:34:36 -0500 Received: from paploo.uhi.ac.uk (localhost [127.0.0.1]) by paploo.uhi.ac.uk (Postfix) with ESMTP id CC710ADC79; Thu, 3 Jan 2008 21:34:29 +0000 (GMT) Message-ID:\n",
      "\n",
      "283 <200801032133.m03LX3gG005191@nakamura.uits.iupui.edu> Mime-Version: 1.0 Content-Transfer-Encoding: 7bit\n",
      "\n",
      "284 Received: from prod.collab.uhi.ac.uk ([194.35.219.182]) by paploo.uhi.ac.uk (JAMES SMTP Server 2.1.3) with SMTP ID\n",
      "\n",
      "285 611 for ; Thu, 3 Jan 2008 21:34:08 +0000 (GMT) Received: from nakamura.uits.iupui.edu (nakamura.uits.iupui.edu\n",
      "\n",
      "286 [134.68.220.122]) by shmi.uhi.ac.uk (Postfix) with ESMTP id 43C4242B55 for ; Thu, 3 Jan 2008 21:34:12 +0000 (GMT)\n",
      "\n",
      "287 Received: from nakamura.uits.iupui.edu (localhost [127.0.0.1]) by nakamura.uits.iupui.edu (8.12.11.20060308/8.12.11) with ESMTP id m03LX3Vb005193 for ; Thu, 3 Jan 2008 16:33:03 -0500 Received: (from apache@localhost) by nakamura.uits.iupui.edu (8.12.11.20060308/8.12.11/Submit) id m03LX3gG005191 for source@collab.sakaiproject.org; Thu, 3 Jan 2008 16:33:03 -0500 Date: Thu, 3 Jan 2008 16:33:03 -0500 X-Authentication-Warning: nakamura.uits.iupui.edu:\n",
      "\n",
      "288 apache set sender to cwen@iupui.edu using -f To: source@collab.sakaiproject.org From: cwen@iupui.edu Subject: [sakai] svn commit: r39744 - oncourse/branches/oncourse_OPC_122007 X-Content-Type-Outer-Envelope: text/plain; charset=UTF-8 X-Content-Type-Message-Body: text/plain; charset=UTF-8 Content-Type: text/plain; charset=UTF-8 XDSPAM-Result: Innocent X-DSPAM-Processed: Thu Jan 3 16:34:40 2008 X-DSPAM-Confidence: 0.9846 X-DSPAM-\n",
      "\n",
      "289 Probability: 0.0000 Details: http://source.sakaiproject.org/viewsvn/?view=rev&rev=39744 Author: cwen@iupui.edu Date:\n",
      "\n",
      "290 2008-01-03 16:33:02 -0500 (Thu, 03 Jan 2008) New Revision: 39744 Modified:\n",
      "\n",
      "291 oncourse/branches/oncourse_OPC_122007/ oncourse/branches/oncourse_OPC_122007/.externals Log: update external for GB. ---------------------- This automatic notification message was sent by Sakai Collab\n",
      "\n",
      "292 (https://collab.sakaiproject.org/portal) from the Source site. You can modify how you receive notifications at My Workspace > Preferences. From cwen@iupui.edu Thu Jan 3 16:29:07 2008 Return-Path: Received: from murder (mail.umich.edu [141.211.14.46]) by frankenstein.mail.umich.edu (Cyrus v2.3.8) with LMTPA; Thu, 03 Jan 2008 16:29:07 -0500 X-Sieve:\n",
      "\n",
      "293 CMU Sieve 2.3 Received: from murder ([unix socket]) by mail.umich.edu (Cyrus v2.2.12) with LMTPA; Thu, 03 Jan 2008 16:29:07 -0500 Received: from galaxyquest.mr.itd.umich.edu (galaxyquest.mr.itd.umich.edu [141.211.93.145]) by fan.mail.umich.edu () with ESMTP id m03LT6uw027749; Thu, 3 Jan 2008 16:29:06 -0500 Received: FROM paploo.uhi.ac.uk (app1.prod.collab.uhi.ac.uk [194.35.219.184]) BY galaxyquest.mr.itd.umich.edu ID\n",
      "\n",
      "294 477D5397.E161D.20326 ; 3 Jan 2008 16:28:58 -0500 Received: from paploo.uhi.ac.uk (localhost [127.0.0.1]) by paploo.uhi.ac.uk (Postfix) with ESMTP id DEC65ADC79; Thu, 3 Jan 2008 21:28:52 +0000 (GMT) Message-ID: <200801032127.m03LRUqH005177@nakamura.uits.iupui.edu> Mime-Version: 1.0 Content-Transfer-Encoding: 7bit\n",
      "\n",
      "295 Received: from prod.collab.uhi.ac.uk ([194.35.219.182]) by paploo.uhi.ac.uk (JAMES SMTP Server 2.1.3) with SMTP ID\n",
      "\n",
      "296 917 for ; Thu, 3 Jan 2008 21:28:39 +0000 (GMT) Received: from nakamura.uits.iupui.edu (nakamura.uits.iupui.edu\n",
      "\n",
      "297 [134.68.220.122]) by shmi.uhi.ac.uk (Postfix) with ESMTP id 1FBB042B30 for ; Thu, 3 Jan 2008 21:28:38 +0000 (GMT)\n",
      "\n",
      "298 Received: from nakamura.uits.iupui.edu (localhost [127.0.0.1]) by nakamura.uits.iupui.edu (8.12.11.20060308/8.12.11) with ESMTP id m03LRUk4005179 for ; Thu, 3 Jan 2008 16:27:30 -0500 Received: (from apache@localhost) by nakamura.uits.iupui.edu (8.12.11.20060308/8.12.11/Submit) id m03LRUqH005177 for source@collab.sakaiproject.org; Thu, 3 Jan 2008 16:27:30 -0500 Date: Thu, 3 Jan 2008 16:27:30 -0500 X-Authentication-Warning: nakamura.uits.iupui.edu: apache set sender to cwen@iupui.edu using -f To: source@collab.sakaiproject.org From: cwen@iupui.edu Subject: [sakai] svn commit: r39743 - gradebook/branches/oncourse_2-4-2/app/ui/src/java/org/sakaiproject/tool/gradebook/ui X-ContentType-Outer-Envelope: text/plain; charset=UTF-8 X-Content-Type-Message-Body: text/plain; charset=UTF-8 Content-Type: text/plain; charset=UTF-8 X-DSPAM-Result: Innocent X-DSPAM-Processed: Thu Jan 3 16:29:07 2008 X-DSPAMConfidence: 0.8509 X-DSPAM-Probability: 0.0000 Details: http://source.sakaiproject.org/viewsvn/?view=rev&rev=39743 Author: cwen@iupui.edu Date: 2008-01-03 16:27:29 -0500 (Thu, 03 Jan 2008) New Revision: 39743 Modified:\n",
      "\n",
      "299 gradebook/branches/oncourse_2-4-2/app/ui/src/java/org/sakaiproject/tool/gradebook/ui/RosterBean.java Log: svn merge -c\n",
      "\n",
      "300 39403 https://source.sakaiproject.org/svn/gradebook/trunk U\n",
      "\n",
      "301 app/ui/src/java/org/sakaiproject/tool/gradebook/ui/RosterBean.java svn log -r 39403\n",
      "\n",
      "302 https://source.sakaiproject.org/svn/gradebook/trunk ------------------------------------------------------------------------ r39403 |\n",
      "\n",
      "303 wagnermr@iupui.edu | 2007-12-17 17:11:08 -0500 (Mon, 17 Dec 2007) | 3 lines SAK-12504 http://jira.sakaiproject.org/jira/browse/SAK-12504 Viewing \"All Grades\" page as a TA with grader permissions causes stack trace ------------------------------------------------------------------------ ---------------------- This automatic notification message was sent by Sakai Collab (https://collab.sakaiproject.org/portal) from the Source site. You can modify how you receive notifications at My Workspace > Preferences. From cwen@iupui.edu Thu Jan 3 16:23:48 2008 Return-Path: Received: from murder\n",
      "\n",
      "304 (mail.umich.edu [141.211.14.91]) by frankenstein.mail.umich.edu (Cyrus v2.3.8) with LMTPA; Thu, 03 Jan 2008 16:23:48\n",
      "\n",
      "305 -0500 X-Sieve: CMU Sieve 2.3 Received: from murder ([unix socket]) by mail.umich.edu (Cyrus v2.2.12) with LMTPA; Thu,\n",
      "\n",
      "306 03 Jan 2008 16:23:48 -0500 Received: from salemslot.mr.itd.umich.edu (salemslot.mr.itd.umich.edu [141.211.14.58]) by jacknife.mail.umich.edu () with ESMTP id m03LNlf0002115; Thu, 3 Jan 2008 16:23:47 -0500 Received: FROM\n",
      "\n",
      "307 paploo.uhi.ac.uk (app1.prod.collab.uhi.ac.uk [194.35.219.184]) BY salemslot.mr.itd.umich.edu ID 477D525E.1448.30389 ; 3 Jan 2008 16:23:44 -0500 Received: from paploo.uhi.ac.uk (localhost [127.0.0.1]) by paploo.uhi.ac.uk (Postfix) with ESMTP id 9D005B9D06; Thu, 3 Jan 2008 21:23:38 +0000 (GMT) Message-ID:\n",
      "\n",
      "308 <200801032122.m03LMFo4005148@nakamura.uits.iupui.edu> Mime-Version: 1.0 Content-Transfer-Encoding: 7bit Received: from prod.collab.uhi.ac.uk ([194.35.219.182]) by paploo.uhi.ac.uk (JAMES SMTP Server 2.1.3) with SMTP ID 6\n",
      "\n",
      "309 for ; Thu, 3 Jan 2008 21:23:24 +0000 (GMT) Received: from nakamura.uits.iupui.edu (nakamura.uits.iupui.edu [134.68.220.122]) by shmi.uhi.ac.uk (Postfix) with ESMTP id 3535542B69 for ; Thu, 3 Jan 2008 21:23:24 +0000 (GMT)\n",
      "\n",
      "310 Received: from nakamura.uits.iupui.edu (localhost [127.0.0.1]) by nakamura.uits.iupui.edu (8.12.11.20060308/8.12.11) with ESMTP id m03LMFtT005150 for ; Thu, 3 Jan 2008 16:22:15 -0500 Received: (from apache@localhost) by nakamura.uits.iupui.edu (8.12.11.20060308/8.12.11/Submit) id m03LMFo4005148 for source@collab.sakaiproject.org; Thu, 3 Jan 2008 16:22:15 -0500 Date: Thu, 3 Jan 2008 16:22:15 -0500 X-Authentication-Warning: nakamura.uits.iupui.edu: apache set sender to cwen@iupui.edu using -f To: source@collab.sakaiproject.org From: cwen@iupui.edu Subject: [sakai] svn commit: r39742 - gradebook/branches/oncourse_2-4-2/app/ui/src/java/org/sakaiproject/tool/gradebook/ui X-ContentType-Outer-Envelope: text/plain; charset=UTF-8 X-Content-Type-Message-Body: text/plain; charset=UTF-8 Content-Type: text/plain; charset=UTF-8 X-DSPAM-Result: Innocent X-DSPAM-Processed: Thu Jan 3 16:23:48 2008 X-DSPAMConfidence: 0.9907 X-DSPAM-Probability: 0.0000 Details: http://source.sakaiproject.org/viewsvn/?view=rev&rev=39742 Author: cwen@iupui.edu Date: 2008-01-03 16:22:14 -0500 (Thu, 03 Jan 2008) New Revision: 39742 Modified:\n",
      "\n",
      "311 gradebook/branches/oncourse_2-4-2/app/ui/src/java/org/sakaiproject/tool/gradebook/ui/RosterBean.java Log: svn merge -c\n",
      "\n",
      "312 35014 https://source.sakaiproject.org/svn/gradebook/trunk U\n",
      "\n",
      "313 app/ui/src/java/org/sakaiproject/tool/gradebook/ui/RosterBean.java svn log -r 35014 https://source.sakaiproject.org/svn/gradebook/trunk ------------------------------------------------------------------------ r35014 |\n",
      "\n",
      "314 wagnermr@iupui.edu | 2007-09-12 16:17:59 -0400 (Wed, 12 Sep 2007) | 3 lines SAK-11458\n",
      "\n",
      "315 http://bugs.sakaiproject.org/jira/browse/SAK-11458 Course grade does not appear on \"All Grades\" page if no categories in gb ------------------------------------------------------------------------ ---------------------- This automatic notification message was sent by Sakai Collab (https://collab.sakaiproject.org/portal) from the Source site. You can modify how you receive notifications at My Workspace > Preferences.\n",
      "\n"
     ]
    }
   ],
   "source": [
    "file=\"E:\\\\Omkar\\\\Material Docs\\\\mbox.txt\"\n",
    "filepath=open(file,encoding='utf-8')\n",
    "for i,j in enumerate(filepath):\n",
    "    print(i,j)"
   ]
  },
  {
   "cell_type": "code",
   "execution_count": 71,
   "id": "e9fcc7b3-0aaa-4031-9d9f-6a1a7c71194e",
   "metadata": {},
   "outputs": [
    {
     "name": "stdout",
     "output_type": "stream",
     "text": [
      "From stephen.marquard@uct.ac.za Sat Jan 5 09:14:16 2008 Return-Path: Received: from murder (mail.umich.edu [141.211.14.90]) by frankenstein.mail.umich.edu (Cyrus v2.3.8) with LMTPA; Sat, 05 Jan 2008 09:14:16 -0500 X-Sieve:\n",
      "\n",
      "From: gsilver@umich.edu Subject: [sakai] svn commit: r39761 - site/trunk/site-tool/tool/src/bundle X-Content-Type-OuterEnvelope: text/plain; charset=UTF-8 X-Content-Type-Message-Body: text/plain; charset=UTF-8 Content-Type: text/plain; charset=UTF-8 X-DSPAM-Result: Innocent X-DSPAM-Processed: Fri Jan 4 11:11:52 2008 X-DSPAM-Confidence: 0.7605 X-DSPAM-Probability: 0.0000 Details: http://source.sakaiproject.org/viewsvn/?view=rev&rev=39761 Author: gsilver@umich.edu Date: 2008-01-04 11:10:04 -0500 (Fri, 04 Jan 2008) New Revision: 39761 Modified: site/trunk/sitetool/tool/src/bundle/admin.properties Log: SAK-12595 http://bugs.sakaiproject.org/jira/browse/SAK-12595 - left moot (unused) entries commented for now ---------------------- This automatic notification message was sent by Sakai Collab\n",
      "\n"
     ]
    }
   ],
   "source": [
    "file=\"E:\\\\Omkar\\\\Material Docs\\\\mbox.txt\"\n",
    "filepath=open(file,encoding='utf-8')\n",
    "for i in filepath:\n",
    "        if i.startswith('From'):\n",
    "            print(i)"
   ]
  },
  {
   "cell_type": "code",
   "execution_count": 78,
   "id": "c9bbbf19-a53f-4500-905c-84d9e4cefdf3",
   "metadata": {},
   "outputs": [
    {
     "ename": "NameError",
     "evalue": "name 'emails' is not defined",
     "output_type": "error",
     "traceback": [
      "\u001b[1;31m---------------------------------------------------------------------------\u001b[0m",
      "\u001b[1;31mNameError\u001b[0m                                 Traceback (most recent call last)",
      "Cell \u001b[1;32mIn[78], line 2\u001b[0m\n\u001b[0;32m      1\u001b[0m email_list\u001b[38;5;241m=\u001b[39m[]\n\u001b[1;32m----> 2\u001b[0m \u001b[38;5;28;01mfor\u001b[39;00m email \u001b[38;5;129;01min\u001b[39;00m emails:\n\u001b[0;32m      3\u001b[0m      \u001b[38;5;28;01mif\u001b[39;00m email \u001b[38;5;129;01mnot\u001b[39;00m \u001b[38;5;129;01min\u001b[39;00m email_list:\n\u001b[0;32m      4\u001b[0m          email_list\u001b[38;5;241m.\u001b[39mappend(email)\n",
      "\u001b[1;31mNameError\u001b[0m: name 'emails' is not defined"
     ]
    }
   ],
   "source": [
    "email_list=[]\n",
    "for email in emails:\n",
    "     if email not in email_list:\n",
    "         email_list.append(email)\n",
    "         print(email_list)"
   ]
  },
  {
   "cell_type": "code",
   "execution_count": null,
   "id": "23b8b565-880b-471c-bcd9-66489d86d5d0",
   "metadata": {},
   "outputs": [],
   "source": []
  }
 ],
 "metadata": {
  "kernelspec": {
   "display_name": "Python 3 (ipykernel)",
   "language": "python",
   "name": "python3"
  },
  "language_info": {
   "codemirror_mode": {
    "name": "ipython",
    "version": 3
   },
   "file_extension": ".py",
   "mimetype": "text/x-python",
   "name": "python",
   "nbconvert_exporter": "python",
   "pygments_lexer": "ipython3",
   "version": "3.12.7"
  }
 },
 "nbformat": 4,
 "nbformat_minor": 5
}
